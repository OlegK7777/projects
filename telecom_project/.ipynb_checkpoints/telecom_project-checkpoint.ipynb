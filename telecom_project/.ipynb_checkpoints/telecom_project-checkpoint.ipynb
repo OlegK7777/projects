{
 "cells": [
  {
   "cell_type": "markdown",
   "metadata": {},
   "source": [
    "# Рекомендация тарифов"
   ]
  },
  {
   "cell_type": "markdown",
   "metadata": {},
   "source": [
    "В вашем распоряжении данные о поведении клиентов, которые уже перешли на эти тарифы (из проекта курса «Статистический анализ данных»). Нужно построить модель для задачи классификации, которая выберет подходящий тариф. Предобработка данных не понадобится — вы её уже сделали.\n",
    "\n",
    "Постройте модель с максимально большим значением *accuracy*. Чтобы сдать проект успешно, нужно довести долю правильных ответов по крайней мере до 0.75. Проверьте *accuracy* на тестовой выборке самостоятельно."
   ]
  },
  {
   "cell_type": "markdown",
   "metadata": {},
   "source": [
    "**Задача**  \n",
    "На основе данных о поведении клиентов, которые уже перешли на новые тарифы: «Смарт» или «Ультра», построить модель для задачи классификации, которая выберет подходящий тариф для клиентов, пользующихся архивными тарифами.  "
   ]
  },
  {
   "cell_type": "markdown",
   "metadata": {},
   "source": [
    "**План работ**  \n",
    "1. Открыть файл с данными и изучить его. Путь к файлу: /datasets/users_behavior.csv.   \n",
    "2. Разделить исходные данные на обучающую, валидационную и тестовую выборки.  \n",
    "3. Исследовать качество разных моделей, меняя гиперпараметры. Кратко написать выводы исследования.  \n",
    "4. Проверить качество модели на тестовой выборке.  \n",
    "5. Дополнительное задание: проверить модели на вменяемость.   "
   ]
  },
  {
   "cell_type": "markdown",
   "metadata": {},
   "source": [
    "## Загрузка и обзор данных"
   ]
  },
  {
   "cell_type": "code",
   "execution_count": 17,
   "metadata": {},
   "outputs": [],
   "source": [
    "#импортируем библиотеки\n",
    "import pandas as pd\n",
    "import matplotlib.pyplot as plt \n",
    "import numpy as np \n",
    "from joblib import dump\n",
    "from sklearn.model_selection import train_test_split\n",
    "from sklearn.tree import DecisionTreeClassifier\n",
    "from sklearn.metrics import accuracy_score\n",
    "from sklearn.ensemble import RandomForestClassifier\n",
    "from sklearn.linear_model import LogisticRegression\n",
    "from sklearn.dummy import DummyClassifier\n",
    "\n",
    "import warnings\n",
    "warnings.filterwarnings('ignore')"
   ]
  },
  {
   "cell_type": "code",
   "execution_count": 2,
   "metadata": {},
   "outputs": [
    {
     "data": {
      "text/html": [
       "<div>\n",
       "<style scoped>\n",
       "    .dataframe tbody tr th:only-of-type {\n",
       "        vertical-align: middle;\n",
       "    }\n",
       "\n",
       "    .dataframe tbody tr th {\n",
       "        vertical-align: top;\n",
       "    }\n",
       "\n",
       "    .dataframe thead th {\n",
       "        text-align: right;\n",
       "    }\n",
       "</style>\n",
       "<table border=\"1\" class=\"dataframe\">\n",
       "  <thead>\n",
       "    <tr style=\"text-align: right;\">\n",
       "      <th></th>\n",
       "      <th>calls</th>\n",
       "      <th>minutes</th>\n",
       "      <th>messages</th>\n",
       "      <th>mb_used</th>\n",
       "      <th>is_ultra</th>\n",
       "    </tr>\n",
       "  </thead>\n",
       "  <tbody>\n",
       "    <tr>\n",
       "      <th>0</th>\n",
       "      <td>40.0</td>\n",
       "      <td>311.90</td>\n",
       "      <td>83.0</td>\n",
       "      <td>19915.42</td>\n",
       "      <td>0</td>\n",
       "    </tr>\n",
       "    <tr>\n",
       "      <th>1</th>\n",
       "      <td>85.0</td>\n",
       "      <td>516.75</td>\n",
       "      <td>56.0</td>\n",
       "      <td>22696.96</td>\n",
       "      <td>0</td>\n",
       "    </tr>\n",
       "    <tr>\n",
       "      <th>2</th>\n",
       "      <td>77.0</td>\n",
       "      <td>467.66</td>\n",
       "      <td>86.0</td>\n",
       "      <td>21060.45</td>\n",
       "      <td>0</td>\n",
       "    </tr>\n",
       "    <tr>\n",
       "      <th>3</th>\n",
       "      <td>106.0</td>\n",
       "      <td>745.53</td>\n",
       "      <td>81.0</td>\n",
       "      <td>8437.39</td>\n",
       "      <td>1</td>\n",
       "    </tr>\n",
       "    <tr>\n",
       "      <th>4</th>\n",
       "      <td>66.0</td>\n",
       "      <td>418.74</td>\n",
       "      <td>1.0</td>\n",
       "      <td>14502.75</td>\n",
       "      <td>0</td>\n",
       "    </tr>\n",
       "  </tbody>\n",
       "</table>\n",
       "</div>"
      ],
      "text/plain": [
       "   calls  minutes  messages   mb_used  is_ultra\n",
       "0   40.0   311.90      83.0  19915.42         0\n",
       "1   85.0   516.75      56.0  22696.96         0\n",
       "2   77.0   467.66      86.0  21060.45         0\n",
       "3  106.0   745.53      81.0   8437.39         1\n",
       "4   66.0   418.74       1.0  14502.75         0"
      ]
     },
     "execution_count": 2,
     "metadata": {},
     "output_type": "execute_result"
    }
   ],
   "source": [
    "#загрузим файл\n",
    "df = pd.read_csv('/datasets/users_behavior.csv')\n",
    "df.head()"
   ]
  },
  {
   "cell_type": "code",
   "execution_count": 3,
   "metadata": {},
   "outputs": [
    {
     "name": "stdout",
     "output_type": "stream",
     "text": [
      "<class 'pandas.core.frame.DataFrame'>\n",
      "RangeIndex: 3214 entries, 0 to 3213\n",
      "Data columns (total 5 columns):\n",
      " #   Column    Non-Null Count  Dtype  \n",
      "---  ------    --------------  -----  \n",
      " 0   calls     3214 non-null   float64\n",
      " 1   minutes   3214 non-null   float64\n",
      " 2   messages  3214 non-null   float64\n",
      " 3   mb_used   3214 non-null   float64\n",
      " 4   is_ultra  3214 non-null   int64  \n",
      "dtypes: float64(4), int64(1)\n",
      "memory usage: 125.7 KB\n"
     ]
    }
   ],
   "source": [
    "df.info()"
   ]
  },
  {
   "cell_type": "code",
   "execution_count": 4,
   "metadata": {},
   "outputs": [
    {
     "data": {
      "text/html": [
       "<div>\n",
       "<style scoped>\n",
       "    .dataframe tbody tr th:only-of-type {\n",
       "        vertical-align: middle;\n",
       "    }\n",
       "\n",
       "    .dataframe tbody tr th {\n",
       "        vertical-align: top;\n",
       "    }\n",
       "\n",
       "    .dataframe thead th {\n",
       "        text-align: right;\n",
       "    }\n",
       "</style>\n",
       "<table border=\"1\" class=\"dataframe\">\n",
       "  <thead>\n",
       "    <tr style=\"text-align: right;\">\n",
       "      <th></th>\n",
       "      <th>calls</th>\n",
       "      <th>minutes</th>\n",
       "      <th>messages</th>\n",
       "      <th>mb_used</th>\n",
       "      <th>is_ultra</th>\n",
       "    </tr>\n",
       "  </thead>\n",
       "  <tbody>\n",
       "    <tr>\n",
       "      <th>count</th>\n",
       "      <td>3214.000000</td>\n",
       "      <td>3214.000000</td>\n",
       "      <td>3214.000000</td>\n",
       "      <td>3214.000000</td>\n",
       "      <td>3214.000000</td>\n",
       "    </tr>\n",
       "    <tr>\n",
       "      <th>mean</th>\n",
       "      <td>63.038892</td>\n",
       "      <td>438.208787</td>\n",
       "      <td>38.281269</td>\n",
       "      <td>17207.673836</td>\n",
       "      <td>0.306472</td>\n",
       "    </tr>\n",
       "    <tr>\n",
       "      <th>std</th>\n",
       "      <td>33.236368</td>\n",
       "      <td>234.569872</td>\n",
       "      <td>36.148326</td>\n",
       "      <td>7570.968246</td>\n",
       "      <td>0.461100</td>\n",
       "    </tr>\n",
       "    <tr>\n",
       "      <th>min</th>\n",
       "      <td>0.000000</td>\n",
       "      <td>0.000000</td>\n",
       "      <td>0.000000</td>\n",
       "      <td>0.000000</td>\n",
       "      <td>0.000000</td>\n",
       "    </tr>\n",
       "    <tr>\n",
       "      <th>25%</th>\n",
       "      <td>40.000000</td>\n",
       "      <td>274.575000</td>\n",
       "      <td>9.000000</td>\n",
       "      <td>12491.902500</td>\n",
       "      <td>0.000000</td>\n",
       "    </tr>\n",
       "    <tr>\n",
       "      <th>50%</th>\n",
       "      <td>62.000000</td>\n",
       "      <td>430.600000</td>\n",
       "      <td>30.000000</td>\n",
       "      <td>16943.235000</td>\n",
       "      <td>0.000000</td>\n",
       "    </tr>\n",
       "    <tr>\n",
       "      <th>75%</th>\n",
       "      <td>82.000000</td>\n",
       "      <td>571.927500</td>\n",
       "      <td>57.000000</td>\n",
       "      <td>21424.700000</td>\n",
       "      <td>1.000000</td>\n",
       "    </tr>\n",
       "    <tr>\n",
       "      <th>max</th>\n",
       "      <td>244.000000</td>\n",
       "      <td>1632.060000</td>\n",
       "      <td>224.000000</td>\n",
       "      <td>49745.730000</td>\n",
       "      <td>1.000000</td>\n",
       "    </tr>\n",
       "  </tbody>\n",
       "</table>\n",
       "</div>"
      ],
      "text/plain": [
       "             calls      minutes     messages       mb_used     is_ultra\n",
       "count  3214.000000  3214.000000  3214.000000   3214.000000  3214.000000\n",
       "mean     63.038892   438.208787    38.281269  17207.673836     0.306472\n",
       "std      33.236368   234.569872    36.148326   7570.968246     0.461100\n",
       "min       0.000000     0.000000     0.000000      0.000000     0.000000\n",
       "25%      40.000000   274.575000     9.000000  12491.902500     0.000000\n",
       "50%      62.000000   430.600000    30.000000  16943.235000     0.000000\n",
       "75%      82.000000   571.927500    57.000000  21424.700000     1.000000\n",
       "max     244.000000  1632.060000   224.000000  49745.730000     1.000000"
      ]
     },
     "execution_count": 4,
     "metadata": {},
     "output_type": "execute_result"
    }
   ],
   "source": [
    "df.describe()"
   ]
  },
  {
   "cell_type": "code",
   "execution_count": 5,
   "metadata": {},
   "outputs": [
    {
     "data": {
      "image/png": "[encoded data removed]",
      "text/plain": [
       "<Figure size 1500x1000 with 6 Axes>"
      ]
     },
     "metadata": {},
     "output_type": "display_data"
    }
   ],
   "source": [
    "df.hist(figsize=(15, 10), bins=100)\n",
    "plt.show()"
   ]
  },
  {
   "cell_type": "markdown",
   "metadata": {},
   "source": [
    "**Вывод**  \n",
    "Данные представлены в форме таблицы с 5 колонками и 3 214 строк.  \n",
    "Среднее количество звонков - чуть более 63, медиана - 62. Минимум - 0, максимум - 244.  \n",
    "Среднее количество минут - чуть более 438, медиана - 430.6. Минимум - 0, максимум - 1632.06.  \n",
    "Среднее количество sms-сообщений - чуть более 38, медиана - 30. Минимум - 0, максимум - 224. Значительное количество пользователей (более 500) не используют sms-сообщения.    \n",
    "Среднее количество использованных мегабайт - чуть более 17 207, медиана - 16 943. Минимум - 0, максимум - 49 745.7.  \n",
    "Большая часть клиентов (разница более чем в 2 раза) пользуется тарифом \"Смарт\".\n"
   ]
  },
  {
   "cell_type": "markdown",
   "metadata": {},
   "source": [
    "## Разделение данных на выборки"
   ]
  },
  {
   "cell_type": "code",
   "execution_count": 6,
   "metadata": {},
   "outputs": [],
   "source": [
    "# создадим переменные для признаков и целевого признака\n",
    "features = df.drop('is_ultra', axis=1)\n",
    "target = df['is_ultra']"
   ]
  },
  {
   "cell_type": "code",
   "execution_count": 7,
   "metadata": {},
   "outputs": [
    {
     "name": "stdout",
     "output_type": "stream",
     "text": [
      "(1928, 4) (643, 4) (643, 4)\n",
      "(1928,) (643,) (643,)\n"
     ]
    }
   ],
   "source": [
    "# разделим выборку на обучающую и тестовую\n",
    "features_learn, features_test, target_learn, target_test = train_test_split(features, target, test_size=0.2, random_state=12345)\n",
    "# разделим обучающие данные непосредственно на обучающую и валидационную выборки\n",
    "features_train, features_valid, target_train, target_valid = train_test_split(features_learn, target_learn, test_size=0.25, \n",
    "                                                                              random_state=12345)\n",
    "# проверим размер выборок\n",
    "print(features_train.shape, features_valid.shape, features_test.shape)\n",
    "print(target_train.shape, target_valid.shape, target_test.shape)\n"
   ]
  },
  {
   "cell_type": "markdown",
   "metadata": {},
   "source": [
    "**Вывод**  \n",
    "Выборки сформрованы в пропорции 3:1:1. Соответвтенно, распределено на обучающую - 60%, на валидационную - 20% и на тестовую - 20% от первоначальной выборки."
   ]
  },
  {
   "cell_type": "markdown",
   "metadata": {},
   "source": [
    "## Исследование моделей"
   ]
  },
  {
   "cell_type": "markdown",
   "metadata": {},
   "source": [
    "### Рассмотрим модель - решающее дерево"
   ]
  },
  {
   "cell_type": "code",
   "execution_count": 8,
   "metadata": {},
   "outputs": [
    {
     "data": {
      "text/plain": [
       "0.7122861586314152"
      ]
     },
     "execution_count": 8,
     "metadata": {},
     "output_type": "execute_result"
    }
   ],
   "source": [
    "# запишем в переменную model_t модель решающее дерево\n",
    "model_t = DecisionTreeClassifier(random_state=12345)\n",
    "#обучим модель\n",
    "model_t.fit(features_train, target_train)\n",
    "# запишем в переменную predictions_t предсказания модели решающее дерево по данным валидной выборки \n",
    "predictions_t = model_t.predict(features_valid)\n",
    "# посчитаем стношение числа правильных ответов к размеру выборки по данным валидной выборки \n",
    "result = accuracy_score(target_valid, predictions_t)\n",
    "result"
   ]
  },
  {
   "cell_type": "markdown",
   "metadata": {},
   "source": [
    "Количество правльных ответов чуть более 71%. Попробуем улучшить модель подобрав оптимальную глубину дерева"
   ]
  },
  {
   "cell_type": "code",
   "execution_count": 9,
   "metadata": {},
   "outputs": [
    {
     "name": "stdout",
     "output_type": "stream",
     "text": [
      "DecisionTreeClassifier(criterion='entropy', max_depth=9, random_state=12345)\n"
     ]
    },
    {
     "data": {
      "text/plain": [
       "0.7838258164852255"
      ]
     },
     "execution_count": 9,
     "metadata": {},
     "output_type": "execute_result"
    }
   ],
   "source": [
    "# переберем значения параметра max_depth от 1 до 10, а также параметра criterion (кроме log_loss, применение которого\n",
    "# выдает ошибку) и выбирем такие при которых модель покажет наиболее высокий accuracy\n",
    "list_criterion = ['gini', 'entropy']\n",
    "best_model_t = None\n",
    "best_result = 0\n",
    "for depth in range(1, 11):\n",
    "    for crit in list_criterion:\n",
    "        model_t = DecisionTreeClassifier(random_state=12345, max_depth=depth, criterion=crit)\n",
    "        model_t.fit(features_train, target_train)\n",
    "        predictions_t = model_t.predict(features_valid)\n",
    "        result = accuracy_score(target_valid, predictions_t)\n",
    "        if result > best_result:\n",
    "            best_model_t = model_t\n",
    "            best_result = result\n",
    "print(best_model_t)\n",
    "best_result"
   ]
  },
  {
   "cell_type": "markdown",
   "metadata": {},
   "source": [
    "При глубине дерева равной - 9 и критерии - \"entropy\", точность модели (предварительно на валидационной выборке) увеличилась до более чем 78%"
   ]
  },
  {
   "cell_type": "markdown",
   "metadata": {},
   "source": [
    "### Рассмотрим модель - случайный лес"
   ]
  },
  {
   "cell_type": "code",
   "execution_count": 10,
   "metadata": {},
   "outputs": [
    {
     "data": {
      "text/plain": [
       "0.7947122861586314"
      ]
     },
     "execution_count": 10,
     "metadata": {},
     "output_type": "execute_result"
    }
   ],
   "source": [
    "# запишем в переменную model_f модель случайный лес\n",
    "model_f = RandomForestClassifier(random_state=12345)\n",
    "#обучим модель\n",
    "model_f.fit(features_train, target_train)\n",
    "# запишем в переменную predictions_f предсказания модели случайный лес по данным валидной выборки \n",
    "predictions_f = model_f.predict(features_valid)\n",
    "# посчитаем стношение числа правильных ответов к размеру выборки по данным валидной выборки \n",
    "result_f = accuracy_score(target_valid, predictions_f)\n",
    "result_f"
   ]
  },
  {
   "cell_type": "markdown",
   "metadata": {},
   "source": [
    "Количество правльных ответов более 79%, что уже лучше чем показатель улучшенной модели решающее дерево. Тем не менее, попробуем улучшить модель подобрав оптимальные гиперпараметры"
   ]
  },
  {
   "cell_type": "code",
   "execution_count": 11,
   "metadata": {},
   "outputs": [
    {
     "name": "stdout",
     "output_type": "stream",
     "text": [
      "RandomForestClassifier(max_depth=8, min_samples_split=3, n_estimators=3,\n",
      "                       random_state=12345)\n"
     ]
    },
    {
     "data": {
      "text/plain": [
       "0.8055987558320373"
      ]
     },
     "execution_count": 11,
     "metadata": {},
     "output_type": "execute_result"
    }
   ],
   "source": [
    "# переберем значения параметров n_estimators  max_depth от 1 до 10, а также параметра min_samples_split и выбирем такие при которых модель покажет наиболее высокий accuracy\n",
    "best_model_f = None\n",
    "best_result_f = 0\n",
    "for est in range(1, 11):\n",
    "    for depth in range (1, 11):\n",
    "        for mssplit in range(2, 5):\n",
    "            model_f = RandomForestClassifier(random_state=12345, n_estimators = est, max_depth = depth, \n",
    "                                             min_samples_split=mssplit)\n",
    "            model_f.fit(features_train, target_train)\n",
    "            predictions_f = model_f.predict(features_valid)\n",
    "            result_f = accuracy_score(target_valid, predictions_f)\n",
    "            if result_f > best_result_f:\n",
    "                best_model_f = model_f\n",
    "                best_result_f = result_f\n",
    "\n",
    "print(best_model_f) \n",
    "best_result_f"
   ]
  },
  {
   "cell_type": "markdown",
   "metadata": {},
   "source": [
    "При глубине дерева - 8, минимальном количестве выборок для разделения внутреннего узла - 3 и количестве деревьев - 3, точность модели (на валидационной выборке) увеличилась до 80.56%."
   ]
  },
  {
   "cell_type": "markdown",
   "metadata": {},
   "source": [
    "### Рассмотрим модель - логическая регрессия"
   ]
  },
  {
   "cell_type": "code",
   "execution_count": 12,
   "metadata": {},
   "outputs": [
    {
     "data": {
      "text/plain": [
       "0.7262830482115086"
      ]
     },
     "execution_count": 12,
     "metadata": {},
     "output_type": "execute_result"
    }
   ],
   "source": [
    "# запишем в переменную model_l модель логическая регрессия\n",
    "model_l = LogisticRegression(random_state=12345)\n",
    "#обучим модель\n",
    "model_l.fit(features_train, target_train)\n",
    "# запишем в переменную predictions_l предсказания модели случайный лес по данным валидной выборки \n",
    "predictions_l = model_l.predict(features_valid)\n",
    "# посчитаем стношение числа правильных ответов к размеру выборки по данным валидной выборки \n",
    "result_l = accuracy_score(target_valid, predictions_l)\n",
    "result_l"
   ]
  },
  {
   "cell_type": "markdown",
   "metadata": {},
   "source": [
    "Количесвто правльных ответов менее 73%, что лучше чем показатель не улучшенной модели решающее дерево, но хуже чем улучшенный, и хуже чем показатели модели случайный лес. Попробуем улучшить модель подобрав оптимальные гиперпараметры"
   ]
  },
  {
   "cell_type": "code",
   "execution_count": 18,
   "metadata": {},
   "outputs": [
    {
     "name": "stdout",
     "output_type": "stream",
     "text": [
      "LogisticRegression(random_state=12345)\n"
     ]
    },
    {
     "data": {
      "text/plain": [
       "0.7262830482115086"
      ]
     },
     "execution_count": 18,
     "metadata": {},
     "output_type": "execute_result"
    }
   ],
   "source": [
    "# переберем некоторые значения параметров solver и max_iter, и выбирем такие при которых модель покажет наилучший accuracy\n",
    "list_solver = ['lbfgs', 'liblinear', 'newton-cg']\n",
    "best_model_l = None\n",
    "best_result_l = 0\n",
    "for solv in list_solver:\n",
    "    for mi in range(100, 1001, 100):\n",
    "        model_l = LogisticRegression(random_state=12345, solver=solv, max_iter=mi)\n",
    "        model_l.fit(features_train, target_train)\n",
    "        predictions_l = model_l.predict(features_valid)\n",
    "        result_l = accuracy_score(target_valid, predictions_l)\n",
    "        if result_l > best_result_l:\n",
    "            best_model_l = model_l\n",
    "            best_result_l = result_l\n",
    "\n",
    "print(best_model_l) \n",
    "best_result_l"
   ]
  },
  {
   "cell_type": "code",
   "execution_count": 14,
   "metadata": {},
   "outputs": [
    {
     "name": "stdout",
     "output_type": "stream",
     "text": [
      "LogisticRegression(C=0.5, random_state=12345)\n"
     ]
    },
    {
     "data": {
      "text/plain": [
       "0.7262830482115086"
      ]
     },
     "execution_count": 14,
     "metadata": {},
     "output_type": "execute_result"
    }
   ],
   "source": [
    "list_c = [0.01, 0.5, 1.5]\n",
    "best_model_l = None\n",
    "best_result_l = 0\n",
    "for c in list_c:\n",
    "    for mi in range(100, 1001, 100):\n",
    "        model_l = LogisticRegression(random_state=12345, C=c, max_iter=mi)\n",
    "        model_l.fit(features_train, target_train)\n",
    "        predictions_l = model_l.predict(features_valid)\n",
    "        result_l = accuracy_score(target_valid, predictions_l)\n",
    "        if result_l > best_result_l:\n",
    "            best_model_l = model_l\n",
    "            best_result_l = result_l\n",
    "\n",
    "print(best_model_l) \n",
    "best_result_l"
   ]
  },
  {
   "cell_type": "markdown",
   "metadata": {},
   "source": [
    "Перебор значений различных параметров не привел к улучшению качества модели."
   ]
  },
  {
   "cell_type": "markdown",
   "metadata": {},
   "source": [
    "**Вывод**  \n",
    "Перебор значений гиперпареметров позволил существенно улучшить качество модели решающее дерево. По показателю accuracy (78,38%) данная модель находится на втором месте среди рассмотренных.  \n",
    "Модель случайный лес сразу показала наилучший результат accuracy (79,47%), подбор гиперпараметров позволил довести его до (80.56%).  \n",
    "Модель логическая регрессия показала наихудшй результат по показателю accuracy (72.63%). Улучшить данный показатель путем перебора гиперпараметров не удалось.  \n",
    "Таким образом, перед тестовой проверкой наилучшей моделью из рассмотренных, по метрике качества accuracy являетсая модель - случайный лес."
   ]
  },
  {
   "cell_type": "markdown",
   "metadata": {},
   "source": [
    "## Проверка модели на тестовой выборке"
   ]
  },
  {
   "cell_type": "code",
   "execution_count": 15,
   "metadata": {
    "scrolled": false
   },
   "outputs": [
    {
     "name": "stdout",
     "output_type": "stream",
     "text": [
      "Результат работы модели решающее дерево на тестовой выборке - 0.7838258164852255\n",
      "Результат работы модели случайный лес на тестовой выборке - 0.7931570762052877\n",
      "Результат работы модели логическая регрессия на тестовой выборке - 0.7589424572317263\n"
     ]
    }
   ],
   "source": [
    "# Прверим на тестовой выборке модель решающее дерево\n",
    "predictions_t_test = best_model_t.predict(features_test)\n",
    "result_t_test = accuracy_score(target_test, predictions_t_test)\n",
    "print('Результат работы модели решающее дерево на тестовой выборке -', result_t_test)\n",
    "\n",
    "# Прверим на тестовой выборке модель случайный лес\n",
    "predictions_f_test = best_model_f.predict(features_test)\n",
    "result_f_test = accuracy_score(target_test, predictions_f_test)\n",
    "print('Результат работы модели случайный лес на тестовой выборке -', result_f_test)\n",
    "\n",
    "# Прверим на тестовой выборке модель логическая регрессия\n",
    "predictions_l_test = best_model_l.predict(features_test)\n",
    "result_l_test = accuracy_score(target_test, predictions_l_test)\n",
    "print('Результат работы модели логическая регрессия на тестовой выборке -', result_l_test)"
   ]
  },
  {
   "cell_type": "markdown",
   "metadata": {},
   "source": [
    "**Вывод**  \n",
    "При проверке модели решающее дерево на тестовой выборке результат окался точно таким же как и на валидной выборке.  \n",
    "Показатель accuracy модели случайный лес чуть ухудшился, но все находится на наивысшем уровне, среди рассматриваемых моделей.  \n",
    "Результат модели логическая регрессия на тестовой выборке оказался существенно выше чем на валидной, но все равно остается наихудшим среди рассматриваемых.   \n",
    "Таким образом, в рамках поставленной задачи наилучшей моделью по показателю accuracy является модель случайный лес"
   ]
  },
  {
   "cell_type": "markdown",
   "metadata": {},
   "source": [
    "## Проверка модели на адекватность"
   ]
  },
  {
   "cell_type": "markdown",
   "metadata": {},
   "source": [
    "Для оценки моделей на адекватность сравним их с наиболее простой случайной моделью. В результате предварительно ознакомления с данными, мы выяснили что наиболее популярным новым тарифом является \"Смарт\" на него переходят более чем в 2 раза чаще чем на \"Ультра\".Учитывая вышесказанное воспользуемся моделью DummyClassifier с параметром most_frequent"
   ]
  },
  {
   "cell_type": "code",
   "execution_count": 16,
   "metadata": {},
   "outputs": [
    {
     "data": {
      "text/plain": [
       "0.6951788491446346"
      ]
     },
     "execution_count": 16,
     "metadata": {},
     "output_type": "execute_result"
    }
   ],
   "source": [
    "#  расчитаем accuracy для модели DummyClassifier с параметром most_frequent\n",
    "dc = DummyClassifier(strategy='most_frequent', random_state=12345)\n",
    "dc.fit(features_train, target_train)\n",
    "res = dc.score(features_test, target_test)\n",
    "res"
   ]
  },
  {
   "cell_type": "markdown",
   "metadata": {},
   "source": [
    "**Вывод**  \n",
    "У модели DummyClassifier показатель accuracy 69.52%, что примерно соответствует доле тарифа \"Смарт\" в новых тарифах.  \n",
    "Accuracy всех трех рассмотренных моделей выше этого уровня, соответственно все три модель проходят проверку на адекватность. "
   ]
  }
 ],
 "metadata": {
  "ExecuteTimeLog": [
   {
    "duration": 47,
    "start_time": "2023-05-31T13:44:57.328Z"
   },
   {
    "duration": 388,
    "start_time": "2023-05-31T13:45:02.296Z"
   },
   {
    "duration": 79,
    "start_time": "2023-05-31T13:45:04.157Z"
   },
   {
    "duration": 13,
    "start_time": "2023-05-31T13:46:22.851Z"
   },
   {
    "duration": 407,
    "start_time": "2023-05-31T13:52:56.614Z"
   },
   {
    "duration": 1164,
    "start_time": "2023-05-31T13:53:32.408Z"
   },
   {
    "duration": 1325,
    "start_time": "2023-05-31T13:53:59.904Z"
   },
   {
    "duration": 660,
    "start_time": "2023-05-31T13:54:53.495Z"
   },
   {
    "duration": 692,
    "start_time": "2023-05-31T13:55:04.365Z"
   },
   {
    "duration": 1030,
    "start_time": "2023-05-31T13:55:14.809Z"
   },
   {
    "duration": 1423,
    "start_time": "2023-05-31T13:56:21.514Z"
   },
   {
    "duration": 29,
    "start_time": "2023-05-31T13:58:58.889Z"
   },
   {
    "duration": 940,
    "start_time": "2023-05-31T14:23:13.558Z"
   },
   {
    "duration": 70,
    "start_time": "2023-05-31T14:45:13.650Z"
   },
   {
    "duration": 4,
    "start_time": "2023-05-31T14:45:29.215Z"
   },
   {
    "duration": 13,
    "start_time": "2023-05-31T14:45:30.349Z"
   },
   {
    "duration": 1418,
    "start_time": "2023-05-31T14:45:58.856Z"
   },
   {
    "duration": 41,
    "start_time": "2023-05-31T14:46:00.276Z"
   },
   {
    "duration": 11,
    "start_time": "2023-05-31T14:46:00.319Z"
   },
   {
    "duration": 46,
    "start_time": "2023-05-31T14:46:00.333Z"
   },
   {
    "duration": 1264,
    "start_time": "2023-05-31T14:46:00.381Z"
   },
   {
    "duration": 10,
    "start_time": "2023-05-31T14:46:01.647Z"
   },
   {
    "duration": 155,
    "start_time": "2023-05-31T14:46:01.659Z"
   },
   {
    "duration": 13,
    "start_time": "2023-05-31T14:46:53.103Z"
   },
   {
    "duration": 21,
    "start_time": "2023-05-31T14:47:09.013Z"
   },
   {
    "duration": 17,
    "start_time": "2023-05-31T14:48:32.169Z"
   },
   {
    "duration": 7,
    "start_time": "2023-05-31T14:48:53.461Z"
   },
   {
    "duration": 9,
    "start_time": "2023-05-31T14:52:00.494Z"
   },
   {
    "duration": 9,
    "start_time": "2023-05-31T14:52:25.059Z"
   },
   {
    "duration": 9,
    "start_time": "2023-05-31T14:53:08.983Z"
   },
   {
    "duration": 10,
    "start_time": "2023-05-31T14:54:26.041Z"
   },
   {
    "duration": 18,
    "start_time": "2023-05-31T14:54:41.198Z"
   },
   {
    "duration": 8,
    "start_time": "2023-05-31T14:54:53.451Z"
   },
   {
    "duration": 12,
    "start_time": "2023-05-31T16:51:34.034Z"
   },
   {
    "duration": 11,
    "start_time": "2023-05-31T16:52:59.051Z"
   },
   {
    "duration": 17,
    "start_time": "2023-05-31T18:14:06.639Z"
   },
   {
    "duration": 15,
    "start_time": "2023-05-31T18:22:13.083Z"
   },
   {
    "duration": 12,
    "start_time": "2023-05-31T18:37:01.954Z"
   },
   {
    "duration": 16,
    "start_time": "2023-05-31T18:46:24.704Z"
   },
   {
    "duration": 21,
    "start_time": "2023-05-31T19:04:14.544Z"
   },
   {
    "duration": 72,
    "start_time": "2023-05-31T19:08:51.568Z"
   },
   {
    "duration": 22,
    "start_time": "2023-05-31T19:36:45.070Z"
   },
   {
    "duration": 18,
    "start_time": "2023-05-31T19:36:54.596Z"
   },
   {
    "duration": 13,
    "start_time": "2023-05-31T19:39:00.520Z"
   },
   {
    "duration": 186,
    "start_time": "2023-05-31T19:43:22.213Z"
   },
   {
    "duration": 485,
    "start_time": "2023-05-31T19:43:32.017Z"
   },
   {
    "duration": 90,
    "start_time": "2023-05-31T19:43:41.823Z"
   },
   {
    "duration": 40,
    "start_time": "2023-05-31T19:47:10.074Z"
   },
   {
    "duration": 70,
    "start_time": "2023-05-31T19:47:21.506Z"
   },
   {
    "duration": 5,
    "start_time": "2023-05-31T19:49:12.586Z"
   },
   {
    "duration": 54,
    "start_time": "2023-06-01T09:03:57.506Z"
   },
   {
    "duration": 1568,
    "start_time": "2023-06-01T09:04:06.155Z"
   },
   {
    "duration": 81,
    "start_time": "2023-06-01T09:04:07.726Z"
   },
   {
    "duration": 15,
    "start_time": "2023-06-01T09:04:07.809Z"
   },
   {
    "duration": 51,
    "start_time": "2023-06-01T09:04:07.826Z"
   },
   {
    "duration": 1136,
    "start_time": "2023-06-01T09:04:07.879Z"
   },
   {
    "duration": 3,
    "start_time": "2023-06-01T09:04:09.017Z"
   },
   {
    "duration": 23,
    "start_time": "2023-06-01T09:04:09.022Z"
   },
   {
    "duration": 27,
    "start_time": "2023-06-01T09:04:09.047Z"
   },
   {
    "duration": 61,
    "start_time": "2023-06-01T09:04:09.076Z"
   },
   {
    "duration": 375,
    "start_time": "2023-06-01T09:04:09.138Z"
   },
   {
    "duration": 477,
    "start_time": "2023-06-01T09:06:01.986Z"
   },
   {
    "duration": 412,
    "start_time": "2023-06-01T09:06:17.343Z"
   },
   {
    "duration": 358,
    "start_time": "2023-06-01T09:06:32.588Z"
   },
   {
    "duration": 367,
    "start_time": "2023-06-01T09:06:38.057Z"
   },
   {
    "duration": 356,
    "start_time": "2023-06-01T09:07:03.425Z"
   },
   {
    "duration": 357,
    "start_time": "2023-06-01T09:07:44.704Z"
   },
   {
    "duration": 357,
    "start_time": "2023-06-01T09:07:53.634Z"
   },
   {
    "duration": 29,
    "start_time": "2023-06-01T09:22:58.911Z"
   },
   {
    "duration": 18,
    "start_time": "2023-06-01T09:28:12.248Z"
   },
   {
    "duration": 283,
    "start_time": "2023-06-01T09:28:47.213Z"
   },
   {
    "duration": 894,
    "start_time": "2023-06-01T09:30:10.617Z"
   },
   {
    "duration": 18856,
    "start_time": "2023-06-01T09:30:30.098Z"
   },
   {
    "duration": 248,
    "start_time": "2023-06-01T09:31:24.181Z"
   },
   {
    "duration": 29484,
    "start_time": "2023-06-01T09:36:53.294Z"
   },
   {
    "duration": 13,
    "start_time": "2023-06-01T09:46:45.126Z"
   },
   {
    "duration": 1302,
    "start_time": "2023-06-01T09:48:57.038Z"
   },
   {
    "duration": 39,
    "start_time": "2023-06-01T09:48:58.342Z"
   },
   {
    "duration": 11,
    "start_time": "2023-06-01T09:48:58.383Z"
   },
   {
    "duration": 35,
    "start_time": "2023-06-01T09:48:58.395Z"
   },
   {
    "duration": 1146,
    "start_time": "2023-06-01T09:48:58.432Z"
   },
   {
    "duration": 4,
    "start_time": "2023-06-01T09:48:59.579Z"
   },
   {
    "duration": 33,
    "start_time": "2023-06-01T09:48:59.585Z"
   },
   {
    "duration": 40,
    "start_time": "2023-06-01T09:48:59.619Z"
   },
   {
    "duration": 126,
    "start_time": "2023-06-01T09:48:59.660Z"
   },
   {
    "duration": 0,
    "start_time": "2023-06-01T09:48:59.788Z"
   },
   {
    "duration": 0,
    "start_time": "2023-06-01T09:48:59.789Z"
   },
   {
    "duration": 24,
    "start_time": "2023-06-01T09:50:04.756Z"
   },
   {
    "duration": 23,
    "start_time": "2023-06-01T09:50:41.391Z"
   },
   {
    "duration": 1297,
    "start_time": "2023-06-01T09:51:43.580Z"
   },
   {
    "duration": 38,
    "start_time": "2023-06-01T09:51:44.879Z"
   },
   {
    "duration": 11,
    "start_time": "2023-06-01T09:51:44.918Z"
   },
   {
    "duration": 36,
    "start_time": "2023-06-01T09:51:44.931Z"
   },
   {
    "duration": 1261,
    "start_time": "2023-06-01T09:51:44.969Z"
   },
   {
    "duration": 5,
    "start_time": "2023-06-01T09:51:46.232Z"
   },
   {
    "duration": 13,
    "start_time": "2023-06-01T09:51:46.238Z"
   },
   {
    "duration": 35,
    "start_time": "2023-06-01T09:51:46.253Z"
   },
   {
    "duration": 132,
    "start_time": "2023-06-01T09:51:46.290Z"
   },
   {
    "duration": 0,
    "start_time": "2023-06-01T09:51:46.423Z"
   },
   {
    "duration": 0,
    "start_time": "2023-06-01T09:51:46.424Z"
   },
   {
    "duration": 124,
    "start_time": "2023-06-01T09:53:18.144Z"
   },
   {
    "duration": 25,
    "start_time": "2023-06-01T09:54:05.814Z"
   },
   {
    "duration": 128,
    "start_time": "2023-06-01T09:54:30.550Z"
   },
   {
    "duration": 1191,
    "start_time": "2023-06-01T10:00:04.479Z"
   },
   {
    "duration": 127,
    "start_time": "2023-06-01T10:00:14.699Z"
   },
   {
    "duration": 100,
    "start_time": "2023-06-01T10:03:13.255Z"
   },
   {
    "duration": 19,
    "start_time": "2023-06-01T10:03:27.149Z"
   },
   {
    "duration": 15,
    "start_time": "2023-06-01T10:03:50.162Z"
   },
   {
    "duration": 1372,
    "start_time": "2023-06-01T10:04:12.167Z"
   },
   {
    "duration": 40,
    "start_time": "2023-06-01T10:04:13.541Z"
   },
   {
    "duration": 11,
    "start_time": "2023-06-01T10:04:13.582Z"
   },
   {
    "duration": 22,
    "start_time": "2023-06-01T10:04:13.595Z"
   },
   {
    "duration": 1169,
    "start_time": "2023-06-01T10:04:13.618Z"
   },
   {
    "duration": 4,
    "start_time": "2023-06-01T10:04:14.789Z"
   },
   {
    "duration": 9,
    "start_time": "2023-06-01T10:04:14.794Z"
   },
   {
    "duration": 17,
    "start_time": "2023-06-01T10:04:14.804Z"
   },
   {
    "duration": 158,
    "start_time": "2023-06-01T10:04:14.823Z"
   },
   {
    "duration": 388,
    "start_time": "2023-06-01T10:04:14.983Z"
   },
   {
    "duration": 138,
    "start_time": "2023-06-01T10:04:15.373Z"
   },
   {
    "duration": 64526,
    "start_time": "2023-06-01T10:05:09.481Z"
   },
   {
    "duration": 3477,
    "start_time": "2023-06-01T10:08:04.655Z"
   },
   {
    "duration": 136,
    "start_time": "2023-06-01T10:09:47.616Z"
   },
   {
    "duration": 3546,
    "start_time": "2023-06-01T10:09:57.726Z"
   },
   {
    "duration": 1393,
    "start_time": "2023-06-01T10:10:16.856Z"
   },
   {
    "duration": 44,
    "start_time": "2023-06-01T10:10:18.250Z"
   },
   {
    "duration": 11,
    "start_time": "2023-06-01T10:10:18.295Z"
   },
   {
    "duration": 24,
    "start_time": "2023-06-01T10:10:18.307Z"
   },
   {
    "duration": 1302,
    "start_time": "2023-06-01T10:10:18.333Z"
   },
   {
    "duration": 4,
    "start_time": "2023-06-01T10:10:19.637Z"
   },
   {
    "duration": 10,
    "start_time": "2023-06-01T10:10:19.643Z"
   },
   {
    "duration": 41,
    "start_time": "2023-06-01T10:10:19.655Z"
   },
   {
    "duration": 161,
    "start_time": "2023-06-01T10:10:19.699Z"
   },
   {
    "duration": 385,
    "start_time": "2023-06-01T10:10:19.862Z"
   },
   {
    "duration": 3383,
    "start_time": "2023-06-01T10:10:20.248Z"
   },
   {
    "duration": 3585,
    "start_time": "2023-06-01T10:11:33.954Z"
   },
   {
    "duration": 3295,
    "start_time": "2023-06-01T10:12:39.961Z"
   },
   {
    "duration": 125,
    "start_time": "2023-06-01T10:13:02.439Z"
   },
   {
    "duration": 29,
    "start_time": "2023-06-01T10:13:39.489Z"
   },
   {
    "duration": 3330,
    "start_time": "2023-06-01T10:14:21.837Z"
   },
   {
    "duration": 3281,
    "start_time": "2023-06-01T10:17:51.437Z"
   },
   {
    "duration": 3,
    "start_time": "2023-06-01T10:21:59.500Z"
   },
   {
    "duration": 35,
    "start_time": "2023-06-01T10:26:54.521Z"
   },
   {
    "duration": 1366,
    "start_time": "2023-06-01T13:37:53.627Z"
   },
   {
    "duration": 414,
    "start_time": "2023-06-01T13:38:29.833Z"
   },
   {
    "duration": 3017,
    "start_time": "2023-06-01T13:39:28.129Z"
   },
   {
    "duration": 32740,
    "start_time": "2023-06-01T13:40:11.085Z"
   },
   {
    "duration": 1401,
    "start_time": "2023-06-01T13:40:56.583Z"
   },
   {
    "duration": 1439,
    "start_time": "2023-06-01T13:41:38.391Z"
   },
   {
    "duration": 41,
    "start_time": "2023-06-01T13:41:39.832Z"
   },
   {
    "duration": 13,
    "start_time": "2023-06-01T13:41:39.875Z"
   },
   {
    "duration": 24,
    "start_time": "2023-06-01T13:41:39.890Z"
   },
   {
    "duration": 1317,
    "start_time": "2023-06-01T13:41:39.917Z"
   },
   {
    "duration": 5,
    "start_time": "2023-06-01T13:41:41.236Z"
   },
   {
    "duration": 17,
    "start_time": "2023-06-01T13:41:41.243Z"
   },
   {
    "duration": 36,
    "start_time": "2023-06-01T13:41:41.262Z"
   },
   {
    "duration": 158,
    "start_time": "2023-06-01T13:41:41.300Z"
   },
   {
    "duration": 419,
    "start_time": "2023-06-01T13:41:41.460Z"
   },
   {
    "duration": 3620,
    "start_time": "2023-06-01T13:41:41.881Z"
   },
   {
    "duration": 49,
    "start_time": "2023-06-01T13:41:45.503Z"
   },
   {
    "duration": 14740,
    "start_time": "2023-06-01T13:41:45.555Z"
   },
   {
    "duration": 6,
    "start_time": "2023-06-01T13:43:00.458Z"
   },
   {
    "duration": 6,
    "start_time": "2023-06-01T13:48:05.960Z"
   },
   {
    "duration": 518,
    "start_time": "2023-06-01T13:48:50.797Z"
   },
   {
    "duration": 219,
    "start_time": "2023-06-01T13:48:59.781Z"
   },
   {
    "duration": 1481,
    "start_time": "2023-06-01T13:49:07.112Z"
   },
   {
    "duration": 49,
    "start_time": "2023-06-01T13:49:08.595Z"
   },
   {
    "duration": 17,
    "start_time": "2023-06-01T13:49:08.646Z"
   },
   {
    "duration": 28,
    "start_time": "2023-06-01T13:49:08.666Z"
   },
   {
    "duration": 1310,
    "start_time": "2023-06-01T13:49:08.696Z"
   },
   {
    "duration": 4,
    "start_time": "2023-06-01T13:49:10.008Z"
   },
   {
    "duration": 27,
    "start_time": "2023-06-01T13:49:10.015Z"
   },
   {
    "duration": 35,
    "start_time": "2023-06-01T13:49:10.044Z"
   },
   {
    "duration": 167,
    "start_time": "2023-06-01T13:49:10.081Z"
   },
   {
    "duration": 428,
    "start_time": "2023-06-01T13:49:10.251Z"
   },
   {
    "duration": 3735,
    "start_time": "2023-06-01T13:49:10.680Z"
   },
   {
    "duration": 41,
    "start_time": "2023-06-01T13:49:14.417Z"
   },
   {
    "duration": 248,
    "start_time": "2023-06-01T13:49:14.460Z"
   },
   {
    "duration": 106,
    "start_time": "2023-06-01T13:49:52.124Z"
   },
   {
    "duration": 273,
    "start_time": "2023-06-01T13:50:07.454Z"
   },
   {
    "duration": 274,
    "start_time": "2023-06-01T13:50:32.093Z"
   },
   {
    "duration": 222,
    "start_time": "2023-06-01T13:51:30.548Z"
   },
   {
    "duration": 59,
    "start_time": "2023-06-01T13:52:02.496Z"
   },
   {
    "duration": 618,
    "start_time": "2023-06-01T13:52:30.075Z"
   },
   {
    "duration": 123,
    "start_time": "2023-06-01T13:56:39.540Z"
   },
   {
    "duration": 1595,
    "start_time": "2023-06-01T13:56:58.732Z"
   },
   {
    "duration": 42,
    "start_time": "2023-06-01T13:57:00.330Z"
   },
   {
    "duration": 18,
    "start_time": "2023-06-01T13:57:00.374Z"
   },
   {
    "duration": 50,
    "start_time": "2023-06-01T13:57:00.394Z"
   },
   {
    "duration": 1334,
    "start_time": "2023-06-01T13:57:00.446Z"
   },
   {
    "duration": 4,
    "start_time": "2023-06-01T13:57:01.782Z"
   },
   {
    "duration": 11,
    "start_time": "2023-06-01T13:57:01.788Z"
   },
   {
    "duration": 51,
    "start_time": "2023-06-01T13:57:01.801Z"
   },
   {
    "duration": 170,
    "start_time": "2023-06-01T13:57:01.854Z"
   },
   {
    "duration": 404,
    "start_time": "2023-06-01T13:57:02.026Z"
   },
   {
    "duration": 3771,
    "start_time": "2023-06-01T13:57:02.431Z"
   },
   {
    "duration": 193,
    "start_time": "2023-06-01T13:57:06.204Z"
   },
   {
    "duration": 592,
    "start_time": "2023-06-01T13:57:06.399Z"
   },
   {
    "duration": 113,
    "start_time": "2023-06-01T13:57:24.647Z"
   },
   {
    "duration": 53,
    "start_time": "2023-06-01T13:57:41.344Z"
   },
   {
    "duration": 40,
    "start_time": "2023-06-01T13:57:48.189Z"
   },
   {
    "duration": 42,
    "start_time": "2023-06-01T13:58:04.992Z"
   },
   {
    "duration": 541,
    "start_time": "2023-06-01T13:58:48.797Z"
   },
   {
    "duration": 245,
    "start_time": "2023-06-01T13:59:01.766Z"
   },
   {
    "duration": 214,
    "start_time": "2023-06-01T13:59:27.691Z"
   },
   {
    "duration": 193,
    "start_time": "2023-06-01T13:59:56.088Z"
   },
   {
    "duration": 1458,
    "start_time": "2023-06-01T14:00:06.290Z"
   },
   {
    "duration": 45,
    "start_time": "2023-06-01T14:00:07.750Z"
   },
   {
    "duration": 12,
    "start_time": "2023-06-01T14:00:07.797Z"
   },
   {
    "duration": 24,
    "start_time": "2023-06-01T14:00:07.811Z"
   },
   {
    "duration": 1301,
    "start_time": "2023-06-01T14:00:07.836Z"
   },
   {
    "duration": 4,
    "start_time": "2023-06-01T14:00:09.139Z"
   },
   {
    "duration": 14,
    "start_time": "2023-06-01T14:00:09.145Z"
   },
   {
    "duration": 35,
    "start_time": "2023-06-01T14:00:09.161Z"
   },
   {
    "duration": 146,
    "start_time": "2023-06-01T14:00:09.197Z"
   },
   {
    "duration": 454,
    "start_time": "2023-06-01T14:00:09.345Z"
   },
   {
    "duration": 3706,
    "start_time": "2023-06-01T14:00:09.801Z"
   },
   {
    "duration": 85,
    "start_time": "2023-06-01T14:00:13.508Z"
   },
   {
    "duration": 180,
    "start_time": "2023-06-01T14:00:13.595Z"
   },
   {
    "duration": 3,
    "start_time": "2023-06-01T14:01:53.799Z"
   },
   {
    "duration": 225,
    "start_time": "2023-06-01T14:02:00.101Z"
   },
   {
    "duration": 362,
    "start_time": "2023-06-01T14:05:44.790Z"
   },
   {
    "duration": 169,
    "start_time": "2023-06-01T14:06:03.270Z"
   },
   {
    "duration": 1843,
    "start_time": "2023-06-01T14:09:27.019Z"
   },
   {
    "duration": 1354,
    "start_time": "2023-06-01T14:10:10.156Z"
   },
   {
    "duration": 1651,
    "start_time": "2023-06-01T14:10:23.776Z"
   },
   {
    "duration": 1856,
    "start_time": "2023-06-01T14:10:47.400Z"
   },
   {
    "duration": 10691,
    "start_time": "2023-06-01T14:11:56.236Z"
   },
   {
    "duration": 73,
    "start_time": "2023-06-01T14:15:20.115Z"
   },
   {
    "duration": 3516,
    "start_time": "2023-06-01T14:15:45.355Z"
   },
   {
    "duration": 14249,
    "start_time": "2023-06-01T14:16:25.172Z"
   },
   {
    "duration": 80,
    "start_time": "2023-06-01T15:12:49.766Z"
   },
   {
    "duration": 119,
    "start_time": "2023-06-01T15:13:06.796Z"
   },
   {
    "duration": 46351,
    "start_time": "2023-06-01T15:13:35.873Z"
   },
   {
    "duration": 46327,
    "start_time": "2023-06-01T15:20:27.088Z"
   },
   {
    "duration": 13110,
    "start_time": "2023-06-01T15:29:27.677Z"
   },
   {
    "duration": 1339,
    "start_time": "2023-06-01T15:31:03.874Z"
   },
   {
    "duration": 40,
    "start_time": "2023-06-01T15:31:05.215Z"
   },
   {
    "duration": 12,
    "start_time": "2023-06-01T15:31:05.257Z"
   },
   {
    "duration": 41,
    "start_time": "2023-06-01T15:31:05.271Z"
   },
   {
    "duration": 1251,
    "start_time": "2023-06-01T15:31:05.313Z"
   },
   {
    "duration": 12,
    "start_time": "2023-06-01T15:31:06.566Z"
   },
   {
    "duration": 10,
    "start_time": "2023-06-01T15:31:06.580Z"
   },
   {
    "duration": 30,
    "start_time": "2023-06-01T15:31:06.591Z"
   },
   {
    "duration": 147,
    "start_time": "2023-06-01T15:31:06.622Z"
   },
   {
    "duration": 376,
    "start_time": "2023-06-01T15:31:06.778Z"
   },
   {
    "duration": 43538,
    "start_time": "2023-06-01T15:31:07.156Z"
   },
   {
    "duration": 37,
    "start_time": "2023-06-01T15:31:50.696Z"
   },
   {
    "duration": 12597,
    "start_time": "2023-06-01T15:31:50.734Z"
   },
   {
    "duration": 21200,
    "start_time": "2023-06-01T15:35:46.387Z"
   },
   {
    "duration": 4864,
    "start_time": "2023-06-01T15:44:38.927Z"
   },
   {
    "duration": 13350,
    "start_time": "2023-06-01T15:47:57.251Z"
   },
   {
    "duration": 13069,
    "start_time": "2023-06-01T15:49:18.023Z"
   },
   {
    "duration": 13033,
    "start_time": "2023-06-01T15:50:17.196Z"
   },
   {
    "duration": 43,
    "start_time": "2023-06-01T15:55:54.186Z"
   },
   {
    "duration": 41,
    "start_time": "2023-06-01T15:56:19.022Z"
   },
   {
    "duration": 38,
    "start_time": "2023-06-01T15:57:22.059Z"
   },
   {
    "duration": 48,
    "start_time": "2023-06-01T15:58:15.816Z"
   },
   {
    "duration": 1351,
    "start_time": "2023-06-01T16:02:19.160Z"
   },
   {
    "duration": 39,
    "start_time": "2023-06-01T16:02:20.514Z"
   },
   {
    "duration": 11,
    "start_time": "2023-06-01T16:02:20.554Z"
   },
   {
    "duration": 28,
    "start_time": "2023-06-01T16:02:20.566Z"
   },
   {
    "duration": 1141,
    "start_time": "2023-06-01T16:02:20.597Z"
   },
   {
    "duration": 3,
    "start_time": "2023-06-01T16:02:21.740Z"
   },
   {
    "duration": 26,
    "start_time": "2023-06-01T16:02:21.744Z"
   },
   {
    "duration": 89,
    "start_time": "2023-06-01T16:02:21.771Z"
   },
   {
    "duration": 159,
    "start_time": "2023-06-01T16:02:21.861Z"
   },
   {
    "duration": 363,
    "start_time": "2023-06-01T16:02:22.022Z"
   },
   {
    "duration": 4805,
    "start_time": "2023-06-01T16:02:22.387Z"
   },
   {
    "duration": 42,
    "start_time": "2023-06-01T16:02:27.194Z"
   },
   {
    "duration": 12922,
    "start_time": "2023-06-01T16:02:27.238Z"
   },
   {
    "duration": 13113,
    "start_time": "2023-06-01T16:09:56.855Z"
   },
   {
    "duration": 12828,
    "start_time": "2023-06-01T16:11:43.380Z"
   },
   {
    "duration": 49,
    "start_time": "2023-06-01T16:12:07.659Z"
   },
   {
    "duration": 111,
    "start_time": "2023-06-01T16:56:53.993Z"
   },
   {
    "duration": 87,
    "start_time": "2023-06-01T16:57:24.812Z"
   },
   {
    "duration": 95,
    "start_time": "2023-06-01T16:57:36.963Z"
   },
   {
    "duration": 116,
    "start_time": "2023-06-01T16:57:49.464Z"
   },
   {
    "duration": 98,
    "start_time": "2023-06-01T16:58:04.151Z"
   },
   {
    "duration": 112,
    "start_time": "2023-06-01T16:59:20.327Z"
   },
   {
    "duration": 61,
    "start_time": "2023-06-01T17:01:13.622Z"
   },
   {
    "duration": 76,
    "start_time": "2023-06-01T17:02:06.522Z"
   },
   {
    "duration": 10821,
    "start_time": "2023-06-01T17:06:35.696Z"
   },
   {
    "duration": 129,
    "start_time": "2023-06-01T17:07:54.179Z"
   },
   {
    "duration": 9964,
    "start_time": "2023-06-01T17:08:15.323Z"
   },
   {
    "duration": 20,
    "start_time": "2023-06-01T17:11:53.086Z"
   },
   {
    "duration": 16,
    "start_time": "2023-06-01T17:20:20.621Z"
   },
   {
    "duration": 1414,
    "start_time": "2023-06-01T17:20:43.516Z"
   },
   {
    "duration": 43,
    "start_time": "2023-06-01T17:20:44.932Z"
   },
   {
    "duration": 19,
    "start_time": "2023-06-01T17:20:44.977Z"
   },
   {
    "duration": 25,
    "start_time": "2023-06-01T17:20:44.999Z"
   },
   {
    "duration": 1359,
    "start_time": "2023-06-01T17:20:45.025Z"
   },
   {
    "duration": 4,
    "start_time": "2023-06-01T17:20:46.386Z"
   },
   {
    "duration": 11,
    "start_time": "2023-06-01T17:20:46.391Z"
   },
   {
    "duration": 16,
    "start_time": "2023-06-01T17:20:46.404Z"
   },
   {
    "duration": 176,
    "start_time": "2023-06-01T17:20:46.422Z"
   },
   {
    "duration": 401,
    "start_time": "2023-06-01T17:20:46.600Z"
   },
   {
    "duration": 5111,
    "start_time": "2023-06-01T17:20:47.003Z"
   },
   {
    "duration": 35,
    "start_time": "2023-06-01T17:20:52.115Z"
   },
   {
    "duration": 120,
    "start_time": "2023-06-01T17:20:52.152Z"
   },
   {
    "duration": 7,
    "start_time": "2023-06-01T17:23:02.718Z"
   },
   {
    "duration": 6,
    "start_time": "2023-06-01T17:27:47.895Z"
   },
   {
    "duration": 1401,
    "start_time": "2023-06-01T17:28:07.007Z"
   },
   {
    "duration": 39,
    "start_time": "2023-06-01T17:28:08.410Z"
   },
   {
    "duration": 11,
    "start_time": "2023-06-01T17:28:08.451Z"
   },
   {
    "duration": 27,
    "start_time": "2023-06-01T17:28:08.464Z"
   },
   {
    "duration": 1268,
    "start_time": "2023-06-01T17:28:08.493Z"
   },
   {
    "duration": 5,
    "start_time": "2023-06-01T17:28:09.763Z"
   },
   {
    "duration": 11,
    "start_time": "2023-06-01T17:28:09.778Z"
   },
   {
    "duration": 20,
    "start_time": "2023-06-01T17:28:09.791Z"
   },
   {
    "duration": 182,
    "start_time": "2023-06-01T17:28:09.813Z"
   },
   {
    "duration": 415,
    "start_time": "2023-06-01T17:28:09.998Z"
   },
   {
    "duration": 5188,
    "start_time": "2023-06-01T17:28:10.415Z"
   },
   {
    "duration": 54,
    "start_time": "2023-06-01T17:28:15.604Z"
   },
   {
    "duration": 21,
    "start_time": "2023-06-01T17:28:15.659Z"
   },
   {
    "duration": 104,
    "start_time": "2023-06-01T17:29:09.169Z"
   },
   {
    "duration": 46,
    "start_time": "2023-06-01T17:29:18.067Z"
   },
   {
    "duration": 52,
    "start_time": "2023-06-01T17:29:33.763Z"
   },
   {
    "duration": 11,
    "start_time": "2023-06-01T17:29:55.291Z"
   },
   {
    "duration": 50,
    "start_time": "2023-06-01T17:30:07.568Z"
   },
   {
    "duration": 67,
    "start_time": "2023-06-01T17:30:25.968Z"
   },
   {
    "duration": 80,
    "start_time": "2023-06-01T17:36:37.364Z"
   },
   {
    "duration": 75,
    "start_time": "2023-06-01T17:37:29.276Z"
   },
   {
    "duration": 111,
    "start_time": "2023-06-01T17:38:54.512Z"
   },
   {
    "duration": 1495,
    "start_time": "2023-06-01T17:39:03.664Z"
   },
   {
    "duration": 50,
    "start_time": "2023-06-01T17:39:05.161Z"
   },
   {
    "duration": 13,
    "start_time": "2023-06-01T17:39:05.213Z"
   },
   {
    "duration": 40,
    "start_time": "2023-06-01T17:39:05.228Z"
   },
   {
    "duration": 1375,
    "start_time": "2023-06-01T17:39:05.270Z"
   },
   {
    "duration": 5,
    "start_time": "2023-06-01T17:39:06.647Z"
   },
   {
    "duration": 31,
    "start_time": "2023-06-01T17:39:06.654Z"
   },
   {
    "duration": 28,
    "start_time": "2023-06-01T17:39:06.689Z"
   },
   {
    "duration": 185,
    "start_time": "2023-06-01T17:39:06.719Z"
   },
   {
    "duration": 394,
    "start_time": "2023-06-01T17:39:06.907Z"
   },
   {
    "duration": 5130,
    "start_time": "2023-06-01T17:39:07.303Z"
   },
   {
    "duration": 68,
    "start_time": "2023-06-01T17:39:12.434Z"
   },
   {
    "duration": 86,
    "start_time": "2023-06-01T17:39:12.504Z"
   },
   {
    "duration": 1564,
    "start_time": "2023-06-01T17:41:55.916Z"
   },
   {
    "duration": 2923,
    "start_time": "2023-06-01T17:42:21.792Z"
   },
   {
    "duration": 1345,
    "start_time": "2023-06-01T17:42:33.707Z"
   },
   {
    "duration": 1391,
    "start_time": "2023-06-01T17:48:21.172Z"
   },
   {
    "duration": 1485,
    "start_time": "2023-06-01T17:48:54.918Z"
   },
   {
    "duration": 1334,
    "start_time": "2023-06-01T18:52:02.090Z"
   },
   {
    "duration": 1413,
    "start_time": "2023-06-01T18:52:26.892Z"
   },
   {
    "duration": 1437,
    "start_time": "2023-06-01T18:52:39.938Z"
   },
   {
    "duration": 1317,
    "start_time": "2023-06-01T18:53:13.596Z"
   },
   {
    "duration": 15,
    "start_time": "2023-06-01T18:56:51.173Z"
   },
   {
    "duration": 37,
    "start_time": "2023-06-01T18:57:49.297Z"
   },
   {
    "duration": 7,
    "start_time": "2023-06-01T19:03:38.211Z"
   },
   {
    "duration": 6,
    "start_time": "2023-06-01T19:06:14.664Z"
   },
   {
    "duration": 5,
    "start_time": "2023-06-01T19:06:33.544Z"
   },
   {
    "duration": 13,
    "start_time": "2023-06-01T19:09:56.255Z"
   },
   {
    "duration": 12,
    "start_time": "2023-06-01T19:10:46.522Z"
   },
   {
    "duration": 15,
    "start_time": "2023-06-01T19:12:23.548Z"
   },
   {
    "duration": 12,
    "start_time": "2023-06-01T19:13:01.546Z"
   },
   {
    "duration": 9,
    "start_time": "2023-06-01T20:04:44.275Z"
   },
   {
    "duration": 4,
    "start_time": "2023-06-01T20:05:52.557Z"
   },
   {
    "duration": 9,
    "start_time": "2023-06-01T20:05:59.452Z"
   },
   {
    "duration": 9,
    "start_time": "2023-06-01T20:07:28.198Z"
   },
   {
    "duration": 1391,
    "start_time": "2023-06-01T20:07:55.684Z"
   },
   {
    "duration": 41,
    "start_time": "2023-06-01T20:07:57.076Z"
   },
   {
    "duration": 12,
    "start_time": "2023-06-01T20:07:57.119Z"
   },
   {
    "duration": 26,
    "start_time": "2023-06-01T20:07:57.134Z"
   },
   {
    "duration": 1187,
    "start_time": "2023-06-01T20:07:57.162Z"
   },
   {
    "duration": 4,
    "start_time": "2023-06-01T20:07:58.351Z"
   },
   {
    "duration": 14,
    "start_time": "2023-06-01T20:07:58.356Z"
   },
   {
    "duration": 20,
    "start_time": "2023-06-01T20:07:58.372Z"
   },
   {
    "duration": 140,
    "start_time": "2023-06-01T20:07:58.394Z"
   },
   {
    "duration": 368,
    "start_time": "2023-06-01T20:07:58.535Z"
   },
   {
    "duration": 4674,
    "start_time": "2023-06-01T20:07:58.905Z"
   },
   {
    "duration": 34,
    "start_time": "2023-06-01T20:08:03.580Z"
   },
   {
    "duration": 1369,
    "start_time": "2023-06-01T20:08:03.616Z"
   },
   {
    "duration": 12,
    "start_time": "2023-06-01T20:08:04.987Z"
   },
   {
    "duration": 143,
    "start_time": "2023-06-01T20:08:05.001Z"
   },
   {
    "duration": 7,
    "start_time": "2023-06-01T20:08:25.523Z"
   },
   {
    "duration": 1272,
    "start_time": "2023-06-01T20:13:58.499Z"
   },
   {
    "duration": 38,
    "start_time": "2023-06-01T20:13:59.775Z"
   },
   {
    "duration": 11,
    "start_time": "2023-06-01T20:13:59.815Z"
   },
   {
    "duration": 27,
    "start_time": "2023-06-01T20:13:59.828Z"
   },
   {
    "duration": 1187,
    "start_time": "2023-06-01T20:13:59.857Z"
   },
   {
    "duration": 4,
    "start_time": "2023-06-01T20:14:01.046Z"
   },
   {
    "duration": 17,
    "start_time": "2023-06-01T20:14:01.051Z"
   },
   {
    "duration": 23,
    "start_time": "2023-06-01T20:14:01.077Z"
   },
   {
    "duration": 147,
    "start_time": "2023-06-01T20:14:01.102Z"
   },
   {
    "duration": 403,
    "start_time": "2023-06-01T20:14:01.251Z"
   },
   {
    "duration": 4786,
    "start_time": "2023-06-01T20:14:01.656Z"
   },
   {
    "duration": 47,
    "start_time": "2023-06-01T20:14:06.444Z"
   },
   {
    "duration": 1428,
    "start_time": "2023-06-01T20:14:06.493Z"
   },
   {
    "duration": 11,
    "start_time": "2023-06-01T20:14:07.922Z"
   },
   {
    "duration": 6,
    "start_time": "2023-06-01T20:14:07.934Z"
   },
   {
    "duration": 52,
    "start_time": "2023-06-02T09:38:20.650Z"
   },
   {
    "duration": 1485,
    "start_time": "2023-06-02T09:38:26.622Z"
   },
   {
    "duration": 170,
    "start_time": "2023-06-02T09:38:28.110Z"
   },
   {
    "duration": 11,
    "start_time": "2023-06-02T09:38:28.282Z"
   },
   {
    "duration": 26,
    "start_time": "2023-06-02T09:38:28.294Z"
   },
   {
    "duration": 1047,
    "start_time": "2023-06-02T09:38:28.321Z"
   },
   {
    "duration": 4,
    "start_time": "2023-06-02T09:38:29.369Z"
   },
   {
    "duration": 10,
    "start_time": "2023-06-02T09:38:29.375Z"
   },
   {
    "duration": 38,
    "start_time": "2023-06-02T09:38:29.387Z"
   },
   {
    "duration": 147,
    "start_time": "2023-06-02T09:38:29.427Z"
   },
   {
    "duration": 428,
    "start_time": "2023-06-02T09:38:29.576Z"
   },
   {
    "duration": 5131,
    "start_time": "2023-06-02T09:38:30.005Z"
   },
   {
    "duration": 32,
    "start_time": "2023-06-02T09:38:35.137Z"
   },
   {
    "duration": 1162,
    "start_time": "2023-06-02T09:38:35.170Z"
   },
   {
    "duration": 118,
    "start_time": "2023-06-02T09:38:36.333Z"
   },
   {
    "duration": 0,
    "start_time": "2023-06-02T09:38:36.453Z"
   },
   {
    "duration": 0,
    "start_time": "2023-06-02T09:38:36.455Z"
   },
   {
    "duration": 667,
    "start_time": "2023-06-02T09:39:49.574Z"
   },
   {
    "duration": 618,
    "start_time": "2023-06-02T09:40:19.462Z"
   },
   {
    "duration": 504,
    "start_time": "2023-06-02T09:42:28.950Z"
   },
   {
    "duration": 62,
    "start_time": "2023-06-02T09:48:10.279Z"
   }
  ],
  "kernelspec": {
   "display_name": "Python 3 (ipykernel)",
   "language": "python",
   "name": "python3"
  },
  "language_info": {
   "codemirror_mode": {
    "name": "ipython",
    "version": 3
   },
   "file_extension": ".py",
   "mimetype": "text/x-python",
   "name": "python",
   "nbconvert_exporter": "python",
   "pygments_lexer": "ipython3",
   "version": "3.10.9"
  },
  "toc": {
   "base_numbering": 1,
   "nav_menu": {},
   "number_sections": true,
   "sideBar": true,
   "skip_h1_title": true,
   "title_cell": "Table of Contents",
   "title_sidebar": "Contents",
   "toc_cell": false,
   "toc_position": {},
   "toc_section_display": true,
   "toc_window_display": false
  }
 },
 "nbformat": 4,
 "nbformat_minor": 2
}
