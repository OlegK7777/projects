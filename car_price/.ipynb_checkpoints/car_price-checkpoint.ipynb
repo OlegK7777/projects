{
 "cells": [
  {
   "cell_type": "markdown",
   "metadata": {},
   "source": [
    "# Определение стоимости автомобилей"
   ]
  },
  {
   "cell_type": "markdown",
   "metadata": {},
   "source": [
    "Сервис по продаже автомобилей с пробегом «Не бит, не крашен» разрабатывает приложение для привлечения новых клиентов. В нём можно быстро узнать рыночную стоимость своего автомобиля. В вашем распоряжении исторические данные: технические характеристики, комплектации и цены автомобилей. Вам нужно построить модель для определения стоимости. \n",
    "\n",
    "**Заказчику важны:**\n",
    "- качество предсказания;\n",
    "- скорость предсказания;\n",
    "- время обучения."
   ]
  },
  {
   "cell_type": "markdown",
   "metadata": {},
   "source": [
    "**План работ:**  \n",
    "1.Подготовка данных.  \n",
    "1.1. Загрузка и обзор данных.  \n",
    "1.2. Изучение данных (Заполнение пропущенных значений, обработка аномалии в столбцах, удаление неинформативных признаков).  \n",
    "1.3. Подготовка выборки для обучения моделей.  \n",
    "2.Обучение моделей (одна из которых — LightGBM, как минимум одна — не бустинг).Для каждой модели подбор гиперпараметров.  \n",
    "3.Анализ моделей (время обучения, время предсказания и качество моделей). Выбор лучшей модели, проверка её качество на тестовой выборке."
   ]
  },
  {
   "cell_type": "markdown",
   "metadata": {},
   "source": [
    "**Примечания:**  \n",
    "Для оценки качества моделей применяем метрику RMSE.  \n",
    "Значение метрики RMSE должно быть меньше 2500.\n"
   ]
  },
  {
   "cell_type": "markdown",
   "metadata": {},
   "source": [
    "**Признаки**  \n",
    "DateCrawled — дата скачивания анкеты из базы  \n",
    "VehicleType — тип автомобильного кузова  \n",
    "RegistrationYear — год регистрации автомобиля  \n",
    "Gearbox — тип коробки передач  \n",
    "Power — мощность (л. с.)  \n",
    "Model — модель автомобиля  \n",
    "Kilometer — пробег (км)  \n",
    "RegistrationMonth — месяц регистрации автомобиля  \n",
    "FuelType — тип топлива  \n",
    "Brand — марка автомобиля  \n",
    "NotRepaired — была машина в ремонте или нет  \n",
    "DateCreated — дата создания анкеты  \n",
    "NumberOfPictures — количество фотографий автомобиля  \n",
    "PostalCode — почтовый индекс владельца анкеты (пользователя)  \n",
    "LastSeen — дата последней активности пользователя  \n",
    "\n",
    "**Целевой признак**  \n",
    "Price — цена (евро)"
   ]
  },
  {
   "cell_type": "markdown",
   "metadata": {},
   "source": [
    "## Подготовка данных"
   ]
  },
  {
   "cell_type": "markdown",
   "metadata": {},
   "source": [
    "### Загрузка и обзор данных"
   ]
  },
  {
   "cell_type": "markdown",
   "metadata": {},
   "source": [
    " Была установлена последняя версия беблиотеки `!pip install scikit-learn==1.1.3`  \n",
    " В ней для OneHotEncoder работает одновремеено `drop='first'` и `handle_unknown='ignore'`"
   ]
  },
  {
   "cell_type": "code",
   "execution_count": 1,
   "metadata": {},
   "outputs": [
    {
     "name": "stdout",
     "output_type": "stream",
     "text": [
      "Requirement already satisfied: scikit-learn==1.1.3 in /opt/conda/lib/python3.9/site-packages (1.1.3)\n",
      "Requirement already satisfied: numpy>=1.17.3 in /opt/conda/lib/python3.9/site-packages (from scikit-learn==1.1.3) (1.21.1)\n",
      "Requirement already satisfied: joblib>=1.0.0 in /opt/conda/lib/python3.9/site-packages (from scikit-learn==1.1.3) (1.1.0)\n",
      "Requirement already satisfied: scipy>=1.3.2 in /opt/conda/lib/python3.9/site-packages (from scikit-learn==1.1.3) (1.9.1)\n",
      "Requirement already satisfied: threadpoolctl>=2.0.0 in /opt/conda/lib/python3.9/site-packages (from scikit-learn==1.1.3) (3.1.0)\n"
     ]
    }
   ],
   "source": [
    "!pip install scikit-learn==1.1.3"
   ]
  },
  {
   "cell_type": "code",
   "execution_count": 2,
   "metadata": {},
   "outputs": [],
   "source": [
    "#импорт необходимых библиотек\n",
    "import warnings\n",
    "warnings.filterwarnings(\"ignore\", category=UserWarning)\n",
    "\n",
    "import pandas as pd\n",
    "import numpy as np\n",
    "import matplotlib.pyplot as plt \n",
    "from sklearn.model_selection import train_test_split, GridSearchCV\n",
    "from sklearn.compose import make_column_transformer\n",
    "from sklearn.preprocessing import OneHotEncoder, StandardScaler, OrdinalEncoder\n",
    "from sklearn.impute import KNNImputer\n",
    "from sklearn.pipeline import make_pipeline\n",
    "from sklearn.linear_model import LinearRegression\n",
    "from sklearn.tree import DecisionTreeRegressor\n",
    "from sklearn.metrics import make_scorer, mean_squared_error\n",
    "\n",
    "from catboost import CatBoostRegressor\n",
    "from lightgbm import LGBMRegressor\n",
    "import lightgbm as lgb\n",
    "\n"
   ]
  },
  {
   "cell_type": "code",
   "execution_count": 3,
   "metadata": {},
   "outputs": [],
   "source": [
    "# чтобы при масштабировании не появлялось предупреждение\n",
    "pd.options.mode.chained_assignment = None"
   ]
  },
  {
   "cell_type": "code",
   "execution_count": 4,
   "metadata": {},
   "outputs": [
    {
     "data": {
      "text/html": [
       "<div>\n",
       "<style scoped>\n",
       "    .dataframe tbody tr th:only-of-type {\n",
       "        vertical-align: middle;\n",
       "    }\n",
       "\n",
       "    .dataframe tbody tr th {\n",
       "        vertical-align: top;\n",
       "    }\n",
       "\n",
       "    .dataframe thead th {\n",
       "        text-align: right;\n",
       "    }\n",
       "</style>\n",
       "<table border=\"1\" class=\"dataframe\">\n",
       "  <thead>\n",
       "    <tr style=\"text-align: right;\">\n",
       "      <th></th>\n",
       "      <th>DateCrawled</th>\n",
       "      <th>Price</th>\n",
       "      <th>VehicleType</th>\n",
       "      <th>RegistrationYear</th>\n",
       "      <th>Gearbox</th>\n",
       "      <th>Power</th>\n",
       "      <th>Model</th>\n",
       "      <th>Kilometer</th>\n",
       "      <th>RegistrationMonth</th>\n",
       "      <th>FuelType</th>\n",
       "      <th>Brand</th>\n",
       "      <th>Repaired</th>\n",
       "      <th>DateCreated</th>\n",
       "      <th>NumberOfPictures</th>\n",
       "      <th>PostalCode</th>\n",
       "      <th>LastSeen</th>\n",
       "    </tr>\n",
       "  </thead>\n",
       "  <tbody>\n",
       "    <tr>\n",
       "      <th>0</th>\n",
       "      <td>2016-03-24 11:52:17</td>\n",
       "      <td>480</td>\n",
       "      <td>NaN</td>\n",
       "      <td>1993</td>\n",
       "      <td>manual</td>\n",
       "      <td>0</td>\n",
       "      <td>golf</td>\n",
       "      <td>150000</td>\n",
       "      <td>0</td>\n",
       "      <td>petrol</td>\n",
       "      <td>volkswagen</td>\n",
       "      <td>NaN</td>\n",
       "      <td>2016-03-24 00:00:00</td>\n",
       "      <td>0</td>\n",
       "      <td>70435</td>\n",
       "      <td>2016-04-07 03:16:57</td>\n",
       "    </tr>\n",
       "    <tr>\n",
       "      <th>1</th>\n",
       "      <td>2016-03-24 10:58:45</td>\n",
       "      <td>18300</td>\n",
       "      <td>coupe</td>\n",
       "      <td>2011</td>\n",
       "      <td>manual</td>\n",
       "      <td>190</td>\n",
       "      <td>NaN</td>\n",
       "      <td>125000</td>\n",
       "      <td>5</td>\n",
       "      <td>gasoline</td>\n",
       "      <td>audi</td>\n",
       "      <td>yes</td>\n",
       "      <td>2016-03-24 00:00:00</td>\n",
       "      <td>0</td>\n",
       "      <td>66954</td>\n",
       "      <td>2016-04-07 01:46:50</td>\n",
       "    </tr>\n",
       "    <tr>\n",
       "      <th>2</th>\n",
       "      <td>2016-03-14 12:52:21</td>\n",
       "      <td>9800</td>\n",
       "      <td>suv</td>\n",
       "      <td>2004</td>\n",
       "      <td>auto</td>\n",
       "      <td>163</td>\n",
       "      <td>grand</td>\n",
       "      <td>125000</td>\n",
       "      <td>8</td>\n",
       "      <td>gasoline</td>\n",
       "      <td>jeep</td>\n",
       "      <td>NaN</td>\n",
       "      <td>2016-03-14 00:00:00</td>\n",
       "      <td>0</td>\n",
       "      <td>90480</td>\n",
       "      <td>2016-04-05 12:47:46</td>\n",
       "    </tr>\n",
       "    <tr>\n",
       "      <th>3</th>\n",
       "      <td>2016-03-17 16:54:04</td>\n",
       "      <td>1500</td>\n",
       "      <td>small</td>\n",
       "      <td>2001</td>\n",
       "      <td>manual</td>\n",
       "      <td>75</td>\n",
       "      <td>golf</td>\n",
       "      <td>150000</td>\n",
       "      <td>6</td>\n",
       "      <td>petrol</td>\n",
       "      <td>volkswagen</td>\n",
       "      <td>no</td>\n",
       "      <td>2016-03-17 00:00:00</td>\n",
       "      <td>0</td>\n",
       "      <td>91074</td>\n",
       "      <td>2016-03-17 17:40:17</td>\n",
       "    </tr>\n",
       "    <tr>\n",
       "      <th>4</th>\n",
       "      <td>2016-03-31 17:25:20</td>\n",
       "      <td>3600</td>\n",
       "      <td>small</td>\n",
       "      <td>2008</td>\n",
       "      <td>manual</td>\n",
       "      <td>69</td>\n",
       "      <td>fabia</td>\n",
       "      <td>90000</td>\n",
       "      <td>7</td>\n",
       "      <td>gasoline</td>\n",
       "      <td>skoda</td>\n",
       "      <td>no</td>\n",
       "      <td>2016-03-31 00:00:00</td>\n",
       "      <td>0</td>\n",
       "      <td>60437</td>\n",
       "      <td>2016-04-06 10:17:21</td>\n",
       "    </tr>\n",
       "  </tbody>\n",
       "</table>\n",
       "</div>"
      ],
      "text/plain": [
       "           DateCrawled  Price VehicleType  RegistrationYear Gearbox  Power  \\\n",
       "0  2016-03-24 11:52:17    480         NaN              1993  manual      0   \n",
       "1  2016-03-24 10:58:45  18300       coupe              2011  manual    190   \n",
       "2  2016-03-14 12:52:21   9800         suv              2004    auto    163   \n",
       "3  2016-03-17 16:54:04   1500       small              2001  manual     75   \n",
       "4  2016-03-31 17:25:20   3600       small              2008  manual     69   \n",
       "\n",
       "   Model  Kilometer  RegistrationMonth  FuelType       Brand Repaired  \\\n",
       "0   golf     150000                  0    petrol  volkswagen      NaN   \n",
       "1    NaN     125000                  5  gasoline        audi      yes   \n",
       "2  grand     125000                  8  gasoline        jeep      NaN   \n",
       "3   golf     150000                  6    petrol  volkswagen       no   \n",
       "4  fabia      90000                  7  gasoline       skoda       no   \n",
       "\n",
       "           DateCreated  NumberOfPictures  PostalCode             LastSeen  \n",
       "0  2016-03-24 00:00:00                 0       70435  2016-04-07 03:16:57  \n",
       "1  2016-03-24 00:00:00                 0       66954  2016-04-07 01:46:50  \n",
       "2  2016-03-14 00:00:00                 0       90480  2016-04-05 12:47:46  \n",
       "3  2016-03-17 00:00:00                 0       91074  2016-03-17 17:40:17  \n",
       "4  2016-03-31 00:00:00                 0       60437  2016-04-06 10:17:21  "
      ]
     },
     "execution_count": 4,
     "metadata": {},
     "output_type": "execute_result"
    }
   ],
   "source": [
    "data = pd.read_csv('/datasets/autos.csv')\n",
    "data.head()"
   ]
  },
  {
   "cell_type": "code",
   "execution_count": 5,
   "metadata": {},
   "outputs": [
    {
     "name": "stdout",
     "output_type": "stream",
     "text": [
      "<class 'pandas.core.frame.DataFrame'>\n",
      "RangeIndex: 354369 entries, 0 to 354368\n",
      "Data columns (total 16 columns):\n",
      " #   Column             Non-Null Count   Dtype \n",
      "---  ------             --------------   ----- \n",
      " 0   DateCrawled        354369 non-null  object\n",
      " 1   Price              354369 non-null  int64 \n",
      " 2   VehicleType        316879 non-null  object\n",
      " 3   RegistrationYear   354369 non-null  int64 \n",
      " 4   Gearbox            334536 non-null  object\n",
      " 5   Power              354369 non-null  int64 \n",
      " 6   Model              334664 non-null  object\n",
      " 7   Kilometer          354369 non-null  int64 \n",
      " 8   RegistrationMonth  354369 non-null  int64 \n",
      " 9   FuelType           321474 non-null  object\n",
      " 10  Brand              354369 non-null  object\n",
      " 11  Repaired           283215 non-null  object\n",
      " 12  DateCreated        354369 non-null  object\n",
      " 13  NumberOfPictures   354369 non-null  int64 \n",
      " 14  PostalCode         354369 non-null  int64 \n",
      " 15  LastSeen           354369 non-null  object\n",
      "dtypes: int64(7), object(9)\n",
      "memory usage: 43.3+ MB\n"
     ]
    }
   ],
   "source": [
    "data.info()"
   ]
  },
  {
   "cell_type": "code",
   "execution_count": 6,
   "metadata": {},
   "outputs": [
    {
     "data": {
      "text/html": [
       "<div>\n",
       "<style scoped>\n",
       "    .dataframe tbody tr th:only-of-type {\n",
       "        vertical-align: middle;\n",
       "    }\n",
       "\n",
       "    .dataframe tbody tr th {\n",
       "        vertical-align: top;\n",
       "    }\n",
       "\n",
       "    .dataframe thead th {\n",
       "        text-align: right;\n",
       "    }\n",
       "</style>\n",
       "<table border=\"1\" class=\"dataframe\">\n",
       "  <thead>\n",
       "    <tr style=\"text-align: right;\">\n",
       "      <th></th>\n",
       "      <th>count</th>\n",
       "      <th>unique</th>\n",
       "      <th>top</th>\n",
       "      <th>freq</th>\n",
       "      <th>mean</th>\n",
       "      <th>std</th>\n",
       "      <th>min</th>\n",
       "      <th>25%</th>\n",
       "      <th>50%</th>\n",
       "      <th>75%</th>\n",
       "      <th>max</th>\n",
       "    </tr>\n",
       "  </thead>\n",
       "  <tbody>\n",
       "    <tr>\n",
       "      <th>DateCrawled</th>\n",
       "      <td>354369</td>\n",
       "      <td>271174</td>\n",
       "      <td>2016-03-24 14:49:47</td>\n",
       "      <td>7</td>\n",
       "      <td>NaN</td>\n",
       "      <td>NaN</td>\n",
       "      <td>NaN</td>\n",
       "      <td>NaN</td>\n",
       "      <td>NaN</td>\n",
       "      <td>NaN</td>\n",
       "      <td>NaN</td>\n",
       "    </tr>\n",
       "    <tr>\n",
       "      <th>Price</th>\n",
       "      <td>354369.0</td>\n",
       "      <td>NaN</td>\n",
       "      <td>NaN</td>\n",
       "      <td>NaN</td>\n",
       "      <td>4416.656776</td>\n",
       "      <td>4514.158514</td>\n",
       "      <td>0.0</td>\n",
       "      <td>1050.0</td>\n",
       "      <td>2700.0</td>\n",
       "      <td>6400.0</td>\n",
       "      <td>20000.0</td>\n",
       "    </tr>\n",
       "    <tr>\n",
       "      <th>VehicleType</th>\n",
       "      <td>316879</td>\n",
       "      <td>8</td>\n",
       "      <td>sedan</td>\n",
       "      <td>91457</td>\n",
       "      <td>NaN</td>\n",
       "      <td>NaN</td>\n",
       "      <td>NaN</td>\n",
       "      <td>NaN</td>\n",
       "      <td>NaN</td>\n",
       "      <td>NaN</td>\n",
       "      <td>NaN</td>\n",
       "    </tr>\n",
       "    <tr>\n",
       "      <th>RegistrationYear</th>\n",
       "      <td>354369.0</td>\n",
       "      <td>NaN</td>\n",
       "      <td>NaN</td>\n",
       "      <td>NaN</td>\n",
       "      <td>2004.234448</td>\n",
       "      <td>90.227958</td>\n",
       "      <td>1000.0</td>\n",
       "      <td>1999.0</td>\n",
       "      <td>2003.0</td>\n",
       "      <td>2008.0</td>\n",
       "      <td>9999.0</td>\n",
       "    </tr>\n",
       "    <tr>\n",
       "      <th>Gearbox</th>\n",
       "      <td>334536</td>\n",
       "      <td>2</td>\n",
       "      <td>manual</td>\n",
       "      <td>268251</td>\n",
       "      <td>NaN</td>\n",
       "      <td>NaN</td>\n",
       "      <td>NaN</td>\n",
       "      <td>NaN</td>\n",
       "      <td>NaN</td>\n",
       "      <td>NaN</td>\n",
       "      <td>NaN</td>\n",
       "    </tr>\n",
       "    <tr>\n",
       "      <th>Power</th>\n",
       "      <td>354369.0</td>\n",
       "      <td>NaN</td>\n",
       "      <td>NaN</td>\n",
       "      <td>NaN</td>\n",
       "      <td>110.094337</td>\n",
       "      <td>189.850405</td>\n",
       "      <td>0.0</td>\n",
       "      <td>69.0</td>\n",
       "      <td>105.0</td>\n",
       "      <td>143.0</td>\n",
       "      <td>20000.0</td>\n",
       "    </tr>\n",
       "    <tr>\n",
       "      <th>Model</th>\n",
       "      <td>334664</td>\n",
       "      <td>250</td>\n",
       "      <td>golf</td>\n",
       "      <td>29232</td>\n",
       "      <td>NaN</td>\n",
       "      <td>NaN</td>\n",
       "      <td>NaN</td>\n",
       "      <td>NaN</td>\n",
       "      <td>NaN</td>\n",
       "      <td>NaN</td>\n",
       "      <td>NaN</td>\n",
       "    </tr>\n",
       "    <tr>\n",
       "      <th>Kilometer</th>\n",
       "      <td>354369.0</td>\n",
       "      <td>NaN</td>\n",
       "      <td>NaN</td>\n",
       "      <td>NaN</td>\n",
       "      <td>128211.172535</td>\n",
       "      <td>37905.34153</td>\n",
       "      <td>5000.0</td>\n",
       "      <td>125000.0</td>\n",
       "      <td>150000.0</td>\n",
       "      <td>150000.0</td>\n",
       "      <td>150000.0</td>\n",
       "    </tr>\n",
       "    <tr>\n",
       "      <th>RegistrationMonth</th>\n",
       "      <td>354369.0</td>\n",
       "      <td>NaN</td>\n",
       "      <td>NaN</td>\n",
       "      <td>NaN</td>\n",
       "      <td>5.714645</td>\n",
       "      <td>3.726421</td>\n",
       "      <td>0.0</td>\n",
       "      <td>3.0</td>\n",
       "      <td>6.0</td>\n",
       "      <td>9.0</td>\n",
       "      <td>12.0</td>\n",
       "    </tr>\n",
       "    <tr>\n",
       "      <th>FuelType</th>\n",
       "      <td>321474</td>\n",
       "      <td>7</td>\n",
       "      <td>petrol</td>\n",
       "      <td>216352</td>\n",
       "      <td>NaN</td>\n",
       "      <td>NaN</td>\n",
       "      <td>NaN</td>\n",
       "      <td>NaN</td>\n",
       "      <td>NaN</td>\n",
       "      <td>NaN</td>\n",
       "      <td>NaN</td>\n",
       "    </tr>\n",
       "    <tr>\n",
       "      <th>Brand</th>\n",
       "      <td>354369</td>\n",
       "      <td>40</td>\n",
       "      <td>volkswagen</td>\n",
       "      <td>77013</td>\n",
       "      <td>NaN</td>\n",
       "      <td>NaN</td>\n",
       "      <td>NaN</td>\n",
       "      <td>NaN</td>\n",
       "      <td>NaN</td>\n",
       "      <td>NaN</td>\n",
       "      <td>NaN</td>\n",
       "    </tr>\n",
       "    <tr>\n",
       "      <th>Repaired</th>\n",
       "      <td>283215</td>\n",
       "      <td>2</td>\n",
       "      <td>no</td>\n",
       "      <td>247161</td>\n",
       "      <td>NaN</td>\n",
       "      <td>NaN</td>\n",
       "      <td>NaN</td>\n",
       "      <td>NaN</td>\n",
       "      <td>NaN</td>\n",
       "      <td>NaN</td>\n",
       "      <td>NaN</td>\n",
       "    </tr>\n",
       "    <tr>\n",
       "      <th>DateCreated</th>\n",
       "      <td>354369</td>\n",
       "      <td>109</td>\n",
       "      <td>2016-04-03 00:00:00</td>\n",
       "      <td>13719</td>\n",
       "      <td>NaN</td>\n",
       "      <td>NaN</td>\n",
       "      <td>NaN</td>\n",
       "      <td>NaN</td>\n",
       "      <td>NaN</td>\n",
       "      <td>NaN</td>\n",
       "      <td>NaN</td>\n",
       "    </tr>\n",
       "    <tr>\n",
       "      <th>NumberOfPictures</th>\n",
       "      <td>354369.0</td>\n",
       "      <td>NaN</td>\n",
       "      <td>NaN</td>\n",
       "      <td>NaN</td>\n",
       "      <td>0.0</td>\n",
       "      <td>0.0</td>\n",
       "      <td>0.0</td>\n",
       "      <td>0.0</td>\n",
       "      <td>0.0</td>\n",
       "      <td>0.0</td>\n",
       "      <td>0.0</td>\n",
       "    </tr>\n",
       "    <tr>\n",
       "      <th>PostalCode</th>\n",
       "      <td>354369.0</td>\n",
       "      <td>NaN</td>\n",
       "      <td>NaN</td>\n",
       "      <td>NaN</td>\n",
       "      <td>50508.689087</td>\n",
       "      <td>25783.096248</td>\n",
       "      <td>1067.0</td>\n",
       "      <td>30165.0</td>\n",
       "      <td>49413.0</td>\n",
       "      <td>71083.0</td>\n",
       "      <td>99998.0</td>\n",
       "    </tr>\n",
       "    <tr>\n",
       "      <th>LastSeen</th>\n",
       "      <td>354369</td>\n",
       "      <td>179150</td>\n",
       "      <td>2016-04-06 13:45:54</td>\n",
       "      <td>17</td>\n",
       "      <td>NaN</td>\n",
       "      <td>NaN</td>\n",
       "      <td>NaN</td>\n",
       "      <td>NaN</td>\n",
       "      <td>NaN</td>\n",
       "      <td>NaN</td>\n",
       "      <td>NaN</td>\n",
       "    </tr>\n",
       "  </tbody>\n",
       "</table>\n",
       "</div>"
      ],
      "text/plain": [
       "                      count  unique                  top    freq  \\\n",
       "DateCrawled          354369  271174  2016-03-24 14:49:47       7   \n",
       "Price              354369.0     NaN                  NaN     NaN   \n",
       "VehicleType          316879       8                sedan   91457   \n",
       "RegistrationYear   354369.0     NaN                  NaN     NaN   \n",
       "Gearbox              334536       2               manual  268251   \n",
       "Power              354369.0     NaN                  NaN     NaN   \n",
       "Model                334664     250                 golf   29232   \n",
       "Kilometer          354369.0     NaN                  NaN     NaN   \n",
       "RegistrationMonth  354369.0     NaN                  NaN     NaN   \n",
       "FuelType             321474       7               petrol  216352   \n",
       "Brand                354369      40           volkswagen   77013   \n",
       "Repaired             283215       2                   no  247161   \n",
       "DateCreated          354369     109  2016-04-03 00:00:00   13719   \n",
       "NumberOfPictures   354369.0     NaN                  NaN     NaN   \n",
       "PostalCode         354369.0     NaN                  NaN     NaN   \n",
       "LastSeen             354369  179150  2016-04-06 13:45:54      17   \n",
       "\n",
       "                            mean           std     min       25%       50%  \\\n",
       "DateCrawled                  NaN           NaN     NaN       NaN       NaN   \n",
       "Price                4416.656776   4514.158514     0.0    1050.0    2700.0   \n",
       "VehicleType                  NaN           NaN     NaN       NaN       NaN   \n",
       "RegistrationYear     2004.234448     90.227958  1000.0    1999.0    2003.0   \n",
       "Gearbox                      NaN           NaN     NaN       NaN       NaN   \n",
       "Power                 110.094337    189.850405     0.0      69.0     105.0   \n",
       "Model                        NaN           NaN     NaN       NaN       NaN   \n",
       "Kilometer          128211.172535   37905.34153  5000.0  125000.0  150000.0   \n",
       "RegistrationMonth       5.714645      3.726421     0.0       3.0       6.0   \n",
       "FuelType                     NaN           NaN     NaN       NaN       NaN   \n",
       "Brand                        NaN           NaN     NaN       NaN       NaN   \n",
       "Repaired                     NaN           NaN     NaN       NaN       NaN   \n",
       "DateCreated                  NaN           NaN     NaN       NaN       NaN   \n",
       "NumberOfPictures             0.0           0.0     0.0       0.0       0.0   \n",
       "PostalCode          50508.689087  25783.096248  1067.0   30165.0   49413.0   \n",
       "LastSeen                     NaN           NaN     NaN       NaN       NaN   \n",
       "\n",
       "                        75%       max  \n",
       "DateCrawled             NaN       NaN  \n",
       "Price                6400.0   20000.0  \n",
       "VehicleType             NaN       NaN  \n",
       "RegistrationYear     2008.0    9999.0  \n",
       "Gearbox                 NaN       NaN  \n",
       "Power                 143.0   20000.0  \n",
       "Model                   NaN       NaN  \n",
       "Kilometer          150000.0  150000.0  \n",
       "RegistrationMonth       9.0      12.0  \n",
       "FuelType                NaN       NaN  \n",
       "Brand                   NaN       NaN  \n",
       "Repaired                NaN       NaN  \n",
       "DateCreated             NaN       NaN  \n",
       "NumberOfPictures        0.0       0.0  \n",
       "PostalCode          71083.0   99998.0  \n",
       "LastSeen                NaN       NaN  "
      ]
     },
     "execution_count": 6,
     "metadata": {},
     "output_type": "execute_result"
    }
   ],
   "source": [
    "data.describe(include='all').T"
   ]
  },
  {
   "cell_type": "code",
   "execution_count": 7,
   "metadata": {},
   "outputs": [
    {
     "data": {
      "text/html": [
       "<div>\n",
       "<style scoped>\n",
       "    .dataframe tbody tr th:only-of-type {\n",
       "        vertical-align: middle;\n",
       "    }\n",
       "\n",
       "    .dataframe tbody tr th {\n",
       "        vertical-align: top;\n",
       "    }\n",
       "\n",
       "    .dataframe thead th {\n",
       "        text-align: right;\n",
       "    }\n",
       "</style>\n",
       "<table border=\"1\" class=\"dataframe\">\n",
       "  <thead>\n",
       "    <tr style=\"text-align: right;\">\n",
       "      <th></th>\n",
       "      <th>Price</th>\n",
       "      <th>RegistrationYear</th>\n",
       "      <th>Power</th>\n",
       "      <th>Kilometer</th>\n",
       "      <th>RegistrationMonth</th>\n",
       "      <th>NumberOfPictures</th>\n",
       "      <th>PostalCode</th>\n",
       "    </tr>\n",
       "  </thead>\n",
       "  <tbody>\n",
       "    <tr>\n",
       "      <th>Price</th>\n",
       "      <td>1.000000</td>\n",
       "      <td>0.026916</td>\n",
       "      <td>0.158872</td>\n",
       "      <td>-0.333199</td>\n",
       "      <td>0.110581</td>\n",
       "      <td>NaN</td>\n",
       "      <td>0.076055</td>\n",
       "    </tr>\n",
       "    <tr>\n",
       "      <th>RegistrationYear</th>\n",
       "      <td>0.026916</td>\n",
       "      <td>1.000000</td>\n",
       "      <td>-0.000828</td>\n",
       "      <td>-0.053447</td>\n",
       "      <td>-0.011619</td>\n",
       "      <td>NaN</td>\n",
       "      <td>-0.003459</td>\n",
       "    </tr>\n",
       "    <tr>\n",
       "      <th>Power</th>\n",
       "      <td>0.158872</td>\n",
       "      <td>-0.000828</td>\n",
       "      <td>1.000000</td>\n",
       "      <td>0.024002</td>\n",
       "      <td>0.043380</td>\n",
       "      <td>NaN</td>\n",
       "      <td>0.021665</td>\n",
       "    </tr>\n",
       "    <tr>\n",
       "      <th>Kilometer</th>\n",
       "      <td>-0.333199</td>\n",
       "      <td>-0.053447</td>\n",
       "      <td>0.024002</td>\n",
       "      <td>1.000000</td>\n",
       "      <td>0.009571</td>\n",
       "      <td>NaN</td>\n",
       "      <td>-0.007698</td>\n",
       "    </tr>\n",
       "    <tr>\n",
       "      <th>RegistrationMonth</th>\n",
       "      <td>0.110581</td>\n",
       "      <td>-0.011619</td>\n",
       "      <td>0.043380</td>\n",
       "      <td>0.009571</td>\n",
       "      <td>1.000000</td>\n",
       "      <td>NaN</td>\n",
       "      <td>0.013995</td>\n",
       "    </tr>\n",
       "    <tr>\n",
       "      <th>NumberOfPictures</th>\n",
       "      <td>NaN</td>\n",
       "      <td>NaN</td>\n",
       "      <td>NaN</td>\n",
       "      <td>NaN</td>\n",
       "      <td>NaN</td>\n",
       "      <td>NaN</td>\n",
       "      <td>NaN</td>\n",
       "    </tr>\n",
       "    <tr>\n",
       "      <th>PostalCode</th>\n",
       "      <td>0.076055</td>\n",
       "      <td>-0.003459</td>\n",
       "      <td>0.021665</td>\n",
       "      <td>-0.007698</td>\n",
       "      <td>0.013995</td>\n",
       "      <td>NaN</td>\n",
       "      <td>1.000000</td>\n",
       "    </tr>\n",
       "  </tbody>\n",
       "</table>\n",
       "</div>"
      ],
      "text/plain": [
       "                      Price  RegistrationYear     Power  Kilometer  \\\n",
       "Price              1.000000          0.026916  0.158872  -0.333199   \n",
       "RegistrationYear   0.026916          1.000000 -0.000828  -0.053447   \n",
       "Power              0.158872         -0.000828  1.000000   0.024002   \n",
       "Kilometer         -0.333199         -0.053447  0.024002   1.000000   \n",
       "RegistrationMonth  0.110581         -0.011619  0.043380   0.009571   \n",
       "NumberOfPictures        NaN               NaN       NaN        NaN   \n",
       "PostalCode         0.076055         -0.003459  0.021665  -0.007698   \n",
       "\n",
       "                   RegistrationMonth  NumberOfPictures  PostalCode  \n",
       "Price                       0.110581               NaN    0.076055  \n",
       "RegistrationYear           -0.011619               NaN   -0.003459  \n",
       "Power                       0.043380               NaN    0.021665  \n",
       "Kilometer                   0.009571               NaN   -0.007698  \n",
       "RegistrationMonth           1.000000               NaN    0.013995  \n",
       "NumberOfPictures                 NaN               NaN         NaN  \n",
       "PostalCode                  0.013995               NaN    1.000000  "
      ]
     },
     "execution_count": 7,
     "metadata": {},
     "output_type": "execute_result"
    }
   ],
   "source": [
    "data.corr()"
   ]
  },
  {
   "cell_type": "code",
   "execution_count": 8,
   "metadata": {},
   "outputs": [
    {
     "data": {
      "image/png": "[encoded data removed]",
      "text/plain": [
       "<Figure size 1080x1080 with 9 Axes>"
      ]
     },
     "metadata": {
      "needs_background": "light"
     },
     "output_type": "display_data"
    }
   ],
   "source": [
    "data.hist(figsize=(15,15), bins=100)\n",
    "plt.show()"
   ]
  },
  {
   "cell_type": "markdown",
   "metadata": {},
   "source": [
    "**Вывод**  \n",
    "Представленый датасет содержит 15 признаков (включая целевой) и 354 369 записей.   \n",
    "В датасете содержится информация об автомобилях (250 моделей 40 брендов).  \n",
    "Цена авто в диапазоне от 0 до 20 000 евро, медиана - 2 700, средняя - 4 417.  \n",
    "Пробег от 5 000 до 150 000 км, при этом большая часть, более 50% имеют пробег 150 000 км. Видимо при сборе данных это была предельная цифра и все что выше округлялось до 150 000.   \n",
    "В пяти столбцах имеются пропущенные значения.  \n",
    "Часть признаков  неинформативна, например - почтовый индекс владельца анкеты (PostalCode). Низкая информативность подтверждается крайне слабой корреляцией с целевым признаком. Данные признаки можно будет удалить.  \n",
    "Столбец NumberOfPictures (количество фотографий автомобиля) содержит одни 0, его также необходимо будет удалить.  \n",
    "В трех столбцах с датами (DateCrawled, DateCreated и LastSeen) формат object, а не datetime. Но эти даты относятся к созданию анкеты, ее скачиванию и последней активности пользователя, что не имеет непосрдственного отношения к автомобилю, а значит малоинформативны для целей определения стоимости автомобиля. Соответственно их также необходимо будет удалить.   \n",
    "Среди признаков есть еще 2, отражающих временной период (год и месяц регистрации автомобиля) имеющих числовой формат, а не datetime. Но, в данном случае менять на формат datetime нет необходимости. При этом признак, отражающий год регистрации, показывает крайне слабую корреляцию с целевым признаком, что странно, возраст авто явно влияет на его цену. Скорее всего проблема в наличии большого числа аномалий, года указаны в диапазоне от 1000 до 9999, необходимо будет дополнительно проанализировать признак после удаления аномалий.   \n",
    "При этом месяц регистрации не является значимым для определения стоимости авто, что подтверждается слобой корреляцией с целевым признаком (0.11), при этом существенных аномалий в данном признаке не обнаружено. Полагаем, что его также следует удалить."
   ]
  },
  {
   "cell_type": "markdown",
   "metadata": {},
   "source": [
    "### Изучение данных (Заполнение пропущенных значений, обработка аномалии в столбцах, удаление неинформативных признаков и т.д.)."
   ]
  },
  {
   "cell_type": "markdown",
   "metadata": {},
   "source": [
    "Проверим наличие дубликатов и при обнаружении удалим их"
   ]
  },
  {
   "cell_type": "code",
   "execution_count": 9,
   "metadata": {},
   "outputs": [
    {
     "data": {
      "text/plain": [
       "4"
      ]
     },
     "execution_count": 9,
     "metadata": {},
     "output_type": "execute_result"
    }
   ],
   "source": [
    "data.duplicated().sum()"
   ]
  },
  {
   "cell_type": "code",
   "execution_count": 10,
   "metadata": {},
   "outputs": [],
   "source": [
    "data = data.drop_duplicates()"
   ]
  },
  {
   "cell_type": "code",
   "execution_count": 11,
   "metadata": {},
   "outputs": [
    {
     "data": {
      "text/plain": [
       "0"
      ]
     },
     "execution_count": 11,
     "metadata": {},
     "output_type": "execute_result"
    }
   ],
   "source": [
    "data.duplicated().sum()"
   ]
  },
  {
   "cell_type": "markdown",
   "metadata": {},
   "source": [
    "Необходимо проверить колонки Model и Brand на наличие неявных дубликатов, но это сделаем после замены пропущенных значений."
   ]
  },
  {
   "cell_type": "code",
   "execution_count": 12,
   "metadata": {},
   "outputs": [
    {
     "name": "stdout",
     "output_type": "stream",
     "text": [
      "<class 'pandas.core.frame.DataFrame'>\n",
      "Int64Index: 354365 entries, 0 to 354368\n",
      "Data columns (total 10 columns):\n",
      " #   Column            Non-Null Count   Dtype \n",
      "---  ------            --------------   ----- \n",
      " 0   Price             354365 non-null  int64 \n",
      " 1   VehicleType       316875 non-null  object\n",
      " 2   RegistrationYear  354365 non-null  int64 \n",
      " 3   Gearbox           334532 non-null  object\n",
      " 4   Power             354365 non-null  int64 \n",
      " 5   Model             334660 non-null  object\n",
      " 6   Kilometer         354365 non-null  int64 \n",
      " 7   FuelType          321470 non-null  object\n",
      " 8   Brand             354365 non-null  object\n",
      " 9   Repaired          283211 non-null  object\n",
      "dtypes: int64(4), object(6)\n",
      "memory usage: 29.7+ MB\n"
     ]
    }
   ],
   "source": [
    "# удалим признаки, определенные в предыдущем пункте как неактуальные для создания модели\n",
    "data = data.drop(['PostalCode', 'NumberOfPictures', 'DateCrawled', 'DateCreated', 'LastSeen', \n",
    "                  'RegistrationMonth'], axis=1)\n",
    "data.info()"
   ]
  },
  {
   "cell_type": "markdown",
   "metadata": {},
   "source": [
    "Изучим данные отдельно, по каждому признаку."
   ]
  },
  {
   "cell_type": "markdown",
   "metadata": {},
   "source": [
    "**Price — цена (евро)**"
   ]
  },
  {
   "cell_type": "code",
   "execution_count": 13,
   "metadata": {},
   "outputs": [
    {
     "data": {
      "image/png": "[encoded data removed]",
      "text/plain": [
       "<Figure size 1224x432 with 1 Axes>"
      ]
     },
     "metadata": {
      "needs_background": "light"
     },
     "output_type": "display_data"
    }
   ],
   "source": [
    "# гистограмма по столбцу Price\n",
    "data['Price'].hist(bins=100, figsize=(17, 6))\n",
    "plt.title('Распределение стоимости автомобилей')\n",
    "plt.xlabel('Цена в евро')\n",
    "plt.ylabel('Количество автомобилей')\n",
    "plt.show()"
   ]
  },
  {
   "cell_type": "code",
   "execution_count": 14,
   "metadata": {},
   "outputs": [
    {
     "data": {
      "image/png": "[encoded data removed]",
      "text/plain": [
       "<Figure size 1224x432 with 1 Axes>"
      ]
     },
     "metadata": {
      "needs_background": "light"
     },
     "output_type": "display_data"
    }
   ],
   "source": [
    "# ограницим гистограмму диапазоном по цене от 0 до 500 евро\n",
    "data['Price'].hist(bins=100, figsize=(17, 6), range=(0, 500))\n",
    "plt.title('Распределение стоимости автомобилей')\n",
    "plt.xlabel('Цена в евро')\n",
    "plt.ylabel('Количество автомобилей')\n",
    "plt.show()"
   ]
  },
  {
   "cell_type": "markdown",
   "metadata": {},
   "source": [
    "В столбце Price нет пропущенных значений, но относительно много строк с ценой 0, что явно является аномалией. Возможно это сознательная хитрость продавцов, указать минимальную цену с цеелью получить отклик на предложение и уже в ходе переговоров договорится о фактической цене. Соответственно такие данные будут неинформативны с точки зрения определения реальной стоимости автомобиля.   \n",
    "Учитывая вышеизложенное, удалис строки с ценой менее 100 евро."
   ]
  },
  {
   "cell_type": "code",
   "execution_count": 15,
   "metadata": {},
   "outputs": [],
   "source": [
    "data = data.query('Price >= 100')"
   ]
  },
  {
   "cell_type": "code",
   "execution_count": 16,
   "metadata": {},
   "outputs": [
    {
     "data": {
      "text/html": [
       "<div>\n",
       "<style scoped>\n",
       "    .dataframe tbody tr th:only-of-type {\n",
       "        vertical-align: middle;\n",
       "    }\n",
       "\n",
       "    .dataframe tbody tr th {\n",
       "        vertical-align: top;\n",
       "    }\n",
       "\n",
       "    .dataframe thead th {\n",
       "        text-align: right;\n",
       "    }\n",
       "</style>\n",
       "<table border=\"1\" class=\"dataframe\">\n",
       "  <thead>\n",
       "    <tr style=\"text-align: right;\">\n",
       "      <th></th>\n",
       "      <th>count</th>\n",
       "    </tr>\n",
       "    <tr>\n",
       "      <th>Model</th>\n",
       "      <th></th>\n",
       "    </tr>\n",
       "  </thead>\n",
       "  <tbody>\n",
       "    <tr>\n",
       "      <th>golf</th>\n",
       "      <td>28086</td>\n",
       "    </tr>\n",
       "    <tr>\n",
       "      <th>other</th>\n",
       "      <td>23499</td>\n",
       "    </tr>\n",
       "    <tr>\n",
       "      <th>3er</th>\n",
       "      <td>19074</td>\n",
       "    </tr>\n",
       "    <tr>\n",
       "      <th>polo</th>\n",
       "      <td>12511</td>\n",
       "    </tr>\n",
       "    <tr>\n",
       "      <th>corsa</th>\n",
       "      <td>12039</td>\n",
       "    </tr>\n",
       "    <tr>\n",
       "      <th>...</th>\n",
       "      <td>...</td>\n",
       "    </tr>\n",
       "    <tr>\n",
       "      <th>i3</th>\n",
       "      <td>8</td>\n",
       "    </tr>\n",
       "    <tr>\n",
       "      <th>rangerover</th>\n",
       "      <td>4</td>\n",
       "    </tr>\n",
       "    <tr>\n",
       "      <th>serie_3</th>\n",
       "      <td>3</td>\n",
       "    </tr>\n",
       "    <tr>\n",
       "      <th>range_rover_evoque</th>\n",
       "      <td>2</td>\n",
       "    </tr>\n",
       "    <tr>\n",
       "      <th>serie_1</th>\n",
       "      <td>1</td>\n",
       "    </tr>\n",
       "  </tbody>\n",
       "</table>\n",
       "<p>250 rows × 1 columns</p>\n",
       "</div>"
      ],
      "text/plain": [
       "                    count\n",
       "Model                    \n",
       "golf                28086\n",
       "other               23499\n",
       "3er                 19074\n",
       "polo                12511\n",
       "corsa               12039\n",
       "...                   ...\n",
       "i3                      8\n",
       "rangerover              4\n",
       "serie_3                 3\n",
       "range_rover_evoque      2\n",
       "serie_1                 1\n",
       "\n",
       "[250 rows x 1 columns]"
      ]
     },
     "execution_count": 16,
     "metadata": {},
     "output_type": "execute_result"
    }
   ],
   "source": [
    "# проверим данные на наличие редко встречающихся моделей\n",
    "g = data.pivot_table(index='Model', values='Price', aggfunc='count')\n",
    "g.columns = ['count']\n",
    "g.sort_values(by='count', ascending=False)"
   ]
  },
  {
   "cell_type": "code",
   "execution_count": 17,
   "metadata": {},
   "outputs": [],
   "source": [
    "#  удалим модели встречающиеся в единичных экземплярах\n",
    "list_to_del = ['rangerover', 'serie_3', 'range_rover_evoque', 'serie_1']\n",
    "data = data[~data['Model'].isin(list_to_del)]"
   ]
  },
  {
   "cell_type": "markdown",
   "metadata": {},
   "source": [
    "Рассмотрим следующие признаки:  \n",
    "\n",
    "**VehicleType** — тип автомобильного кузова  \n",
    "**Gearbox** — тип коробки передач  \n",
    "**Model** — модель автомобиля  \n",
    "**FuelType** — тип топлива  \n",
    "**Brand** — марка автомобиля  \n",
    "\n",
    "Все эти признаки характеризуют непосредственно автомобиль (марка, модель, технические параметры). Все они категориальные, и во всех имеются пропущенные значения. Пропущенных значений достаточно много от 5.6% до более 10% по каждому из признаков. Удалять такое количество данных неразумно, лишимся ценной информации по заполненным признакам. Коректнее заменить их константным значением, что позволит модели рассматривать их как отдельную категорию и формировать прогноз с учетом других заполненных значений. Учитывая, что таких признаков достаточно много (десятки тысяч в каждом признаке) а также то, что в реальных данных, на которых будет работать модел, тоже возможны такие пропуски, которые можно будет обрабатывать аналогичным образом, данный подход представляется оптимальным.   \n",
    "Заменим пропуски на \"unknown\".\n",
    "Аналогичный подход применим к признаку **NotRepaired** — была машина в ремонте или нет. В данном признаке больше всего пропусков (более 28%) и данный признак невозможно предугадать на основе других признаков. \n",
    "Таким образом, мы перебрали все признаки, имеющие пропуски, и все их заполняем единообразно. "
   ]
  },
  {
   "cell_type": "code",
   "execution_count": 18,
   "metadata": {},
   "outputs": [],
   "source": [
    "data = data.fillna('unknown')"
   ]
  },
  {
   "cell_type": "markdown",
   "metadata": {},
   "source": [
    "Проверим данные на наличие неявных дубликатов"
   ]
  },
  {
   "cell_type": "code",
   "execution_count": 19,
   "metadata": {},
   "outputs": [
    {
     "data": {
      "text/plain": [
       "array(['alfa_romeo', 'audi', 'bmw', 'chevrolet', 'chrysler', 'citroen',\n",
       "       'dacia', 'daewoo', 'daihatsu', 'fiat', 'ford', 'honda', 'hyundai',\n",
       "       'jaguar', 'jeep', 'kia', 'lada', 'lancia', 'land_rover', 'mazda',\n",
       "       'mercedes_benz', 'mini', 'mitsubishi', 'nissan', 'opel', 'peugeot',\n",
       "       'porsche', 'renault', 'rover', 'saab', 'seat', 'skoda', 'smart',\n",
       "       'sonstige_autos', 'subaru', 'suzuki', 'toyota', 'trabant',\n",
       "       'volkswagen', 'volvo'], dtype=object)"
      ]
     },
     "execution_count": 19,
     "metadata": {},
     "output_type": "execute_result"
    }
   ],
   "source": [
    "np.sort(data['Brand'].unique())"
   ]
  },
  {
   "cell_type": "code",
   "execution_count": 20,
   "metadata": {},
   "outputs": [
    {
     "data": {
      "text/plain": [
       "array(['100', '145', '147', '156', '159', '1_reihe', '1er', '200',\n",
       "       '2_reihe', '300c', '3_reihe', '3er', '4_reihe', '500', '5_reihe',\n",
       "       '5er', '601', '6_reihe', '6er', '7er', '80', '850', '90', '900',\n",
       "       '9000', '911', 'a1', 'a2', 'a3', 'a4', 'a5', 'a6', 'a8',\n",
       "       'a_klasse', 'accord', 'agila', 'alhambra', 'almera', 'altea',\n",
       "       'amarok', 'antara', 'arosa', 'astra', 'auris', 'avensis', 'aveo',\n",
       "       'aygo', 'b_klasse', 'b_max', 'beetle', 'berlingo', 'bora',\n",
       "       'boxster', 'bravo', 'c1', 'c2', 'c3', 'c4', 'c5', 'c_klasse',\n",
       "       'c_max', 'c_reihe', 'caddy', 'calibra', 'captiva', 'carisma',\n",
       "       'carnival', 'cayenne', 'cc', 'ceed', 'charade', 'cherokee',\n",
       "       'citigo', 'civic', 'cl', 'clio', 'clk', 'clubman', 'colt', 'combo',\n",
       "       'cooper', 'cordoba', 'corolla', 'corsa', 'cr_reihe', 'croma',\n",
       "       'crossfire', 'cuore', 'cx_reihe', 'defender', 'delta', 'discovery',\n",
       "       'doblo', 'ducato', 'duster', 'e_klasse', 'elefantino', 'eos',\n",
       "       'escort', 'espace', 'exeo', 'fabia', 'fiesta', 'focus', 'forester',\n",
       "       'forfour', 'fortwo', 'fox', 'freelander', 'fusion', 'g_klasse',\n",
       "       'galant', 'galaxy', 'getz', 'gl', 'glk', 'golf', 'grand', 'i3',\n",
       "       'i_reihe', 'ibiza', 'impreza', 'insignia', 'jazz', 'jetta',\n",
       "       'jimny', 'juke', 'justy', 'ka', 'kadett', 'kaefer', 'kalina',\n",
       "       'kalos', 'kangoo', 'kappa', 'kuga', 'laguna', 'lancer', 'lanos',\n",
       "       'legacy', 'leon', 'lodgy', 'logan', 'lupo', 'lybra', 'm_klasse',\n",
       "       'm_reihe', 'materia', 'matiz', 'megane', 'meriva', 'micra', 'mii',\n",
       "       'modus', 'mondeo', 'move', 'musa', 'mustang', 'mx_reihe', 'navara',\n",
       "       'niva', 'note', 'nubira', 'octavia', 'omega', 'one', 'other',\n",
       "       'outlander', 'pajero', 'panda', 'passat', 'phaeton', 'picanto',\n",
       "       'polo', 'primera', 'ptcruiser', 'punto', 'q3', 'q5', 'q7',\n",
       "       'qashqai', 'r19', 'range_rover', 'range_rover_sport', 'rav', 'rio',\n",
       "       'roadster', 'roomster', 'rx_reihe', 's60', 's_klasse', 's_max',\n",
       "       's_type', 'samara', 'sandero', 'santa', 'scenic', 'scirocco',\n",
       "       'seicento', 'serie_2', 'sharan', 'signum', 'sirion', 'sl', 'slk',\n",
       "       'sorento', 'spark', 'spider', 'sportage', 'sprinter', 'stilo',\n",
       "       'superb', 'swift', 'terios', 'tigra', 'tiguan', 'toledo',\n",
       "       'touareg', 'touran', 'transit', 'transporter', 'tt', 'tucson',\n",
       "       'twingo', 'unknown', 'up', 'v40', 'v50', 'v60', 'v70', 'v_klasse',\n",
       "       'vectra', 'verso', 'viano', 'vito', 'vivaro', 'voyager',\n",
       "       'wrangler', 'x_reihe', 'x_trail', 'x_type', 'xc_reihe', 'yaris',\n",
       "       'yeti', 'ypsilon', 'z_reihe', 'zafira'], dtype=object)"
      ]
     },
     "execution_count": 20,
     "metadata": {},
     "output_type": "execute_result"
    }
   ],
   "source": [
    "np.sort(data['Model'].unique())"
   ]
  },
  {
   "cell_type": "markdown",
   "metadata": {},
   "source": [
    "Неявные дубликаты не выявлены."
   ]
  },
  {
   "cell_type": "markdown",
   "metadata": {},
   "source": [
    "**RegistrationYear** — год регистрации автомобиля  \n",
    "\n",
    "Удалим года, выходящие за пределы реального периода времени, все что менее 1900 и более 2023"
   ]
  },
  {
   "cell_type": "code",
   "execution_count": 21,
   "metadata": {},
   "outputs": [],
   "source": [
    "data = data.query('1900 <= RegistrationYear <= 2023')"
   ]
  },
  {
   "cell_type": "code",
   "execution_count": 22,
   "metadata": {},
   "outputs": [
    {
     "data": {
      "image/png": "[encoded data removed]",
      "text/plain": [
       "<Figure size 1224x432 with 1 Axes>"
      ]
     },
     "metadata": {
      "needs_background": "light"
     },
     "output_type": "display_data"
    }
   ],
   "source": [
    "# гистограмма по столбцу RegistrationYear\n",
    "data['RegistrationYear'].hist(bins=100, figsize=(17, 6))\n",
    "plt.title('Распределение авто в зависимости от года регистрации')\n",
    "plt.xlabel('Год регистрации')\n",
    "plt.ylabel('Количество автомобилей')\n",
    "plt.show()"
   ]
  },
  {
   "cell_type": "code",
   "execution_count": 23,
   "metadata": {},
   "outputs": [
    {
     "data": {
      "image/png": "[encoded data removed]",
      "text/plain": [
       "<Figure size 1224x432 with 1 Axes>"
      ]
     },
     "metadata": {
      "needs_background": "light"
     },
     "output_type": "display_data"
    }
   ],
   "source": [
    "data['RegistrationYear'].hist(bins=80, figsize=(17, 6), range=(1900, 1979))\n",
    "plt.title('Распределение авто в зависимости от года регистрации')\n",
    "plt.xlabel('Год регистрации')\n",
    "plt.ylabel('Количество автомобилей')\n",
    "plt.show()"
   ]
  },
  {
   "cell_type": "markdown",
   "metadata": {},
   "source": [
    "Наблюдаемый всплеск количества автомобилей, относящихся к 1910 явно аномалия которую необходимо удалить.   \n",
    "также стоит обратить внимание, что автомобили с регистрацией до 1950 года встречаютсяв крайне редко, фактически единичные экземпляры. К тому же логика ценообразования ретро автомобилей и обычных авто сильно отличается. Для таких авто лучше строть отдельную модель и собирать для ее обучения достаточный объем данных. Соответственно, в рамках данного проекта удилим авто с годом регистрации менее 1950. "
   ]
  },
  {
   "cell_type": "code",
   "execution_count": 24,
   "metadata": {},
   "outputs": [
    {
     "data": {
      "text/html": [
       "<div>\n",
       "<style scoped>\n",
       "    .dataframe tbody tr th:only-of-type {\n",
       "        vertical-align: middle;\n",
       "    }\n",
       "\n",
       "    .dataframe tbody tr th {\n",
       "        vertical-align: top;\n",
       "    }\n",
       "\n",
       "    .dataframe thead th {\n",
       "        text-align: right;\n",
       "    }\n",
       "</style>\n",
       "<table border=\"1\" class=\"dataframe\">\n",
       "  <thead>\n",
       "    <tr style=\"text-align: right;\">\n",
       "      <th></th>\n",
       "      <th>Price</th>\n",
       "      <th>RegistrationYear</th>\n",
       "      <th>Power</th>\n",
       "      <th>Kilometer</th>\n",
       "    </tr>\n",
       "  </thead>\n",
       "  <tbody>\n",
       "    <tr>\n",
       "      <th>Price</th>\n",
       "      <td>1.000000</td>\n",
       "      <td>0.385576</td>\n",
       "      <td>0.159594</td>\n",
       "      <td>-0.361168</td>\n",
       "    </tr>\n",
       "    <tr>\n",
       "      <th>RegistrationYear</th>\n",
       "      <td>0.385576</td>\n",
       "      <td>1.000000</td>\n",
       "      <td>0.033167</td>\n",
       "      <td>-0.204992</td>\n",
       "    </tr>\n",
       "    <tr>\n",
       "      <th>Power</th>\n",
       "      <td>0.159594</td>\n",
       "      <td>0.033167</td>\n",
       "      <td>1.000000</td>\n",
       "      <td>0.019402</td>\n",
       "    </tr>\n",
       "    <tr>\n",
       "      <th>Kilometer</th>\n",
       "      <td>-0.361168</td>\n",
       "      <td>-0.204992</td>\n",
       "      <td>0.019402</td>\n",
       "      <td>1.000000</td>\n",
       "    </tr>\n",
       "  </tbody>\n",
       "</table>\n",
       "</div>"
      ],
      "text/plain": [
       "                     Price  RegistrationYear     Power  Kilometer\n",
       "Price             1.000000          0.385576  0.159594  -0.361168\n",
       "RegistrationYear  0.385576          1.000000  0.033167  -0.204992\n",
       "Power             0.159594          0.033167  1.000000   0.019402\n",
       "Kilometer        -0.361168         -0.204992  0.019402   1.000000"
      ]
     },
     "execution_count": 24,
     "metadata": {},
     "output_type": "execute_result"
    }
   ],
   "source": [
    "data = data.query('RegistrationYear >= 1950')\n",
    "data.corr()"
   ]
  },
  {
   "cell_type": "markdown",
   "metadata": {},
   "source": [
    "Как и предпологали, после удаления аномалий, корреляция с целевым признаком стала более значимой."
   ]
  },
  {
   "cell_type": "markdown",
   "metadata": {},
   "source": [
    "**Power** — мощность (л. с.)  \n",
    "Сразу удалим данные с показателем можности выше разумных пределов (все что более 1500)"
   ]
  },
  {
   "cell_type": "code",
   "execution_count": 25,
   "metadata": {},
   "outputs": [],
   "source": [
    "data = data.query('Power < 1500')"
   ]
  },
  {
   "cell_type": "code",
   "execution_count": 26,
   "metadata": {},
   "outputs": [
    {
     "data": {
      "image/png": "[encoded data removed]",
      "text/plain": [
       "<Figure size 1224x432 with 1 Axes>"
      ]
     },
     "metadata": {
      "needs_background": "light"
     },
     "output_type": "display_data"
    }
   ],
   "source": [
    "data['Power'].hist(bins=100, figsize=(17, 6))\n",
    "plt.title('Распределение авто в зависимости от мощности двигателя')\n",
    "plt.xlabel('Мощность (л.с.)')\n",
    "plt.ylabel('Количество автомобилей')\n",
    "plt.show()"
   ]
  },
  {
   "cell_type": "code",
   "execution_count": 27,
   "metadata": {},
   "outputs": [
    {
     "data": {
      "image/png": "[encoded data removed]",
      "text/plain": [
       "<Figure size 1224x432 with 1 Axes>"
      ]
     },
     "metadata": {
      "needs_background": "light"
     },
     "output_type": "display_data"
    }
   ],
   "source": [
    "data['Power'].hist(bins=100, figsize=(17, 6), range=(0, 60))\n",
    "plt.title('Распределение авто в зависимости от мощности двигателя')\n",
    "plt.xlabel('Мощность (л.с.)')\n",
    "plt.ylabel('Количество автомобилей')\n",
    "plt.show()"
   ]
  },
  {
   "cell_type": "code",
   "execution_count": 28,
   "metadata": {},
   "outputs": [
    {
     "data": {
      "image/png": "[encoded data removed]",
      "text/plain": [
       "<Figure size 1224x432 with 1 Axes>"
      ]
     },
     "metadata": {
      "needs_background": "light"
     },
     "output_type": "display_data"
    }
   ],
   "source": [
    "data['Power'].hist(bins=100, figsize=(17, 6), range=(300, 1000))\n",
    "plt.title('Распределение авто в зависимости от мощности двигателя')\n",
    "plt.xlabel('Мощность (л.с.)')\n",
    "plt.ylabel('Количество автомобилей')\n",
    "plt.show()"
   ]
  },
  {
   "cell_type": "markdown",
   "metadata": {},
   "source": [
    "Определим как аномальные данные с нулевой мощностью, а также с мощностью менее 45 л.с. и более 450 л.с. Но, проблема в том, что с нулевой мощностью данных достаточно много, почти 10% датасета. При этом мощность явно зависит от модели, могут быть разные мощности в рамках одной модели, но, как правило, расхождения в рамках одной модели не очень существенные. Полагаем, что вместо удаления нулевых значений, разумнее заменить их медианными значениями по соответствующей модели. И уже после этого удалить аномалии  "
   ]
  },
  {
   "cell_type": "code",
   "execution_count": 29,
   "metadata": {},
   "outputs": [],
   "source": [
    "for i in data['Model'].unique():\n",
    "    data.loc[(data['Model'] == i) & (data['Power'] == 0), 'Power'] = data.loc[(data['Model'] ==i), 'Power'].median()"
   ]
  },
  {
   "cell_type": "code",
   "execution_count": 30,
   "metadata": {},
   "outputs": [],
   "source": [
    "data = data.query('45 <= Power <= 450')"
   ]
  },
  {
   "cell_type": "markdown",
   "metadata": {},
   "source": [
    "**Kilometer** — пробег (км)"
   ]
  },
  {
   "cell_type": "code",
   "execution_count": 31,
   "metadata": {},
   "outputs": [
    {
     "data": {
      "image/png": "[encoded data removed]",
      "text/plain": [
       "<Figure size 1224x432 with 1 Axes>"
      ]
     },
     "metadata": {
      "needs_background": "light"
     },
     "output_type": "display_data"
    }
   ],
   "source": [
    "data['Kilometer'].hist(bins=100, figsize=(17, 6))\n",
    "plt.title('Распределение авто в зависимости от пробега')\n",
    "plt.xlabel('Пробег (км)')\n",
    "plt.ylabel('Количество автомобилей')\n",
    "plt.show()"
   ]
  },
  {
   "cell_type": "markdown",
   "metadata": {},
   "source": [
    "С данным признаком, никаих действий проводить не будем. "
   ]
  },
  {
   "cell_type": "code",
   "execution_count": 32,
   "metadata": {},
   "outputs": [
    {
     "data": {
      "text/html": [
       "<div>\n",
       "<style scoped>\n",
       "    .dataframe tbody tr th:only-of-type {\n",
       "        vertical-align: middle;\n",
       "    }\n",
       "\n",
       "    .dataframe tbody tr th {\n",
       "        vertical-align: top;\n",
       "    }\n",
       "\n",
       "    .dataframe thead th {\n",
       "        text-align: right;\n",
       "    }\n",
       "</style>\n",
       "<table border=\"1\" class=\"dataframe\">\n",
       "  <thead>\n",
       "    <tr style=\"text-align: right;\">\n",
       "      <th></th>\n",
       "      <th>Price</th>\n",
       "      <th>VehicleType</th>\n",
       "      <th>RegistrationYear</th>\n",
       "      <th>Gearbox</th>\n",
       "      <th>Power</th>\n",
       "      <th>Model</th>\n",
       "      <th>Kilometer</th>\n",
       "      <th>FuelType</th>\n",
       "      <th>Brand</th>\n",
       "      <th>Repaired</th>\n",
       "    </tr>\n",
       "  </thead>\n",
       "  <tbody>\n",
       "    <tr>\n",
       "      <th>count</th>\n",
       "      <td>337512.000000</td>\n",
       "      <td>337512</td>\n",
       "      <td>337512.000000</td>\n",
       "      <td>337512</td>\n",
       "      <td>337512.000000</td>\n",
       "      <td>337512</td>\n",
       "      <td>337512.000000</td>\n",
       "      <td>337512</td>\n",
       "      <td>337512</td>\n",
       "      <td>337512</td>\n",
       "    </tr>\n",
       "    <tr>\n",
       "      <th>unique</th>\n",
       "      <td>NaN</td>\n",
       "      <td>9</td>\n",
       "      <td>NaN</td>\n",
       "      <td>3</td>\n",
       "      <td>NaN</td>\n",
       "      <td>247</td>\n",
       "      <td>NaN</td>\n",
       "      <td>8</td>\n",
       "      <td>40</td>\n",
       "      <td>3</td>\n",
       "    </tr>\n",
       "    <tr>\n",
       "      <th>top</th>\n",
       "      <td>NaN</td>\n",
       "      <td>sedan</td>\n",
       "      <td>NaN</td>\n",
       "      <td>manual</td>\n",
       "      <td>NaN</td>\n",
       "      <td>golf</td>\n",
       "      <td>NaN</td>\n",
       "      <td>petrol</td>\n",
       "      <td>volkswagen</td>\n",
       "      <td>no</td>\n",
       "    </tr>\n",
       "    <tr>\n",
       "      <th>freq</th>\n",
       "      <td>NaN</td>\n",
       "      <td>88533</td>\n",
       "      <td>NaN</td>\n",
       "      <td>257794</td>\n",
       "      <td>NaN</td>\n",
       "      <td>28023</td>\n",
       "      <td>NaN</td>\n",
       "      <td>207414</td>\n",
       "      <td>73301</td>\n",
       "      <td>241215</td>\n",
       "    </tr>\n",
       "    <tr>\n",
       "      <th>mean</th>\n",
       "      <td>4601.514601</td>\n",
       "      <td>NaN</td>\n",
       "      <td>2003.317947</td>\n",
       "      <td>NaN</td>\n",
       "      <td>118.905337</td>\n",
       "      <td>NaN</td>\n",
       "      <td>128815.212496</td>\n",
       "      <td>NaN</td>\n",
       "      <td>NaN</td>\n",
       "      <td>NaN</td>\n",
       "    </tr>\n",
       "    <tr>\n",
       "      <th>std</th>\n",
       "      <td>4516.254922</td>\n",
       "      <td>NaN</td>\n",
       "      <td>7.040944</td>\n",
       "      <td>NaN</td>\n",
       "      <td>51.617951</td>\n",
       "      <td>NaN</td>\n",
       "      <td>36886.677723</td>\n",
       "      <td>NaN</td>\n",
       "      <td>NaN</td>\n",
       "      <td>NaN</td>\n",
       "    </tr>\n",
       "    <tr>\n",
       "      <th>min</th>\n",
       "      <td>100.000000</td>\n",
       "      <td>NaN</td>\n",
       "      <td>1950.000000</td>\n",
       "      <td>NaN</td>\n",
       "      <td>45.000000</td>\n",
       "      <td>NaN</td>\n",
       "      <td>5000.000000</td>\n",
       "      <td>NaN</td>\n",
       "      <td>NaN</td>\n",
       "      <td>NaN</td>\n",
       "    </tr>\n",
       "    <tr>\n",
       "      <th>25%</th>\n",
       "      <td>1200.000000</td>\n",
       "      <td>NaN</td>\n",
       "      <td>1999.000000</td>\n",
       "      <td>NaN</td>\n",
       "      <td>77.000000</td>\n",
       "      <td>NaN</td>\n",
       "      <td>125000.000000</td>\n",
       "      <td>NaN</td>\n",
       "      <td>NaN</td>\n",
       "      <td>NaN</td>\n",
       "    </tr>\n",
       "    <tr>\n",
       "      <th>50%</th>\n",
       "      <td>2900.000000</td>\n",
       "      <td>NaN</td>\n",
       "      <td>2003.000000</td>\n",
       "      <td>NaN</td>\n",
       "      <td>109.000000</td>\n",
       "      <td>NaN</td>\n",
       "      <td>150000.000000</td>\n",
       "      <td>NaN</td>\n",
       "      <td>NaN</td>\n",
       "      <td>NaN</td>\n",
       "    </tr>\n",
       "    <tr>\n",
       "      <th>75%</th>\n",
       "      <td>6550.000000</td>\n",
       "      <td>NaN</td>\n",
       "      <td>2008.000000</td>\n",
       "      <td>NaN</td>\n",
       "      <td>144.000000</td>\n",
       "      <td>NaN</td>\n",
       "      <td>150000.000000</td>\n",
       "      <td>NaN</td>\n",
       "      <td>NaN</td>\n",
       "      <td>NaN</td>\n",
       "    </tr>\n",
       "    <tr>\n",
       "      <th>max</th>\n",
       "      <td>20000.000000</td>\n",
       "      <td>NaN</td>\n",
       "      <td>2019.000000</td>\n",
       "      <td>NaN</td>\n",
       "      <td>450.000000</td>\n",
       "      <td>NaN</td>\n",
       "      <td>150000.000000</td>\n",
       "      <td>NaN</td>\n",
       "      <td>NaN</td>\n",
       "      <td>NaN</td>\n",
       "    </tr>\n",
       "  </tbody>\n",
       "</table>\n",
       "</div>"
      ],
      "text/plain": [
       "                Price VehicleType  RegistrationYear Gearbox          Power  \\\n",
       "count   337512.000000      337512     337512.000000  337512  337512.000000   \n",
       "unique            NaN           9               NaN       3            NaN   \n",
       "top               NaN       sedan               NaN  manual            NaN   \n",
       "freq              NaN       88533               NaN  257794            NaN   \n",
       "mean      4601.514601         NaN       2003.317947     NaN     118.905337   \n",
       "std       4516.254922         NaN          7.040944     NaN      51.617951   \n",
       "min        100.000000         NaN       1950.000000     NaN      45.000000   \n",
       "25%       1200.000000         NaN       1999.000000     NaN      77.000000   \n",
       "50%       2900.000000         NaN       2003.000000     NaN     109.000000   \n",
       "75%       6550.000000         NaN       2008.000000     NaN     144.000000   \n",
       "max      20000.000000         NaN       2019.000000     NaN     450.000000   \n",
       "\n",
       "         Model      Kilometer FuelType       Brand Repaired  \n",
       "count   337512  337512.000000   337512      337512   337512  \n",
       "unique     247            NaN        8          40        3  \n",
       "top       golf            NaN   petrol  volkswagen       no  \n",
       "freq     28023            NaN   207414       73301   241215  \n",
       "mean       NaN  128815.212496      NaN         NaN      NaN  \n",
       "std        NaN   36886.677723      NaN         NaN      NaN  \n",
       "min        NaN    5000.000000      NaN         NaN      NaN  \n",
       "25%        NaN  125000.000000      NaN         NaN      NaN  \n",
       "50%        NaN  150000.000000      NaN         NaN      NaN  \n",
       "75%        NaN  150000.000000      NaN         NaN      NaN  \n",
       "max        NaN  150000.000000      NaN         NaN      NaN  "
      ]
     },
     "execution_count": 32,
     "metadata": {},
     "output_type": "execute_result"
    }
   ],
   "source": [
    "data.describe(include='all')"
   ]
  },
  {
   "cell_type": "code",
   "execution_count": 33,
   "metadata": {},
   "outputs": [],
   "source": [
    "# обновим нумерацию индексов в датасете\n",
    "data = data.reset_index(drop=True)"
   ]
  },
  {
   "cell_type": "markdown",
   "metadata": {},
   "source": [
    "**Вывод**  \n",
    "В рамках данного этапа была проведена следующая работа:\n",
    "- выявлены и удалены дубликаты  \n",
    "- удалены неинформативные признаки  \n",
    "- в столбце Price удалены столбцы с неправдоподобно низкой ценой (менее 100 евро)  \n",
    "- в столбцах VehicleType, Gearbox, Model, FuelType, Brand и NotRepaired пропущенные значения заменены на \"unknown\"  \n",
    "- в столбце RegistrationYear удалены записи с годом регистрации авто менее 1950 и более 2023  \n",
    "- в столбце  Power нулевые значения заменены на медиану по соответствующей модели, после этого удалены аномальные и выбивающиеся значения (менее 45 л.с. и более 450 л.с.)\n"
   ]
  },
  {
   "cell_type": "markdown",
   "metadata": {},
   "source": [
    "### Подготовка выборки для обучения моделей. "
   ]
  },
  {
   "cell_type": "markdown",
   "metadata": {},
   "source": [
    "Cоздадим переменные для признаков и целевого признака"
   ]
  },
  {
   "cell_type": "code",
   "execution_count": 34,
   "metadata": {},
   "outputs": [],
   "source": [
    "X = data.drop('Price', axis=1)\n",
    "y = data['Price']\n",
    "\n",
    "X_train, X_test, y_train, y_test = train_test_split(X, y, test_size=0.25, random_state=42)"
   ]
  },
  {
   "cell_type": "markdown",
   "metadata": {},
   "source": [
    "Создадим списки для категориальных и числовых признаков.  \n",
    "Изначально у нас было 2 бинарных признака Gearbox и Repaired, но после замены пропущенных значений на \"unknown\" у них появалась соответствующая третья категория. Соответственно теперь их также можем расматривать как категориальные. "
   ]
  },
  {
   "cell_type": "code",
   "execution_count": 35,
   "metadata": {},
   "outputs": [],
   "source": [
    "cat_columns = X_train.select_dtypes('object').columns.tolist()\n",
    "num_columns = X_train.select_dtypes('number').columns.tolist()\n"
   ]
  },
  {
   "cell_type": "markdown",
   "metadata": {},
   "source": [
    "**Вывод**  \n",
    "Сформированы переменные с признаками (без целевого) и с целевым признаком.  \n",
    "Выборки разделены на обучающую и тестовую в пропорции 4 к 1   \n",
    "Подготовлены списки категориальных и числовых признаков для кодирования и масштабирования.  \n",
    "Непосредственно кодирование и масштабирование будет проведено в ходе обучения, поскольку для разных моделей используются разные подходы. "
   ]
  },
  {
   "cell_type": "markdown",
   "metadata": {},
   "source": [
    "## Обучение моделей"
   ]
  },
  {
   "cell_type": "code",
   "execution_count": 36,
   "metadata": {},
   "outputs": [],
   "source": [
    "# Создаем функцию для инициализации pipelina, подбора гиперпараметров и вывода лучшей оценки.\n",
    "def best_params(col_transformer, model, params):\n",
    "    pipeline = make_pipeline(col_transformer, model)\n",
    "    grid = GridSearchCV(pipeline, param_grid=params, cv=5, scoring='neg_mean_squared_error')\n",
    "    grid.fit(X_train, y_train)\n",
    "    print(model)\n",
    "    print(\"Наилучшие параметры: \", grid.best_params_)\n",
    "    print(\"Наилучшая оценка: \", np.sqrt(-grid.best_score_))"
   ]
  },
  {
   "cell_type": "markdown",
   "metadata": {},
   "source": [
    "Подберем гиперпараметры и узнаем лучшую оценку по 4 моделям: LinearRegression(), DecisionTreeRegressor(), LGBMRegressor() и CatBoostRegressor()"
   ]
  },
  {
   "cell_type": "markdown",
   "metadata": {},
   "source": [
    "**LinearRegression()**  \n",
    "Применим для категориальных признаков OneHotEncoder() с параметрами `drop='first'` чтоб избежать дамми ловушки и `handle_unknown='ignore'` чтобы избежать ошибки если какой-то из редких категориальных признаков не попадет в валидационную выборку.  \n",
    "Для числовых везде будем применять StandardScaler()"
   ]
  },
  {
   "cell_type": "code",
   "execution_count": 37,
   "metadata": {},
   "outputs": [
    {
     "name": "stdout",
     "output_type": "stream",
     "text": [
      "LinearRegression()\n",
      "Наилучшие параметры:  {'linearregression__copy_X': True}\n",
      "Наилучшая оценка:  2609.383978384941\n"
     ]
    }
   ],
   "source": [
    "col_transformer = make_column_transformer((OneHotEncoder(drop='first', handle_unknown='ignore'), cat_columns), \n",
    "                                          (StandardScaler(with_mean=False), num_columns), \n",
    "                                          remainder='passthrough', \n",
    "                                          verbose_feature_names_out=False)\n",
    "\n",
    "model = LinearRegression()\n",
    "params = {'linearregression__copy_X': [True, False]}\n",
    "best_params(col_transformer, model, params)"
   ]
  },
  {
   "cell_type": "markdown",
   "metadata": {},
   "source": [
    "**DecisionTreeRegressor()**  \n",
    "Для категориальных признаков применим OrdinalEncoder() с парамметрами `handle_unknown = 'use_encoded_value', unknown_value=251` опять же чтобы избежать ошибки если какой-то из редких категориальных признаков не попадет в валидационную выборку."
   ]
  },
  {
   "cell_type": "code",
   "execution_count": 38,
   "metadata": {},
   "outputs": [
    {
     "name": "stdout",
     "output_type": "stream",
     "text": [
      "DecisionTreeRegressor(random_state=42)\n",
      "Наилучшие параметры:  {'decisiontreeregressor__max_depth': 14}\n",
      "Наилучшая оценка:  1928.287828033197\n"
     ]
    }
   ],
   "source": [
    "col_transformer = make_column_transformer((OrdinalEncoder(handle_unknown = 'use_encoded_value', unknown_value=251), \n",
    "                                           cat_columns), \n",
    "                                          remainder='passthrough', \n",
    "                                          verbose_feature_names_out=False)\n",
    "\n",
    "model = DecisionTreeRegressor(random_state=42)\n",
    "params = {'decisiontreeregressor__max_depth': range(1, 16, 1)}\n",
    "best_params(col_transformer, model, params)"
   ]
  },
  {
   "cell_type": "markdown",
   "metadata": {},
   "source": [
    "**LGBMRegressor()**  \n",
    "Для этой и следующей можедя, для кодирования также используем OrdinalEncoder()"
   ]
  },
  {
   "cell_type": "code",
   "execution_count": 39,
   "metadata": {},
   "outputs": [
    {
     "name": "stdout",
     "output_type": "stream",
     "text": [
      "LGBMRegressor(random_state=42)\n",
      "Наилучшие параметры:  {'lgbmregressor__learning_rate': 0.3, 'lgbmregressor__num_leaves': 40}\n",
      "Наилучшая оценка:  1650.756742145856\n"
     ]
    }
   ],
   "source": [
    "col_transformer = make_column_transformer((OrdinalEncoder(handle_unknown = 'use_encoded_value', unknown_value=251), \n",
    "                                           cat_columns), \n",
    "                                          (StandardScaler(with_mean=False), num_columns), \n",
    "                                          remainder='passthrough', \n",
    "                                          verbose_feature_names_out=False)\n",
    "\n",
    "model = LGBMRegressor(boosting_type='gbdt', random_state=42)\n",
    "params = {'lgbmregressor__learning_rate': [0.1, 0.2, 0.3], 'lgbmregressor__num_leaves': range(20, 41, 10)}\n",
    "best_params(col_transformer, model, params)"
   ]
  },
  {
   "cell_type": "markdown",
   "metadata": {},
   "source": [
    "**CatBoostRegressor()**"
   ]
  },
  {
   "cell_type": "code",
   "execution_count": 40,
   "metadata": {
    "scrolled": true
   },
   "outputs": [
    {
     "name": "stdout",
     "output_type": "stream",
     "text": [
      "0:\tlearn: 4215.1805036\ttotal: 76.2ms\tremaining: 1m 16s\n",
      "500:\tlearn: 1597.5455706\ttotal: 13.7s\tremaining: 13.7s\n",
      "999:\tlearn: 1510.8168963\ttotal: 27.7s\tremaining: 0us\n",
      "0:\tlearn: 4221.9596230\ttotal: 40.6ms\tremaining: 40.6s\n",
      "500:\tlearn: 1600.8882696\ttotal: 13s\tremaining: 12.9s\n",
      "999:\tlearn: 1517.5663378\ttotal: 25.2s\tremaining: 0us\n",
      "0:\tlearn: 4220.2341418\ttotal: 24.8ms\tremaining: 24.7s\n",
      "500:\tlearn: 1596.1508965\ttotal: 12.6s\tremaining: 12.6s\n",
      "999:\tlearn: 1512.8578868\ttotal: 25.5s\tremaining: 0us\n",
      "0:\tlearn: 4218.2705505\ttotal: 25.3ms\tremaining: 25.3s\n",
      "500:\tlearn: 1592.6538874\ttotal: 12.8s\tremaining: 12.8s\n",
      "999:\tlearn: 1509.6760749\ttotal: 25.6s\tremaining: 0us\n",
      "0:\tlearn: 4217.1309972\ttotal: 27.9ms\tremaining: 27.8s\n",
      "500:\tlearn: 1596.5069293\ttotal: 12.5s\tremaining: 12.5s\n",
      "999:\tlearn: 1514.1723765\ttotal: 25.1s\tremaining: 0us\n",
      "0:\tlearn: 3928.8044169\ttotal: 31.4ms\tremaining: 31.4s\n",
      "500:\tlearn: 1511.8240904\ttotal: 13.6s\tremaining: 13.6s\n",
      "999:\tlearn: 1423.2671481\ttotal: 26.1s\tremaining: 0us\n",
      "0:\tlearn: 3933.2022561\ttotal: 25ms\tremaining: 25s\n",
      "500:\tlearn: 1519.4821766\ttotal: 12.7s\tremaining: 12.7s\n",
      "999:\tlearn: 1430.0717603\ttotal: 25.8s\tremaining: 0us\n",
      "0:\tlearn: 3932.9522886\ttotal: 27.2ms\tremaining: 27.2s\n",
      "500:\tlearn: 1513.1727390\ttotal: 14.3s\tremaining: 14.2s\n",
      "999:\tlearn: 1423.4577877\ttotal: 28s\tremaining: 0us\n",
      "0:\tlearn: 3928.5873217\ttotal: 32.3ms\tremaining: 32.2s\n",
      "500:\tlearn: 1510.7785949\ttotal: 14s\tremaining: 13.9s\n",
      "999:\tlearn: 1421.9376323\ttotal: 27.5s\tremaining: 0us\n",
      "0:\tlearn: 3930.4824321\ttotal: 24.6ms\tremaining: 24.6s\n",
      "500:\tlearn: 1514.5748672\ttotal: 14.9s\tremaining: 14.9s\n",
      "999:\tlearn: 1423.1356853\ttotal: 28.8s\tremaining: 0us\n",
      "0:\tlearn: 3657.5032801\ttotal: 26.8ms\tremaining: 26.8s\n",
      "500:\tlearn: 1465.3791823\ttotal: 14.5s\tremaining: 14.5s\n",
      "999:\tlearn: 1372.6347035\ttotal: 28.1s\tremaining: 0us\n",
      "0:\tlearn: 3659.5025047\ttotal: 29.6ms\tremaining: 29.6s\n",
      "500:\tlearn: 1469.2528730\ttotal: 13.9s\tremaining: 13.9s\n",
      "999:\tlearn: 1377.4660268\ttotal: 27.4s\tremaining: 0us\n",
      "0:\tlearn: 3660.7504146\ttotal: 26ms\tremaining: 25.9s\n",
      "500:\tlearn: 1463.9416907\ttotal: 14s\tremaining: 14s\n",
      "999:\tlearn: 1374.1230693\ttotal: 27.7s\tremaining: 0us\n",
      "0:\tlearn: 3653.9205651\ttotal: 35.2ms\tremaining: 35.1s\n",
      "500:\tlearn: 1462.7711702\ttotal: 14.8s\tremaining: 14.8s\n",
      "999:\tlearn: 1369.0114913\ttotal: 28.6s\tremaining: 0us\n",
      "0:\tlearn: 3658.9121042\ttotal: 27ms\tremaining: 26.9s\n",
      "500:\tlearn: 1462.0207816\ttotal: 13.6s\tremaining: 13.5s\n",
      "999:\tlearn: 1373.3642756\ttotal: 26.4s\tremaining: 0us\n",
      "0:\tlearn: 4206.7269590\ttotal: 35.2ms\tremaining: 35.2s\n",
      "500:\tlearn: 1549.1718816\ttotal: 15.5s\tremaining: 15.4s\n",
      "999:\tlearn: 1459.8612223\ttotal: 29.9s\tremaining: 0us\n",
      "0:\tlearn: 4213.9034219\ttotal: 35ms\tremaining: 34.9s\n",
      "500:\tlearn: 1557.0349989\ttotal: 14.8s\tremaining: 14.8s\n",
      "999:\tlearn: 1467.7194541\ttotal: 29.1s\tremaining: 0us\n",
      "0:\tlearn: 4211.7390588\ttotal: 31.1ms\tremaining: 31s\n",
      "500:\tlearn: 1552.9169546\ttotal: 14.2s\tremaining: 14.2s\n",
      "999:\tlearn: 1462.0958477\ttotal: 28.7s\tremaining: 0us\n",
      "0:\tlearn: 4210.1246364\ttotal: 33.1ms\tremaining: 33s\n",
      "500:\tlearn: 1545.0267048\ttotal: 14.4s\tremaining: 14.4s\n",
      "999:\tlearn: 1456.8601398\ttotal: 29s\tremaining: 0us\n",
      "0:\tlearn: 4208.6588691\ttotal: 37.8ms\tremaining: 37.8s\n",
      "500:\tlearn: 1551.0081621\ttotal: 15.1s\tremaining: 15s\n",
      "999:\tlearn: 1461.0135205\ttotal: 31.4s\tremaining: 0us\n",
      "0:\tlearn: 3911.5964555\ttotal: 27.5ms\tremaining: 27.5s\n",
      "500:\tlearn: 1458.6010931\ttotal: 15.2s\tremaining: 15.2s\n",
      "999:\tlearn: 1363.4739479\ttotal: 30.5s\tremaining: 0us\n",
      "0:\tlearn: 3916.7960125\ttotal: 46.6ms\tremaining: 46.5s\n",
      "500:\tlearn: 1465.5789125\ttotal: 15.9s\tremaining: 15.8s\n",
      "999:\tlearn: 1369.1443755\ttotal: 31.1s\tremaining: 0us\n",
      "0:\tlearn: 3915.6571710\ttotal: 26.9ms\tremaining: 26.8s\n",
      "500:\tlearn: 1462.9244575\ttotal: 15.4s\tremaining: 15.3s\n",
      "999:\tlearn: 1366.8900400\ttotal: 31.4s\tremaining: 0us\n",
      "0:\tlearn: 3911.9931773\ttotal: 43ms\tremaining: 43s\n",
      "500:\tlearn: 1461.1224990\ttotal: 15.2s\tremaining: 15.1s\n",
      "999:\tlearn: 1363.7871221\ttotal: 30s\tremaining: 0us\n",
      "0:\tlearn: 3913.2358952\ttotal: 28.1ms\tremaining: 28.1s\n",
      "500:\tlearn: 1461.3599061\ttotal: 15.7s\tremaining: 15.7s\n",
      "999:\tlearn: 1366.0215756\ttotal: 30.5s\tremaining: 0us\n",
      "0:\tlearn: 3631.2756992\ttotal: 30.8ms\tremaining: 30.8s\n",
      "500:\tlearn: 1405.0708842\ttotal: 14.8s\tremaining: 14.7s\n",
      "999:\tlearn: 1309.8912492\ttotal: 29.3s\tremaining: 0us\n",
      "0:\tlearn: 3634.4840977\ttotal: 41.3ms\tremaining: 41.3s\n",
      "500:\tlearn: 1412.7903869\ttotal: 15.3s\tremaining: 15.3s\n",
      "999:\tlearn: 1313.8713642\ttotal: 30.3s\tremaining: 0us\n",
      "0:\tlearn: 3634.3853208\ttotal: 27.4ms\tremaining: 27.3s\n",
      "500:\tlearn: 1409.5498870\ttotal: 15.1s\tremaining: 15s\n",
      "999:\tlearn: 1312.3792179\ttotal: 29.5s\tremaining: 0us\n",
      "0:\tlearn: 3628.6062430\ttotal: 30.9ms\tremaining: 30.9s\n",
      "500:\tlearn: 1407.9533405\ttotal: 15.3s\tremaining: 15.2s\n",
      "999:\tlearn: 1309.6280523\ttotal: 29.9s\tremaining: 0us\n",
      "0:\tlearn: 3632.6243902\ttotal: 29ms\tremaining: 28.9s\n",
      "500:\tlearn: 1405.9303848\ttotal: 14.2s\tremaining: 14.2s\n",
      "999:\tlearn: 1308.8939433\ttotal: 28.2s\tremaining: 0us\n",
      "0:\tlearn: 4201.1165614\ttotal: 33.4ms\tremaining: 33.4s\n",
      "500:\tlearn: 1504.2285462\ttotal: 17s\tremaining: 16.9s\n",
      "999:\tlearn: 1405.6371396\ttotal: 33.6s\tremaining: 0us\n",
      "0:\tlearn: 4210.0256399\ttotal: 32ms\tremaining: 31.9s\n",
      "500:\tlearn: 1509.6944357\ttotal: 16.2s\tremaining: 16.2s\n",
      "999:\tlearn: 1412.9526182\ttotal: 32.6s\tremaining: 0us\n",
      "0:\tlearn: 4207.9517170\ttotal: 40ms\tremaining: 39.9s\n",
      "500:\tlearn: 1506.9441801\ttotal: 16.4s\tremaining: 16.4s\n",
      "999:\tlearn: 1408.6393002\ttotal: 32.6s\tremaining: 0us\n",
      "0:\tlearn: 4206.3599246\ttotal: 43.7ms\tremaining: 43.7s\n",
      "500:\tlearn: 1500.4764808\ttotal: 16.4s\tremaining: 16.3s\n",
      "999:\tlearn: 1405.6451414\ttotal: 31.9s\tremaining: 0us\n",
      "0:\tlearn: 4203.0322358\ttotal: 31.7ms\tremaining: 31.7s\n",
      "500:\tlearn: 1505.0333842\ttotal: 16.3s\tremaining: 16.2s\n",
      "999:\tlearn: 1408.1764639\ttotal: 32.1s\tremaining: 0us\n",
      "0:\tlearn: 3900.1281858\ttotal: 36.7ms\tremaining: 36.6s\n",
      "500:\tlearn: 1406.4344977\ttotal: 17.1s\tremaining: 17.1s\n",
      "999:\tlearn: 1305.5179373\ttotal: 33.1s\tremaining: 0us\n",
      "0:\tlearn: 3908.8751642\ttotal: 35.3ms\tremaining: 35.3s\n",
      "500:\tlearn: 1411.1936245\ttotal: 16.3s\tremaining: 16.2s\n",
      "999:\tlearn: 1311.1906513\ttotal: 32.3s\tremaining: 0us\n",
      "0:\tlearn: 3907.9212276\ttotal: 34.7ms\tremaining: 34.7s\n",
      "500:\tlearn: 1411.4122352\ttotal: 15.9s\tremaining: 15.8s\n",
      "999:\tlearn: 1311.3329921\ttotal: 32.3s\tremaining: 0us\n",
      "0:\tlearn: 3904.3006086\ttotal: 34.2ms\tremaining: 34.2s\n",
      "500:\tlearn: 1408.3698848\ttotal: 16s\tremaining: 15.9s\n",
      "999:\tlearn: 1304.8617175\ttotal: 32s\tremaining: 0us\n",
      "0:\tlearn: 3901.7337907\ttotal: 49.5ms\tremaining: 49.4s\n",
      "500:\tlearn: 1409.0911772\ttotal: 16.1s\tremaining: 16s\n",
      "999:\tlearn: 1305.4739215\ttotal: 32.3s\tremaining: 0us\n",
      "0:\tlearn: 3613.7122662\ttotal: 32.1ms\tremaining: 32.1s\n",
      "500:\tlearn: 1350.1825547\ttotal: 16.5s\tremaining: 16.4s\n",
      "999:\tlearn: 1243.7539497\ttotal: 32.7s\tremaining: 0us\n",
      "0:\tlearn: 3622.3632164\ttotal: 32.6ms\tremaining: 32.5s\n",
      "500:\tlearn: 1352.8734931\ttotal: 16.6s\tremaining: 16.6s\n",
      "999:\tlearn: 1247.7326764\ttotal: 32.7s\tremaining: 0us\n",
      "0:\tlearn: 3622.5478767\ttotal: 49.1ms\tremaining: 49.1s\n",
      "500:\tlearn: 1351.5865697\ttotal: 16.3s\tremaining: 16.2s\n",
      "999:\tlearn: 1245.8504844\ttotal: 32.8s\tremaining: 0us\n",
      "0:\tlearn: 3616.8298342\ttotal: 32.2ms\tremaining: 32.1s\n",
      "500:\tlearn: 1348.8690496\ttotal: 16.3s\tremaining: 16.2s\n",
      "999:\tlearn: 1242.8205107\ttotal: 32.4s\tremaining: 0us\n",
      "0:\tlearn: 3615.0079761\ttotal: 32.1ms\tremaining: 32s\n",
      "500:\tlearn: 1351.4017602\ttotal: 16.1s\tremaining: 16s\n",
      "999:\tlearn: 1249.9897382\ttotal: 31.9s\tremaining: 0us\n",
      "0:\tlearn: 3904.5271401\ttotal: 40.5ms\tremaining: 40.4s\n",
      "500:\tlearn: 1427.6548697\ttotal: 19.6s\tremaining: 19.5s\n",
      "999:\tlearn: 1330.2100299\ttotal: 39.2s\tremaining: 0us\n",
      "<catboost.core.CatBoostRegressor object at 0x7fe7de7608e0>\n",
      "Наилучшие параметры:  {'catboostregressor__depth': 9, 'catboostregressor__learning_rate': 0.2}\n",
      "Наилучшая оценка:  1576.7453472117072\n"
     ]
    }
   ],
   "source": [
    "col_transformer = make_column_transformer((OrdinalEncoder(handle_unknown = 'use_encoded_value', unknown_value=251), \n",
    "                                           cat_columns),\n",
    "                                          (StandardScaler(with_mean=False), num_columns), \n",
    "                                          remainder='passthrough')\n",
    "\n",
    "\n",
    "model = CatBoostRegressor(random_state=42, verbose=500)\n",
    "params = {'catboostregressor__learning_rate': [0.1, 0.2, 0.3], 'catboostregressor__depth': range(7, 10, 1)}\n",
    "best_params(col_transformer, model, params)"
   ]
  },
  {
   "cell_type": "markdown",
   "metadata": {},
   "source": [
    "**Вывод**\n",
    "Проведен подбор гиперпараметров для 4 моделей (проведен подбор минимального набора гиперпараметров в минимальном диапазоне с целью экономии времени) и получены лучшие оценки по метрике RMSE.   \n",
    "Модель LinearRegression() забраковывается уже на этом этапе, так как у нее значение метрики RMSE выше макимально допустимого уровня в 2500, установленного заказщиком.  "
   ]
  },
  {
   "cell_type": "markdown",
   "metadata": {},
   "source": [
    "## Анализ моделей"
   ]
  },
  {
   "cell_type": "markdown",
   "metadata": {},
   "source": [
    "Оценим по трем оставшимся моделям время обучения и время получения предсказаний."
   ]
  },
  {
   "cell_type": "markdown",
   "metadata": {},
   "source": [
    "**DecisionTreeRegressor()()**"
   ]
  },
  {
   "cell_type": "code",
   "execution_count": 41,
   "metadata": {},
   "outputs": [
    {
     "name": "stdout",
     "output_type": "stream",
     "text": [
      "CPU times: user 903 ms, sys: 19.9 ms, total: 923 ms\n",
      "Wall time: 926 ms\n"
     ]
    },
    {
     "data": {
      "text/html": [
       "<style>#sk-container-id-1 {color: black;background-color: white;}#sk-container-id-1 pre{padding: 0;}#sk-container-id-1 div.sk-toggleable {background-color: white;}#sk-container-id-1 label.sk-toggleable__label {cursor: pointer;display: block;width: 100%;margin-bottom: 0;padding: 0.3em;box-sizing: border-box;text-align: center;}#sk-container-id-1 label.sk-toggleable__label-arrow:before {content: \"▸\";float: left;margin-right: 0.25em;color: #696969;}#sk-container-id-1 label.sk-toggleable__label-arrow:hover:before {color: black;}#sk-container-id-1 div.sk-estimator:hover label.sk-toggleable__label-arrow:before {color: black;}#sk-container-id-1 div.sk-toggleable__content {max-height: 0;max-width: 0;overflow: hidden;text-align: left;background-color: #f0f8ff;}#sk-container-id-1 div.sk-toggleable__content pre {margin: 0.2em;color: black;border-radius: 0.25em;background-color: #f0f8ff;}#sk-container-id-1 input.sk-toggleable__control:checked~div.sk-toggleable__content {max-height: 200px;max-width: 100%;overflow: auto;}#sk-container-id-1 input.sk-toggleable__control:checked~label.sk-toggleable__label-arrow:before {content: \"▾\";}#sk-container-id-1 div.sk-estimator input.sk-toggleable__control:checked~label.sk-toggleable__label {background-color: #d4ebff;}#sk-container-id-1 div.sk-label input.sk-toggleable__control:checked~label.sk-toggleable__label {background-color: #d4ebff;}#sk-container-id-1 input.sk-hidden--visually {border: 0;clip: rect(1px 1px 1px 1px);clip: rect(1px, 1px, 1px, 1px);height: 1px;margin: -1px;overflow: hidden;padding: 0;position: absolute;width: 1px;}#sk-container-id-1 div.sk-estimator {font-family: monospace;background-color: #f0f8ff;border: 1px dotted black;border-radius: 0.25em;box-sizing: border-box;margin-bottom: 0.5em;}#sk-container-id-1 div.sk-estimator:hover {background-color: #d4ebff;}#sk-container-id-1 div.sk-parallel-item::after {content: \"\";width: 100%;border-bottom: 1px solid gray;flex-grow: 1;}#sk-container-id-1 div.sk-label:hover label.sk-toggleable__label {background-color: #d4ebff;}#sk-container-id-1 div.sk-serial::before {content: \"\";position: absolute;border-left: 1px solid gray;box-sizing: border-box;top: 0;bottom: 0;left: 50%;z-index: 0;}#sk-container-id-1 div.sk-serial {display: flex;flex-direction: column;align-items: center;background-color: white;padding-right: 0.2em;padding-left: 0.2em;position: relative;}#sk-container-id-1 div.sk-item {position: relative;z-index: 1;}#sk-container-id-1 div.sk-parallel {display: flex;align-items: stretch;justify-content: center;background-color: white;position: relative;}#sk-container-id-1 div.sk-item::before, #sk-container-id-1 div.sk-parallel-item::before {content: \"\";position: absolute;border-left: 1px solid gray;box-sizing: border-box;top: 0;bottom: 0;left: 50%;z-index: -1;}#sk-container-id-1 div.sk-parallel-item {display: flex;flex-direction: column;z-index: 1;position: relative;background-color: white;}#sk-container-id-1 div.sk-parallel-item:first-child::after {align-self: flex-end;width: 50%;}#sk-container-id-1 div.sk-parallel-item:last-child::after {align-self: flex-start;width: 50%;}#sk-container-id-1 div.sk-parallel-item:only-child::after {width: 0;}#sk-container-id-1 div.sk-dashed-wrapped {border: 1px dashed gray;margin: 0 0.4em 0.5em 0.4em;box-sizing: border-box;padding-bottom: 0.4em;background-color: white;}#sk-container-id-1 div.sk-label label {font-family: monospace;font-weight: bold;display: inline-block;line-height: 1.2em;}#sk-container-id-1 div.sk-label-container {text-align: center;}#sk-container-id-1 div.sk-container {/* jupyter's `normalize.less` sets `[hidden] { display: none; }` but bootstrap.min.css set `[hidden] { display: none !important; }` so we also need the `!important` here to be able to override the default hidden behavior on the sphinx rendered scikit-learn.org. See: https://github.com/scikit-learn/scikit-learn/issues/21755 */display: inline-block !important;position: relative;}#sk-container-id-1 div.sk-text-repr-fallback {display: none;}</style><div id=\"sk-container-id-1\" class=\"sk-top-container\"><div class=\"sk-text-repr-fallback\"><pre>Pipeline(steps=[(&#x27;columntransformer&#x27;,\n",
       "                 ColumnTransformer(remainder=&#x27;passthrough&#x27;,\n",
       "                                   transformers=[(&#x27;ordinalencoder&#x27;,\n",
       "                                                  OrdinalEncoder(handle_unknown=&#x27;use_encoded_value&#x27;,\n",
       "                                                                 unknown_value=251),\n",
       "                                                  [&#x27;VehicleType&#x27;, &#x27;Gearbox&#x27;,\n",
       "                                                   &#x27;Model&#x27;, &#x27;FuelType&#x27;, &#x27;Brand&#x27;,\n",
       "                                                   &#x27;Repaired&#x27;])],\n",
       "                                   verbose_feature_names_out=False)),\n",
       "                (&#x27;decisiontreeregressor&#x27;,\n",
       "                 DecisionTreeRegressor(max_depth=14, random_state=42))])</pre><b>In a Jupyter environment, please rerun this cell to show the HTML representation or trust the notebook. <br />On GitHub, the HTML representation is unable to render, please try loading this page with nbviewer.org.</b></div><div class=\"sk-container\" hidden><div class=\"sk-item sk-dashed-wrapped\"><div class=\"sk-label-container\"><div class=\"sk-label sk-toggleable\"><input class=\"sk-toggleable__control sk-hidden--visually\" id=\"sk-estimator-id-1\" type=\"checkbox\" ><label for=\"sk-estimator-id-1\" class=\"sk-toggleable__label sk-toggleable__label-arrow\">Pipeline</label><div class=\"sk-toggleable__content\"><pre>Pipeline(steps=[(&#x27;columntransformer&#x27;,\n",
       "                 ColumnTransformer(remainder=&#x27;passthrough&#x27;,\n",
       "                                   transformers=[(&#x27;ordinalencoder&#x27;,\n",
       "                                                  OrdinalEncoder(handle_unknown=&#x27;use_encoded_value&#x27;,\n",
       "                                                                 unknown_value=251),\n",
       "                                                  [&#x27;VehicleType&#x27;, &#x27;Gearbox&#x27;,\n",
       "                                                   &#x27;Model&#x27;, &#x27;FuelType&#x27;, &#x27;Brand&#x27;,\n",
       "                                                   &#x27;Repaired&#x27;])],\n",
       "                                   verbose_feature_names_out=False)),\n",
       "                (&#x27;decisiontreeregressor&#x27;,\n",
       "                 DecisionTreeRegressor(max_depth=14, random_state=42))])</pre></div></div></div><div class=\"sk-serial\"><div class=\"sk-item sk-dashed-wrapped\"><div class=\"sk-label-container\"><div class=\"sk-label sk-toggleable\"><input class=\"sk-toggleable__control sk-hidden--visually\" id=\"sk-estimator-id-2\" type=\"checkbox\" ><label for=\"sk-estimator-id-2\" class=\"sk-toggleable__label sk-toggleable__label-arrow\">columntransformer: ColumnTransformer</label><div class=\"sk-toggleable__content\"><pre>ColumnTransformer(remainder=&#x27;passthrough&#x27;,\n",
       "                  transformers=[(&#x27;ordinalencoder&#x27;,\n",
       "                                 OrdinalEncoder(handle_unknown=&#x27;use_encoded_value&#x27;,\n",
       "                                                unknown_value=251),\n",
       "                                 [&#x27;VehicleType&#x27;, &#x27;Gearbox&#x27;, &#x27;Model&#x27;, &#x27;FuelType&#x27;,\n",
       "                                  &#x27;Brand&#x27;, &#x27;Repaired&#x27;])],\n",
       "                  verbose_feature_names_out=False)</pre></div></div></div><div class=\"sk-parallel\"><div class=\"sk-parallel-item\"><div class=\"sk-item\"><div class=\"sk-label-container\"><div class=\"sk-label sk-toggleable\"><input class=\"sk-toggleable__control sk-hidden--visually\" id=\"sk-estimator-id-3\" type=\"checkbox\" ><label for=\"sk-estimator-id-3\" class=\"sk-toggleable__label sk-toggleable__label-arrow\">ordinalencoder</label><div class=\"sk-toggleable__content\"><pre>[&#x27;VehicleType&#x27;, &#x27;Gearbox&#x27;, &#x27;Model&#x27;, &#x27;FuelType&#x27;, &#x27;Brand&#x27;, &#x27;Repaired&#x27;]</pre></div></div></div><div class=\"sk-serial\"><div class=\"sk-item\"><div class=\"sk-estimator sk-toggleable\"><input class=\"sk-toggleable__control sk-hidden--visually\" id=\"sk-estimator-id-4\" type=\"checkbox\" ><label for=\"sk-estimator-id-4\" class=\"sk-toggleable__label sk-toggleable__label-arrow\">OrdinalEncoder</label><div class=\"sk-toggleable__content\"><pre>OrdinalEncoder(handle_unknown=&#x27;use_encoded_value&#x27;, unknown_value=251)</pre></div></div></div></div></div></div><div class=\"sk-parallel-item\"><div class=\"sk-item\"><div class=\"sk-label-container\"><div class=\"sk-label sk-toggleable\"><input class=\"sk-toggleable__control sk-hidden--visually\" id=\"sk-estimator-id-5\" type=\"checkbox\" ><label for=\"sk-estimator-id-5\" class=\"sk-toggleable__label sk-toggleable__label-arrow\">remainder</label><div class=\"sk-toggleable__content\"><pre>[&#x27;RegistrationYear&#x27;, &#x27;Power&#x27;, &#x27;Kilometer&#x27;]</pre></div></div></div><div class=\"sk-serial\"><div class=\"sk-item\"><div class=\"sk-estimator sk-toggleable\"><input class=\"sk-toggleable__control sk-hidden--visually\" id=\"sk-estimator-id-6\" type=\"checkbox\" ><label for=\"sk-estimator-id-6\" class=\"sk-toggleable__label sk-toggleable__label-arrow\">passthrough</label><div class=\"sk-toggleable__content\"><pre>passthrough</pre></div></div></div></div></div></div></div></div><div class=\"sk-item\"><div class=\"sk-estimator sk-toggleable\"><input class=\"sk-toggleable__control sk-hidden--visually\" id=\"sk-estimator-id-7\" type=\"checkbox\" ><label for=\"sk-estimator-id-7\" class=\"sk-toggleable__label sk-toggleable__label-arrow\">DecisionTreeRegressor</label><div class=\"sk-toggleable__content\"><pre>DecisionTreeRegressor(max_depth=14, random_state=42)</pre></div></div></div></div></div></div></div>"
      ],
      "text/plain": [
       "Pipeline(steps=[('columntransformer',\n",
       "                 ColumnTransformer(remainder='passthrough',\n",
       "                                   transformers=[('ordinalencoder',\n",
       "                                                  OrdinalEncoder(handle_unknown='use_encoded_value',\n",
       "                                                                 unknown_value=251),\n",
       "                                                  ['VehicleType', 'Gearbox',\n",
       "                                                   'Model', 'FuelType', 'Brand',\n",
       "                                                   'Repaired'])],\n",
       "                                   verbose_feature_names_out=False)),\n",
       "                ('decisiontreeregressor',\n",
       "                 DecisionTreeRegressor(max_depth=14, random_state=42))])"
      ]
     },
     "execution_count": 41,
     "metadata": {},
     "output_type": "execute_result"
    }
   ],
   "source": [
    "%%time\n",
    "\n",
    "col_transformer = make_column_transformer((OrdinalEncoder(handle_unknown = 'use_encoded_value', unknown_value=251), \n",
    "                                           cat_columns), \n",
    "                                          remainder='passthrough', \n",
    "                                          verbose_feature_names_out=False)\n",
    "\n",
    "model = DecisionTreeRegressor(random_state=42, max_depth = 14)\n",
    "pipeline = make_pipeline(col_transformer, model)\n",
    "pipeline.fit(X_train, y_train)\n"
   ]
  },
  {
   "cell_type": "code",
   "execution_count": 42,
   "metadata": {},
   "outputs": [
    {
     "name": "stdout",
     "output_type": "stream",
     "text": [
      "CPU times: user 314 ms, sys: 7.86 ms, total: 322 ms\n",
      "Wall time: 330 ms\n"
     ]
    },
    {
     "data": {
      "text/plain": [
       "array([4819.99029126,  856.43428571, 3506.35714286, ..., 3362.5       ,\n",
       "       8133.37958115,  907.90426979])"
      ]
     },
     "execution_count": 42,
     "metadata": {},
     "output_type": "execute_result"
    }
   ],
   "source": [
    "%%time\n",
    "\n",
    "pipeline.predict(X_train)\n"
   ]
  },
  {
   "cell_type": "markdown",
   "metadata": {},
   "source": [
    "**LGBMRegressor()**"
   ]
  },
  {
   "cell_type": "code",
   "execution_count": 43,
   "metadata": {},
   "outputs": [
    {
     "name": "stdout",
     "output_type": "stream",
     "text": [
      "CPU times: user 9min 54s, sys: 834 ms, total: 9min 55s\n",
      "Wall time: 9min 57s\n"
     ]
    },
    {
     "data": {
      "text/html": [
       "<style>#sk-container-id-2 {color: black;background-color: white;}#sk-container-id-2 pre{padding: 0;}#sk-container-id-2 div.sk-toggleable {background-color: white;}#sk-container-id-2 label.sk-toggleable__label {cursor: pointer;display: block;width: 100%;margin-bottom: 0;padding: 0.3em;box-sizing: border-box;text-align: center;}#sk-container-id-2 label.sk-toggleable__label-arrow:before {content: \"▸\";float: left;margin-right: 0.25em;color: #696969;}#sk-container-id-2 label.sk-toggleable__label-arrow:hover:before {color: black;}#sk-container-id-2 div.sk-estimator:hover label.sk-toggleable__label-arrow:before {color: black;}#sk-container-id-2 div.sk-toggleable__content {max-height: 0;max-width: 0;overflow: hidden;text-align: left;background-color: #f0f8ff;}#sk-container-id-2 div.sk-toggleable__content pre {margin: 0.2em;color: black;border-radius: 0.25em;background-color: #f0f8ff;}#sk-container-id-2 input.sk-toggleable__control:checked~div.sk-toggleable__content {max-height: 200px;max-width: 100%;overflow: auto;}#sk-container-id-2 input.sk-toggleable__control:checked~label.sk-toggleable__label-arrow:before {content: \"▾\";}#sk-container-id-2 div.sk-estimator input.sk-toggleable__control:checked~label.sk-toggleable__label {background-color: #d4ebff;}#sk-container-id-2 div.sk-label input.sk-toggleable__control:checked~label.sk-toggleable__label {background-color: #d4ebff;}#sk-container-id-2 input.sk-hidden--visually {border: 0;clip: rect(1px 1px 1px 1px);clip: rect(1px, 1px, 1px, 1px);height: 1px;margin: -1px;overflow: hidden;padding: 0;position: absolute;width: 1px;}#sk-container-id-2 div.sk-estimator {font-family: monospace;background-color: #f0f8ff;border: 1px dotted black;border-radius: 0.25em;box-sizing: border-box;margin-bottom: 0.5em;}#sk-container-id-2 div.sk-estimator:hover {background-color: #d4ebff;}#sk-container-id-2 div.sk-parallel-item::after {content: \"\";width: 100%;border-bottom: 1px solid gray;flex-grow: 1;}#sk-container-id-2 div.sk-label:hover label.sk-toggleable__label {background-color: #d4ebff;}#sk-container-id-2 div.sk-serial::before {content: \"\";position: absolute;border-left: 1px solid gray;box-sizing: border-box;top: 0;bottom: 0;left: 50%;z-index: 0;}#sk-container-id-2 div.sk-serial {display: flex;flex-direction: column;align-items: center;background-color: white;padding-right: 0.2em;padding-left: 0.2em;position: relative;}#sk-container-id-2 div.sk-item {position: relative;z-index: 1;}#sk-container-id-2 div.sk-parallel {display: flex;align-items: stretch;justify-content: center;background-color: white;position: relative;}#sk-container-id-2 div.sk-item::before, #sk-container-id-2 div.sk-parallel-item::before {content: \"\";position: absolute;border-left: 1px solid gray;box-sizing: border-box;top: 0;bottom: 0;left: 50%;z-index: -1;}#sk-container-id-2 div.sk-parallel-item {display: flex;flex-direction: column;z-index: 1;position: relative;background-color: white;}#sk-container-id-2 div.sk-parallel-item:first-child::after {align-self: flex-end;width: 50%;}#sk-container-id-2 div.sk-parallel-item:last-child::after {align-self: flex-start;width: 50%;}#sk-container-id-2 div.sk-parallel-item:only-child::after {width: 0;}#sk-container-id-2 div.sk-dashed-wrapped {border: 1px dashed gray;margin: 0 0.4em 0.5em 0.4em;box-sizing: border-box;padding-bottom: 0.4em;background-color: white;}#sk-container-id-2 div.sk-label label {font-family: monospace;font-weight: bold;display: inline-block;line-height: 1.2em;}#sk-container-id-2 div.sk-label-container {text-align: center;}#sk-container-id-2 div.sk-container {/* jupyter's `normalize.less` sets `[hidden] { display: none; }` but bootstrap.min.css set `[hidden] { display: none !important; }` so we also need the `!important` here to be able to override the default hidden behavior on the sphinx rendered scikit-learn.org. See: https://github.com/scikit-learn/scikit-learn/issues/21755 */display: inline-block !important;position: relative;}#sk-container-id-2 div.sk-text-repr-fallback {display: none;}</style><div id=\"sk-container-id-2\" class=\"sk-top-container\"><div class=\"sk-text-repr-fallback\"><pre>Pipeline(steps=[(&#x27;columntransformer&#x27;,\n",
       "                 ColumnTransformer(remainder=&#x27;passthrough&#x27;,\n",
       "                                   transformers=[(&#x27;ordinalencoder&#x27;,\n",
       "                                                  OrdinalEncoder(handle_unknown=&#x27;use_encoded_value&#x27;,\n",
       "                                                                 unknown_value=251),\n",
       "                                                  [&#x27;VehicleType&#x27;, &#x27;Gearbox&#x27;,\n",
       "                                                   &#x27;Model&#x27;, &#x27;FuelType&#x27;, &#x27;Brand&#x27;,\n",
       "                                                   &#x27;Repaired&#x27;]),\n",
       "                                                 (&#x27;standardscaler&#x27;,\n",
       "                                                  StandardScaler(with_mean=False),\n",
       "                                                  [&#x27;RegistrationYear&#x27;, &#x27;Power&#x27;,\n",
       "                                                   &#x27;Kilometer&#x27;])],\n",
       "                                   verbose_feature_names_out=False)),\n",
       "                (&#x27;lgbmregressor&#x27;,\n",
       "                 LGBMRegressor(learning_rate=0.3, num_leaves=40,\n",
       "                               random_state=42))])</pre><b>In a Jupyter environment, please rerun this cell to show the HTML representation or trust the notebook. <br />On GitHub, the HTML representation is unable to render, please try loading this page with nbviewer.org.</b></div><div class=\"sk-container\" hidden><div class=\"sk-item sk-dashed-wrapped\"><div class=\"sk-label-container\"><div class=\"sk-label sk-toggleable\"><input class=\"sk-toggleable__control sk-hidden--visually\" id=\"sk-estimator-id-8\" type=\"checkbox\" ><label for=\"sk-estimator-id-8\" class=\"sk-toggleable__label sk-toggleable__label-arrow\">Pipeline</label><div class=\"sk-toggleable__content\"><pre>Pipeline(steps=[(&#x27;columntransformer&#x27;,\n",
       "                 ColumnTransformer(remainder=&#x27;passthrough&#x27;,\n",
       "                                   transformers=[(&#x27;ordinalencoder&#x27;,\n",
       "                                                  OrdinalEncoder(handle_unknown=&#x27;use_encoded_value&#x27;,\n",
       "                                                                 unknown_value=251),\n",
       "                                                  [&#x27;VehicleType&#x27;, &#x27;Gearbox&#x27;,\n",
       "                                                   &#x27;Model&#x27;, &#x27;FuelType&#x27;, &#x27;Brand&#x27;,\n",
       "                                                   &#x27;Repaired&#x27;]),\n",
       "                                                 (&#x27;standardscaler&#x27;,\n",
       "                                                  StandardScaler(with_mean=False),\n",
       "                                                  [&#x27;RegistrationYear&#x27;, &#x27;Power&#x27;,\n",
       "                                                   &#x27;Kilometer&#x27;])],\n",
       "                                   verbose_feature_names_out=False)),\n",
       "                (&#x27;lgbmregressor&#x27;,\n",
       "                 LGBMRegressor(learning_rate=0.3, num_leaves=40,\n",
       "                               random_state=42))])</pre></div></div></div><div class=\"sk-serial\"><div class=\"sk-item sk-dashed-wrapped\"><div class=\"sk-label-container\"><div class=\"sk-label sk-toggleable\"><input class=\"sk-toggleable__control sk-hidden--visually\" id=\"sk-estimator-id-9\" type=\"checkbox\" ><label for=\"sk-estimator-id-9\" class=\"sk-toggleable__label sk-toggleable__label-arrow\">columntransformer: ColumnTransformer</label><div class=\"sk-toggleable__content\"><pre>ColumnTransformer(remainder=&#x27;passthrough&#x27;,\n",
       "                  transformers=[(&#x27;ordinalencoder&#x27;,\n",
       "                                 OrdinalEncoder(handle_unknown=&#x27;use_encoded_value&#x27;,\n",
       "                                                unknown_value=251),\n",
       "                                 [&#x27;VehicleType&#x27;, &#x27;Gearbox&#x27;, &#x27;Model&#x27;, &#x27;FuelType&#x27;,\n",
       "                                  &#x27;Brand&#x27;, &#x27;Repaired&#x27;]),\n",
       "                                (&#x27;standardscaler&#x27;,\n",
       "                                 StandardScaler(with_mean=False),\n",
       "                                 [&#x27;RegistrationYear&#x27;, &#x27;Power&#x27;, &#x27;Kilometer&#x27;])],\n",
       "                  verbose_feature_names_out=False)</pre></div></div></div><div class=\"sk-parallel\"><div class=\"sk-parallel-item\"><div class=\"sk-item\"><div class=\"sk-label-container\"><div class=\"sk-label sk-toggleable\"><input class=\"sk-toggleable__control sk-hidden--visually\" id=\"sk-estimator-id-10\" type=\"checkbox\" ><label for=\"sk-estimator-id-10\" class=\"sk-toggleable__label sk-toggleable__label-arrow\">ordinalencoder</label><div class=\"sk-toggleable__content\"><pre>[&#x27;VehicleType&#x27;, &#x27;Gearbox&#x27;, &#x27;Model&#x27;, &#x27;FuelType&#x27;, &#x27;Brand&#x27;, &#x27;Repaired&#x27;]</pre></div></div></div><div class=\"sk-serial\"><div class=\"sk-item\"><div class=\"sk-estimator sk-toggleable\"><input class=\"sk-toggleable__control sk-hidden--visually\" id=\"sk-estimator-id-11\" type=\"checkbox\" ><label for=\"sk-estimator-id-11\" class=\"sk-toggleable__label sk-toggleable__label-arrow\">OrdinalEncoder</label><div class=\"sk-toggleable__content\"><pre>OrdinalEncoder(handle_unknown=&#x27;use_encoded_value&#x27;, unknown_value=251)</pre></div></div></div></div></div></div><div class=\"sk-parallel-item\"><div class=\"sk-item\"><div class=\"sk-label-container\"><div class=\"sk-label sk-toggleable\"><input class=\"sk-toggleable__control sk-hidden--visually\" id=\"sk-estimator-id-12\" type=\"checkbox\" ><label for=\"sk-estimator-id-12\" class=\"sk-toggleable__label sk-toggleable__label-arrow\">standardscaler</label><div class=\"sk-toggleable__content\"><pre>[&#x27;RegistrationYear&#x27;, &#x27;Power&#x27;, &#x27;Kilometer&#x27;]</pre></div></div></div><div class=\"sk-serial\"><div class=\"sk-item\"><div class=\"sk-estimator sk-toggleable\"><input class=\"sk-toggleable__control sk-hidden--visually\" id=\"sk-estimator-id-13\" type=\"checkbox\" ><label for=\"sk-estimator-id-13\" class=\"sk-toggleable__label sk-toggleable__label-arrow\">StandardScaler</label><div class=\"sk-toggleable__content\"><pre>StandardScaler(with_mean=False)</pre></div></div></div></div></div></div><div class=\"sk-parallel-item\"><div class=\"sk-item\"><div class=\"sk-label-container\"><div class=\"sk-label sk-toggleable\"><input class=\"sk-toggleable__control sk-hidden--visually\" id=\"sk-estimator-id-14\" type=\"checkbox\" ><label for=\"sk-estimator-id-14\" class=\"sk-toggleable__label sk-toggleable__label-arrow\">remainder</label><div class=\"sk-toggleable__content\"><pre>[]</pre></div></div></div><div class=\"sk-serial\"><div class=\"sk-item\"><div class=\"sk-estimator sk-toggleable\"><input class=\"sk-toggleable__control sk-hidden--visually\" id=\"sk-estimator-id-15\" type=\"checkbox\" ><label for=\"sk-estimator-id-15\" class=\"sk-toggleable__label sk-toggleable__label-arrow\">passthrough</label><div class=\"sk-toggleable__content\"><pre>passthrough</pre></div></div></div></div></div></div></div></div><div class=\"sk-item\"><div class=\"sk-estimator sk-toggleable\"><input class=\"sk-toggleable__control sk-hidden--visually\" id=\"sk-estimator-id-16\" type=\"checkbox\" ><label for=\"sk-estimator-id-16\" class=\"sk-toggleable__label sk-toggleable__label-arrow\">LGBMRegressor</label><div class=\"sk-toggleable__content\"><pre>LGBMRegressor(learning_rate=0.3, num_leaves=40, random_state=42)</pre></div></div></div></div></div></div></div>"
      ],
      "text/plain": [
       "Pipeline(steps=[('columntransformer',\n",
       "                 ColumnTransformer(remainder='passthrough',\n",
       "                                   transformers=[('ordinalencoder',\n",
       "                                                  OrdinalEncoder(handle_unknown='use_encoded_value',\n",
       "                                                                 unknown_value=251),\n",
       "                                                  ['VehicleType', 'Gearbox',\n",
       "                                                   'Model', 'FuelType', 'Brand',\n",
       "                                                   'Repaired']),\n",
       "                                                 ('standardscaler',\n",
       "                                                  StandardScaler(with_mean=False),\n",
       "                                                  ['RegistrationYear', 'Power',\n",
       "                                                   'Kilometer'])],\n",
       "                                   verbose_feature_names_out=False)),\n",
       "                ('lgbmregressor',\n",
       "                 LGBMRegressor(learning_rate=0.3, num_leaves=40,\n",
       "                               random_state=42))])"
      ]
     },
     "execution_count": 43,
     "metadata": {},
     "output_type": "execute_result"
    }
   ],
   "source": [
    "%%time\n",
    "\n",
    "col_transformer = make_column_transformer((OrdinalEncoder(handle_unknown = 'use_encoded_value', unknown_value=251), \n",
    "                                           cat_columns), \n",
    "                                          (StandardScaler(with_mean=False), num_columns), \n",
    "                                          remainder='passthrough', \n",
    "                                          verbose_feature_names_out=False)\n",
    "\n",
    "model = LGBMRegressor(learning_rate = 0.3, num_leaves = 40, boosting_type='gbdt', random_state=42)\n",
    "pipeline = make_pipeline(col_transformer, model)\n",
    "pipeline.fit(X_train, y_train)\n"
   ]
  },
  {
   "cell_type": "code",
   "execution_count": 44,
   "metadata": {},
   "outputs": [
    {
     "name": "stdout",
     "output_type": "stream",
     "text": [
      "CPU times: user 1.8 s, sys: 20.7 ms, total: 1.82 s\n",
      "Wall time: 1.8 s\n"
     ]
    },
    {
     "data": {
      "text/plain": [
       "array([3312.73968622,  858.73754889, 3731.07162399, ..., 7280.74859535,\n",
       "       6674.52450208, 1032.4929546 ])"
      ]
     },
     "execution_count": 44,
     "metadata": {},
     "output_type": "execute_result"
    }
   ],
   "source": [
    "%%time\n",
    "\n",
    "pipeline.predict(X_train)\n"
   ]
  },
  {
   "cell_type": "markdown",
   "metadata": {},
   "source": [
    "**CatBoostRegressor()**"
   ]
  },
  {
   "cell_type": "code",
   "execution_count": 45,
   "metadata": {},
   "outputs": [
    {
     "name": "stdout",
     "output_type": "stream",
     "text": [
      "0:\tlearn: 3904.5271401\ttotal: 40.7ms\tremaining: 40.7s\n",
      "500:\tlearn: 1427.6548697\ttotal: 20.3s\tremaining: 20.2s\n",
      "999:\tlearn: 1330.2100299\ttotal: 40.5s\tremaining: 0us\n",
      "CPU times: user 41.4 s, sys: 113 ms, total: 41.5 s\n",
      "Wall time: 42.8 s\n"
     ]
    },
    {
     "data": {
      "text/html": [
       "<style>#sk-container-id-3 {color: black;background-color: white;}#sk-container-id-3 pre{padding: 0;}#sk-container-id-3 div.sk-toggleable {background-color: white;}#sk-container-id-3 label.sk-toggleable__label {cursor: pointer;display: block;width: 100%;margin-bottom: 0;padding: 0.3em;box-sizing: border-box;text-align: center;}#sk-container-id-3 label.sk-toggleable__label-arrow:before {content: \"▸\";float: left;margin-right: 0.25em;color: #696969;}#sk-container-id-3 label.sk-toggleable__label-arrow:hover:before {color: black;}#sk-container-id-3 div.sk-estimator:hover label.sk-toggleable__label-arrow:before {color: black;}#sk-container-id-3 div.sk-toggleable__content {max-height: 0;max-width: 0;overflow: hidden;text-align: left;background-color: #f0f8ff;}#sk-container-id-3 div.sk-toggleable__content pre {margin: 0.2em;color: black;border-radius: 0.25em;background-color: #f0f8ff;}#sk-container-id-3 input.sk-toggleable__control:checked~div.sk-toggleable__content {max-height: 200px;max-width: 100%;overflow: auto;}#sk-container-id-3 input.sk-toggleable__control:checked~label.sk-toggleable__label-arrow:before {content: \"▾\";}#sk-container-id-3 div.sk-estimator input.sk-toggleable__control:checked~label.sk-toggleable__label {background-color: #d4ebff;}#sk-container-id-3 div.sk-label input.sk-toggleable__control:checked~label.sk-toggleable__label {background-color: #d4ebff;}#sk-container-id-3 input.sk-hidden--visually {border: 0;clip: rect(1px 1px 1px 1px);clip: rect(1px, 1px, 1px, 1px);height: 1px;margin: -1px;overflow: hidden;padding: 0;position: absolute;width: 1px;}#sk-container-id-3 div.sk-estimator {font-family: monospace;background-color: #f0f8ff;border: 1px dotted black;border-radius: 0.25em;box-sizing: border-box;margin-bottom: 0.5em;}#sk-container-id-3 div.sk-estimator:hover {background-color: #d4ebff;}#sk-container-id-3 div.sk-parallel-item::after {content: \"\";width: 100%;border-bottom: 1px solid gray;flex-grow: 1;}#sk-container-id-3 div.sk-label:hover label.sk-toggleable__label {background-color: #d4ebff;}#sk-container-id-3 div.sk-serial::before {content: \"\";position: absolute;border-left: 1px solid gray;box-sizing: border-box;top: 0;bottom: 0;left: 50%;z-index: 0;}#sk-container-id-3 div.sk-serial {display: flex;flex-direction: column;align-items: center;background-color: white;padding-right: 0.2em;padding-left: 0.2em;position: relative;}#sk-container-id-3 div.sk-item {position: relative;z-index: 1;}#sk-container-id-3 div.sk-parallel {display: flex;align-items: stretch;justify-content: center;background-color: white;position: relative;}#sk-container-id-3 div.sk-item::before, #sk-container-id-3 div.sk-parallel-item::before {content: \"\";position: absolute;border-left: 1px solid gray;box-sizing: border-box;top: 0;bottom: 0;left: 50%;z-index: -1;}#sk-container-id-3 div.sk-parallel-item {display: flex;flex-direction: column;z-index: 1;position: relative;background-color: white;}#sk-container-id-3 div.sk-parallel-item:first-child::after {align-self: flex-end;width: 50%;}#sk-container-id-3 div.sk-parallel-item:last-child::after {align-self: flex-start;width: 50%;}#sk-container-id-3 div.sk-parallel-item:only-child::after {width: 0;}#sk-container-id-3 div.sk-dashed-wrapped {border: 1px dashed gray;margin: 0 0.4em 0.5em 0.4em;box-sizing: border-box;padding-bottom: 0.4em;background-color: white;}#sk-container-id-3 div.sk-label label {font-family: monospace;font-weight: bold;display: inline-block;line-height: 1.2em;}#sk-container-id-3 div.sk-label-container {text-align: center;}#sk-container-id-3 div.sk-container {/* jupyter's `normalize.less` sets `[hidden] { display: none; }` but bootstrap.min.css set `[hidden] { display: none !important; }` so we also need the `!important` here to be able to override the default hidden behavior on the sphinx rendered scikit-learn.org. See: https://github.com/scikit-learn/scikit-learn/issues/21755 */display: inline-block !important;position: relative;}#sk-container-id-3 div.sk-text-repr-fallback {display: none;}</style><div id=\"sk-container-id-3\" class=\"sk-top-container\"><div class=\"sk-text-repr-fallback\"><pre>Pipeline(steps=[(&#x27;columntransformer&#x27;,\n",
       "                 ColumnTransformer(remainder=&#x27;passthrough&#x27;,\n",
       "                                   transformers=[(&#x27;ordinalencoder&#x27;,\n",
       "                                                  OrdinalEncoder(handle_unknown=&#x27;use_encoded_value&#x27;,\n",
       "                                                                 unknown_value=251),\n",
       "                                                  [&#x27;VehicleType&#x27;, &#x27;Gearbox&#x27;,\n",
       "                                                   &#x27;Model&#x27;, &#x27;FuelType&#x27;, &#x27;Brand&#x27;,\n",
       "                                                   &#x27;Repaired&#x27;]),\n",
       "                                                 (&#x27;standardscaler&#x27;,\n",
       "                                                  StandardScaler(with_mean=False),\n",
       "                                                  [&#x27;RegistrationYear&#x27;, &#x27;Power&#x27;,\n",
       "                                                   &#x27;Kilometer&#x27;])])),\n",
       "                (&#x27;catboostregressor&#x27;,\n",
       "                 &lt;catboost.core.CatBoostRegressor object at 0x7fe7ddbc5bb0&gt;)])</pre><b>In a Jupyter environment, please rerun this cell to show the HTML representation or trust the notebook. <br />On GitHub, the HTML representation is unable to render, please try loading this page with nbviewer.org.</b></div><div class=\"sk-container\" hidden><div class=\"sk-item sk-dashed-wrapped\"><div class=\"sk-label-container\"><div class=\"sk-label sk-toggleable\"><input class=\"sk-toggleable__control sk-hidden--visually\" id=\"sk-estimator-id-17\" type=\"checkbox\" ><label for=\"sk-estimator-id-17\" class=\"sk-toggleable__label sk-toggleable__label-arrow\">Pipeline</label><div class=\"sk-toggleable__content\"><pre>Pipeline(steps=[(&#x27;columntransformer&#x27;,\n",
       "                 ColumnTransformer(remainder=&#x27;passthrough&#x27;,\n",
       "                                   transformers=[(&#x27;ordinalencoder&#x27;,\n",
       "                                                  OrdinalEncoder(handle_unknown=&#x27;use_encoded_value&#x27;,\n",
       "                                                                 unknown_value=251),\n",
       "                                                  [&#x27;VehicleType&#x27;, &#x27;Gearbox&#x27;,\n",
       "                                                   &#x27;Model&#x27;, &#x27;FuelType&#x27;, &#x27;Brand&#x27;,\n",
       "                                                   &#x27;Repaired&#x27;]),\n",
       "                                                 (&#x27;standardscaler&#x27;,\n",
       "                                                  StandardScaler(with_mean=False),\n",
       "                                                  [&#x27;RegistrationYear&#x27;, &#x27;Power&#x27;,\n",
       "                                                   &#x27;Kilometer&#x27;])])),\n",
       "                (&#x27;catboostregressor&#x27;,\n",
       "                 &lt;catboost.core.CatBoostRegressor object at 0x7fe7ddbc5bb0&gt;)])</pre></div></div></div><div class=\"sk-serial\"><div class=\"sk-item sk-dashed-wrapped\"><div class=\"sk-label-container\"><div class=\"sk-label sk-toggleable\"><input class=\"sk-toggleable__control sk-hidden--visually\" id=\"sk-estimator-id-18\" type=\"checkbox\" ><label for=\"sk-estimator-id-18\" class=\"sk-toggleable__label sk-toggleable__label-arrow\">columntransformer: ColumnTransformer</label><div class=\"sk-toggleable__content\"><pre>ColumnTransformer(remainder=&#x27;passthrough&#x27;,\n",
       "                  transformers=[(&#x27;ordinalencoder&#x27;,\n",
       "                                 OrdinalEncoder(handle_unknown=&#x27;use_encoded_value&#x27;,\n",
       "                                                unknown_value=251),\n",
       "                                 [&#x27;VehicleType&#x27;, &#x27;Gearbox&#x27;, &#x27;Model&#x27;, &#x27;FuelType&#x27;,\n",
       "                                  &#x27;Brand&#x27;, &#x27;Repaired&#x27;]),\n",
       "                                (&#x27;standardscaler&#x27;,\n",
       "                                 StandardScaler(with_mean=False),\n",
       "                                 [&#x27;RegistrationYear&#x27;, &#x27;Power&#x27;, &#x27;Kilometer&#x27;])])</pre></div></div></div><div class=\"sk-parallel\"><div class=\"sk-parallel-item\"><div class=\"sk-item\"><div class=\"sk-label-container\"><div class=\"sk-label sk-toggleable\"><input class=\"sk-toggleable__control sk-hidden--visually\" id=\"sk-estimator-id-19\" type=\"checkbox\" ><label for=\"sk-estimator-id-19\" class=\"sk-toggleable__label sk-toggleable__label-arrow\">ordinalencoder</label><div class=\"sk-toggleable__content\"><pre>[&#x27;VehicleType&#x27;, &#x27;Gearbox&#x27;, &#x27;Model&#x27;, &#x27;FuelType&#x27;, &#x27;Brand&#x27;, &#x27;Repaired&#x27;]</pre></div></div></div><div class=\"sk-serial\"><div class=\"sk-item\"><div class=\"sk-estimator sk-toggleable\"><input class=\"sk-toggleable__control sk-hidden--visually\" id=\"sk-estimator-id-20\" type=\"checkbox\" ><label for=\"sk-estimator-id-20\" class=\"sk-toggleable__label sk-toggleable__label-arrow\">OrdinalEncoder</label><div class=\"sk-toggleable__content\"><pre>OrdinalEncoder(handle_unknown=&#x27;use_encoded_value&#x27;, unknown_value=251)</pre></div></div></div></div></div></div><div class=\"sk-parallel-item\"><div class=\"sk-item\"><div class=\"sk-label-container\"><div class=\"sk-label sk-toggleable\"><input class=\"sk-toggleable__control sk-hidden--visually\" id=\"sk-estimator-id-21\" type=\"checkbox\" ><label for=\"sk-estimator-id-21\" class=\"sk-toggleable__label sk-toggleable__label-arrow\">standardscaler</label><div class=\"sk-toggleable__content\"><pre>[&#x27;RegistrationYear&#x27;, &#x27;Power&#x27;, &#x27;Kilometer&#x27;]</pre></div></div></div><div class=\"sk-serial\"><div class=\"sk-item\"><div class=\"sk-estimator sk-toggleable\"><input class=\"sk-toggleable__control sk-hidden--visually\" id=\"sk-estimator-id-22\" type=\"checkbox\" ><label for=\"sk-estimator-id-22\" class=\"sk-toggleable__label sk-toggleable__label-arrow\">StandardScaler</label><div class=\"sk-toggleable__content\"><pre>StandardScaler(with_mean=False)</pre></div></div></div></div></div></div><div class=\"sk-parallel-item\"><div class=\"sk-item\"><div class=\"sk-label-container\"><div class=\"sk-label sk-toggleable\"><input class=\"sk-toggleable__control sk-hidden--visually\" id=\"sk-estimator-id-23\" type=\"checkbox\" ><label for=\"sk-estimator-id-23\" class=\"sk-toggleable__label sk-toggleable__label-arrow\">remainder</label><div class=\"sk-toggleable__content\"><pre>[]</pre></div></div></div><div class=\"sk-serial\"><div class=\"sk-item\"><div class=\"sk-estimator sk-toggleable\"><input class=\"sk-toggleable__control sk-hidden--visually\" id=\"sk-estimator-id-24\" type=\"checkbox\" ><label for=\"sk-estimator-id-24\" class=\"sk-toggleable__label sk-toggleable__label-arrow\">passthrough</label><div class=\"sk-toggleable__content\"><pre>passthrough</pre></div></div></div></div></div></div></div></div><div class=\"sk-item\"><div class=\"sk-estimator sk-toggleable\"><input class=\"sk-toggleable__control sk-hidden--visually\" id=\"sk-estimator-id-25\" type=\"checkbox\" ><label for=\"sk-estimator-id-25\" class=\"sk-toggleable__label sk-toggleable__label-arrow\">CatBoostRegressor</label><div class=\"sk-toggleable__content\"><pre>&lt;catboost.core.CatBoostRegressor object at 0x7fe7ddbc5bb0&gt;</pre></div></div></div></div></div></div></div>"
      ],
      "text/plain": [
       "Pipeline(steps=[('columntransformer',\n",
       "                 ColumnTransformer(remainder='passthrough',\n",
       "                                   transformers=[('ordinalencoder',\n",
       "                                                  OrdinalEncoder(handle_unknown='use_encoded_value',\n",
       "                                                                 unknown_value=251),\n",
       "                                                  ['VehicleType', 'Gearbox',\n",
       "                                                   'Model', 'FuelType', 'Brand',\n",
       "                                                   'Repaired']),\n",
       "                                                 ('standardscaler',\n",
       "                                                  StandardScaler(with_mean=False),\n",
       "                                                  ['RegistrationYear', 'Power',\n",
       "                                                   'Kilometer'])])),\n",
       "                ('catboostregressor',\n",
       "                 <catboost.core.CatBoostRegressor object at 0x7fe7ddbc5bb0>)])"
      ]
     },
     "execution_count": 45,
     "metadata": {},
     "output_type": "execute_result"
    }
   ],
   "source": [
    "%%time\n",
    "\n",
    "col_transformer = make_column_transformer((OrdinalEncoder(handle_unknown = 'use_encoded_value', unknown_value=251), \n",
    "                                           cat_columns),\n",
    "                                          (StandardScaler(with_mean=False), num_columns), \n",
    "                                          remainder='passthrough')\n",
    "\n",
    "\n",
    "model = CatBoostRegressor(depth = 9, learning_rate = 0.2, random_state=42, verbose=500)\n",
    "pipeline = make_pipeline(col_transformer, model)\n",
    "pipeline.fit(X_train, y_train)\n"
   ]
  },
  {
   "cell_type": "code",
   "execution_count": 46,
   "metadata": {},
   "outputs": [
    {
     "name": "stdout",
     "output_type": "stream",
     "text": [
      "CPU times: user 1.49 s, sys: 12.3 ms, total: 1.51 s\n",
      "Wall time: 1.51 s\n"
     ]
    },
    {
     "data": {
      "text/plain": [
       "array([3627.9332161 ,  871.95177978, 3900.75992257, ..., 5258.25321115,\n",
       "       7263.40444668, 1143.66790867])"
      ]
     },
     "execution_count": 46,
     "metadata": {},
     "output_type": "execute_result"
    }
   ],
   "source": [
    "%%time\n",
    "\n",
    "pipeline.predict(X_train)\n"
   ]
  },
  {
   "cell_type": "markdown",
   "metadata": {},
   "source": [
    "Для наглядности, объединим полученные результаты в таблицу."
   ]
  },
  {
   "cell_type": "code",
   "execution_count": 62,
   "metadata": {},
   "outputs": [
    {
     "data": {
      "text/html": [
       "<div>\n",
       "<style scoped>\n",
       "    .dataframe tbody tr th:only-of-type {\n",
       "        vertical-align: middle;\n",
       "    }\n",
       "\n",
       "    .dataframe tbody tr th {\n",
       "        vertical-align: top;\n",
       "    }\n",
       "\n",
       "    .dataframe thead th {\n",
       "        text-align: right;\n",
       "    }\n",
       "</style>\n",
       "<table border=\"1\" class=\"dataframe\">\n",
       "  <thead>\n",
       "    <tr style=\"text-align: right;\">\n",
       "      <th></th>\n",
       "      <th>Модель</th>\n",
       "      <th>Качество предсказания</th>\n",
       "      <th>Скорость предсказания (с)</th>\n",
       "      <th>Время обучения (с)</th>\n",
       "    </tr>\n",
       "  </thead>\n",
       "  <tbody>\n",
       "    <tr>\n",
       "      <th>0</th>\n",
       "      <td>DecisionTreeRegressor()</td>\n",
       "      <td>1928</td>\n",
       "      <td>0.33</td>\n",
       "      <td>0.93</td>\n",
       "    </tr>\n",
       "    <tr>\n",
       "      <th>1</th>\n",
       "      <td>LGBMRegressor()</td>\n",
       "      <td>1651</td>\n",
       "      <td>1.80</td>\n",
       "      <td>597.00</td>\n",
       "    </tr>\n",
       "    <tr>\n",
       "      <th>2</th>\n",
       "      <td>CatBoostRegressor()</td>\n",
       "      <td>1577</td>\n",
       "      <td>1.51</td>\n",
       "      <td>42.80</td>\n",
       "    </tr>\n",
       "  </tbody>\n",
       "</table>\n",
       "</div>"
      ],
      "text/plain": [
       "                    Модель  Качество предсказания  Скорость предсказания (с)  \\\n",
       "0  DecisionTreeRegressor()                   1928                       0.33   \n",
       "1          LGBMRegressor()                   1651                       1.80   \n",
       "2      CatBoostRegressor()                   1577                       1.51   \n",
       "\n",
       "   Время обучения (с)  \n",
       "0                0.93  \n",
       "1              597.00  \n",
       "2               42.80  "
      ]
     },
     "execution_count": 62,
     "metadata": {},
     "output_type": "execute_result"
    }
   ],
   "source": [
    "info = pd.DataFrame(data=[['DecisionTreeRegressor()', 1928, 0.330, 0.93], \n",
    "                          ['LGBMRegressor()', 1651, 1.8, 597], \n",
    "                          ['CatBoostRegressor()', 1577, 1.51, 42.8]], \n",
    "                    columns=['Модель', 'Качество предсказания', 'Скорость предсказания (с)', 'Время обучения (с)'])\n",
    "info"
   ]
  },
  {
   "cell_type": "markdown",
   "metadata": {},
   "source": [
    "У модели DecisionTreeRegressor() лучшие показатели по времени предсказаний и обучения, но худшая из трех метрика качества. Наилучшая метрика качества у модели CatBoostRegressor(). У нее также немного более высокая скорость предсказания и существенно более высокая скорость обучения по сравнению с LGBMRegressor()\t  \n",
    "Учитывая совокупность показателей наиболее полно удовлетворяет требованиям заказчика модель CatBoostRegressor().  \n",
    "Проверим выбранную модель на тестовой выборке."
   ]
  },
  {
   "cell_type": "code",
   "execution_count": 60,
   "metadata": {},
   "outputs": [
    {
     "data": {
      "text/plain": [
       "1562.8971332365506"
      ]
     },
     "execution_count": 60,
     "metadata": {},
     "output_type": "execute_result"
    }
   ],
   "source": [
    "# получим предсказания на тестовой выборке и посчитаем RMSE, учитывая, что выбранная модель шла последней, \n",
    "# переменную pipeline не надо дублировать или переименовывать\n",
    "\n",
    "prediction = pipeline.predict(X_test)\n",
    "metric_test = np.sqrt(mean_squared_error(y_test, prediction))\n",
    "metric_test\n"
   ]
  },
  {
   "cell_type": "markdown",
   "metadata": {},
   "source": [
    "**Вывод**  \n",
    "На тестовой выборке качество выбранной модели (метрика RMSE) сопоставимо с данными на тренировочной выборке (даже чуть лучше)."
   ]
  },
  {
   "cell_type": "markdown",
   "metadata": {},
   "source": [
    "## Общий вывод"
   ]
  },
  {
   "cell_type": "markdown",
   "metadata": {},
   "source": [
    "**Загрузка и обзор данных**  \n",
    "Представленый датасет содержит 15 признаков (включая целевой) и 354 369 записей.\n",
    "В датасете содержится информация об автомобилях (250 моделей 40 брендов).\n",
    "Цена авто в диапазоне от 0 до 20 000 евро, медиана - 2 700, средняя - 4 417.\n",
    "Пробег от 5 000 до 150 000 км, при этом большая часть, более 50% имеют пробег 150 000 км.   \n",
    "В пяти столбцах имеются пропущенные значения.\n",
    "Часть признаков не информативна:\n",
    "- почтовый индекс владельца анкеты (PostalCode).   \n",
    "- столбец NumberOfPictures (количество фотографий автомобиля) содержит одни 0,    \n",
    "- столбцы DateCrawled, DateCreated и LastSeen относятся к созданию анкеты, ее скачиванию и последней активности пользователя, что не имеет непосрдственного отношения к автомобилю  \n",
    "- месяц регистрации (RegistrationMonth)   \n",
    "\n",
    "**Изучение данных**  \n",
    "В рамках данного этапа:\n",
    "- выявлены и удалены дубликаты  \n",
    "- удалены неинформативные признаки  \n",
    "- в столбце Price удалены столбцы с неправдоподобно низкой ценой (менее 100 евро)  \n",
    "- в столбцах VehicleType, Gearbox, Model, FuelType, Brand и NotRepaired пропущенные значения заменены на \"unknown\"  \n",
    "- в столбце RegistrationYear удалены записи с годом регистрации авто менее 1950 и более 2023  \n",
    "- в столбце Power нулевые значения заменены на медиану по соответствующей модели, после этого удалены аномальные и выбивающиеся значения (менее 45 л.с. и более 450 л.с.)    \n",
    "\n",
    "**Подготовка выборки для обучения моделей**  \n",
    "Сформированы переменные с признаками (без целевого) и с целевым признаком.  \n",
    "Выборки разделены на обучающую и тестовую в пропорции 4 к 1   \n",
    "Подготовлены списки категориальных и числовых признаков для кодирования и масштабирования.  \n",
    "Непосредственно кодирование и масштабирование проведено в ходе обучения, поскольку для разных моделей используются разные подходы.   \n",
    "\n",
    "**Обучение моделей**  \n",
    "Обучено 4 модели: LinearRegression(), DecisionTreeRegressor(), LGBMRegressor() и CatBoostRegressor()  \n",
    "По всем 4 моделям проведено обучение и подбор гипперпараметров, получены лучшие оценки по метрике RMSE.  \n",
    "Модель LinearRegression() была заброкавана, так как у нее значение метрики RMSE выше макимально допустимого уровня в 2500, установленного заказщиком.  \n",
    "\n",
    "**Анализ моделей**  \n",
    "У модели DecisionTreeRegressor() лучшие показатели по времени предсказаний и обучения, но худшая из трех метрика качества. Наилучшая метрика качества у модели CatBoostRegressor(). У нее также немного более высокая скорость предсказания и существенно более высокая скорость обучения по сравнению с LGBMRegressor()\n",
    "Учитывая совокупность показателей наиболее полно удовлетворяет требованиям заказчика модель -   \n",
    "CatBoostRegressor(), качество выбранной модели - 1576, скрость предсказания - 1.97 с, время обучения - 52.4 с  \n",
    "На тестовой выборке качество выбранной модели (метрика RMSE) сопоставимо с данными на тренировочной выборке (1563)."
   ]
  },
  {
   "cell_type": "code",
   "execution_count": null,
   "metadata": {},
   "outputs": [],
   "source": []
  },
  {
   "cell_type": "code",
   "execution_count": null,
   "metadata": {},
   "outputs": [],
   "source": []
  }
 ],
 "metadata": {
  "ExecuteTimeLog": [
   {
    "duration": 49,
    "start_time": "2023-08-09T14:36:13.279Z"
   },
   {
    "duration": 329,
    "start_time": "2023-08-09T14:36:16.898Z"
   },
   {
    "duration": 946,
    "start_time": "2023-08-09T14:36:17.632Z"
   },
   {
    "duration": 55,
    "start_time": "2023-08-09T15:59:58.893Z"
   },
   {
    "duration": 2,
    "start_time": "2023-08-09T16:00:52.272Z"
   },
   {
    "duration": 3,
    "start_time": "2023-08-09T16:00:55.166Z"
   },
   {
    "duration": 391,
    "start_time": "2023-08-09T16:04:31.432Z"
   },
   {
    "duration": 753,
    "start_time": "2023-08-09T16:04:31.825Z"
   },
   {
    "duration": 365,
    "start_time": "2023-08-09T16:22:50.251Z"
   },
   {
    "duration": 717,
    "start_time": "2023-08-09T16:22:50.618Z"
   },
   {
    "duration": 113,
    "start_time": "2023-08-09T16:37:56.928Z"
   },
   {
    "duration": 83,
    "start_time": "2023-08-09T16:39:19.211Z"
   },
   {
    "duration": 85,
    "start_time": "2023-08-09T16:42:05.120Z"
   },
   {
    "duration": 784,
    "start_time": "2023-08-09T16:53:54.207Z"
   },
   {
    "duration": 642,
    "start_time": "2023-08-09T16:54:08.511Z"
   },
   {
    "duration": 62,
    "start_time": "2023-08-09T16:56:08.463Z"
   },
   {
    "duration": 76,
    "start_time": "2023-08-09T16:56:19.340Z"
   },
   {
    "duration": 364,
    "start_time": "2023-08-09T16:56:50.577Z"
   },
   {
    "duration": 1659,
    "start_time": "2023-08-09T16:57:46.822Z"
   },
   {
    "duration": 35,
    "start_time": "2023-08-09T18:23:34.948Z"
   },
   {
    "duration": 26,
    "start_time": "2023-08-09T18:23:52.258Z"
   },
   {
    "duration": 14,
    "start_time": "2023-08-09T18:24:12.125Z"
   },
   {
    "duration": 10,
    "start_time": "2023-08-09T18:25:00.912Z"
   },
   {
    "duration": 11,
    "start_time": "2023-08-09T18:26:34.034Z"
   },
   {
    "duration": 13,
    "start_time": "2023-08-09T18:27:11.894Z"
   },
   {
    "duration": 554,
    "start_time": "2023-08-09T18:29:18.369Z"
   },
   {
    "duration": 720,
    "start_time": "2023-08-09T18:29:18.924Z"
   },
   {
    "duration": 108,
    "start_time": "2023-08-09T18:29:19.645Z"
   },
   {
    "duration": 719,
    "start_time": "2023-08-09T18:29:19.755Z"
   },
   {
    "duration": 82,
    "start_time": "2023-08-09T18:29:20.475Z"
   },
   {
    "duration": 1540,
    "start_time": "2023-08-09T18:29:20.559Z"
   },
   {
    "duration": 23,
    "start_time": "2023-08-09T18:29:22.100Z"
   },
   {
    "duration": 79,
    "start_time": "2023-08-09T18:30:19.643Z"
   },
   {
    "duration": 561,
    "start_time": "2023-08-09T18:31:07.468Z"
   },
   {
    "duration": 736,
    "start_time": "2023-08-09T18:31:08.030Z"
   },
   {
    "duration": 109,
    "start_time": "2023-08-09T18:31:08.767Z"
   },
   {
    "duration": 689,
    "start_time": "2023-08-09T18:31:08.878Z"
   },
   {
    "duration": 81,
    "start_time": "2023-08-09T18:31:09.569Z"
   },
   {
    "duration": 1492,
    "start_time": "2023-08-09T18:31:09.651Z"
   },
   {
    "duration": 81,
    "start_time": "2023-08-09T18:31:11.144Z"
   },
   {
    "duration": 15,
    "start_time": "2023-08-09T18:33:58.839Z"
   },
   {
    "duration": 89,
    "start_time": "2023-08-09T18:36:22.558Z"
   },
   {
    "duration": 583,
    "start_time": "2023-08-09T18:36:31.601Z"
   },
   {
    "duration": 726,
    "start_time": "2023-08-09T18:36:32.186Z"
   },
   {
    "duration": 104,
    "start_time": "2023-08-09T18:36:32.913Z"
   },
   {
    "duration": 693,
    "start_time": "2023-08-09T18:36:33.018Z"
   },
   {
    "duration": 81,
    "start_time": "2023-08-09T18:36:33.713Z"
   },
   {
    "duration": 1539,
    "start_time": "2023-08-09T18:36:33.795Z"
   },
   {
    "duration": 84,
    "start_time": "2023-08-09T18:36:35.335Z"
   },
   {
    "duration": 98,
    "start_time": "2023-08-09T18:36:35.420Z"
   },
   {
    "duration": 33,
    "start_time": "2023-08-09T18:38:03.513Z"
   },
   {
    "duration": 55,
    "start_time": "2023-08-09T18:39:28.646Z"
   },
   {
    "duration": 31,
    "start_time": "2023-08-09T18:39:37.070Z"
   },
   {
    "duration": 22,
    "start_time": "2023-08-09T18:43:55.348Z"
   },
   {
    "duration": 3,
    "start_time": "2023-08-09T18:45:13.439Z"
   },
   {
    "duration": 29,
    "start_time": "2023-08-09T18:45:23.779Z"
   },
   {
    "duration": 104,
    "start_time": "2023-08-09T19:18:56.311Z"
   },
   {
    "duration": 177,
    "start_time": "2023-08-09T19:19:39.118Z"
   },
   {
    "duration": 107,
    "start_time": "2023-08-09T19:20:05.510Z"
   },
   {
    "duration": 15,
    "start_time": "2023-08-09T19:20:24.180Z"
   },
   {
    "duration": 105,
    "start_time": "2023-08-09T19:21:28.510Z"
   },
   {
    "duration": 7,
    "start_time": "2023-08-09T19:28:42.999Z"
   },
   {
    "duration": 757,
    "start_time": "2023-08-09T19:29:30.394Z"
   },
   {
    "duration": 46,
    "start_time": "2023-08-09T19:29:40.281Z"
   },
   {
    "duration": 85,
    "start_time": "2023-08-09T19:29:58.119Z"
   },
   {
    "duration": 1290,
    "start_time": "2023-08-09T19:30:07.448Z"
   },
   {
    "duration": 793,
    "start_time": "2023-08-09T19:30:08.740Z"
   },
   {
    "duration": 126,
    "start_time": "2023-08-09T19:30:09.535Z"
   },
   {
    "duration": 731,
    "start_time": "2023-08-09T19:30:09.664Z"
   },
   {
    "duration": 84,
    "start_time": "2023-08-09T19:30:10.396Z"
   },
   {
    "duration": 1644,
    "start_time": "2023-08-09T19:30:10.481Z"
   },
   {
    "duration": 92,
    "start_time": "2023-08-09T19:30:12.126Z"
   },
   {
    "duration": 212,
    "start_time": "2023-08-09T19:30:12.220Z"
   },
   {
    "duration": 0,
    "start_time": "2023-08-09T19:30:12.438Z"
   },
   {
    "duration": 18,
    "start_time": "2023-08-09T19:32:11.431Z"
   },
   {
    "duration": 1010,
    "start_time": "2023-08-11T09:42:59.807Z"
   },
   {
    "duration": 3309,
    "start_time": "2023-08-11T09:43:00.819Z"
   },
   {
    "duration": 142,
    "start_time": "2023-08-11T09:43:04.132Z"
   },
   {
    "duration": 937,
    "start_time": "2023-08-11T09:43:04.276Z"
   },
   {
    "duration": 94,
    "start_time": "2023-08-11T09:43:05.215Z"
   },
   {
    "duration": 1989,
    "start_time": "2023-08-11T09:43:05.311Z"
   },
   {
    "duration": 110,
    "start_time": "2023-08-11T09:43:07.302Z"
   },
   {
    "duration": 16,
    "start_time": "2023-08-11T09:43:07.413Z"
   },
   {
    "duration": 385,
    "start_time": "2023-08-11T09:49:31.225Z"
   },
   {
    "duration": 403,
    "start_time": "2023-08-11T09:55:31.168Z"
   },
   {
    "duration": 292,
    "start_time": "2023-08-11T09:56:04.813Z"
   },
   {
    "duration": 286,
    "start_time": "2023-08-11T09:56:29.773Z"
   },
   {
    "duration": 275,
    "start_time": "2023-08-11T09:59:18.224Z"
   },
   {
    "duration": 283,
    "start_time": "2023-08-11T09:59:39.135Z"
   },
   {
    "duration": 104,
    "start_time": "2023-08-11T10:01:44.352Z"
   },
   {
    "duration": 22,
    "start_time": "2023-08-11T10:02:02.791Z"
   },
   {
    "duration": 265,
    "start_time": "2023-08-11T10:05:39.506Z"
   },
   {
    "duration": 404,
    "start_time": "2023-08-11T10:15:09.794Z"
   },
   {
    "duration": 320,
    "start_time": "2023-08-11T10:15:30.494Z"
   },
   {
    "duration": 323,
    "start_time": "2023-08-11T10:16:06.720Z"
   },
   {
    "duration": 296,
    "start_time": "2023-08-11T10:16:43.592Z"
   },
   {
    "duration": 282,
    "start_time": "2023-08-11T10:17:04.260Z"
   },
   {
    "duration": 30,
    "start_time": "2023-08-11T10:20:31.952Z"
   },
   {
    "duration": 47,
    "start_time": "2023-08-11T10:20:54.746Z"
   },
   {
    "duration": 354,
    "start_time": "2023-08-11T10:23:35.145Z"
   },
   {
    "duration": 1546,
    "start_time": "2023-08-11T12:23:25.402Z"
   },
   {
    "duration": 681,
    "start_time": "2023-08-11T12:23:35.656Z"
   },
   {
    "duration": 867,
    "start_time": "2023-08-11T12:23:36.339Z"
   },
   {
    "duration": 149,
    "start_time": "2023-08-11T12:23:37.208Z"
   },
   {
    "duration": 1063,
    "start_time": "2023-08-11T12:23:37.359Z"
   },
   {
    "duration": 83,
    "start_time": "2023-08-11T12:23:38.424Z"
   },
   {
    "duration": 2227,
    "start_time": "2023-08-11T12:23:38.509Z"
   },
   {
    "duration": 326,
    "start_time": "2023-08-11T12:23:40.739Z"
   },
   {
    "duration": 126,
    "start_time": "2023-08-11T12:23:41.067Z"
   },
   {
    "duration": 340,
    "start_time": "2023-08-11T12:23:41.195Z"
   },
   {
    "duration": 405,
    "start_time": "2023-08-11T12:23:41.537Z"
   },
   {
    "duration": 45,
    "start_time": "2023-08-11T12:23:41.943Z"
   },
   {
    "duration": 148,
    "start_time": "2023-08-11T12:24:44.006Z"
   },
   {
    "duration": 2088,
    "start_time": "2023-08-11T12:25:01.358Z"
   },
   {
    "duration": 640,
    "start_time": "2023-08-11T12:25:10.821Z"
   },
   {
    "duration": 906,
    "start_time": "2023-08-11T12:25:11.463Z"
   },
   {
    "duration": 195,
    "start_time": "2023-08-11T12:25:12.377Z"
   },
   {
    "duration": 1008,
    "start_time": "2023-08-11T12:25:12.582Z"
   },
   {
    "duration": 91,
    "start_time": "2023-08-11T12:25:13.592Z"
   },
   {
    "duration": 2196,
    "start_time": "2023-08-11T12:25:13.685Z"
   },
   {
    "duration": 324,
    "start_time": "2023-08-11T12:25:15.887Z"
   },
   {
    "duration": 125,
    "start_time": "2023-08-11T12:25:16.214Z"
   },
   {
    "duration": 360,
    "start_time": "2023-08-11T12:25:16.341Z"
   },
   {
    "duration": 436,
    "start_time": "2023-08-11T12:25:16.703Z"
   },
   {
    "duration": 48,
    "start_time": "2023-08-11T12:25:17.140Z"
   },
   {
    "duration": 695,
    "start_time": "2023-08-11T12:27:59.445Z"
   },
   {
    "duration": 965,
    "start_time": "2023-08-11T12:28:00.142Z"
   },
   {
    "duration": 143,
    "start_time": "2023-08-11T12:28:01.109Z"
   },
   {
    "duration": 1101,
    "start_time": "2023-08-11T12:28:01.256Z"
   },
   {
    "duration": 75,
    "start_time": "2023-08-11T12:28:02.359Z"
   },
   {
    "duration": 109,
    "start_time": "2023-08-11T12:28:02.436Z"
   },
   {
    "duration": 2189,
    "start_time": "2023-08-11T12:28:02.547Z"
   },
   {
    "duration": 296,
    "start_time": "2023-08-11T12:28:04.738Z"
   },
   {
    "duration": 130,
    "start_time": "2023-08-11T12:28:05.036Z"
   },
   {
    "duration": 342,
    "start_time": "2023-08-11T12:28:05.168Z"
   },
   {
    "duration": 423,
    "start_time": "2023-08-11T12:28:05.512Z"
   },
   {
    "duration": 37,
    "start_time": "2023-08-11T12:28:05.937Z"
   },
   {
    "duration": 448,
    "start_time": "2023-08-11T12:51:28.768Z"
   },
   {
    "duration": 667,
    "start_time": "2023-08-11T12:51:45.962Z"
   },
   {
    "duration": 820,
    "start_time": "2023-08-11T12:51:46.631Z"
   },
   {
    "duration": 132,
    "start_time": "2023-08-11T12:51:47.453Z"
   },
   {
    "duration": 916,
    "start_time": "2023-08-11T12:51:47.587Z"
   },
   {
    "duration": 83,
    "start_time": "2023-08-11T12:51:48.504Z"
   },
   {
    "duration": 1076,
    "start_time": "2023-08-11T12:51:48.589Z"
   },
   {
    "duration": 101,
    "start_time": "2023-08-11T12:51:49.674Z"
   },
   {
    "duration": 321,
    "start_time": "2023-08-11T12:51:49.777Z"
   },
   {
    "duration": 375,
    "start_time": "2023-08-11T12:51:50.100Z"
   },
   {
    "duration": 36,
    "start_time": "2023-08-11T12:51:50.478Z"
   },
   {
    "duration": 111,
    "start_time": "2023-08-11T13:24:16.091Z"
   },
   {
    "duration": 129,
    "start_time": "2023-08-11T13:24:23.985Z"
   },
   {
    "duration": 157,
    "start_time": "2023-08-11T13:27:30.249Z"
   },
   {
    "duration": 679,
    "start_time": "2023-08-11T13:27:49.602Z"
   },
   {
    "duration": 937,
    "start_time": "2023-08-11T13:27:50.284Z"
   },
   {
    "duration": 154,
    "start_time": "2023-08-11T13:27:51.223Z"
   },
   {
    "duration": 1003,
    "start_time": "2023-08-11T13:27:51.380Z"
   },
   {
    "duration": 91,
    "start_time": "2023-08-11T13:27:52.385Z"
   },
   {
    "duration": 2074,
    "start_time": "2023-08-11T13:27:52.479Z"
   },
   {
    "duration": 124,
    "start_time": "2023-08-11T13:27:54.555Z"
   },
   {
    "duration": 342,
    "start_time": "2023-08-11T13:27:54.681Z"
   },
   {
    "duration": 299,
    "start_time": "2023-08-11T13:27:55.025Z"
   },
   {
    "duration": 47,
    "start_time": "2023-08-11T13:27:55.327Z"
   },
   {
    "duration": 105,
    "start_time": "2023-08-11T13:27:55.376Z"
   },
   {
    "duration": 419,
    "start_time": "2023-08-11T13:30:28.232Z"
   },
   {
    "duration": 79,
    "start_time": "2023-08-11T13:32:01.982Z"
   },
   {
    "duration": 44,
    "start_time": "2023-08-11T13:32:13.875Z"
   },
   {
    "duration": 30,
    "start_time": "2023-08-11T13:36:28.593Z"
   },
   {
    "duration": 301,
    "start_time": "2023-08-11T13:36:32.541Z"
   },
   {
    "duration": 63,
    "start_time": "2023-08-11T13:37:42.950Z"
   },
   {
    "duration": 35,
    "start_time": "2023-08-11T13:39:36.873Z"
   },
   {
    "duration": 534,
    "start_time": "2023-08-11T13:43:07.919Z"
   },
   {
    "duration": 404,
    "start_time": "2023-08-11T13:44:33.155Z"
   },
   {
    "duration": 338,
    "start_time": "2023-08-11T13:45:35.272Z"
   },
   {
    "duration": 29,
    "start_time": "2023-08-11T13:47:03.700Z"
   },
   {
    "duration": 268,
    "start_time": "2023-08-11T13:50:16.610Z"
   },
   {
    "duration": 34,
    "start_time": "2023-08-11T14:00:04.791Z"
   },
   {
    "duration": 41,
    "start_time": "2023-08-11T14:00:27.908Z"
   },
   {
    "duration": 68,
    "start_time": "2023-08-11T14:03:08.346Z"
   },
   {
    "duration": 50,
    "start_time": "2023-08-11T14:03:39.411Z"
   },
   {
    "duration": 51,
    "start_time": "2023-08-11T14:04:04.424Z"
   },
   {
    "duration": 53,
    "start_time": "2023-08-11T14:04:13.584Z"
   },
   {
    "duration": 49,
    "start_time": "2023-08-11T14:04:27.829Z"
   },
   {
    "duration": 50,
    "start_time": "2023-08-11T14:04:53.400Z"
   },
   {
    "duration": 669,
    "start_time": "2023-08-11T14:05:04.648Z"
   },
   {
    "duration": 825,
    "start_time": "2023-08-11T14:05:05.319Z"
   },
   {
    "duration": 142,
    "start_time": "2023-08-11T14:05:06.145Z"
   },
   {
    "duration": 865,
    "start_time": "2023-08-11T14:05:06.289Z"
   },
   {
    "duration": 84,
    "start_time": "2023-08-11T14:05:07.156Z"
   },
   {
    "duration": 1786,
    "start_time": "2023-08-11T14:05:07.242Z"
   },
   {
    "duration": 106,
    "start_time": "2023-08-11T14:05:09.029Z"
   },
   {
    "duration": 298,
    "start_time": "2023-08-11T14:05:09.136Z"
   },
   {
    "duration": 267,
    "start_time": "2023-08-11T14:05:09.436Z"
   },
   {
    "duration": 34,
    "start_time": "2023-08-11T14:05:09.705Z"
   },
   {
    "duration": 97,
    "start_time": "2023-08-11T14:05:09.741Z"
   },
   {
    "duration": 51,
    "start_time": "2023-08-11T14:05:09.839Z"
   },
   {
    "duration": 420,
    "start_time": "2023-08-11T14:05:09.892Z"
   },
   {
    "duration": 287,
    "start_time": "2023-08-11T14:05:10.314Z"
   },
   {
    "duration": 49,
    "start_time": "2023-08-11T14:05:10.603Z"
   },
   {
    "duration": 265,
    "start_time": "2023-08-11T14:18:09.587Z"
   },
   {
    "duration": 299,
    "start_time": "2023-08-11T14:18:43.128Z"
   },
   {
    "duration": 23,
    "start_time": "2023-08-11T14:21:08.530Z"
   },
   {
    "duration": 355,
    "start_time": "2023-08-11T14:21:10.195Z"
   },
   {
    "duration": 403,
    "start_time": "2023-08-11T14:22:33.488Z"
   },
   {
    "duration": 276,
    "start_time": "2023-08-11T14:23:22.923Z"
   },
   {
    "duration": 276,
    "start_time": "2023-08-11T14:24:04.341Z"
   },
   {
    "duration": 293,
    "start_time": "2023-08-11T14:24:20.395Z"
   },
   {
    "duration": 265,
    "start_time": "2023-08-11T14:26:25.961Z"
   },
   {
    "duration": 282,
    "start_time": "2023-08-11T14:27:11.074Z"
   },
   {
    "duration": 358,
    "start_time": "2023-08-11T14:27:26.017Z"
   },
   {
    "duration": 32,
    "start_time": "2023-08-11T14:30:56.223Z"
   },
   {
    "duration": 292,
    "start_time": "2023-08-11T14:32:24.414Z"
   },
   {
    "duration": 337,
    "start_time": "2023-08-11T14:33:28.962Z"
   },
   {
    "duration": 288,
    "start_time": "2023-08-11T14:33:50.891Z"
   },
   {
    "duration": 365,
    "start_time": "2023-08-11T14:37:03.951Z"
   },
   {
    "duration": 257,
    "start_time": "2023-08-11T14:40:01.158Z"
   },
   {
    "duration": 612,
    "start_time": "2023-08-11T14:40:46.208Z"
   },
   {
    "duration": 776,
    "start_time": "2023-08-11T14:40:46.822Z"
   },
   {
    "duration": 121,
    "start_time": "2023-08-11T14:40:47.600Z"
   },
   {
    "duration": 854,
    "start_time": "2023-08-11T14:40:47.723Z"
   },
   {
    "duration": 78,
    "start_time": "2023-08-11T14:40:48.579Z"
   },
   {
    "duration": 1996,
    "start_time": "2023-08-11T14:40:48.659Z"
   },
   {
    "duration": 100,
    "start_time": "2023-08-11T14:40:50.657Z"
   },
   {
    "duration": 307,
    "start_time": "2023-08-11T14:40:50.759Z"
   },
   {
    "duration": 292,
    "start_time": "2023-08-11T14:40:51.068Z"
   },
   {
    "duration": 47,
    "start_time": "2023-08-11T14:40:51.363Z"
   },
   {
    "duration": 111,
    "start_time": "2023-08-11T14:40:51.412Z"
   },
   {
    "duration": 52,
    "start_time": "2023-08-11T14:40:51.525Z"
   },
   {
    "duration": 379,
    "start_time": "2023-08-11T14:40:51.578Z"
   },
   {
    "duration": 271,
    "start_time": "2023-08-11T14:40:51.959Z"
   },
   {
    "duration": 63,
    "start_time": "2023-08-11T14:40:52.232Z"
   },
   {
    "duration": 24,
    "start_time": "2023-08-11T14:40:52.297Z"
   },
   {
    "duration": 288,
    "start_time": "2023-08-11T14:40:52.323Z"
   },
   {
    "duration": 280,
    "start_time": "2023-08-11T14:40:52.613Z"
   },
   {
    "duration": 260,
    "start_time": "2023-08-11T14:40:52.895Z"
   },
   {
    "duration": 31,
    "start_time": "2023-08-11T14:40:53.156Z"
   },
   {
    "duration": 380,
    "start_time": "2023-08-11T14:40:53.189Z"
   },
   {
    "duration": 304,
    "start_time": "2023-08-11T14:40:53.571Z"
   },
   {
    "duration": 7743,
    "start_time": "2023-08-11T17:16:39.565Z"
   },
   {
    "duration": 24,
    "start_time": "2023-08-11T17:16:47.309Z"
   },
   {
    "duration": 653,
    "start_time": "2023-08-11T17:16:50.034Z"
   },
   {
    "duration": 797,
    "start_time": "2023-08-11T17:16:50.688Z"
   },
   {
    "duration": 128,
    "start_time": "2023-08-11T17:16:51.486Z"
   },
   {
    "duration": 866,
    "start_time": "2023-08-11T17:16:51.617Z"
   },
   {
    "duration": 76,
    "start_time": "2023-08-11T17:16:52.485Z"
   },
   {
    "duration": 1767,
    "start_time": "2023-08-11T17:16:52.575Z"
   },
   {
    "duration": 99,
    "start_time": "2023-08-11T17:16:54.344Z"
   },
   {
    "duration": 298,
    "start_time": "2023-08-11T17:16:54.445Z"
   },
   {
    "duration": 256,
    "start_time": "2023-08-11T17:16:54.745Z"
   },
   {
    "duration": 33,
    "start_time": "2023-08-11T17:16:55.004Z"
   },
   {
    "duration": 94,
    "start_time": "2023-08-11T17:16:55.039Z"
   },
   {
    "duration": 44,
    "start_time": "2023-08-11T17:16:55.135Z"
   },
   {
    "duration": 368,
    "start_time": "2023-08-11T17:16:55.181Z"
   },
   {
    "duration": 260,
    "start_time": "2023-08-11T17:16:55.552Z"
   },
   {
    "duration": 49,
    "start_time": "2023-08-11T17:16:55.814Z"
   },
   {
    "duration": 22,
    "start_time": "2023-08-11T17:16:55.875Z"
   },
   {
    "duration": 286,
    "start_time": "2023-08-11T17:16:55.899Z"
   },
   {
    "duration": 274,
    "start_time": "2023-08-11T17:16:56.187Z"
   },
   {
    "duration": 263,
    "start_time": "2023-08-11T17:16:56.462Z"
   },
   {
    "duration": 9386,
    "start_time": "2023-08-11T17:16:56.727Z"
   },
   {
    "duration": 35,
    "start_time": "2023-08-11T17:17:06.115Z"
   },
   {
    "duration": 363,
    "start_time": "2023-08-11T17:17:06.152Z"
   },
   {
    "duration": 258,
    "start_time": "2023-08-11T17:17:06.517Z"
   },
   {
    "duration": 50,
    "start_time": "2023-08-11T17:18:57.335Z"
   },
   {
    "duration": 631,
    "start_time": "2023-08-11T17:19:21.722Z"
   },
   {
    "duration": 824,
    "start_time": "2023-08-11T17:19:22.355Z"
   },
   {
    "duration": 133,
    "start_time": "2023-08-11T17:19:23.181Z"
   },
   {
    "duration": 932,
    "start_time": "2023-08-11T17:19:23.316Z"
   },
   {
    "duration": 81,
    "start_time": "2023-08-11T17:19:24.250Z"
   },
   {
    "duration": 1853,
    "start_time": "2023-08-11T17:19:24.332Z"
   },
   {
    "duration": 109,
    "start_time": "2023-08-11T17:19:26.187Z"
   },
   {
    "duration": 310,
    "start_time": "2023-08-11T17:19:26.297Z"
   },
   {
    "duration": 274,
    "start_time": "2023-08-11T17:19:26.609Z"
   },
   {
    "duration": 36,
    "start_time": "2023-08-11T17:19:26.887Z"
   },
   {
    "duration": 112,
    "start_time": "2023-08-11T17:19:26.925Z"
   },
   {
    "duration": 55,
    "start_time": "2023-08-11T17:19:27.039Z"
   },
   {
    "duration": 433,
    "start_time": "2023-08-11T17:19:27.096Z"
   },
   {
    "duration": 281,
    "start_time": "2023-08-11T17:19:27.530Z"
   },
   {
    "duration": 62,
    "start_time": "2023-08-11T17:19:27.813Z"
   },
   {
    "duration": 24,
    "start_time": "2023-08-11T17:19:27.877Z"
   },
   {
    "duration": 310,
    "start_time": "2023-08-11T17:19:27.903Z"
   },
   {
    "duration": 314,
    "start_time": "2023-08-11T17:19:28.215Z"
   },
   {
    "duration": 292,
    "start_time": "2023-08-11T17:19:28.530Z"
   },
   {
    "duration": 10056,
    "start_time": "2023-08-11T17:19:28.823Z"
   },
   {
    "duration": 73,
    "start_time": "2023-08-11T17:19:38.881Z"
   },
   {
    "duration": 48,
    "start_time": "2023-08-11T17:19:38.955Z"
   },
   {
    "duration": 405,
    "start_time": "2023-08-11T17:19:39.006Z"
   },
   {
    "duration": 291,
    "start_time": "2023-08-11T17:19:39.413Z"
   },
   {
    "duration": 7996,
    "start_time": "2023-08-11T17:22:14.560Z"
   },
   {
    "duration": 64,
    "start_time": "2023-08-11T17:22:22.558Z"
   },
   {
    "duration": 617,
    "start_time": "2023-08-11T17:23:17.723Z"
   },
   {
    "duration": 801,
    "start_time": "2023-08-11T17:23:18.341Z"
   },
   {
    "duration": 134,
    "start_time": "2023-08-11T17:23:19.144Z"
   },
   {
    "duration": 823,
    "start_time": "2023-08-11T17:23:19.280Z"
   },
   {
    "duration": 114,
    "start_time": "2023-08-11T17:23:20.105Z"
   },
   {
    "duration": 1776,
    "start_time": "2023-08-11T17:23:20.221Z"
   },
   {
    "duration": 115,
    "start_time": "2023-08-11T17:23:21.998Z"
   },
   {
    "duration": 311,
    "start_time": "2023-08-11T17:23:22.115Z"
   },
   {
    "duration": 286,
    "start_time": "2023-08-11T17:23:22.428Z"
   },
   {
    "duration": 36,
    "start_time": "2023-08-11T17:23:22.718Z"
   },
   {
    "duration": 101,
    "start_time": "2023-08-11T17:23:22.756Z"
   },
   {
    "duration": 46,
    "start_time": "2023-08-11T17:23:22.859Z"
   },
   {
    "duration": 367,
    "start_time": "2023-08-11T17:23:22.907Z"
   },
   {
    "duration": 249,
    "start_time": "2023-08-11T17:23:23.275Z"
   },
   {
    "duration": 59,
    "start_time": "2023-08-11T17:23:23.525Z"
   },
   {
    "duration": 23,
    "start_time": "2023-08-11T17:23:23.585Z"
   },
   {
    "duration": 327,
    "start_time": "2023-08-11T17:23:23.609Z"
   },
   {
    "duration": 288,
    "start_time": "2023-08-11T17:23:23.937Z"
   },
   {
    "duration": 255,
    "start_time": "2023-08-11T17:23:24.227Z"
   },
   {
    "duration": 8361,
    "start_time": "2023-08-11T17:23:24.484Z"
   },
   {
    "duration": 61,
    "start_time": "2023-08-11T17:23:32.847Z"
   },
   {
    "duration": 34,
    "start_time": "2023-08-11T17:23:32.910Z"
   },
   {
    "duration": 358,
    "start_time": "2023-08-11T17:23:32.945Z"
   },
   {
    "duration": 298,
    "start_time": "2023-08-11T17:23:33.304Z"
   },
   {
    "duration": 161,
    "start_time": "2023-08-11T17:26:59.312Z"
   },
   {
    "duration": 608,
    "start_time": "2023-08-11T17:27:48.117Z"
   },
   {
    "duration": 803,
    "start_time": "2023-08-11T17:27:48.729Z"
   },
   {
    "duration": 140,
    "start_time": "2023-08-11T17:27:49.534Z"
   },
   {
    "duration": 1090,
    "start_time": "2023-08-11T17:27:49.676Z"
   },
   {
    "duration": 79,
    "start_time": "2023-08-11T17:27:50.768Z"
   },
   {
    "duration": 1943,
    "start_time": "2023-08-11T17:27:50.849Z"
   },
   {
    "duration": 104,
    "start_time": "2023-08-11T17:27:52.794Z"
   },
   {
    "duration": 180,
    "start_time": "2023-08-11T17:27:52.899Z"
   },
   {
    "duration": 285,
    "start_time": "2023-08-11T17:27:53.082Z"
   },
   {
    "duration": 272,
    "start_time": "2023-08-11T17:27:53.374Z"
   },
   {
    "duration": 39,
    "start_time": "2023-08-11T17:27:53.647Z"
   },
   {
    "duration": 121,
    "start_time": "2023-08-11T17:27:53.688Z"
   },
   {
    "duration": 52,
    "start_time": "2023-08-11T17:27:53.811Z"
   },
   {
    "duration": 393,
    "start_time": "2023-08-11T17:27:53.865Z"
   },
   {
    "duration": 253,
    "start_time": "2023-08-11T17:27:54.260Z"
   },
   {
    "duration": 60,
    "start_time": "2023-08-11T17:27:54.515Z"
   },
   {
    "duration": 23,
    "start_time": "2023-08-11T17:27:54.577Z"
   },
   {
    "duration": 283,
    "start_time": "2023-08-11T17:27:54.602Z"
   },
   {
    "duration": 284,
    "start_time": "2023-08-11T17:27:54.887Z"
   },
   {
    "duration": 279,
    "start_time": "2023-08-11T17:27:55.172Z"
   },
   {
    "duration": 8927,
    "start_time": "2023-08-11T17:27:55.453Z"
   },
   {
    "duration": 25,
    "start_time": "2023-08-11T17:28:04.382Z"
   },
   {
    "duration": 353,
    "start_time": "2023-08-11T17:28:04.408Z"
   },
   {
    "duration": 299,
    "start_time": "2023-08-11T17:28:04.763Z"
   },
   {
    "duration": 142,
    "start_time": "2023-08-11T17:28:58.924Z"
   },
   {
    "duration": 661,
    "start_time": "2023-08-11T17:29:07.622Z"
   },
   {
    "duration": 906,
    "start_time": "2023-08-11T17:29:08.285Z"
   },
   {
    "duration": 137,
    "start_time": "2023-08-11T17:29:09.193Z"
   },
   {
    "duration": 1033,
    "start_time": "2023-08-11T17:29:09.332Z"
   },
   {
    "duration": 100,
    "start_time": "2023-08-11T17:29:10.367Z"
   },
   {
    "duration": 1984,
    "start_time": "2023-08-11T17:29:10.476Z"
   },
   {
    "duration": 472,
    "start_time": "2023-08-11T17:29:12.462Z"
   },
   {
    "duration": 101,
    "start_time": "2023-08-11T17:29:12.936Z"
   },
   {
    "duration": 196,
    "start_time": "2023-08-11T17:29:13.039Z"
   },
   {
    "duration": 311,
    "start_time": "2023-08-11T17:29:13.238Z"
   },
   {
    "duration": 308,
    "start_time": "2023-08-11T17:29:13.551Z"
   },
   {
    "duration": 48,
    "start_time": "2023-08-11T17:29:13.861Z"
   },
   {
    "duration": 106,
    "start_time": "2023-08-11T17:29:13.911Z"
   },
   {
    "duration": 45,
    "start_time": "2023-08-11T17:29:14.019Z"
   },
   {
    "duration": 480,
    "start_time": "2023-08-11T17:29:14.074Z"
   },
   {
    "duration": 297,
    "start_time": "2023-08-11T17:29:14.556Z"
   },
   {
    "duration": 60,
    "start_time": "2023-08-11T17:29:14.854Z"
   },
   {
    "duration": 25,
    "start_time": "2023-08-11T17:29:14.916Z"
   },
   {
    "duration": 311,
    "start_time": "2023-08-11T17:29:14.943Z"
   },
   {
    "duration": 296,
    "start_time": "2023-08-11T17:29:15.256Z"
   },
   {
    "duration": 285,
    "start_time": "2023-08-11T17:29:15.554Z"
   },
   {
    "duration": 9638,
    "start_time": "2023-08-11T17:29:15.840Z"
   },
   {
    "duration": 29,
    "start_time": "2023-08-11T17:29:25.480Z"
   },
   {
    "duration": 395,
    "start_time": "2023-08-11T17:29:25.511Z"
   },
   {
    "duration": 326,
    "start_time": "2023-08-11T17:29:25.908Z"
   },
   {
    "duration": 73,
    "start_time": "2023-08-11T17:31:11.178Z"
   },
   {
    "duration": 9,
    "start_time": "2023-08-11T17:31:17.735Z"
   },
   {
    "duration": 165,
    "start_time": "2023-08-11T17:31:29.333Z"
   },
   {
    "duration": 130,
    "start_time": "2023-08-11T17:31:55.354Z"
   },
   {
    "duration": 702,
    "start_time": "2023-08-11T17:32:10.772Z"
   },
   {
    "duration": 951,
    "start_time": "2023-08-11T17:32:11.478Z"
   },
   {
    "duration": 172,
    "start_time": "2023-08-11T17:32:12.431Z"
   },
   {
    "duration": 1079,
    "start_time": "2023-08-11T17:32:12.607Z"
   },
   {
    "duration": 89,
    "start_time": "2023-08-11T17:32:13.687Z"
   },
   {
    "duration": 2057,
    "start_time": "2023-08-11T17:32:13.778Z"
   },
   {
    "duration": 84,
    "start_time": "2023-08-11T17:32:15.837Z"
   },
   {
    "duration": 0,
    "start_time": "2023-08-11T17:32:15.924Z"
   },
   {
    "duration": 0,
    "start_time": "2023-08-11T17:32:15.926Z"
   },
   {
    "duration": 0,
    "start_time": "2023-08-11T17:32:15.928Z"
   },
   {
    "duration": 0,
    "start_time": "2023-08-11T17:32:15.930Z"
   },
   {
    "duration": 0,
    "start_time": "2023-08-11T17:32:15.932Z"
   },
   {
    "duration": 0,
    "start_time": "2023-08-11T17:32:15.933Z"
   },
   {
    "duration": 0,
    "start_time": "2023-08-11T17:32:15.935Z"
   },
   {
    "duration": 0,
    "start_time": "2023-08-11T17:32:15.936Z"
   },
   {
    "duration": 0,
    "start_time": "2023-08-11T17:32:15.938Z"
   },
   {
    "duration": 0,
    "start_time": "2023-08-11T17:32:15.939Z"
   },
   {
    "duration": 0,
    "start_time": "2023-08-11T17:32:15.941Z"
   },
   {
    "duration": 0,
    "start_time": "2023-08-11T17:32:15.943Z"
   },
   {
    "duration": 0,
    "start_time": "2023-08-11T17:32:15.944Z"
   },
   {
    "duration": 0,
    "start_time": "2023-08-11T17:32:15.946Z"
   },
   {
    "duration": 0,
    "start_time": "2023-08-11T17:32:15.949Z"
   },
   {
    "duration": 0,
    "start_time": "2023-08-11T17:32:15.951Z"
   },
   {
    "duration": 0,
    "start_time": "2023-08-11T17:32:15.952Z"
   },
   {
    "duration": 0,
    "start_time": "2023-08-11T17:32:15.953Z"
   },
   {
    "duration": 0,
    "start_time": "2023-08-11T17:32:15.955Z"
   },
   {
    "duration": 0,
    "start_time": "2023-08-11T17:32:15.956Z"
   },
   {
    "duration": 705,
    "start_time": "2023-08-11T17:32:56.753Z"
   },
   {
    "duration": 830,
    "start_time": "2023-08-11T17:32:57.460Z"
   },
   {
    "duration": 123,
    "start_time": "2023-08-11T17:32:58.292Z"
   },
   {
    "duration": 901,
    "start_time": "2023-08-11T17:32:58.417Z"
   },
   {
    "duration": 117,
    "start_time": "2023-08-11T17:32:59.320Z"
   },
   {
    "duration": 2007,
    "start_time": "2023-08-11T17:32:59.439Z"
   },
   {
    "duration": 462,
    "start_time": "2023-08-11T17:33:01.448Z"
   },
   {
    "duration": 531,
    "start_time": "2023-08-11T17:33:01.912Z"
   },
   {
    "duration": 506,
    "start_time": "2023-08-11T17:33:02.445Z"
   },
   {
    "duration": 143,
    "start_time": "2023-08-11T17:33:02.954Z"
   },
   {
    "duration": 321,
    "start_time": "2023-08-11T17:33:03.098Z"
   },
   {
    "duration": 291,
    "start_time": "2023-08-11T17:33:03.421Z"
   },
   {
    "duration": 30,
    "start_time": "2023-08-11T17:33:03.715Z"
   },
   {
    "duration": 149,
    "start_time": "2023-08-11T17:33:03.747Z"
   },
   {
    "duration": 47,
    "start_time": "2023-08-11T17:33:03.897Z"
   },
   {
    "duration": 407,
    "start_time": "2023-08-11T17:33:03.946Z"
   },
   {
    "duration": 276,
    "start_time": "2023-08-11T17:33:04.355Z"
   },
   {
    "duration": 64,
    "start_time": "2023-08-11T17:33:04.633Z"
   },
   {
    "duration": 24,
    "start_time": "2023-08-11T17:33:04.699Z"
   },
   {
    "duration": 283,
    "start_time": "2023-08-11T17:33:04.725Z"
   },
   {
    "duration": 291,
    "start_time": "2023-08-11T17:33:05.009Z"
   },
   {
    "duration": 295,
    "start_time": "2023-08-11T17:33:05.301Z"
   },
   {
    "duration": 9311,
    "start_time": "2023-08-11T17:33:05.598Z"
   },
   {
    "duration": 24,
    "start_time": "2023-08-11T17:33:14.911Z"
   },
   {
    "duration": 379,
    "start_time": "2023-08-11T17:33:14.937Z"
   },
   {
    "duration": 307,
    "start_time": "2023-08-11T17:33:15.317Z"
   },
   {
    "duration": 820,
    "start_time": "2023-08-12T10:46:37.199Z"
   },
   {
    "duration": 1238,
    "start_time": "2023-08-12T10:46:38.022Z"
   },
   {
    "duration": 131,
    "start_time": "2023-08-12T10:46:39.262Z"
   },
   {
    "duration": 892,
    "start_time": "2023-08-12T10:46:39.395Z"
   },
   {
    "duration": 84,
    "start_time": "2023-08-12T10:46:40.289Z"
   },
   {
    "duration": 1904,
    "start_time": "2023-08-12T10:46:40.374Z"
   },
   {
    "duration": 481,
    "start_time": "2023-08-12T10:46:42.281Z"
   },
   {
    "duration": 466,
    "start_time": "2023-08-12T10:46:42.763Z"
   },
   {
    "duration": 481,
    "start_time": "2023-08-12T10:46:43.231Z"
   },
   {
    "duration": 117,
    "start_time": "2023-08-12T10:46:43.714Z"
   },
   {
    "duration": 307,
    "start_time": "2023-08-12T10:46:43.833Z"
   },
   {
    "duration": 296,
    "start_time": "2023-08-12T10:46:44.143Z"
   },
   {
    "duration": 30,
    "start_time": "2023-08-12T10:46:44.441Z"
   },
   {
    "duration": 113,
    "start_time": "2023-08-12T10:46:44.473Z"
   },
   {
    "duration": 58,
    "start_time": "2023-08-12T10:46:44.588Z"
   },
   {
    "duration": 422,
    "start_time": "2023-08-12T10:46:44.648Z"
   },
   {
    "duration": 265,
    "start_time": "2023-08-12T10:46:45.072Z"
   },
   {
    "duration": 66,
    "start_time": "2023-08-12T10:46:45.339Z"
   },
   {
    "duration": 26,
    "start_time": "2023-08-12T10:46:45.407Z"
   },
   {
    "duration": 292,
    "start_time": "2023-08-12T10:46:45.435Z"
   },
   {
    "duration": 300,
    "start_time": "2023-08-12T10:46:45.729Z"
   },
   {
    "duration": 302,
    "start_time": "2023-08-12T10:46:46.031Z"
   },
   {
    "duration": 9411,
    "start_time": "2023-08-12T10:46:46.335Z"
   },
   {
    "duration": 25,
    "start_time": "2023-08-12T10:46:55.748Z"
   },
   {
    "duration": 366,
    "start_time": "2023-08-12T10:46:55.775Z"
   },
   {
    "duration": 337,
    "start_time": "2023-08-12T10:46:56.143Z"
   },
   {
    "duration": 26,
    "start_time": "2023-08-12T10:51:58.227Z"
   },
   {
    "duration": 117,
    "start_time": "2023-08-12T10:53:32.010Z"
   },
   {
    "duration": 14,
    "start_time": "2023-08-12T10:53:40.699Z"
   },
   {
    "duration": 28,
    "start_time": "2023-08-12T10:53:46.331Z"
   },
   {
    "duration": 30,
    "start_time": "2023-08-12T10:56:19.251Z"
   },
   {
    "duration": 687,
    "start_time": "2023-08-12T11:12:45.194Z"
   },
   {
    "duration": 5,
    "start_time": "2023-08-12T11:24:59.976Z"
   },
   {
    "duration": 3,
    "start_time": "2023-08-12T11:25:05.418Z"
   },
   {
    "duration": 5,
    "start_time": "2023-08-12T11:25:38.478Z"
   },
   {
    "duration": 3,
    "start_time": "2023-08-12T11:26:38.112Z"
   },
   {
    "duration": 24,
    "start_time": "2023-08-12T11:37:27.824Z"
   },
   {
    "duration": 19,
    "start_time": "2023-08-12T11:37:39.380Z"
   },
   {
    "duration": 16,
    "start_time": "2023-08-12T11:37:54.211Z"
   },
   {
    "duration": 1671,
    "start_time": "2023-08-12T11:50:21.026Z"
   },
   {
    "duration": 20,
    "start_time": "2023-08-12T12:15:05.299Z"
   },
   {
    "duration": 98,
    "start_time": "2023-08-12T12:15:11.523Z"
   },
   {
    "duration": 1644,
    "start_time": "2023-08-12T12:44:14.593Z"
   },
   {
    "duration": 29,
    "start_time": "2023-08-12T12:49:07.318Z"
   },
   {
    "duration": 7346,
    "start_time": "2023-08-12T12:50:38.294Z"
   },
   {
    "duration": 2136,
    "start_time": "2023-08-12T12:51:17.117Z"
   },
   {
    "duration": 1151,
    "start_time": "2023-08-12T12:51:19.256Z"
   },
   {
    "duration": 856,
    "start_time": "2023-08-12T12:51:20.408Z"
   },
   {
    "duration": 132,
    "start_time": "2023-08-12T12:51:21.266Z"
   },
   {
    "duration": 936,
    "start_time": "2023-08-12T12:51:21.399Z"
   },
   {
    "duration": 89,
    "start_time": "2023-08-12T12:51:22.337Z"
   },
   {
    "duration": 1979,
    "start_time": "2023-08-12T12:51:22.427Z"
   },
   {
    "duration": 462,
    "start_time": "2023-08-12T12:51:24.409Z"
   },
   {
    "duration": 490,
    "start_time": "2023-08-12T12:51:24.872Z"
   },
   {
    "duration": 455,
    "start_time": "2023-08-12T12:51:25.364Z"
   },
   {
    "duration": 113,
    "start_time": "2023-08-12T12:51:25.821Z"
   },
   {
    "duration": 305,
    "start_time": "2023-08-12T12:51:25.936Z"
   },
   {
    "duration": 290,
    "start_time": "2023-08-12T12:51:26.243Z"
   },
   {
    "duration": 30,
    "start_time": "2023-08-12T12:51:26.535Z"
   },
   {
    "duration": 112,
    "start_time": "2023-08-12T12:51:26.566Z"
   },
   {
    "duration": 68,
    "start_time": "2023-08-12T12:51:26.680Z"
   },
   {
    "duration": 327,
    "start_time": "2023-08-12T12:51:26.751Z"
   },
   {
    "duration": 401,
    "start_time": "2023-08-12T12:51:27.080Z"
   },
   {
    "duration": 59,
    "start_time": "2023-08-12T12:51:27.482Z"
   },
   {
    "duration": 24,
    "start_time": "2023-08-12T12:51:27.543Z"
   },
   {
    "duration": 282,
    "start_time": "2023-08-12T12:51:27.569Z"
   },
   {
    "duration": 285,
    "start_time": "2023-08-12T12:51:27.852Z"
   },
   {
    "duration": 285,
    "start_time": "2023-08-12T12:51:28.139Z"
   },
   {
    "duration": 9244,
    "start_time": "2023-08-12T12:51:28.426Z"
   },
   {
    "duration": 30,
    "start_time": "2023-08-12T12:51:37.672Z"
   },
   {
    "duration": 276,
    "start_time": "2023-08-12T12:51:37.704Z"
   },
   {
    "duration": 304,
    "start_time": "2023-08-12T12:51:37.981Z"
   },
   {
    "duration": 18,
    "start_time": "2023-08-12T12:51:38.289Z"
   },
   {
    "duration": 104,
    "start_time": "2023-08-12T12:51:38.309Z"
   },
   {
    "duration": 1320,
    "start_time": "2023-08-12T12:51:38.414Z"
   },
   {
    "duration": 1185,
    "start_time": "2023-08-12T12:55:07.711Z"
   },
   {
    "duration": 864,
    "start_time": "2023-08-12T12:55:08.898Z"
   },
   {
    "duration": 145,
    "start_time": "2023-08-12T12:55:09.764Z"
   },
   {
    "duration": 967,
    "start_time": "2023-08-12T12:55:09.911Z"
   },
   {
    "duration": 81,
    "start_time": "2023-08-12T12:55:10.880Z"
   },
   {
    "duration": 1989,
    "start_time": "2023-08-12T12:55:10.963Z"
   },
   {
    "duration": 496,
    "start_time": "2023-08-12T12:55:12.954Z"
   },
   {
    "duration": 498,
    "start_time": "2023-08-12T12:55:13.452Z"
   },
   {
    "duration": 481,
    "start_time": "2023-08-12T12:55:13.952Z"
   },
   {
    "duration": 123,
    "start_time": "2023-08-12T12:55:14.437Z"
   },
   {
    "duration": 359,
    "start_time": "2023-08-12T12:55:14.561Z"
   },
   {
    "duration": 305,
    "start_time": "2023-08-12T12:55:14.922Z"
   },
   {
    "duration": 29,
    "start_time": "2023-08-12T12:55:15.228Z"
   },
   {
    "duration": 118,
    "start_time": "2023-08-12T12:55:15.259Z"
   },
   {
    "duration": 65,
    "start_time": "2023-08-12T12:55:15.380Z"
   },
   {
    "duration": 330,
    "start_time": "2023-08-12T12:55:15.449Z"
   },
   {
    "duration": 409,
    "start_time": "2023-08-12T12:55:15.781Z"
   },
   {
    "duration": 57,
    "start_time": "2023-08-12T12:55:16.192Z"
   },
   {
    "duration": 48,
    "start_time": "2023-08-12T12:55:16.251Z"
   },
   {
    "duration": 310,
    "start_time": "2023-08-12T12:55:16.301Z"
   },
   {
    "duration": 359,
    "start_time": "2023-08-12T12:55:16.613Z"
   },
   {
    "duration": 297,
    "start_time": "2023-08-12T12:55:16.974Z"
   },
   {
    "duration": 9254,
    "start_time": "2023-08-12T12:55:17.273Z"
   },
   {
    "duration": 25,
    "start_time": "2023-08-12T12:55:26.529Z"
   },
   {
    "duration": 267,
    "start_time": "2023-08-12T12:55:26.556Z"
   },
   {
    "duration": 357,
    "start_time": "2023-08-12T12:55:26.825Z"
   },
   {
    "duration": 16,
    "start_time": "2023-08-12T12:55:27.184Z"
   },
   {
    "duration": 101,
    "start_time": "2023-08-12T12:55:27.202Z"
   },
   {
    "duration": 1323,
    "start_time": "2023-08-12T12:55:27.304Z"
   },
   {
    "duration": 29,
    "start_time": "2023-08-12T13:04:24.509Z"
   },
   {
    "duration": 1242,
    "start_time": "2023-08-12T13:04:40.215Z"
   },
   {
    "duration": 75,
    "start_time": "2023-08-12T13:06:52.647Z"
   },
   {
    "duration": 73,
    "start_time": "2023-08-12T13:07:43.888Z"
   },
   {
    "duration": 89,
    "start_time": "2023-08-12T13:10:05.150Z"
   },
   {
    "duration": 2822,
    "start_time": "2023-08-12T13:10:33.375Z"
   },
   {
    "duration": 1310,
    "start_time": "2023-08-12T13:10:36.199Z"
   },
   {
    "duration": 131,
    "start_time": "2023-08-12T13:10:37.511Z"
   },
   {
    "duration": 957,
    "start_time": "2023-08-12T13:10:37.644Z"
   },
   {
    "duration": 93,
    "start_time": "2023-08-12T13:10:38.603Z"
   },
   {
    "duration": 1997,
    "start_time": "2023-08-12T13:10:38.697Z"
   },
   {
    "duration": 443,
    "start_time": "2023-08-12T13:10:40.696Z"
   },
   {
    "duration": 481,
    "start_time": "2023-08-12T13:10:41.141Z"
   },
   {
    "duration": 457,
    "start_time": "2023-08-12T13:10:41.624Z"
   },
   {
    "duration": 126,
    "start_time": "2023-08-12T13:10:42.083Z"
   },
   {
    "duration": 344,
    "start_time": "2023-08-12T13:10:42.210Z"
   },
   {
    "duration": 296,
    "start_time": "2023-08-12T13:10:42.556Z"
   },
   {
    "duration": 40,
    "start_time": "2023-08-12T13:10:42.855Z"
   },
   {
    "duration": 101,
    "start_time": "2023-08-12T13:10:42.898Z"
   },
   {
    "duration": 52,
    "start_time": "2023-08-12T13:10:43.001Z"
   },
   {
    "duration": 317,
    "start_time": "2023-08-12T13:10:43.054Z"
   },
   {
    "duration": 433,
    "start_time": "2023-08-12T13:10:43.372Z"
   },
   {
    "duration": 58,
    "start_time": "2023-08-12T13:10:43.807Z"
   },
   {
    "duration": 44,
    "start_time": "2023-08-12T13:10:43.867Z"
   },
   {
    "duration": 301,
    "start_time": "2023-08-12T13:10:43.912Z"
   },
   {
    "duration": 311,
    "start_time": "2023-08-12T13:10:44.216Z"
   },
   {
    "duration": 297,
    "start_time": "2023-08-12T13:10:44.529Z"
   },
   {
    "duration": 9478,
    "start_time": "2023-08-12T13:10:44.828Z"
   },
   {
    "duration": 29,
    "start_time": "2023-08-12T13:10:54.308Z"
   },
   {
    "duration": 316,
    "start_time": "2023-08-12T13:10:54.339Z"
   },
   {
    "duration": 328,
    "start_time": "2023-08-12T13:10:54.656Z"
   },
   {
    "duration": 21,
    "start_time": "2023-08-12T13:10:54.986Z"
   },
   {
    "duration": 125,
    "start_time": "2023-08-12T13:10:55.009Z"
   },
   {
    "duration": 2998,
    "start_time": "2023-08-12T13:12:14.738Z"
   },
   {
    "duration": 1290,
    "start_time": "2023-08-12T13:12:17.739Z"
   },
   {
    "duration": 178,
    "start_time": "2023-08-12T13:12:19.031Z"
   },
   {
    "duration": 1029,
    "start_time": "2023-08-12T13:12:19.211Z"
   },
   {
    "duration": 110,
    "start_time": "2023-08-12T13:12:20.243Z"
   },
   {
    "duration": 1972,
    "start_time": "2023-08-12T13:12:20.355Z"
   },
   {
    "duration": 480,
    "start_time": "2023-08-12T13:12:22.329Z"
   },
   {
    "duration": 547,
    "start_time": "2023-08-12T13:12:22.811Z"
   },
   {
    "duration": 494,
    "start_time": "2023-08-12T13:12:23.359Z"
   },
   {
    "duration": 130,
    "start_time": "2023-08-12T13:12:23.857Z"
   },
   {
    "duration": 343,
    "start_time": "2023-08-12T13:12:23.994Z"
   },
   {
    "duration": 294,
    "start_time": "2023-08-12T13:12:24.339Z"
   },
   {
    "duration": 28,
    "start_time": "2023-08-12T13:12:24.635Z"
   },
   {
    "duration": 108,
    "start_time": "2023-08-12T13:12:24.665Z"
   },
   {
    "duration": 61,
    "start_time": "2023-08-12T13:12:24.775Z"
   },
   {
    "duration": 296,
    "start_time": "2023-08-12T13:12:24.838Z"
   },
   {
    "duration": 412,
    "start_time": "2023-08-12T13:12:25.136Z"
   },
   {
    "duration": 63,
    "start_time": "2023-08-12T13:12:25.549Z"
   },
   {
    "duration": 24,
    "start_time": "2023-08-12T13:12:25.613Z"
   },
   {
    "duration": 294,
    "start_time": "2023-08-12T13:12:25.639Z"
   },
   {
    "duration": 303,
    "start_time": "2023-08-12T13:12:25.935Z"
   },
   {
    "duration": 321,
    "start_time": "2023-08-12T13:12:26.239Z"
   },
   {
    "duration": 9449,
    "start_time": "2023-08-12T13:12:26.562Z"
   },
   {
    "duration": 25,
    "start_time": "2023-08-12T13:12:36.013Z"
   },
   {
    "duration": 319,
    "start_time": "2023-08-12T13:12:36.040Z"
   },
   {
    "duration": 377,
    "start_time": "2023-08-12T13:12:36.362Z"
   },
   {
    "duration": 17,
    "start_time": "2023-08-12T13:12:36.741Z"
   },
   {
    "duration": 109,
    "start_time": "2023-08-12T13:12:36.761Z"
   },
   {
    "duration": 1605,
    "start_time": "2023-08-12T14:17:22.997Z"
   },
   {
    "duration": 1195,
    "start_time": "2023-08-12T14:17:24.604Z"
   },
   {
    "duration": 137,
    "start_time": "2023-08-12T14:17:25.800Z"
   },
   {
    "duration": 1046,
    "start_time": "2023-08-12T14:17:25.940Z"
   },
   {
    "duration": 78,
    "start_time": "2023-08-12T14:17:26.988Z"
   },
   {
    "duration": 1988,
    "start_time": "2023-08-12T14:17:27.067Z"
   },
   {
    "duration": 429,
    "start_time": "2023-08-12T14:17:29.056Z"
   },
   {
    "duration": 449,
    "start_time": "2023-08-12T14:17:29.487Z"
   },
   {
    "duration": 434,
    "start_time": "2023-08-12T14:17:29.938Z"
   },
   {
    "duration": 122,
    "start_time": "2023-08-12T14:17:30.375Z"
   },
   {
    "duration": 323,
    "start_time": "2023-08-12T14:17:30.499Z"
   },
   {
    "duration": 297,
    "start_time": "2023-08-12T14:17:30.824Z"
   },
   {
    "duration": 28,
    "start_time": "2023-08-12T14:17:31.123Z"
   },
   {
    "duration": 122,
    "start_time": "2023-08-12T14:17:31.152Z"
   },
   {
    "duration": 52,
    "start_time": "2023-08-12T14:17:31.276Z"
   },
   {
    "duration": 323,
    "start_time": "2023-08-12T14:17:31.329Z"
   },
   {
    "duration": 442,
    "start_time": "2023-08-12T14:17:31.655Z"
   },
   {
    "duration": 56,
    "start_time": "2023-08-12T14:17:32.099Z"
   },
   {
    "duration": 43,
    "start_time": "2023-08-12T14:17:32.157Z"
   },
   {
    "duration": 345,
    "start_time": "2023-08-12T14:17:32.202Z"
   },
   {
    "duration": 325,
    "start_time": "2023-08-12T14:17:32.549Z"
   },
   {
    "duration": 317,
    "start_time": "2023-08-12T14:17:32.875Z"
   },
   {
    "duration": 9488,
    "start_time": "2023-08-12T14:17:33.194Z"
   },
   {
    "duration": 30,
    "start_time": "2023-08-12T14:17:42.684Z"
   },
   {
    "duration": 321,
    "start_time": "2023-08-12T14:17:42.717Z"
   },
   {
    "duration": 323,
    "start_time": "2023-08-12T14:17:43.040Z"
   },
   {
    "duration": 15,
    "start_time": "2023-08-12T14:17:43.365Z"
   },
   {
    "duration": 103,
    "start_time": "2023-08-12T14:17:43.394Z"
   },
   {
    "duration": 50,
    "start_time": "2023-08-12T14:45:44.747Z"
   },
   {
    "duration": 1704,
    "start_time": "2023-08-12T14:45:57.569Z"
   },
   {
    "duration": 1301,
    "start_time": "2023-08-12T14:45:59.275Z"
   },
   {
    "duration": 182,
    "start_time": "2023-08-12T14:46:00.578Z"
   },
   {
    "duration": 1128,
    "start_time": "2023-08-12T14:46:00.764Z"
   },
   {
    "duration": 85,
    "start_time": "2023-08-12T14:46:01.894Z"
   },
   {
    "duration": 2173,
    "start_time": "2023-08-12T14:46:01.980Z"
   },
   {
    "duration": 524,
    "start_time": "2023-08-12T14:46:04.155Z"
   },
   {
    "duration": 507,
    "start_time": "2023-08-12T14:46:04.681Z"
   },
   {
    "duration": 555,
    "start_time": "2023-08-12T14:46:05.190Z"
   },
   {
    "duration": 134,
    "start_time": "2023-08-12T14:46:05.748Z"
   },
   {
    "duration": 378,
    "start_time": "2023-08-12T14:46:05.884Z"
   },
   {
    "duration": 378,
    "start_time": "2023-08-12T14:46:06.263Z"
   },
   {
    "duration": 38,
    "start_time": "2023-08-12T14:46:06.643Z"
   },
   {
    "duration": 129,
    "start_time": "2023-08-12T14:46:06.699Z"
   },
   {
    "duration": 61,
    "start_time": "2023-08-12T14:46:06.831Z"
   },
   {
    "duration": 353,
    "start_time": "2023-08-12T14:46:06.902Z"
   },
   {
    "duration": 508,
    "start_time": "2023-08-12T14:46:07.257Z"
   },
   {
    "duration": 75,
    "start_time": "2023-08-12T14:46:07.767Z"
   },
   {
    "duration": 26,
    "start_time": "2023-08-12T14:46:07.844Z"
   },
   {
    "duration": 376,
    "start_time": "2023-08-12T14:46:07.872Z"
   },
   {
    "duration": 338,
    "start_time": "2023-08-12T14:46:08.250Z"
   },
   {
    "duration": 365,
    "start_time": "2023-08-12T14:46:08.596Z"
   },
   {
    "duration": 10810,
    "start_time": "2023-08-12T14:46:08.963Z"
   },
   {
    "duration": 31,
    "start_time": "2023-08-12T14:46:19.774Z"
   },
   {
    "duration": 298,
    "start_time": "2023-08-12T14:46:19.807Z"
   },
   {
    "duration": 351,
    "start_time": "2023-08-12T14:46:20.107Z"
   },
   {
    "duration": 14,
    "start_time": "2023-08-12T14:46:20.460Z"
   },
   {
    "duration": 107,
    "start_time": "2023-08-12T14:46:20.477Z"
   },
   {
    "duration": 56,
    "start_time": "2023-08-12T14:48:42.952Z"
   },
   {
    "duration": 1500,
    "start_time": "2023-08-12T14:48:56.847Z"
   },
   {
    "duration": 1121,
    "start_time": "2023-08-12T14:48:58.349Z"
   },
   {
    "duration": 134,
    "start_time": "2023-08-12T14:48:59.472Z"
   },
   {
    "duration": 935,
    "start_time": "2023-08-12T14:49:00.040Z"
   },
   {
    "duration": 79,
    "start_time": "2023-08-12T14:49:00.977Z"
   },
   {
    "duration": 1967,
    "start_time": "2023-08-12T14:49:01.730Z"
   },
   {
    "duration": 423,
    "start_time": "2023-08-12T14:49:07.344Z"
   },
   {
    "duration": 495,
    "start_time": "2023-08-12T14:49:08.621Z"
   },
   {
    "duration": 485,
    "start_time": "2023-08-12T14:49:09.879Z"
   },
   {
    "duration": 116,
    "start_time": "2023-08-12T14:49:11.236Z"
   },
   {
    "duration": 321,
    "start_time": "2023-08-12T14:49:14.601Z"
   },
   {
    "duration": 286,
    "start_time": "2023-08-12T14:49:17.133Z"
   },
   {
    "duration": 30,
    "start_time": "2023-08-12T14:49:20.286Z"
   },
   {
    "duration": 102,
    "start_time": "2023-08-12T14:49:22.717Z"
   },
   {
    "duration": 51,
    "start_time": "2023-08-12T14:49:24.533Z"
   },
   {
    "duration": 296,
    "start_time": "2023-08-12T14:49:25.878Z"
   },
   {
    "duration": 406,
    "start_time": "2023-08-12T14:49:27.395Z"
   },
   {
    "duration": 53,
    "start_time": "2023-08-12T14:49:30.195Z"
   },
   {
    "duration": 24,
    "start_time": "2023-08-12T14:49:33.601Z"
   },
   {
    "duration": 269,
    "start_time": "2023-08-12T14:49:34.438Z"
   },
   {
    "duration": 318,
    "start_time": "2023-08-12T14:49:35.552Z"
   },
   {
    "duration": 285,
    "start_time": "2023-08-12T14:49:36.728Z"
   },
   {
    "duration": 10045,
    "start_time": "2023-08-12T14:49:39.400Z"
   },
   {
    "duration": 26,
    "start_time": "2023-08-12T14:49:54.861Z"
   },
   {
    "duration": 304,
    "start_time": "2023-08-12T14:49:56.778Z"
   },
   {
    "duration": 306,
    "start_time": "2023-08-12T14:49:58.774Z"
   },
   {
    "duration": 16,
    "start_time": "2023-08-12T14:49:59.892Z"
   },
   {
    "duration": 94,
    "start_time": "2023-08-12T14:50:03.467Z"
   },
   {
    "duration": 66,
    "start_time": "2023-08-12T14:55:55.815Z"
   },
   {
    "duration": 7,
    "start_time": "2023-08-12T14:56:08.088Z"
   },
   {
    "duration": 1535,
    "start_time": "2023-08-12T14:56:15.315Z"
   },
   {
    "duration": 1286,
    "start_time": "2023-08-12T14:56:16.851Z"
   },
   {
    "duration": 154,
    "start_time": "2023-08-12T14:56:18.138Z"
   },
   {
    "duration": 1044,
    "start_time": "2023-08-12T14:56:18.294Z"
   },
   {
    "duration": 93,
    "start_time": "2023-08-12T14:56:19.340Z"
   },
   {
    "duration": 2129,
    "start_time": "2023-08-12T14:56:19.435Z"
   },
   {
    "duration": 550,
    "start_time": "2023-08-12T14:56:21.566Z"
   },
   {
    "duration": 568,
    "start_time": "2023-08-12T14:56:22.118Z"
   },
   {
    "duration": 559,
    "start_time": "2023-08-12T14:56:22.688Z"
   },
   {
    "duration": 139,
    "start_time": "2023-08-12T14:56:23.250Z"
   },
   {
    "duration": 364,
    "start_time": "2023-08-12T14:56:23.391Z"
   },
   {
    "duration": 329,
    "start_time": "2023-08-12T14:56:23.756Z"
   },
   {
    "duration": 43,
    "start_time": "2023-08-12T14:56:24.087Z"
   },
   {
    "duration": 120,
    "start_time": "2023-08-12T14:56:24.132Z"
   },
   {
    "duration": 73,
    "start_time": "2023-08-12T14:56:24.255Z"
   },
   {
    "duration": 343,
    "start_time": "2023-08-12T14:56:24.330Z"
   },
   {
    "duration": 499,
    "start_time": "2023-08-12T14:56:24.674Z"
   },
   {
    "duration": 73,
    "start_time": "2023-08-12T14:56:25.175Z"
   },
   {
    "duration": 26,
    "start_time": "2023-08-12T14:56:25.250Z"
   },
   {
    "duration": 381,
    "start_time": "2023-08-12T14:56:25.277Z"
   },
   {
    "duration": 356,
    "start_time": "2023-08-12T14:56:25.659Z"
   },
   {
    "duration": 344,
    "start_time": "2023-08-12T14:56:26.017Z"
   },
   {
    "duration": 11017,
    "start_time": "2023-08-12T14:56:26.363Z"
   },
   {
    "duration": 35,
    "start_time": "2023-08-12T14:56:37.382Z"
   },
   {
    "duration": 326,
    "start_time": "2023-08-12T14:56:37.419Z"
   },
   {
    "duration": 348,
    "start_time": "2023-08-12T14:56:37.747Z"
   },
   {
    "duration": 23,
    "start_time": "2023-08-12T14:56:38.097Z"
   },
   {
    "duration": 132,
    "start_time": "2023-08-12T14:56:38.124Z"
   },
   {
    "duration": 52,
    "start_time": "2023-08-12T14:57:41.552Z"
   },
   {
    "duration": 1428,
    "start_time": "2023-08-12T14:57:53.030Z"
   },
   {
    "duration": 1304,
    "start_time": "2023-08-12T14:57:54.460Z"
   },
   {
    "duration": 168,
    "start_time": "2023-08-12T14:57:55.766Z"
   },
   {
    "duration": 1045,
    "start_time": "2023-08-12T14:57:55.937Z"
   },
   {
    "duration": 114,
    "start_time": "2023-08-12T14:57:56.984Z"
   },
   {
    "duration": 2117,
    "start_time": "2023-08-12T14:57:57.099Z"
   },
   {
    "duration": 518,
    "start_time": "2023-08-12T14:57:59.218Z"
   },
   {
    "duration": 551,
    "start_time": "2023-08-12T14:57:59.738Z"
   },
   {
    "duration": 492,
    "start_time": "2023-08-12T14:58:00.291Z"
   },
   {
    "duration": 123,
    "start_time": "2023-08-12T14:58:00.794Z"
   },
   {
    "duration": 338,
    "start_time": "2023-08-12T14:58:00.919Z"
   },
   {
    "duration": 296,
    "start_time": "2023-08-12T14:58:01.260Z"
   },
   {
    "duration": 37,
    "start_time": "2023-08-12T14:58:01.558Z"
   },
   {
    "duration": 103,
    "start_time": "2023-08-12T14:58:01.597Z"
   },
   {
    "duration": 54,
    "start_time": "2023-08-12T14:58:01.701Z"
   },
   {
    "duration": 338,
    "start_time": "2023-08-12T14:58:01.757Z"
   },
   {
    "duration": 499,
    "start_time": "2023-08-12T14:58:02.096Z"
   },
   {
    "duration": 63,
    "start_time": "2023-08-12T14:58:02.597Z"
   },
   {
    "duration": 45,
    "start_time": "2023-08-12T14:58:02.661Z"
   },
   {
    "duration": 312,
    "start_time": "2023-08-12T14:58:02.708Z"
   },
   {
    "duration": 323,
    "start_time": "2023-08-12T14:58:03.022Z"
   },
   {
    "duration": 311,
    "start_time": "2023-08-12T14:58:03.347Z"
   },
   {
    "duration": 10121,
    "start_time": "2023-08-12T14:58:03.659Z"
   },
   {
    "duration": 32,
    "start_time": "2023-08-12T14:58:13.781Z"
   },
   {
    "duration": 307,
    "start_time": "2023-08-12T14:58:13.814Z"
   },
   {
    "duration": 348,
    "start_time": "2023-08-12T14:58:14.123Z"
   },
   {
    "duration": 23,
    "start_time": "2023-08-12T14:58:14.473Z"
   },
   {
    "duration": 125,
    "start_time": "2023-08-12T14:58:14.500Z"
   },
   {
    "duration": 25,
    "start_time": "2023-08-12T14:58:14.627Z"
   },
   {
    "duration": 1538,
    "start_time": "2023-08-12T15:10:24.011Z"
   },
   {
    "duration": 1217,
    "start_time": "2023-08-12T15:10:25.551Z"
   },
   {
    "duration": 149,
    "start_time": "2023-08-12T15:10:26.770Z"
   },
   {
    "duration": 965,
    "start_time": "2023-08-12T15:10:26.921Z"
   },
   {
    "duration": 84,
    "start_time": "2023-08-12T15:10:27.887Z"
   },
   {
    "duration": 1962,
    "start_time": "2023-08-12T15:10:27.973Z"
   },
   {
    "duration": 489,
    "start_time": "2023-08-12T15:10:29.937Z"
   },
   {
    "duration": 500,
    "start_time": "2023-08-12T15:10:30.428Z"
   },
   {
    "duration": 497,
    "start_time": "2023-08-12T15:10:30.930Z"
   },
   {
    "duration": 124,
    "start_time": "2023-08-12T15:10:31.430Z"
   },
   {
    "duration": 324,
    "start_time": "2023-08-12T15:10:31.556Z"
   },
   {
    "duration": 315,
    "start_time": "2023-08-12T15:10:31.881Z"
   },
   {
    "duration": 31,
    "start_time": "2023-08-12T15:10:32.198Z"
   },
   {
    "duration": 129,
    "start_time": "2023-08-12T15:10:32.231Z"
   },
   {
    "duration": 63,
    "start_time": "2023-08-12T15:10:32.362Z"
   },
   {
    "duration": 310,
    "start_time": "2023-08-12T15:10:32.427Z"
   },
   {
    "duration": 415,
    "start_time": "2023-08-12T15:10:32.738Z"
   },
   {
    "duration": 61,
    "start_time": "2023-08-12T15:10:33.155Z"
   },
   {
    "duration": 26,
    "start_time": "2023-08-12T15:10:33.218Z"
   },
   {
    "duration": 307,
    "start_time": "2023-08-12T15:10:33.246Z"
   },
   {
    "duration": 320,
    "start_time": "2023-08-12T15:10:33.554Z"
   },
   {
    "duration": 296,
    "start_time": "2023-08-12T15:10:33.876Z"
   },
   {
    "duration": 9869,
    "start_time": "2023-08-12T15:10:34.175Z"
   },
   {
    "duration": 28,
    "start_time": "2023-08-12T15:10:44.047Z"
   },
   {
    "duration": 325,
    "start_time": "2023-08-12T15:10:44.077Z"
   },
   {
    "duration": 337,
    "start_time": "2023-08-12T15:10:44.404Z"
   },
   {
    "duration": 16,
    "start_time": "2023-08-12T15:10:44.743Z"
   },
   {
    "duration": 119,
    "start_time": "2023-08-12T15:10:44.763Z"
   },
   {
    "duration": 25,
    "start_time": "2023-08-12T15:10:44.884Z"
   },
   {
    "duration": 7,
    "start_time": "2023-08-12T15:10:44.911Z"
   },
   {
    "duration": 25,
    "start_time": "2023-08-12T16:01:38.812Z"
   },
   {
    "duration": 106,
    "start_time": "2023-08-12T16:01:45.457Z"
   },
   {
    "duration": 3,
    "start_time": "2023-08-12T16:02:32.009Z"
   },
   {
    "duration": 716,
    "start_time": "2023-08-12T16:02:37.894Z"
   },
   {
    "duration": 1227,
    "start_time": "2023-08-12T16:05:24.321Z"
   },
   {
    "duration": 1320,
    "start_time": "2023-08-12T16:05:37.770Z"
   },
   {
    "duration": 999,
    "start_time": "2023-08-12T16:05:39.092Z"
   },
   {
    "duration": 159,
    "start_time": "2023-08-12T16:05:40.092Z"
   },
   {
    "duration": 1061,
    "start_time": "2023-08-12T16:05:40.254Z"
   },
   {
    "duration": 80,
    "start_time": "2023-08-12T16:05:41.316Z"
   },
   {
    "duration": 1984,
    "start_time": "2023-08-12T16:05:41.399Z"
   },
   {
    "duration": 490,
    "start_time": "2023-08-12T16:05:43.386Z"
   },
   {
    "duration": 508,
    "start_time": "2023-08-12T16:05:43.878Z"
   },
   {
    "duration": 495,
    "start_time": "2023-08-12T16:05:44.388Z"
   },
   {
    "duration": 140,
    "start_time": "2023-08-12T16:05:44.886Z"
   },
   {
    "duration": 342,
    "start_time": "2023-08-12T16:05:45.029Z"
   },
   {
    "duration": 315,
    "start_time": "2023-08-12T16:05:45.373Z"
   },
   {
    "duration": 36,
    "start_time": "2023-08-12T16:05:45.690Z"
   },
   {
    "duration": 107,
    "start_time": "2023-08-12T16:05:45.728Z"
   },
   {
    "duration": 68,
    "start_time": "2023-08-12T16:05:45.836Z"
   },
   {
    "duration": 337,
    "start_time": "2023-08-12T16:05:45.906Z"
   },
   {
    "duration": 440,
    "start_time": "2023-08-12T16:05:46.245Z"
   },
   {
    "duration": 66,
    "start_time": "2023-08-12T16:05:46.686Z"
   },
   {
    "duration": 25,
    "start_time": "2023-08-12T16:05:46.753Z"
   },
   {
    "duration": 338,
    "start_time": "2023-08-12T16:05:46.779Z"
   },
   {
    "duration": 336,
    "start_time": "2023-08-12T16:05:47.119Z"
   },
   {
    "duration": 384,
    "start_time": "2023-08-12T16:05:47.457Z"
   },
   {
    "duration": 10290,
    "start_time": "2023-08-12T16:05:47.842Z"
   },
   {
    "duration": 28,
    "start_time": "2023-08-12T16:05:58.134Z"
   },
   {
    "duration": 311,
    "start_time": "2023-08-12T16:05:58.164Z"
   },
   {
    "duration": 319,
    "start_time": "2023-08-12T16:05:58.477Z"
   },
   {
    "duration": 16,
    "start_time": "2023-08-12T16:05:58.797Z"
   },
   {
    "duration": 112,
    "start_time": "2023-08-12T16:05:58.816Z"
   },
   {
    "duration": 23,
    "start_time": "2023-08-12T16:05:58.930Z"
   },
   {
    "duration": 596,
    "start_time": "2023-08-12T16:05:58.954Z"
   },
   {
    "duration": 2,
    "start_time": "2023-08-12T16:05:59.552Z"
   },
   {
    "duration": 207,
    "start_time": "2023-08-12T16:14:59.733Z"
   },
   {
    "duration": 1329,
    "start_time": "2023-08-12T16:15:40.014Z"
   },
   {
    "duration": 936,
    "start_time": "2023-08-12T16:15:41.345Z"
   },
   {
    "duration": 158,
    "start_time": "2023-08-12T16:15:42.283Z"
   },
   {
    "duration": 1109,
    "start_time": "2023-08-12T16:15:42.444Z"
   },
   {
    "duration": 88,
    "start_time": "2023-08-12T16:15:43.555Z"
   },
   {
    "duration": 2132,
    "start_time": "2023-08-12T16:15:43.645Z"
   },
   {
    "duration": 492,
    "start_time": "2023-08-12T16:15:45.779Z"
   },
   {
    "duration": 599,
    "start_time": "2023-08-12T16:15:46.273Z"
   },
   {
    "duration": 498,
    "start_time": "2023-08-12T16:15:46.874Z"
   },
   {
    "duration": 123,
    "start_time": "2023-08-12T16:15:47.375Z"
   },
   {
    "duration": 365,
    "start_time": "2023-08-12T16:15:47.503Z"
   },
   {
    "duration": 344,
    "start_time": "2023-08-12T16:15:47.870Z"
   },
   {
    "duration": 32,
    "start_time": "2023-08-12T16:15:48.216Z"
   },
   {
    "duration": 130,
    "start_time": "2023-08-12T16:15:48.250Z"
   },
   {
    "duration": 68,
    "start_time": "2023-08-12T16:15:48.382Z"
   },
   {
    "duration": 334,
    "start_time": "2023-08-12T16:15:48.452Z"
   },
   {
    "duration": 507,
    "start_time": "2023-08-12T16:15:48.788Z"
   },
   {
    "duration": 63,
    "start_time": "2023-08-12T16:15:49.298Z"
   },
   {
    "duration": 51,
    "start_time": "2023-08-12T16:15:49.363Z"
   },
   {
    "duration": 345,
    "start_time": "2023-08-12T16:15:49.416Z"
   },
   {
    "duration": 354,
    "start_time": "2023-08-12T16:15:49.763Z"
   },
   {
    "duration": 330,
    "start_time": "2023-08-12T16:15:50.119Z"
   },
   {
    "duration": 10618,
    "start_time": "2023-08-12T16:15:50.450Z"
   },
   {
    "duration": 37,
    "start_time": "2023-08-12T16:16:01.070Z"
   },
   {
    "duration": 424,
    "start_time": "2023-08-12T16:16:01.110Z"
   },
   {
    "duration": 368,
    "start_time": "2023-08-12T16:16:01.536Z"
   },
   {
    "duration": 18,
    "start_time": "2023-08-12T16:16:01.906Z"
   },
   {
    "duration": 139,
    "start_time": "2023-08-12T16:16:01.928Z"
   },
   {
    "duration": 23,
    "start_time": "2023-08-12T16:16:02.069Z"
   },
   {
    "duration": 767,
    "start_time": "2023-08-12T16:16:02.096Z"
   },
   {
    "duration": 230,
    "start_time": "2023-08-12T16:16:02.865Z"
   },
   {
    "duration": 3,
    "start_time": "2023-08-12T16:16:43.922Z"
   },
   {
    "duration": 125,
    "start_time": "2023-08-12T16:16:53.427Z"
   },
   {
    "duration": 1277,
    "start_time": "2023-08-12T16:17:15.061Z"
   },
   {
    "duration": 922,
    "start_time": "2023-08-12T16:17:16.339Z"
   },
   {
    "duration": 155,
    "start_time": "2023-08-12T16:17:17.262Z"
   },
   {
    "duration": 1043,
    "start_time": "2023-08-12T16:17:17.420Z"
   },
   {
    "duration": 85,
    "start_time": "2023-08-12T16:17:18.464Z"
   },
   {
    "duration": 2035,
    "start_time": "2023-08-12T16:17:18.550Z"
   },
   {
    "duration": 475,
    "start_time": "2023-08-12T16:17:20.586Z"
   },
   {
    "duration": 527,
    "start_time": "2023-08-12T16:17:21.063Z"
   },
   {
    "duration": 512,
    "start_time": "2023-08-12T16:17:21.592Z"
   },
   {
    "duration": 140,
    "start_time": "2023-08-12T16:17:22.108Z"
   },
   {
    "duration": 363,
    "start_time": "2023-08-12T16:17:22.249Z"
   },
   {
    "duration": 322,
    "start_time": "2023-08-12T16:17:22.614Z"
   },
   {
    "duration": 30,
    "start_time": "2023-08-12T16:17:22.938Z"
   },
   {
    "duration": 128,
    "start_time": "2023-08-12T16:17:22.970Z"
   },
   {
    "duration": 54,
    "start_time": "2023-08-12T16:17:23.101Z"
   },
   {
    "duration": 307,
    "start_time": "2023-08-12T16:17:23.156Z"
   },
   {
    "duration": 432,
    "start_time": "2023-08-12T16:17:23.464Z"
   },
   {
    "duration": 68,
    "start_time": "2023-08-12T16:17:23.898Z"
   },
   {
    "duration": 53,
    "start_time": "2023-08-12T16:17:23.968Z"
   },
   {
    "duration": 329,
    "start_time": "2023-08-12T16:17:24.023Z"
   },
   {
    "duration": 311,
    "start_time": "2023-08-12T16:17:24.354Z"
   },
   {
    "duration": 310,
    "start_time": "2023-08-12T16:17:24.667Z"
   },
   {
    "duration": 10099,
    "start_time": "2023-08-12T16:17:24.978Z"
   },
   {
    "duration": 39,
    "start_time": "2023-08-12T16:17:35.079Z"
   },
   {
    "duration": 343,
    "start_time": "2023-08-12T16:17:35.120Z"
   },
   {
    "duration": 336,
    "start_time": "2023-08-12T16:17:35.465Z"
   },
   {
    "duration": 17,
    "start_time": "2023-08-12T16:17:35.803Z"
   },
   {
    "duration": 121,
    "start_time": "2023-08-12T16:17:35.823Z"
   },
   {
    "duration": 23,
    "start_time": "2023-08-12T16:17:35.946Z"
   },
   {
    "duration": 727,
    "start_time": "2023-08-12T16:17:35.971Z"
   },
   {
    "duration": 222,
    "start_time": "2023-08-12T16:17:36.701Z"
   },
   {
    "duration": 4,
    "start_time": "2023-08-12T16:24:26.516Z"
   },
   {
    "duration": 2,
    "start_time": "2023-08-12T16:25:37.175Z"
   },
   {
    "duration": 1334,
    "start_time": "2023-08-12T16:25:48.783Z"
   },
   {
    "duration": 3,
    "start_time": "2023-08-12T16:25:50.120Z"
   },
   {
    "duration": 914,
    "start_time": "2023-08-12T16:25:50.124Z"
   },
   {
    "duration": 149,
    "start_time": "2023-08-12T16:25:51.040Z"
   },
   {
    "duration": 923,
    "start_time": "2023-08-12T16:25:51.195Z"
   },
   {
    "duration": 84,
    "start_time": "2023-08-12T16:25:52.120Z"
   },
   {
    "duration": 2003,
    "start_time": "2023-08-12T16:25:52.206Z"
   },
   {
    "duration": 536,
    "start_time": "2023-08-12T16:25:54.212Z"
   },
   {
    "duration": 571,
    "start_time": "2023-08-12T16:25:54.749Z"
   },
   {
    "duration": 535,
    "start_time": "2023-08-12T16:25:55.323Z"
   },
   {
    "duration": 116,
    "start_time": "2023-08-12T16:25:55.859Z"
   },
   {
    "duration": 300,
    "start_time": "2023-08-12T16:25:55.977Z"
   },
   {
    "duration": 309,
    "start_time": "2023-08-12T16:25:56.279Z"
   },
   {
    "duration": 39,
    "start_time": "2023-08-12T16:25:56.590Z"
   },
   {
    "duration": 136,
    "start_time": "2023-08-12T16:25:56.631Z"
   },
   {
    "duration": 67,
    "start_time": "2023-08-12T16:25:56.769Z"
   },
   {
    "duration": 354,
    "start_time": "2023-08-12T16:25:56.838Z"
   },
   {
    "duration": 426,
    "start_time": "2023-08-12T16:25:57.195Z"
   },
   {
    "duration": 51,
    "start_time": "2023-08-12T16:25:57.623Z"
   },
   {
    "duration": 38,
    "start_time": "2023-08-12T16:25:57.676Z"
   },
   {
    "duration": 326,
    "start_time": "2023-08-12T16:25:57.716Z"
   },
   {
    "duration": 321,
    "start_time": "2023-08-12T16:25:58.044Z"
   },
   {
    "duration": 298,
    "start_time": "2023-08-12T16:25:58.367Z"
   },
   {
    "duration": 10556,
    "start_time": "2023-08-12T16:25:58.667Z"
   },
   {
    "duration": 32,
    "start_time": "2023-08-12T16:26:09.226Z"
   },
   {
    "duration": 375,
    "start_time": "2023-08-12T16:26:09.261Z"
   },
   {
    "duration": 381,
    "start_time": "2023-08-12T16:26:09.638Z"
   },
   {
    "duration": 16,
    "start_time": "2023-08-12T16:26:10.023Z"
   },
   {
    "duration": 116,
    "start_time": "2023-08-12T16:26:10.041Z"
   },
   {
    "duration": 22,
    "start_time": "2023-08-12T16:26:10.158Z"
   },
   {
    "duration": 619,
    "start_time": "2023-08-12T16:26:10.182Z"
   },
   {
    "duration": 192,
    "start_time": "2023-08-12T16:26:10.803Z"
   },
   {
    "duration": 137,
    "start_time": "2023-08-12T16:31:03.722Z"
   },
   {
    "duration": 1222,
    "start_time": "2023-08-12T16:31:10.349Z"
   },
   {
    "duration": 2,
    "start_time": "2023-08-12T16:31:11.573Z"
   },
   {
    "duration": 998,
    "start_time": "2023-08-12T16:31:11.576Z"
   },
   {
    "duration": 181,
    "start_time": "2023-08-12T16:31:12.577Z"
   },
   {
    "duration": 1027,
    "start_time": "2023-08-12T16:31:12.759Z"
   },
   {
    "duration": 86,
    "start_time": "2023-08-12T16:31:13.788Z"
   },
   {
    "duration": 1994,
    "start_time": "2023-08-12T16:31:13.876Z"
   },
   {
    "duration": 492,
    "start_time": "2023-08-12T16:31:15.871Z"
   },
   {
    "duration": 505,
    "start_time": "2023-08-12T16:31:16.365Z"
   },
   {
    "duration": 529,
    "start_time": "2023-08-12T16:31:16.872Z"
   },
   {
    "duration": 156,
    "start_time": "2023-08-12T16:31:17.404Z"
   },
   {
    "duration": 354,
    "start_time": "2023-08-12T16:31:17.562Z"
   },
   {
    "duration": 320,
    "start_time": "2023-08-12T16:31:17.918Z"
   },
   {
    "duration": 29,
    "start_time": "2023-08-12T16:31:18.239Z"
   },
   {
    "duration": 130,
    "start_time": "2023-08-12T16:31:18.270Z"
   },
   {
    "duration": 51,
    "start_time": "2023-08-12T16:31:18.402Z"
   },
   {
    "duration": 320,
    "start_time": "2023-08-12T16:31:18.455Z"
   },
   {
    "duration": 437,
    "start_time": "2023-08-12T16:31:18.777Z"
   },
   {
    "duration": 53,
    "start_time": "2023-08-12T16:31:19.218Z"
   },
   {
    "duration": 52,
    "start_time": "2023-08-12T16:31:19.273Z"
   },
   {
    "duration": 316,
    "start_time": "2023-08-12T16:31:19.327Z"
   },
   {
    "duration": 331,
    "start_time": "2023-08-12T16:31:19.646Z"
   },
   {
    "duration": 314,
    "start_time": "2023-08-12T16:31:19.978Z"
   },
   {
    "duration": 9923,
    "start_time": "2023-08-12T16:31:20.294Z"
   },
   {
    "duration": 27,
    "start_time": "2023-08-12T16:31:30.219Z"
   },
   {
    "duration": 337,
    "start_time": "2023-08-12T16:31:30.248Z"
   },
   {
    "duration": 367,
    "start_time": "2023-08-12T16:31:30.588Z"
   },
   {
    "duration": 15,
    "start_time": "2023-08-12T16:31:30.959Z"
   },
   {
    "duration": 119,
    "start_time": "2023-08-12T16:31:30.976Z"
   },
   {
    "duration": 24,
    "start_time": "2023-08-12T16:31:31.098Z"
   },
   {
    "duration": 703,
    "start_time": "2023-08-12T16:31:31.124Z"
   },
   {
    "duration": 273,
    "start_time": "2023-08-12T16:31:31.828Z"
   },
   {
    "duration": 2175,
    "start_time": "2023-08-12T16:33:22.365Z"
   },
   {
    "duration": 2255,
    "start_time": "2023-08-12T16:33:37.687Z"
   },
   {
    "duration": 1182,
    "start_time": "2023-08-12T16:33:39.944Z"
   },
   {
    "duration": 3,
    "start_time": "2023-08-12T16:33:41.127Z"
   },
   {
    "duration": 871,
    "start_time": "2023-08-12T16:33:41.132Z"
   },
   {
    "duration": 140,
    "start_time": "2023-08-12T16:33:42.004Z"
   },
   {
    "duration": 949,
    "start_time": "2023-08-12T16:33:42.146Z"
   },
   {
    "duration": 78,
    "start_time": "2023-08-12T16:33:43.097Z"
   },
   {
    "duration": 1894,
    "start_time": "2023-08-12T16:33:43.177Z"
   },
   {
    "duration": 464,
    "start_time": "2023-08-12T16:33:45.073Z"
   },
   {
    "duration": 472,
    "start_time": "2023-08-12T16:33:45.540Z"
   },
   {
    "duration": 474,
    "start_time": "2023-08-12T16:33:46.014Z"
   },
   {
    "duration": 116,
    "start_time": "2023-08-12T16:33:46.490Z"
   },
   {
    "duration": 359,
    "start_time": "2023-08-12T16:33:46.608Z"
   },
   {
    "duration": 295,
    "start_time": "2023-08-12T16:33:46.969Z"
   },
   {
    "duration": 36,
    "start_time": "2023-08-12T16:33:47.265Z"
   },
   {
    "duration": 105,
    "start_time": "2023-08-12T16:33:47.303Z"
   },
   {
    "duration": 51,
    "start_time": "2023-08-12T16:33:47.409Z"
   },
   {
    "duration": 311,
    "start_time": "2023-08-12T16:33:47.462Z"
   },
   {
    "duration": 447,
    "start_time": "2023-08-12T16:33:47.775Z"
   },
   {
    "duration": 56,
    "start_time": "2023-08-12T16:33:48.224Z"
   },
   {
    "duration": 29,
    "start_time": "2023-08-12T16:33:48.294Z"
   },
   {
    "duration": 301,
    "start_time": "2023-08-12T16:33:48.325Z"
   },
   {
    "duration": 306,
    "start_time": "2023-08-12T16:33:48.628Z"
   },
   {
    "duration": 294,
    "start_time": "2023-08-12T16:33:48.936Z"
   },
   {
    "duration": 9818,
    "start_time": "2023-08-12T16:33:49.232Z"
   },
   {
    "duration": 25,
    "start_time": "2023-08-12T16:33:59.052Z"
   },
   {
    "duration": 296,
    "start_time": "2023-08-12T16:33:59.079Z"
   },
   {
    "duration": 336,
    "start_time": "2023-08-12T16:33:59.378Z"
   },
   {
    "duration": 17,
    "start_time": "2023-08-12T16:33:59.716Z"
   },
   {
    "duration": 122,
    "start_time": "2023-08-12T16:33:59.734Z"
   },
   {
    "duration": 20,
    "start_time": "2023-08-12T16:33:59.858Z"
   },
   {
    "duration": 647,
    "start_time": "2023-08-12T16:33:59.880Z"
   },
   {
    "duration": 222,
    "start_time": "2023-08-12T16:34:00.529Z"
   },
   {
    "duration": 1253,
    "start_time": "2023-08-12T16:42:25.738Z"
   },
   {
    "duration": 2,
    "start_time": "2023-08-12T16:42:26.993Z"
   },
   {
    "duration": 917,
    "start_time": "2023-08-12T16:42:26.997Z"
   },
   {
    "duration": 161,
    "start_time": "2023-08-12T16:42:27.916Z"
   },
   {
    "duration": 1081,
    "start_time": "2023-08-12T16:42:28.079Z"
   },
   {
    "duration": 99,
    "start_time": "2023-08-12T16:42:29.162Z"
   },
   {
    "duration": 2009,
    "start_time": "2023-08-12T16:42:29.263Z"
   },
   {
    "duration": 506,
    "start_time": "2023-08-12T16:42:31.274Z"
   },
   {
    "duration": 544,
    "start_time": "2023-08-12T16:42:31.782Z"
   },
   {
    "duration": 513,
    "start_time": "2023-08-12T16:42:32.330Z"
   },
   {
    "duration": 120,
    "start_time": "2023-08-12T16:42:32.844Z"
   },
   {
    "duration": 332,
    "start_time": "2023-08-12T16:42:32.966Z"
   },
   {
    "duration": 305,
    "start_time": "2023-08-12T16:42:33.300Z"
   },
   {
    "duration": 33,
    "start_time": "2023-08-12T16:42:33.607Z"
   },
   {
    "duration": 109,
    "start_time": "2023-08-12T16:42:33.641Z"
   },
   {
    "duration": 57,
    "start_time": "2023-08-12T16:42:33.751Z"
   },
   {
    "duration": 300,
    "start_time": "2023-08-12T16:42:33.810Z"
   },
   {
    "duration": 428,
    "start_time": "2023-08-12T16:42:34.112Z"
   },
   {
    "duration": 65,
    "start_time": "2023-08-12T16:42:34.542Z"
   },
   {
    "duration": 27,
    "start_time": "2023-08-12T16:42:34.610Z"
   },
   {
    "duration": 299,
    "start_time": "2023-08-12T16:42:34.639Z"
   },
   {
    "duration": 301,
    "start_time": "2023-08-12T16:42:34.939Z"
   },
   {
    "duration": 324,
    "start_time": "2023-08-12T16:42:35.243Z"
   },
   {
    "duration": 9991,
    "start_time": "2023-08-12T16:42:35.569Z"
   },
   {
    "duration": 25,
    "start_time": "2023-08-12T16:42:45.562Z"
   },
   {
    "duration": 290,
    "start_time": "2023-08-12T16:42:45.594Z"
   },
   {
    "duration": 294,
    "start_time": "2023-08-12T16:42:45.886Z"
   },
   {
    "duration": 20,
    "start_time": "2023-08-12T16:42:46.184Z"
   },
   {
    "duration": 109,
    "start_time": "2023-08-12T16:42:46.205Z"
   },
   {
    "duration": 22,
    "start_time": "2023-08-12T16:42:46.317Z"
   },
   {
    "duration": 617,
    "start_time": "2023-08-12T16:42:46.340Z"
   },
   {
    "duration": 188,
    "start_time": "2023-08-12T16:42:46.959Z"
   },
   {
    "duration": 528,
    "start_time": "2023-08-12T17:01:54.470Z"
   },
   {
    "duration": 4,
    "start_time": "2023-08-12T17:02:42.457Z"
   },
   {
    "duration": 4,
    "start_time": "2023-08-12T17:02:43.179Z"
   },
   {
    "duration": 115,
    "start_time": "2023-08-12T17:04:42.517Z"
   },
   {
    "duration": 10,
    "start_time": "2023-08-12T17:24:11.027Z"
   },
   {
    "duration": 1186,
    "start_time": "2023-08-12T17:24:21.180Z"
   },
   {
    "duration": 3,
    "start_time": "2023-08-12T17:24:22.368Z"
   },
   {
    "duration": 885,
    "start_time": "2023-08-12T17:24:22.372Z"
   },
   {
    "duration": 144,
    "start_time": "2023-08-12T17:24:23.259Z"
   },
   {
    "duration": 943,
    "start_time": "2023-08-12T17:24:23.404Z"
   },
   {
    "duration": 83,
    "start_time": "2023-08-12T17:24:24.349Z"
   },
   {
    "duration": 1935,
    "start_time": "2023-08-12T17:24:24.434Z"
   },
   {
    "duration": 539,
    "start_time": "2023-08-12T17:24:26.372Z"
   },
   {
    "duration": 510,
    "start_time": "2023-08-12T17:24:26.912Z"
   },
   {
    "duration": 459,
    "start_time": "2023-08-12T17:24:27.425Z"
   },
   {
    "duration": 116,
    "start_time": "2023-08-12T17:24:27.885Z"
   },
   {
    "duration": 307,
    "start_time": "2023-08-12T17:24:28.003Z"
   },
   {
    "duration": 287,
    "start_time": "2023-08-12T17:24:28.312Z"
   },
   {
    "duration": 29,
    "start_time": "2023-08-12T17:24:28.600Z"
   },
   {
    "duration": 105,
    "start_time": "2023-08-12T17:24:28.631Z"
   },
   {
    "duration": 62,
    "start_time": "2023-08-12T17:24:28.738Z"
   },
   {
    "duration": 288,
    "start_time": "2023-08-12T17:24:28.802Z"
   },
   {
    "duration": 417,
    "start_time": "2023-08-12T17:24:29.091Z"
   },
   {
    "duration": 55,
    "start_time": "2023-08-12T17:24:29.510Z"
   },
   {
    "duration": 43,
    "start_time": "2023-08-12T17:24:29.566Z"
   },
   {
    "duration": 319,
    "start_time": "2023-08-12T17:24:29.611Z"
   },
   {
    "duration": 335,
    "start_time": "2023-08-12T17:24:29.932Z"
   },
   {
    "duration": 327,
    "start_time": "2023-08-12T17:24:30.269Z"
   },
   {
    "duration": 11249,
    "start_time": "2023-08-12T17:24:30.599Z"
   },
   {
    "duration": 27,
    "start_time": "2023-08-12T17:24:41.850Z"
   },
   {
    "duration": 345,
    "start_time": "2023-08-12T17:24:41.879Z"
   },
   {
    "duration": 361,
    "start_time": "2023-08-12T17:24:42.226Z"
   },
   {
    "duration": 20,
    "start_time": "2023-08-12T17:24:42.595Z"
   },
   {
    "duration": 118,
    "start_time": "2023-08-12T17:24:42.616Z"
   },
   {
    "duration": 22,
    "start_time": "2023-08-12T17:24:42.736Z"
   },
   {
    "duration": 757,
    "start_time": "2023-08-12T17:24:42.760Z"
   },
   {
    "duration": 229,
    "start_time": "2023-08-12T17:24:43.519Z"
   },
   {
    "duration": 4,
    "start_time": "2023-08-12T17:24:43.749Z"
   },
   {
    "duration": 7,
    "start_time": "2023-08-12T17:24:43.754Z"
   },
   {
    "duration": 9,
    "start_time": "2023-08-12T17:24:43.763Z"
   },
   {
    "duration": 180,
    "start_time": "2023-08-12T17:24:43.774Z"
   },
   {
    "duration": 3,
    "start_time": "2023-08-12T17:34:28.083Z"
   },
   {
    "duration": 4,
    "start_time": "2023-08-12T17:34:28.995Z"
   },
   {
    "duration": 4,
    "start_time": "2023-08-12T17:34:30.129Z"
   },
   {
    "duration": 32,
    "start_time": "2023-08-12T17:34:31.468Z"
   },
   {
    "duration": 4,
    "start_time": "2023-08-12T17:38:32.324Z"
   },
   {
    "duration": 3,
    "start_time": "2023-08-12T17:38:33.011Z"
   },
   {
    "duration": 3,
    "start_time": "2023-08-12T17:38:33.670Z"
   },
   {
    "duration": 29,
    "start_time": "2023-08-12T17:38:34.741Z"
   },
   {
    "duration": 4,
    "start_time": "2023-08-12T17:43:27.596Z"
   },
   {
    "duration": 4,
    "start_time": "2023-08-12T17:43:28.948Z"
   },
   {
    "duration": 4,
    "start_time": "2023-08-12T17:43:29.629Z"
   },
   {
    "duration": 329109,
    "start_time": "2023-08-12T17:43:30.405Z"
   },
   {
    "duration": 4,
    "start_time": "2023-08-12T17:50:23.846Z"
   },
   {
    "duration": 3,
    "start_time": "2023-08-12T17:50:24.582Z"
   },
   {
    "duration": 4,
    "start_time": "2023-08-12T17:50:25.160Z"
   },
   {
    "duration": 496998,
    "start_time": "2023-08-12T17:50:25.816Z"
   },
   {
    "duration": 3,
    "start_time": "2023-08-12T18:01:31.454Z"
   },
   {
    "duration": 3,
    "start_time": "2023-08-12T18:01:32.868Z"
   },
   {
    "duration": 4,
    "start_time": "2023-08-12T18:01:34.055Z"
   },
   {
    "duration": 1249,
    "start_time": "2023-08-12T19:04:03.723Z"
   },
   {
    "duration": 3,
    "start_time": "2023-08-12T19:04:04.974Z"
   },
   {
    "duration": 935,
    "start_time": "2023-08-12T19:04:04.979Z"
   },
   {
    "duration": 137,
    "start_time": "2023-08-12T19:04:05.916Z"
   },
   {
    "duration": 1054,
    "start_time": "2023-08-12T19:04:06.054Z"
   },
   {
    "duration": 86,
    "start_time": "2023-08-12T19:04:07.110Z"
   },
   {
    "duration": 2030,
    "start_time": "2023-08-12T19:04:07.198Z"
   },
   {
    "duration": 475,
    "start_time": "2023-08-12T19:04:09.230Z"
   },
   {
    "duration": 501,
    "start_time": "2023-08-12T19:04:09.707Z"
   },
   {
    "duration": 461,
    "start_time": "2023-08-12T19:04:10.211Z"
   },
   {
    "duration": 122,
    "start_time": "2023-08-12T19:04:10.673Z"
   },
   {
    "duration": 322,
    "start_time": "2023-08-12T19:04:10.796Z"
   },
   {
    "duration": 309,
    "start_time": "2023-08-12T19:04:11.119Z"
   },
   {
    "duration": 30,
    "start_time": "2023-08-12T19:04:11.430Z"
   },
   {
    "duration": 111,
    "start_time": "2023-08-12T19:04:11.462Z"
   },
   {
    "duration": 60,
    "start_time": "2023-08-12T19:04:11.575Z"
   },
   {
    "duration": 332,
    "start_time": "2023-08-12T19:04:11.637Z"
   },
   {
    "duration": 485,
    "start_time": "2023-08-12T19:04:11.971Z"
   },
   {
    "duration": 66,
    "start_time": "2023-08-12T19:04:12.458Z"
   },
   {
    "duration": 26,
    "start_time": "2023-08-12T19:04:12.526Z"
   },
   {
    "duration": 322,
    "start_time": "2023-08-12T19:04:12.554Z"
   },
   {
    "duration": 313,
    "start_time": "2023-08-12T19:04:12.878Z"
   },
   {
    "duration": 300,
    "start_time": "2023-08-12T19:04:13.193Z"
   },
   {
    "duration": 9741,
    "start_time": "2023-08-12T19:04:13.495Z"
   },
   {
    "duration": 28,
    "start_time": "2023-08-12T19:04:23.238Z"
   },
   {
    "duration": 310,
    "start_time": "2023-08-12T19:04:23.268Z"
   },
   {
    "duration": 340,
    "start_time": "2023-08-12T19:04:23.579Z"
   },
   {
    "duration": 17,
    "start_time": "2023-08-12T19:04:23.922Z"
   },
   {
    "duration": 127,
    "start_time": "2023-08-12T19:04:23.941Z"
   },
   {
    "duration": 34,
    "start_time": "2023-08-12T19:04:24.071Z"
   },
   {
    "duration": 16,
    "start_time": "2023-08-12T19:04:24.108Z"
   },
   {
    "duration": 19,
    "start_time": "2023-08-12T19:04:24.126Z"
   },
   {
    "duration": 173,
    "start_time": "2023-08-12T19:04:24.148Z"
   },
   {
    "duration": 0,
    "start_time": "2023-08-12T19:04:24.322Z"
   },
   {
    "duration": 0,
    "start_time": "2023-08-12T19:04:24.324Z"
   },
   {
    "duration": 0,
    "start_time": "2023-08-12T19:04:24.325Z"
   },
   {
    "duration": 0,
    "start_time": "2023-08-12T19:04:24.326Z"
   },
   {
    "duration": 5,
    "start_time": "2023-08-12T19:09:18.299Z"
   },
   {
    "duration": 11,
    "start_time": "2023-08-12T19:11:07.158Z"
   },
   {
    "duration": 15,
    "start_time": "2023-08-12T19:11:26.309Z"
   },
   {
    "duration": 30,
    "start_time": "2023-08-12T19:11:48.004Z"
   },
   {
    "duration": 4,
    "start_time": "2023-08-12T19:12:39.274Z"
   },
   {
    "duration": 4,
    "start_time": "2023-08-12T19:16:54.589Z"
   },
   {
    "duration": 3,
    "start_time": "2023-08-12T19:16:55.731Z"
   },
   {
    "duration": 10,
    "start_time": "2023-08-12T19:16:56.420Z"
   },
   {
    "duration": 1327,
    "start_time": "2023-08-12T19:17:31.448Z"
   },
   {
    "duration": 3,
    "start_time": "2023-08-12T19:17:32.777Z"
   },
   {
    "duration": 879,
    "start_time": "2023-08-12T19:17:32.781Z"
   },
   {
    "duration": 151,
    "start_time": "2023-08-12T19:17:33.662Z"
   },
   {
    "duration": 955,
    "start_time": "2023-08-12T19:17:33.815Z"
   },
   {
    "duration": 89,
    "start_time": "2023-08-12T19:17:34.772Z"
   },
   {
    "duration": 2035,
    "start_time": "2023-08-12T19:17:34.864Z"
   },
   {
    "duration": 422,
    "start_time": "2023-08-12T19:17:36.901Z"
   },
   {
    "duration": 442,
    "start_time": "2023-08-12T19:17:37.325Z"
   },
   {
    "duration": 480,
    "start_time": "2023-08-12T19:17:37.770Z"
   },
   {
    "duration": 129,
    "start_time": "2023-08-12T19:17:38.252Z"
   },
   {
    "duration": 312,
    "start_time": "2023-08-12T19:17:38.383Z"
   },
   {
    "duration": 286,
    "start_time": "2023-08-12T19:17:38.696Z"
   },
   {
    "duration": 32,
    "start_time": "2023-08-12T19:17:38.984Z"
   },
   {
    "duration": 110,
    "start_time": "2023-08-12T19:17:39.019Z"
   },
   {
    "duration": 64,
    "start_time": "2023-08-12T19:17:39.131Z"
   },
   {
    "duration": 304,
    "start_time": "2023-08-12T19:17:39.197Z"
   },
   {
    "duration": 416,
    "start_time": "2023-08-12T19:17:39.503Z"
   },
   {
    "duration": 55,
    "start_time": "2023-08-12T19:17:39.921Z"
   },
   {
    "duration": 38,
    "start_time": "2023-08-12T19:17:39.977Z"
   },
   {
    "duration": 325,
    "start_time": "2023-08-12T19:17:40.017Z"
   },
   {
    "duration": 298,
    "start_time": "2023-08-12T19:17:40.344Z"
   },
   {
    "duration": 292,
    "start_time": "2023-08-12T19:17:40.644Z"
   },
   {
    "duration": 9555,
    "start_time": "2023-08-12T19:17:40.937Z"
   },
   {
    "duration": 26,
    "start_time": "2023-08-12T19:17:50.493Z"
   },
   {
    "duration": 302,
    "start_time": "2023-08-12T19:17:50.522Z"
   },
   {
    "duration": 291,
    "start_time": "2023-08-12T19:17:50.825Z"
   },
   {
    "duration": 14,
    "start_time": "2023-08-12T19:17:51.119Z"
   },
   {
    "duration": 114,
    "start_time": "2023-08-12T19:17:51.134Z"
   },
   {
    "duration": 19,
    "start_time": "2023-08-12T19:17:51.250Z"
   },
   {
    "duration": 9,
    "start_time": "2023-08-12T19:17:51.271Z"
   },
   {
    "duration": 14,
    "start_time": "2023-08-12T19:17:51.281Z"
   },
   {
    "duration": 15,
    "start_time": "2023-08-12T19:17:51.297Z"
   },
   {
    "duration": 9,
    "start_time": "2023-08-12T19:17:51.313Z"
   },
   {
    "duration": 123,
    "start_time": "2023-08-12T19:17:51.324Z"
   },
   {
    "duration": 0,
    "start_time": "2023-08-12T19:17:51.449Z"
   },
   {
    "duration": 0,
    "start_time": "2023-08-12T19:17:51.450Z"
   },
   {
    "duration": 0,
    "start_time": "2023-08-12T19:17:51.451Z"
   },
   {
    "duration": 0,
    "start_time": "2023-08-12T19:17:51.452Z"
   },
   {
    "duration": 3,
    "start_time": "2023-08-12T19:18:39.832Z"
   },
   {
    "duration": 13,
    "start_time": "2023-08-12T19:19:24.653Z"
   },
   {
    "duration": 53,
    "start_time": "2023-08-12T19:22:21.850Z"
   },
   {
    "duration": 13,
    "start_time": "2023-08-12T19:27:28.438Z"
   },
   {
    "duration": 38,
    "start_time": "2023-08-12T19:28:13.501Z"
   },
   {
    "duration": 1273,
    "start_time": "2023-08-12T19:31:21.210Z"
   },
   {
    "duration": 3,
    "start_time": "2023-08-12T19:31:22.485Z"
   },
   {
    "duration": 898,
    "start_time": "2023-08-12T19:31:22.490Z"
   },
   {
    "duration": 139,
    "start_time": "2023-08-12T19:31:23.390Z"
   },
   {
    "duration": 917,
    "start_time": "2023-08-12T19:31:23.531Z"
   },
   {
    "duration": 89,
    "start_time": "2023-08-12T19:31:24.450Z"
   },
   {
    "duration": 2017,
    "start_time": "2023-08-12T19:31:24.540Z"
   },
   {
    "duration": 483,
    "start_time": "2023-08-12T19:31:26.560Z"
   },
   {
    "duration": 505,
    "start_time": "2023-08-12T19:31:27.045Z"
   },
   {
    "duration": 443,
    "start_time": "2023-08-12T19:31:27.552Z"
   },
   {
    "duration": 112,
    "start_time": "2023-08-12T19:31:27.997Z"
   },
   {
    "duration": 334,
    "start_time": "2023-08-12T19:31:28.110Z"
   },
   {
    "duration": 277,
    "start_time": "2023-08-12T19:31:28.446Z"
   },
   {
    "duration": 28,
    "start_time": "2023-08-12T19:31:28.724Z"
   },
   {
    "duration": 106,
    "start_time": "2023-08-12T19:31:28.754Z"
   },
   {
    "duration": 59,
    "start_time": "2023-08-12T19:31:28.861Z"
   },
   {
    "duration": 293,
    "start_time": "2023-08-12T19:31:28.922Z"
   },
   {
    "duration": 427,
    "start_time": "2023-08-12T19:31:29.217Z"
   },
   {
    "duration": 61,
    "start_time": "2023-08-12T19:31:29.646Z"
   },
   {
    "duration": 24,
    "start_time": "2023-08-12T19:31:29.709Z"
   },
   {
    "duration": 295,
    "start_time": "2023-08-12T19:31:29.735Z"
   },
   {
    "duration": 304,
    "start_time": "2023-08-12T19:31:30.032Z"
   },
   {
    "duration": 304,
    "start_time": "2023-08-12T19:31:30.338Z"
   },
   {
    "duration": 9417,
    "start_time": "2023-08-12T19:31:30.644Z"
   },
   {
    "duration": 32,
    "start_time": "2023-08-12T19:31:40.063Z"
   },
   {
    "duration": 296,
    "start_time": "2023-08-12T19:31:40.096Z"
   },
   {
    "duration": 312,
    "start_time": "2023-08-12T19:31:40.394Z"
   },
   {
    "duration": 17,
    "start_time": "2023-08-12T19:31:40.710Z"
   },
   {
    "duration": 114,
    "start_time": "2023-08-12T19:31:40.729Z"
   },
   {
    "duration": 22,
    "start_time": "2023-08-12T19:31:40.844Z"
   },
   {
    "duration": 5,
    "start_time": "2023-08-12T19:31:40.868Z"
   },
   {
    "duration": 20,
    "start_time": "2023-08-12T19:31:40.875Z"
   },
   {
    "duration": 11,
    "start_time": "2023-08-12T19:31:40.897Z"
   },
   {
    "duration": 13,
    "start_time": "2023-08-12T19:31:40.910Z"
   },
   {
    "duration": 156,
    "start_time": "2023-08-12T19:31:40.926Z"
   },
   {
    "duration": 0,
    "start_time": "2023-08-12T19:31:41.084Z"
   },
   {
    "duration": 0,
    "start_time": "2023-08-12T19:31:41.085Z"
   },
   {
    "duration": 0,
    "start_time": "2023-08-12T19:31:41.095Z"
   },
   {
    "duration": 0,
    "start_time": "2023-08-12T19:31:41.095Z"
   },
   {
    "duration": 49,
    "start_time": "2023-08-12T19:38:27.421Z"
   },
   {
    "duration": 4,
    "start_time": "2023-08-12T19:38:31.731Z"
   },
   {
    "duration": 39,
    "start_time": "2023-08-12T19:38:33.532Z"
   },
   {
    "duration": 44,
    "start_time": "2023-08-12T19:39:12.471Z"
   },
   {
    "duration": 34,
    "start_time": "2023-08-12T19:39:19.622Z"
   },
   {
    "duration": 38,
    "start_time": "2023-08-12T19:41:21.725Z"
   },
   {
    "duration": 4,
    "start_time": "2023-08-12T19:42:33.589Z"
   },
   {
    "duration": 52,
    "start_time": "2023-08-12T19:42:34.691Z"
   },
   {
    "duration": 33,
    "start_time": "2023-08-12T19:45:28.468Z"
   },
   {
    "duration": 14,
    "start_time": "2023-08-12T19:45:39.201Z"
   },
   {
    "duration": 35,
    "start_time": "2023-08-12T19:46:48.584Z"
   },
   {
    "duration": 44942,
    "start_time": "2023-08-12T19:49:51.758Z"
   },
   {
    "duration": 49,
    "start_time": "2023-08-12T19:50:36.702Z"
   },
   {
    "duration": 5,
    "start_time": "2023-08-12T19:54:52.358Z"
   },
   {
    "duration": 13,
    "start_time": "2023-08-12T19:57:37.517Z"
   },
   {
    "duration": 4,
    "start_time": "2023-08-12T19:59:25.345Z"
   },
   {
    "duration": 3,
    "start_time": "2023-08-12T19:59:35.241Z"
   },
   {
    "duration": 4,
    "start_time": "2023-08-12T20:00:18.043Z"
   },
   {
    "duration": 4,
    "start_time": "2023-08-12T20:00:28.559Z"
   },
   {
    "duration": 40,
    "start_time": "2023-08-12T20:00:32.754Z"
   },
   {
    "duration": 47,
    "start_time": "2023-08-12T20:00:54.856Z"
   },
   {
    "duration": 4,
    "start_time": "2023-08-12T20:01:12.929Z"
   },
   {
    "duration": 1337,
    "start_time": "2023-08-12T20:04:33.054Z"
   },
   {
    "duration": 3,
    "start_time": "2023-08-12T20:04:34.394Z"
   },
   {
    "duration": 1037,
    "start_time": "2023-08-12T20:04:34.398Z"
   },
   {
    "duration": 180,
    "start_time": "2023-08-12T20:04:35.437Z"
   },
   {
    "duration": 1030,
    "start_time": "2023-08-12T20:04:35.618Z"
   },
   {
    "duration": 114,
    "start_time": "2023-08-12T20:04:36.651Z"
   },
   {
    "duration": 1978,
    "start_time": "2023-08-12T20:04:36.767Z"
   },
   {
    "duration": 532,
    "start_time": "2023-08-12T20:04:38.747Z"
   },
   {
    "duration": 558,
    "start_time": "2023-08-12T20:04:39.281Z"
   },
   {
    "duration": 552,
    "start_time": "2023-08-12T20:04:39.843Z"
   },
   {
    "duration": 180,
    "start_time": "2023-08-12T20:04:40.398Z"
   },
   {
    "duration": 364,
    "start_time": "2023-08-12T20:04:40.581Z"
   },
   {
    "duration": 311,
    "start_time": "2023-08-12T20:04:40.947Z"
   },
   {
    "duration": 37,
    "start_time": "2023-08-12T20:04:41.261Z"
   },
   {
    "duration": 99,
    "start_time": "2023-08-12T20:04:41.300Z"
   },
   {
    "duration": 64,
    "start_time": "2023-08-12T20:04:41.401Z"
   },
   {
    "duration": 314,
    "start_time": "2023-08-12T20:04:41.467Z"
   },
   {
    "duration": 583,
    "start_time": "2023-08-12T20:04:41.783Z"
   },
   {
    "duration": 79,
    "start_time": "2023-08-12T20:04:42.368Z"
   },
   {
    "duration": 45,
    "start_time": "2023-08-12T20:04:42.450Z"
   },
   {
    "duration": 291,
    "start_time": "2023-08-12T20:04:42.498Z"
   },
   {
    "duration": 345,
    "start_time": "2023-08-12T20:04:42.795Z"
   },
   {
    "duration": 327,
    "start_time": "2023-08-12T20:04:43.143Z"
   },
   {
    "duration": 10380,
    "start_time": "2023-08-12T20:04:43.472Z"
   },
   {
    "duration": 31,
    "start_time": "2023-08-12T20:04:53.853Z"
   },
   {
    "duration": 342,
    "start_time": "2023-08-12T20:04:53.895Z"
   },
   {
    "duration": 362,
    "start_time": "2023-08-12T20:04:54.239Z"
   },
   {
    "duration": 19,
    "start_time": "2023-08-12T20:04:54.606Z"
   },
   {
    "duration": 139,
    "start_time": "2023-08-12T20:04:54.628Z"
   },
   {
    "duration": 26,
    "start_time": "2023-08-12T20:04:54.769Z"
   },
   {
    "duration": 94,
    "start_time": "2023-08-12T20:04:54.797Z"
   },
   {
    "duration": 34,
    "start_time": "2023-08-12T20:04:54.893Z"
   },
   {
    "duration": 29,
    "start_time": "2023-08-12T20:04:54.930Z"
   },
   {
    "duration": 25,
    "start_time": "2023-08-12T20:04:54.962Z"
   },
   {
    "duration": 52,
    "start_time": "2023-08-12T20:08:35.228Z"
   },
   {
    "duration": 7,
    "start_time": "2023-08-12T20:08:37.330Z"
   },
   {
    "duration": 1316,
    "start_time": "2023-08-12T20:08:55.316Z"
   },
   {
    "duration": 3,
    "start_time": "2023-08-12T20:08:56.634Z"
   },
   {
    "duration": 889,
    "start_time": "2023-08-12T20:08:56.640Z"
   },
   {
    "duration": 129,
    "start_time": "2023-08-12T20:08:57.531Z"
   },
   {
    "duration": 881,
    "start_time": "2023-08-12T20:08:57.662Z"
   },
   {
    "duration": 85,
    "start_time": "2023-08-12T20:08:58.545Z"
   },
   {
    "duration": 2102,
    "start_time": "2023-08-12T20:08:58.632Z"
   },
   {
    "duration": 502,
    "start_time": "2023-08-12T20:09:00.736Z"
   },
   {
    "duration": 532,
    "start_time": "2023-08-12T20:09:01.240Z"
   },
   {
    "duration": 528,
    "start_time": "2023-08-12T20:09:01.775Z"
   },
   {
    "duration": 191,
    "start_time": "2023-08-12T20:09:02.304Z"
   },
   {
    "duration": 375,
    "start_time": "2023-08-12T20:09:02.497Z"
   },
   {
    "duration": 321,
    "start_time": "2023-08-12T20:09:02.874Z"
   },
   {
    "duration": 32,
    "start_time": "2023-08-12T20:09:03.196Z"
   },
   {
    "duration": 110,
    "start_time": "2023-08-12T20:09:03.230Z"
   },
   {
    "duration": 63,
    "start_time": "2023-08-12T20:09:03.342Z"
   },
   {
    "duration": 340,
    "start_time": "2023-08-12T20:09:03.407Z"
   },
   {
    "duration": 413,
    "start_time": "2023-08-12T20:09:03.749Z"
   },
   {
    "duration": 81,
    "start_time": "2023-08-12T20:09:04.163Z"
   },
   {
    "duration": 26,
    "start_time": "2023-08-12T20:09:04.246Z"
   },
   {
    "duration": 301,
    "start_time": "2023-08-12T20:09:04.274Z"
   },
   {
    "duration": 305,
    "start_time": "2023-08-12T20:09:04.576Z"
   },
   {
    "duration": 290,
    "start_time": "2023-08-12T20:09:04.884Z"
   },
   {
    "duration": 10175,
    "start_time": "2023-08-12T20:09:05.177Z"
   },
   {
    "duration": 30,
    "start_time": "2023-08-12T20:09:15.354Z"
   },
   {
    "duration": 312,
    "start_time": "2023-08-12T20:09:15.395Z"
   },
   {
    "duration": 346,
    "start_time": "2023-08-12T20:09:15.709Z"
   },
   {
    "duration": 18,
    "start_time": "2023-08-12T20:09:16.060Z"
   },
   {
    "duration": 133,
    "start_time": "2023-08-12T20:09:16.081Z"
   },
   {
    "duration": 23,
    "start_time": "2023-08-12T20:09:16.216Z"
   },
   {
    "duration": 15,
    "start_time": "2023-08-12T20:09:16.241Z"
   },
   {
    "duration": 14,
    "start_time": "2023-08-12T20:09:16.258Z"
   },
   {
    "duration": 28,
    "start_time": "2023-08-12T20:09:16.274Z"
   },
   {
    "duration": 15,
    "start_time": "2023-08-12T20:09:16.304Z"
   },
   {
    "duration": 157,
    "start_time": "2023-08-12T20:09:16.323Z"
   },
   {
    "duration": 0,
    "start_time": "2023-08-12T20:09:16.482Z"
   },
   {
    "duration": 0,
    "start_time": "2023-08-12T20:09:16.484Z"
   },
   {
    "duration": 1,
    "start_time": "2023-08-12T20:09:16.485Z"
   },
   {
    "duration": 0,
    "start_time": "2023-08-12T20:09:16.495Z"
   },
   {
    "duration": 11,
    "start_time": "2023-08-12T20:14:11.563Z"
   },
   {
    "duration": 12,
    "start_time": "2023-08-12T20:18:12.590Z"
   },
   {
    "duration": 3,
    "start_time": "2023-08-12T20:22:52.639Z"
   },
   {
    "duration": 12,
    "start_time": "2023-08-12T20:22:54.800Z"
   },
   {
    "duration": 1313,
    "start_time": "2023-08-12T20:23:08.450Z"
   },
   {
    "duration": 3,
    "start_time": "2023-08-12T20:23:09.765Z"
   },
   {
    "duration": 918,
    "start_time": "2023-08-12T20:23:09.770Z"
   },
   {
    "duration": 154,
    "start_time": "2023-08-12T20:23:10.690Z"
   },
   {
    "duration": 988,
    "start_time": "2023-08-12T20:23:10.846Z"
   },
   {
    "duration": 92,
    "start_time": "2023-08-12T20:23:11.836Z"
   },
   {
    "duration": 2064,
    "start_time": "2023-08-12T20:23:11.929Z"
   },
   {
    "duration": 536,
    "start_time": "2023-08-12T20:23:13.995Z"
   },
   {
    "duration": 503,
    "start_time": "2023-08-12T20:23:14.533Z"
   },
   {
    "duration": 500,
    "start_time": "2023-08-12T20:23:15.038Z"
   },
   {
    "duration": 142,
    "start_time": "2023-08-12T20:23:15.540Z"
   },
   {
    "duration": 350,
    "start_time": "2023-08-12T20:23:15.684Z"
   },
   {
    "duration": 365,
    "start_time": "2023-08-12T20:23:16.036Z"
   },
   {
    "duration": 32,
    "start_time": "2023-08-12T20:23:16.404Z"
   },
   {
    "duration": 125,
    "start_time": "2023-08-12T20:23:16.439Z"
   },
   {
    "duration": 77,
    "start_time": "2023-08-12T20:23:16.566Z"
   },
   {
    "duration": 351,
    "start_time": "2023-08-12T20:23:16.646Z"
   },
   {
    "duration": 443,
    "start_time": "2023-08-12T20:23:16.999Z"
   },
   {
    "duration": 66,
    "start_time": "2023-08-12T20:23:17.444Z"
   },
   {
    "duration": 31,
    "start_time": "2023-08-12T20:23:17.512Z"
   },
   {
    "duration": 325,
    "start_time": "2023-08-12T20:23:17.546Z"
   },
   {
    "duration": 335,
    "start_time": "2023-08-12T20:23:17.873Z"
   },
   {
    "duration": 307,
    "start_time": "2023-08-12T20:23:18.210Z"
   },
   {
    "duration": 9667,
    "start_time": "2023-08-12T20:23:18.519Z"
   },
   {
    "duration": 28,
    "start_time": "2023-08-12T20:23:28.188Z"
   },
   {
    "duration": 320,
    "start_time": "2023-08-12T20:23:28.218Z"
   },
   {
    "duration": 331,
    "start_time": "2023-08-12T20:23:28.540Z"
   },
   {
    "duration": 24,
    "start_time": "2023-08-12T20:23:28.875Z"
   },
   {
    "duration": 102,
    "start_time": "2023-08-12T20:23:28.901Z"
   },
   {
    "duration": 22,
    "start_time": "2023-08-12T20:23:29.004Z"
   },
   {
    "duration": 5,
    "start_time": "2023-08-12T20:23:29.028Z"
   },
   {
    "duration": 13,
    "start_time": "2023-08-12T20:23:29.035Z"
   },
   {
    "duration": 9,
    "start_time": "2023-08-12T20:23:29.050Z"
   },
   {
    "duration": 138,
    "start_time": "2023-08-12T20:23:29.060Z"
   },
   {
    "duration": 0,
    "start_time": "2023-08-12T20:23:29.200Z"
   },
   {
    "duration": 0,
    "start_time": "2023-08-12T20:23:29.202Z"
   },
   {
    "duration": 0,
    "start_time": "2023-08-12T20:23:29.204Z"
   },
   {
    "duration": 0,
    "start_time": "2023-08-12T20:23:29.206Z"
   },
   {
    "duration": 16,
    "start_time": "2023-08-12T20:25:06.549Z"
   },
   {
    "duration": 30,
    "start_time": "2023-08-12T20:26:13.219Z"
   },
   {
    "duration": 434272,
    "start_time": "2023-08-12T20:27:19.632Z"
   },
   {
    "duration": 58,
    "start_time": "2023-08-12T20:39:22.606Z"
   },
   {
    "duration": 3,
    "start_time": "2023-08-12T20:41:43.658Z"
   },
   {
    "duration": 1227,
    "start_time": "2023-08-12T20:43:50.021Z"
   },
   {
    "duration": 2,
    "start_time": "2023-08-12T20:43:51.250Z"
   },
   {
    "duration": 873,
    "start_time": "2023-08-12T20:43:51.254Z"
   },
   {
    "duration": 135,
    "start_time": "2023-08-12T20:43:52.129Z"
   },
   {
    "duration": 872,
    "start_time": "2023-08-12T20:43:52.266Z"
   },
   {
    "duration": 82,
    "start_time": "2023-08-12T20:43:53.139Z"
   },
   {
    "duration": 1960,
    "start_time": "2023-08-12T20:43:53.223Z"
   },
   {
    "duration": 532,
    "start_time": "2023-08-12T20:43:55.184Z"
   },
   {
    "duration": 549,
    "start_time": "2023-08-12T20:43:55.717Z"
   },
   {
    "duration": 532,
    "start_time": "2023-08-12T20:43:56.269Z"
   },
   {
    "duration": 157,
    "start_time": "2023-08-12T20:43:56.804Z"
   },
   {
    "duration": 352,
    "start_time": "2023-08-12T20:43:56.963Z"
   },
   {
    "duration": 300,
    "start_time": "2023-08-12T20:43:57.317Z"
   },
   {
    "duration": 30,
    "start_time": "2023-08-12T20:43:57.619Z"
   },
   {
    "duration": 112,
    "start_time": "2023-08-12T20:43:57.650Z"
   },
   {
    "duration": 61,
    "start_time": "2023-08-12T20:43:57.763Z"
   },
   {
    "duration": 316,
    "start_time": "2023-08-12T20:43:57.826Z"
   },
   {
    "duration": 409,
    "start_time": "2023-08-12T20:43:58.143Z"
   },
   {
    "duration": 60,
    "start_time": "2023-08-12T20:43:58.554Z"
   },
   {
    "duration": 24,
    "start_time": "2023-08-12T20:43:58.615Z"
   },
   {
    "duration": 273,
    "start_time": "2023-08-12T20:43:58.641Z"
   },
   {
    "duration": 290,
    "start_time": "2023-08-12T20:43:58.916Z"
   },
   {
    "duration": 270,
    "start_time": "2023-08-12T20:43:59.207Z"
   },
   {
    "duration": 9376,
    "start_time": "2023-08-12T20:43:59.479Z"
   },
   {
    "duration": 27,
    "start_time": "2023-08-12T20:44:08.857Z"
   },
   {
    "duration": 334,
    "start_time": "2023-08-12T20:44:08.885Z"
   },
   {
    "duration": 351,
    "start_time": "2023-08-12T20:44:09.221Z"
   },
   {
    "duration": 24,
    "start_time": "2023-08-12T20:44:09.575Z"
   },
   {
    "duration": 110,
    "start_time": "2023-08-12T20:44:09.601Z"
   },
   {
    "duration": 24,
    "start_time": "2023-08-12T20:44:09.713Z"
   },
   {
    "duration": 15,
    "start_time": "2023-08-12T20:44:09.739Z"
   },
   {
    "duration": 14,
    "start_time": "2023-08-12T20:44:09.756Z"
   },
   {
    "duration": 11,
    "start_time": "2023-08-12T20:44:09.772Z"
   },
   {
    "duration": 134,
    "start_time": "2023-08-12T20:44:09.785Z"
   },
   {
    "duration": 0,
    "start_time": "2023-08-12T20:44:09.922Z"
   },
   {
    "duration": 0,
    "start_time": "2023-08-12T20:44:09.923Z"
   },
   {
    "duration": 0,
    "start_time": "2023-08-12T20:44:09.924Z"
   },
   {
    "duration": 0,
    "start_time": "2023-08-12T20:44:09.926Z"
   },
   {
    "duration": 448975,
    "start_time": "2023-08-12T20:47:42.128Z"
   },
   {
    "duration": 4,
    "start_time": "2023-08-12T20:56:02.403Z"
   },
   {
    "duration": 20,
    "start_time": "2023-08-12T20:56:04.823Z"
   },
   {
    "duration": 75,
    "start_time": "2023-08-12T20:57:45.632Z"
   },
   {
    "duration": 467302,
    "start_time": "2023-08-12T20:58:13.197Z"
   },
   {
    "duration": 10,
    "start_time": "2023-08-12T21:48:03.585Z"
   },
   {
    "duration": 4,
    "start_time": "2023-08-12T21:48:15.882Z"
   },
   {
    "duration": 458538,
    "start_time": "2023-08-12T21:48:27.022Z"
   },
   {
    "duration": 13,
    "start_time": "2023-08-12T21:59:31.179Z"
   },
   {
    "duration": 467693,
    "start_time": "2023-08-12T22:00:20.361Z"
   },
   {
    "duration": 463297,
    "start_time": "2023-08-12T22:10:43.465Z"
   },
   {
    "duration": 453516,
    "start_time": "2023-08-12T22:29:53.794Z"
   },
   {
    "duration": 49,
    "start_time": "2023-08-12T23:05:52.207Z"
   },
   {
    "duration": 1753,
    "start_time": "2023-08-13T10:11:35.960Z"
   },
   {
    "duration": 3,
    "start_time": "2023-08-13T10:11:37.715Z"
   },
   {
    "duration": 3021,
    "start_time": "2023-08-13T10:11:37.719Z"
   },
   {
    "duration": 132,
    "start_time": "2023-08-13T10:11:40.742Z"
   },
   {
    "duration": 847,
    "start_time": "2023-08-13T10:11:40.876Z"
   },
   {
    "duration": 82,
    "start_time": "2023-08-13T10:11:41.725Z"
   },
   {
    "duration": 1833,
    "start_time": "2023-08-13T10:11:41.809Z"
   },
   {
    "duration": 484,
    "start_time": "2023-08-13T10:11:43.644Z"
   },
   {
    "duration": 452,
    "start_time": "2023-08-13T10:11:44.130Z"
   },
   {
    "duration": 430,
    "start_time": "2023-08-13T10:11:44.584Z"
   },
   {
    "duration": 114,
    "start_time": "2023-08-13T10:11:45.016Z"
   },
   {
    "duration": 309,
    "start_time": "2023-08-13T10:11:45.131Z"
   },
   {
    "duration": 280,
    "start_time": "2023-08-13T10:11:45.441Z"
   },
   {
    "duration": 26,
    "start_time": "2023-08-13T10:11:45.723Z"
   },
   {
    "duration": 103,
    "start_time": "2023-08-13T10:11:45.751Z"
   },
   {
    "duration": 52,
    "start_time": "2023-08-13T10:11:45.856Z"
   },
   {
    "duration": 389,
    "start_time": "2023-08-13T10:11:45.910Z"
   },
   {
    "duration": 259,
    "start_time": "2023-08-13T10:11:46.301Z"
   },
   {
    "duration": 56,
    "start_time": "2023-08-13T10:11:46.562Z"
   },
   {
    "duration": 22,
    "start_time": "2023-08-13T10:11:46.620Z"
   },
   {
    "duration": 269,
    "start_time": "2023-08-13T10:11:46.643Z"
   },
   {
    "duration": 289,
    "start_time": "2023-08-13T10:11:46.914Z"
   },
   {
    "duration": 278,
    "start_time": "2023-08-13T10:11:47.204Z"
   },
   {
    "duration": 9020,
    "start_time": "2023-08-13T10:11:47.483Z"
   },
   {
    "duration": 23,
    "start_time": "2023-08-13T10:11:56.505Z"
   },
   {
    "duration": 353,
    "start_time": "2023-08-13T10:11:56.530Z"
   },
   {
    "duration": 296,
    "start_time": "2023-08-13T10:11:56.885Z"
   },
   {
    "duration": 14,
    "start_time": "2023-08-13T10:11:57.184Z"
   },
   {
    "duration": 106,
    "start_time": "2023-08-13T10:11:57.200Z"
   },
   {
    "duration": 21,
    "start_time": "2023-08-13T10:11:57.308Z"
   },
   {
    "duration": 12,
    "start_time": "2023-08-13T10:11:57.331Z"
   },
   {
    "duration": 22,
    "start_time": "2023-08-13T10:11:57.344Z"
   },
   {
    "duration": 10,
    "start_time": "2023-08-13T10:11:57.368Z"
   },
   {
    "duration": 106,
    "start_time": "2023-08-13T10:11:57.380Z"
   },
   {
    "duration": 0,
    "start_time": "2023-08-13T10:11:57.488Z"
   },
   {
    "duration": 0,
    "start_time": "2023-08-13T10:11:57.489Z"
   },
   {
    "duration": 0,
    "start_time": "2023-08-13T10:11:57.490Z"
   },
   {
    "duration": 0,
    "start_time": "2023-08-13T10:11:57.491Z"
   },
   {
    "duration": 0,
    "start_time": "2023-08-13T10:11:57.492Z"
   },
   {
    "duration": 290,
    "start_time": "2023-08-13T10:14:18.831Z"
   },
   {
    "duration": 12,
    "start_time": "2023-08-13T10:15:46.761Z"
   },
   {
    "duration": 7187,
    "start_time": "2023-08-13T10:19:55.603Z"
   },
   {
    "duration": 2390,
    "start_time": "2023-08-13T10:20:21.592Z"
   },
   {
    "duration": 1162,
    "start_time": "2023-08-13T10:20:23.984Z"
   },
   {
    "duration": 2,
    "start_time": "2023-08-13T10:20:25.148Z"
   },
   {
    "duration": 837,
    "start_time": "2023-08-13T10:20:25.152Z"
   },
   {
    "duration": 134,
    "start_time": "2023-08-13T10:20:25.990Z"
   },
   {
    "duration": 819,
    "start_time": "2023-08-13T10:20:26.126Z"
   },
   {
    "duration": 73,
    "start_time": "2023-08-13T10:20:26.946Z"
   },
   {
    "duration": 1871,
    "start_time": "2023-08-13T10:20:27.020Z"
   },
   {
    "duration": 406,
    "start_time": "2023-08-13T10:20:28.893Z"
   },
   {
    "duration": 413,
    "start_time": "2023-08-13T10:20:29.302Z"
   },
   {
    "duration": 400,
    "start_time": "2023-08-13T10:20:29.717Z"
   },
   {
    "duration": 108,
    "start_time": "2023-08-13T10:20:30.119Z"
   },
   {
    "duration": 328,
    "start_time": "2023-08-13T10:20:30.229Z"
   },
   {
    "duration": 268,
    "start_time": "2023-08-13T10:20:30.559Z"
   },
   {
    "duration": 27,
    "start_time": "2023-08-13T10:20:30.829Z"
   },
   {
    "duration": 96,
    "start_time": "2023-08-13T10:20:30.858Z"
   },
   {
    "duration": 52,
    "start_time": "2023-08-13T10:20:30.956Z"
   },
   {
    "duration": 273,
    "start_time": "2023-08-13T10:20:31.010Z"
   },
   {
    "duration": 372,
    "start_time": "2023-08-13T10:20:31.285Z"
   },
   {
    "duration": 57,
    "start_time": "2023-08-13T10:20:31.659Z"
   },
   {
    "duration": 22,
    "start_time": "2023-08-13T10:20:31.718Z"
   },
   {
    "duration": 284,
    "start_time": "2023-08-13T10:20:31.742Z"
   },
   {
    "duration": 272,
    "start_time": "2023-08-13T10:20:32.027Z"
   },
   {
    "duration": 271,
    "start_time": "2023-08-13T10:20:32.300Z"
   },
   {
    "duration": 8763,
    "start_time": "2023-08-13T10:20:32.575Z"
   },
   {
    "duration": 25,
    "start_time": "2023-08-13T10:20:41.340Z"
   },
   {
    "duration": 267,
    "start_time": "2023-08-13T10:20:41.374Z"
   },
   {
    "duration": 312,
    "start_time": "2023-08-13T10:20:41.644Z"
   },
   {
    "duration": 23,
    "start_time": "2023-08-13T10:20:41.957Z"
   },
   {
    "duration": 105,
    "start_time": "2023-08-13T10:20:41.982Z"
   },
   {
    "duration": 22,
    "start_time": "2023-08-13T10:20:42.089Z"
   },
   {
    "duration": 12,
    "start_time": "2023-08-13T10:20:42.112Z"
   },
   {
    "duration": 19,
    "start_time": "2023-08-13T10:20:42.125Z"
   },
   {
    "duration": 6,
    "start_time": "2023-08-13T10:20:42.145Z"
   },
   {
    "duration": 459728,
    "start_time": "2023-08-13T10:20:42.153Z"
   },
   {
    "duration": 3724629,
    "start_time": "2023-08-13T10:28:21.883Z"
   },
   {
    "duration": 3,
    "start_time": "2023-08-13T11:30:26.514Z"
   },
   {
    "duration": 34,
    "start_time": "2023-08-13T11:30:26.519Z"
   },
   {
    "duration": 119,
    "start_time": "2023-08-13T11:30:26.555Z"
   },
   {
    "duration": 0,
    "start_time": "2023-08-13T11:30:26.676Z"
   },
   {
    "duration": 131,
    "start_time": "2023-08-13T11:37:50.840Z"
   },
   {
    "duration": 437182,
    "start_time": "2023-08-13T11:38:14.993Z"
   },
   {
    "duration": 2458232,
    "start_time": "2023-08-13T11:49:25.993Z"
   },
   {
    "duration": 415638,
    "start_time": "2023-08-13T12:42:55.527Z"
   },
   {
    "duration": 6,
    "start_time": "2023-08-13T12:53:04.587Z"
   },
   {
    "duration": 136,
    "start_time": "2023-08-13T12:55:05.433Z"
   },
   {
    "duration": 65936,
    "start_time": "2023-08-13T12:56:13.717Z"
   },
   {
    "duration": 69895,
    "start_time": "2023-08-13T12:58:44.638Z"
   },
   {
    "duration": 10,
    "start_time": "2023-08-13T13:01:37.955Z"
   },
   {
    "duration": 5,
    "start_time": "2023-08-13T13:01:54.050Z"
   },
   {
    "duration": 81,
    "start_time": "2023-08-13T13:02:58.591Z"
   },
   {
    "duration": 120,
    "start_time": "2023-08-13T13:05:06.706Z"
   },
   {
    "duration": 41,
    "start_time": "2023-08-13T13:06:45.724Z"
   },
   {
    "duration": 102,
    "start_time": "2023-08-13T13:06:50.798Z"
   },
   {
    "duration": 20,
    "start_time": "2023-08-13T13:06:57.129Z"
   },
   {
    "duration": 73002,
    "start_time": "2023-08-13T13:07:17.386Z"
   },
   {
    "duration": 2363,
    "start_time": "2023-08-13T13:14:41.449Z"
   },
   {
    "duration": 75372,
    "start_time": "2023-08-13T13:19:43.289Z"
   },
   {
    "duration": 78176,
    "start_time": "2023-08-13T13:21:11.156Z"
   },
   {
    "duration": 102,
    "start_time": "2023-08-13T13:31:17.214Z"
   },
   {
    "duration": 66224,
    "start_time": "2023-08-13T13:31:35.099Z"
   },
   {
    "duration": 16,
    "start_time": "2023-08-13T13:45:24.013Z"
   },
   {
    "duration": 71878,
    "start_time": "2023-08-13T13:45:50.595Z"
   },
   {
    "duration": 108,
    "start_time": "2023-08-13T13:58:31.024Z"
   },
   {
    "duration": 84,
    "start_time": "2023-08-13T13:58:39.373Z"
   },
   {
    "duration": 94,
    "start_time": "2023-08-13T13:59:20.616Z"
   },
   {
    "duration": 114,
    "start_time": "2023-08-13T13:59:37.723Z"
   },
   {
    "duration": 502,
    "start_time": "2023-08-13T14:03:48.839Z"
   },
   {
    "duration": 62,
    "start_time": "2023-08-13T14:09:26.458Z"
   },
   {
    "duration": 87,
    "start_time": "2023-08-13T14:10:18.655Z"
   },
   {
    "duration": 39,
    "start_time": "2023-08-13T14:20:07.693Z"
   },
   {
    "duration": 29,
    "start_time": "2023-08-13T14:20:32.392Z"
   },
   {
    "duration": 1541,
    "start_time": "2023-08-13T14:26:01.692Z"
   },
   {
    "duration": 327,
    "start_time": "2023-08-13T14:26:28.411Z"
   },
   {
    "duration": 86,
    "start_time": "2023-08-13T14:28:47.387Z"
   },
   {
    "duration": 320,
    "start_time": "2023-08-13T14:28:54.132Z"
   },
   {
    "duration": 18555,
    "start_time": "2023-08-13T14:29:08.492Z"
   },
   {
    "duration": 323,
    "start_time": "2023-08-13T14:29:44.335Z"
   },
   {
    "duration": 152,
    "start_time": "2023-08-13T14:38:44.213Z"
   },
   {
    "duration": 13,
    "start_time": "2023-08-13T14:39:38.700Z"
   },
   {
    "duration": 12,
    "start_time": "2023-08-13T14:39:56.251Z"
   },
   {
    "duration": 133,
    "start_time": "2023-08-13T14:40:42.409Z"
   },
   {
    "duration": 131,
    "start_time": "2023-08-13T14:40:52.305Z"
   },
   {
    "duration": 437,
    "start_time": "2023-08-13T14:41:43.339Z"
   },
   {
    "duration": 20,
    "start_time": "2023-08-13T14:47:29.636Z"
   },
   {
    "duration": 11,
    "start_time": "2023-08-13T14:48:14.754Z"
   },
   {
    "duration": 1364,
    "start_time": "2023-08-13T14:48:29.768Z"
   },
   {
    "duration": 3,
    "start_time": "2023-08-13T14:48:31.134Z"
   },
   {
    "duration": 1006,
    "start_time": "2023-08-13T14:48:31.139Z"
   },
   {
    "duration": 167,
    "start_time": "2023-08-13T14:48:32.146Z"
   },
   {
    "duration": 1055,
    "start_time": "2023-08-13T14:48:32.315Z"
   },
   {
    "duration": 83,
    "start_time": "2023-08-13T14:48:33.372Z"
   },
   {
    "duration": 2155,
    "start_time": "2023-08-13T14:48:33.457Z"
   },
   {
    "duration": 511,
    "start_time": "2023-08-13T14:48:35.614Z"
   },
   {
    "duration": 533,
    "start_time": "2023-08-13T14:48:36.127Z"
   },
   {
    "duration": 505,
    "start_time": "2023-08-13T14:48:36.663Z"
   },
   {
    "duration": 145,
    "start_time": "2023-08-13T14:48:37.169Z"
   },
   {
    "duration": 338,
    "start_time": "2023-08-13T14:48:37.316Z"
   },
   {
    "duration": 311,
    "start_time": "2023-08-13T14:48:37.656Z"
   },
   {
    "duration": 39,
    "start_time": "2023-08-13T14:48:37.969Z"
   },
   {
    "duration": 147,
    "start_time": "2023-08-13T14:48:38.010Z"
   },
   {
    "duration": 0,
    "start_time": "2023-08-13T14:48:38.159Z"
   },
   {
    "duration": 0,
    "start_time": "2023-08-13T14:48:38.160Z"
   },
   {
    "duration": 0,
    "start_time": "2023-08-13T14:48:38.161Z"
   },
   {
    "duration": 0,
    "start_time": "2023-08-13T14:48:38.163Z"
   },
   {
    "duration": 0,
    "start_time": "2023-08-13T14:48:38.164Z"
   },
   {
    "duration": 0,
    "start_time": "2023-08-13T14:48:38.165Z"
   },
   {
    "duration": 0,
    "start_time": "2023-08-13T14:48:38.176Z"
   },
   {
    "duration": 0,
    "start_time": "2023-08-13T14:48:38.179Z"
   },
   {
    "duration": 0,
    "start_time": "2023-08-13T14:48:38.181Z"
   },
   {
    "duration": 0,
    "start_time": "2023-08-13T14:48:38.185Z"
   },
   {
    "duration": 0,
    "start_time": "2023-08-13T14:48:38.187Z"
   },
   {
    "duration": 0,
    "start_time": "2023-08-13T14:48:38.189Z"
   },
   {
    "duration": 0,
    "start_time": "2023-08-13T14:48:38.191Z"
   },
   {
    "duration": 1,
    "start_time": "2023-08-13T14:48:38.193Z"
   },
   {
    "duration": 0,
    "start_time": "2023-08-13T14:48:38.195Z"
   },
   {
    "duration": 0,
    "start_time": "2023-08-13T14:48:38.196Z"
   },
   {
    "duration": 0,
    "start_time": "2023-08-13T14:48:38.197Z"
   },
   {
    "duration": 0,
    "start_time": "2023-08-13T14:48:38.198Z"
   },
   {
    "duration": 0,
    "start_time": "2023-08-13T14:48:38.199Z"
   },
   {
    "duration": 0,
    "start_time": "2023-08-13T14:48:38.201Z"
   },
   {
    "duration": 1,
    "start_time": "2023-08-13T14:48:38.201Z"
   },
   {
    "duration": 0,
    "start_time": "2023-08-13T14:48:38.202Z"
   },
   {
    "duration": 0,
    "start_time": "2023-08-13T14:48:38.204Z"
   },
   {
    "duration": 0,
    "start_time": "2023-08-13T14:48:38.205Z"
   },
   {
    "duration": 0,
    "start_time": "2023-08-13T14:48:38.206Z"
   },
   {
    "duration": 37,
    "start_time": "2023-08-13T14:49:25.529Z"
   },
   {
    "duration": 39,
    "start_time": "2023-08-13T14:49:48.223Z"
   },
   {
    "duration": 41,
    "start_time": "2023-08-13T14:50:44.731Z"
   },
   {
    "duration": 42,
    "start_time": "2023-08-13T14:52:31.050Z"
   },
   {
    "duration": 52,
    "start_time": "2023-08-13T14:56:47.804Z"
   },
   {
    "duration": 39,
    "start_time": "2023-08-13T14:57:32.797Z"
   },
   {
    "duration": 30,
    "start_time": "2023-08-13T14:58:14.192Z"
   },
   {
    "duration": 55,
    "start_time": "2023-08-13T14:59:06.610Z"
   },
   {
    "duration": 46,
    "start_time": "2023-08-13T14:59:52.418Z"
   },
   {
    "duration": 1800,
    "start_time": "2023-08-13T15:03:18.732Z"
   },
   {
    "duration": 47,
    "start_time": "2023-08-13T15:03:36.634Z"
   },
   {
    "duration": 46,
    "start_time": "2023-08-13T15:03:55.334Z"
   },
   {
    "duration": 57,
    "start_time": "2023-08-13T15:05:49.627Z"
   },
   {
    "duration": 51,
    "start_time": "2023-08-13T15:05:56.158Z"
   },
   {
    "duration": 14,
    "start_time": "2023-08-13T15:06:22.815Z"
   },
   {
    "duration": 41,
    "start_time": "2023-08-13T15:06:26.259Z"
   },
   {
    "duration": 102,
    "start_time": "2023-08-13T15:07:42.604Z"
   },
   {
    "duration": 21,
    "start_time": "2023-08-13T15:07:45.312Z"
   },
   {
    "duration": 423,
    "start_time": "2023-08-13T15:08:01.307Z"
   },
   {
    "duration": 1322,
    "start_time": "2023-08-13T15:09:00.119Z"
   },
   {
    "duration": 3,
    "start_time": "2023-08-13T15:09:01.443Z"
   },
   {
    "duration": 994,
    "start_time": "2023-08-13T15:09:01.448Z"
   },
   {
    "duration": 188,
    "start_time": "2023-08-13T15:09:02.444Z"
   },
   {
    "duration": 1001,
    "start_time": "2023-08-13T15:09:02.634Z"
   },
   {
    "duration": 98,
    "start_time": "2023-08-13T15:09:03.637Z"
   },
   {
    "duration": 2283,
    "start_time": "2023-08-13T15:09:03.737Z"
   },
   {
    "duration": 587,
    "start_time": "2023-08-13T15:09:06.022Z"
   },
   {
    "duration": 603,
    "start_time": "2023-08-13T15:09:06.614Z"
   },
   {
    "duration": 536,
    "start_time": "2023-08-13T15:09:07.220Z"
   },
   {
    "duration": 194,
    "start_time": "2023-08-13T15:09:07.758Z"
   },
   {
    "duration": 392,
    "start_time": "2023-08-13T15:09:07.955Z"
   },
   {
    "duration": 344,
    "start_time": "2023-08-13T15:09:08.349Z"
   },
   {
    "duration": 35,
    "start_time": "2023-08-13T15:09:08.695Z"
   },
   {
    "duration": 51,
    "start_time": "2023-08-13T15:09:08.732Z"
   },
   {
    "duration": 47,
    "start_time": "2023-08-13T15:09:08.786Z"
   },
   {
    "duration": 131,
    "start_time": "2023-08-13T15:09:08.835Z"
   },
   {
    "duration": 74,
    "start_time": "2023-08-13T15:09:08.968Z"
   },
   {
    "duration": 386,
    "start_time": "2023-08-13T15:09:09.044Z"
   },
   {
    "duration": 466,
    "start_time": "2023-08-13T15:09:09.432Z"
   },
   {
    "duration": 76,
    "start_time": "2023-08-13T15:09:09.900Z"
   },
   {
    "duration": 34,
    "start_time": "2023-08-13T15:09:09.978Z"
   },
   {
    "duration": 418,
    "start_time": "2023-08-13T15:09:10.014Z"
   },
   {
    "duration": 432,
    "start_time": "2023-08-13T15:09:10.439Z"
   },
   {
    "duration": 331,
    "start_time": "2023-08-13T15:09:10.872Z"
   },
   {
    "duration": 11238,
    "start_time": "2023-08-13T15:09:11.205Z"
   },
   {
    "duration": 31,
    "start_time": "2023-08-13T15:09:22.444Z"
   },
   {
    "duration": 350,
    "start_time": "2023-08-13T15:09:22.480Z"
   },
   {
    "duration": 350,
    "start_time": "2023-08-13T15:09:22.831Z"
   },
   {
    "duration": 17,
    "start_time": "2023-08-13T15:09:23.184Z"
   },
   {
    "duration": 131,
    "start_time": "2023-08-13T15:09:23.203Z"
   },
   {
    "duration": 20,
    "start_time": "2023-08-13T15:09:23.338Z"
   },
   {
    "duration": 24,
    "start_time": "2023-08-13T15:09:23.359Z"
   },
   {
    "duration": 35,
    "start_time": "2023-08-13T15:09:23.385Z"
   },
   {
    "duration": 6,
    "start_time": "2023-08-13T15:09:23.422Z"
   },
   {
    "duration": 21,
    "start_time": "2023-08-13T15:09:23.430Z"
   },
   {
    "duration": 1214,
    "start_time": "2023-08-13T15:09:23.453Z"
   },
   {
    "duration": 0,
    "start_time": "2023-08-13T15:09:24.668Z"
   },
   {
    "duration": 0,
    "start_time": "2023-08-13T15:09:24.670Z"
   },
   {
    "duration": 0,
    "start_time": "2023-08-13T15:09:24.670Z"
   },
   {
    "duration": 0,
    "start_time": "2023-08-13T15:09:24.674Z"
   },
   {
    "duration": 318,
    "start_time": "2023-08-13T15:11:45.606Z"
   },
   {
    "duration": 99,
    "start_time": "2023-08-13T15:12:28.507Z"
   },
   {
    "duration": 91,
    "start_time": "2023-08-13T15:15:29.966Z"
   },
   {
    "duration": 73,
    "start_time": "2023-08-13T15:16:03.954Z"
   },
   {
    "duration": 79,
    "start_time": "2023-08-13T15:17:30.996Z"
   },
   {
    "duration": 11,
    "start_time": "2023-08-13T15:18:13.619Z"
   },
   {
    "duration": 90,
    "start_time": "2023-08-13T15:18:26.764Z"
   },
   {
    "duration": 125,
    "start_time": "2023-08-13T15:22:19.989Z"
   },
   {
    "duration": 60261,
    "start_time": "2023-08-13T15:22:45.702Z"
   },
   {
    "duration": 16,
    "start_time": "2023-08-13T15:38:30.799Z"
   },
   {
    "duration": 72,
    "start_time": "2023-08-13T15:39:45.699Z"
   },
   {
    "duration": 20,
    "start_time": "2023-08-13T15:40:08.812Z"
   },
   {
    "duration": 19,
    "start_time": "2023-08-13T15:41:33.761Z"
   },
   {
    "duration": 1356,
    "start_time": "2023-08-13T18:15:11.489Z"
   },
   {
    "duration": 3,
    "start_time": "2023-08-13T18:15:12.847Z"
   },
   {
    "duration": 936,
    "start_time": "2023-08-13T18:15:12.851Z"
   },
   {
    "duration": 197,
    "start_time": "2023-08-13T18:15:13.790Z"
   },
   {
    "duration": 1055,
    "start_time": "2023-08-13T18:15:13.989Z"
   },
   {
    "duration": 89,
    "start_time": "2023-08-13T18:15:15.046Z"
   },
   {
    "duration": 2256,
    "start_time": "2023-08-13T18:15:15.137Z"
   },
   {
    "duration": 510,
    "start_time": "2023-08-13T18:15:17.395Z"
   },
   {
    "duration": 606,
    "start_time": "2023-08-13T18:15:17.906Z"
   },
   {
    "duration": 505,
    "start_time": "2023-08-13T18:15:18.515Z"
   },
   {
    "duration": 129,
    "start_time": "2023-08-13T18:15:19.021Z"
   },
   {
    "duration": 374,
    "start_time": "2023-08-13T18:15:19.152Z"
   },
   {
    "duration": 340,
    "start_time": "2023-08-13T18:15:19.528Z"
   },
   {
    "duration": 40,
    "start_time": "2023-08-13T18:15:19.869Z"
   },
   {
    "duration": 39,
    "start_time": "2023-08-13T18:15:19.911Z"
   },
   {
    "duration": 56,
    "start_time": "2023-08-13T18:15:19.952Z"
   },
   {
    "duration": 126,
    "start_time": "2023-08-13T18:15:20.010Z"
   },
   {
    "duration": 57,
    "start_time": "2023-08-13T18:15:20.138Z"
   },
   {
    "duration": 536,
    "start_time": "2023-08-13T18:15:20.197Z"
   },
   {
    "duration": 302,
    "start_time": "2023-08-13T18:15:20.735Z"
   },
   {
    "duration": 69,
    "start_time": "2023-08-13T18:15:21.039Z"
   },
   {
    "duration": 25,
    "start_time": "2023-08-13T18:15:21.110Z"
   },
   {
    "duration": 339,
    "start_time": "2023-08-13T18:15:21.137Z"
   },
   {
    "duration": 320,
    "start_time": "2023-08-13T18:15:21.479Z"
   },
   {
    "duration": 343,
    "start_time": "2023-08-13T18:15:21.800Z"
   },
   {
    "duration": 10395,
    "start_time": "2023-08-13T18:15:22.145Z"
   },
   {
    "duration": 25,
    "start_time": "2023-08-13T18:15:32.542Z"
   },
   {
    "duration": 303,
    "start_time": "2023-08-13T18:15:32.573Z"
   },
   {
    "duration": 329,
    "start_time": "2023-08-13T18:15:32.879Z"
   },
   {
    "duration": 14,
    "start_time": "2023-08-13T18:15:33.209Z"
   },
   {
    "duration": 106,
    "start_time": "2023-08-13T18:15:33.225Z"
   },
   {
    "duration": 20,
    "start_time": "2023-08-13T18:15:33.333Z"
   },
   {
    "duration": 5,
    "start_time": "2023-08-13T18:15:33.355Z"
   },
   {
    "duration": 15,
    "start_time": "2023-08-13T18:15:33.362Z"
   },
   {
    "duration": 16,
    "start_time": "2023-08-13T18:15:33.380Z"
   },
   {
    "duration": 8,
    "start_time": "2023-08-13T18:15:33.398Z"
   },
   {
    "duration": 57480,
    "start_time": "2023-08-13T18:15:33.407Z"
   },
   {
    "duration": 54,
    "start_time": "2023-08-13T18:20:31.965Z"
   },
   {
    "duration": 1232,
    "start_time": "2023-08-13T18:22:58.439Z"
   },
   {
    "duration": 3,
    "start_time": "2023-08-13T18:22:59.673Z"
   },
   {
    "duration": 875,
    "start_time": "2023-08-13T18:22:59.678Z"
   },
   {
    "duration": 159,
    "start_time": "2023-08-13T18:23:00.557Z"
   },
   {
    "duration": 943,
    "start_time": "2023-08-13T18:23:00.718Z"
   },
   {
    "duration": 82,
    "start_time": "2023-08-13T18:23:01.662Z"
   },
   {
    "duration": 2013,
    "start_time": "2023-08-13T18:23:01.746Z"
   },
   {
    "duration": 481,
    "start_time": "2023-08-13T18:23:03.761Z"
   },
   {
    "duration": 476,
    "start_time": "2023-08-13T18:23:04.244Z"
   },
   {
    "duration": 425,
    "start_time": "2023-08-13T18:23:04.722Z"
   },
   {
    "duration": 114,
    "start_time": "2023-08-13T18:23:05.149Z"
   },
   {
    "duration": 333,
    "start_time": "2023-08-13T18:23:05.265Z"
   },
   {
    "duration": 294,
    "start_time": "2023-08-13T18:23:05.600Z"
   },
   {
    "duration": 26,
    "start_time": "2023-08-13T18:23:05.895Z"
   },
   {
    "duration": 51,
    "start_time": "2023-08-13T18:23:05.923Z"
   },
   {
    "duration": 81,
    "start_time": "2023-08-13T18:23:05.977Z"
   },
   {
    "duration": 126,
    "start_time": "2023-08-13T18:23:06.059Z"
   },
   {
    "duration": 46,
    "start_time": "2023-08-13T18:23:06.188Z"
   },
   {
    "duration": 404,
    "start_time": "2023-08-13T18:23:06.235Z"
   },
   {
    "duration": 260,
    "start_time": "2023-08-13T18:23:06.641Z"
   },
   {
    "duration": 47,
    "start_time": "2023-08-13T18:23:06.902Z"
   },
   {
    "duration": 39,
    "start_time": "2023-08-13T18:23:06.951Z"
   },
   {
    "duration": 274,
    "start_time": "2023-08-13T18:23:06.992Z"
   },
   {
    "duration": 286,
    "start_time": "2023-08-13T18:23:07.269Z"
   },
   {
    "duration": 279,
    "start_time": "2023-08-13T18:23:07.557Z"
   },
   {
    "duration": 9261,
    "start_time": "2023-08-13T18:23:07.838Z"
   },
   {
    "duration": 22,
    "start_time": "2023-08-13T18:23:17.102Z"
   },
   {
    "duration": 282,
    "start_time": "2023-08-13T18:23:17.128Z"
   },
   {
    "duration": 315,
    "start_time": "2023-08-13T18:23:17.412Z"
   },
   {
    "duration": 13,
    "start_time": "2023-08-13T18:23:17.728Z"
   },
   {
    "duration": 95,
    "start_time": "2023-08-13T18:23:17.742Z"
   },
   {
    "duration": 18,
    "start_time": "2023-08-13T18:23:17.839Z"
   },
   {
    "duration": 46,
    "start_time": "2023-08-13T18:23:17.858Z"
   },
   {
    "duration": 43,
    "start_time": "2023-08-13T18:23:17.905Z"
   },
   {
    "duration": 35,
    "start_time": "2023-08-13T18:23:17.950Z"
   },
   {
    "duration": 103,
    "start_time": "2023-08-13T18:23:17.988Z"
   },
   {
    "duration": 56554,
    "start_time": "2023-08-13T18:23:18.093Z"
   },
   {
    "duration": 1735454,
    "start_time": "2023-08-13T18:24:14.648Z"
   },
   {
    "duration": 74,
    "start_time": "2023-08-13T18:53:10.104Z"
   },
   {
    "duration": 150,
    "start_time": "2023-08-13T18:53:10.181Z"
   },
   {
    "duration": 0,
    "start_time": "2023-08-13T18:53:10.332Z"
   },
   {
    "duration": 0,
    "start_time": "2023-08-13T18:53:10.334Z"
   },
   {
    "duration": 0,
    "start_time": "2023-08-13T18:53:10.335Z"
   },
   {
    "duration": 22573,
    "start_time": "2023-08-13T19:07:53.933Z"
   },
   {
    "duration": 3405,
    "start_time": "2023-08-13T19:16:10.734Z"
   },
   {
    "duration": 122,
    "start_time": "2023-08-13T19:20:26.294Z"
   },
   {
    "duration": 16,
    "start_time": "2023-08-13T19:23:23.743Z"
   },
   {
    "duration": 123,
    "start_time": "2023-08-13T19:23:35.687Z"
   },
   {
    "duration": 19,
    "start_time": "2023-08-13T19:27:15.786Z"
   },
   {
    "duration": 134,
    "start_time": "2023-08-13T19:29:08.306Z"
   },
   {
    "duration": 133,
    "start_time": "2023-08-13T19:29:35.704Z"
   },
   {
    "duration": 2989,
    "start_time": "2023-08-13T19:30:48.219Z"
   },
   {
    "duration": 16,
    "start_time": "2023-08-13T20:04:37.622Z"
   },
   {
    "duration": 1912043,
    "start_time": "2023-08-13T20:16:59.688Z"
   },
   {
    "duration": 47,
    "start_time": "2023-08-14T17:41:30.344Z"
   },
   {
    "duration": 1758,
    "start_time": "2023-08-14T17:41:47.450Z"
   },
   {
    "duration": 4,
    "start_time": "2023-08-14T17:41:49.210Z"
   },
   {
    "duration": 3015,
    "start_time": "2023-08-14T17:41:49.215Z"
   },
   {
    "duration": 116,
    "start_time": "2023-08-14T17:41:52.232Z"
   },
   {
    "duration": 951,
    "start_time": "2023-08-14T17:41:52.350Z"
   },
   {
    "duration": 94,
    "start_time": "2023-08-14T17:41:53.302Z"
   },
   {
    "duration": 1887,
    "start_time": "2023-08-14T17:41:53.398Z"
   },
   {
    "duration": 469,
    "start_time": "2023-08-14T17:41:55.287Z"
   },
   {
    "duration": 522,
    "start_time": "2023-08-14T17:41:55.760Z"
   },
   {
    "duration": 457,
    "start_time": "2023-08-14T17:41:56.701Z"
   },
   {
    "duration": 22,
    "start_time": "2023-08-14T17:41:57.956Z"
   },
   {
    "duration": 101,
    "start_time": "2023-08-14T17:42:31.173Z"
   },
   {
    "duration": 21,
    "start_time": "2023-08-14T17:42:41.706Z"
   },
   {
    "duration": 22,
    "start_time": "2023-08-14T17:45:34.614Z"
   },
   {
    "duration": 27,
    "start_time": "2023-08-14T17:45:51.595Z"
   },
   {
    "duration": 141,
    "start_time": "2023-08-14T17:47:25.869Z"
   },
   {
    "duration": 87,
    "start_time": "2023-08-14T17:47:58.668Z"
   },
   {
    "duration": 300,
    "start_time": "2023-08-14T17:48:02.706Z"
   },
   {
    "duration": 447,
    "start_time": "2023-08-14T17:48:03.754Z"
   },
   {
    "duration": 34,
    "start_time": "2023-08-14T17:48:08.491Z"
   },
   {
    "duration": 55,
    "start_time": "2023-08-14T17:48:10.868Z"
   },
   {
    "duration": 2,
    "start_time": "2023-08-14T17:48:35.156Z"
   },
   {
    "duration": 4,
    "start_time": "2023-08-14T17:49:02.616Z"
   },
   {
    "duration": 79,
    "start_time": "2023-08-14T17:49:08.627Z"
   },
   {
    "duration": 213,
    "start_time": "2023-08-14T17:49:18.390Z"
   },
   {
    "duration": 22,
    "start_time": "2023-08-14T17:49:48.333Z"
   },
   {
    "duration": 25,
    "start_time": "2023-08-14T17:56:02.309Z"
   },
   {
    "duration": 53,
    "start_time": "2023-08-14T18:02:32.070Z"
   },
   {
    "duration": 35,
    "start_time": "2023-08-14T18:03:18.353Z"
   },
   {
    "duration": 19,
    "start_time": "2023-08-14T18:09:22.413Z"
   },
   {
    "duration": 24,
    "start_time": "2023-08-14T18:10:17.078Z"
   },
   {
    "duration": 17,
    "start_time": "2023-08-14T18:11:28.130Z"
   },
   {
    "duration": 43,
    "start_time": "2023-08-14T18:13:41.114Z"
   },
   {
    "duration": 1499,
    "start_time": "2023-08-14T18:58:11.181Z"
   },
   {
    "duration": 3,
    "start_time": "2023-08-14T18:58:12.682Z"
   },
   {
    "duration": 819,
    "start_time": "2023-08-14T18:58:12.686Z"
   },
   {
    "duration": 126,
    "start_time": "2023-08-14T18:58:13.507Z"
   },
   {
    "duration": 894,
    "start_time": "2023-08-14T18:58:13.634Z"
   },
   {
    "duration": 88,
    "start_time": "2023-08-14T18:58:14.530Z"
   },
   {
    "duration": 1826,
    "start_time": "2023-08-14T18:58:14.620Z"
   },
   {
    "duration": 445,
    "start_time": "2023-08-14T18:58:16.448Z"
   },
   {
    "duration": 475,
    "start_time": "2023-08-14T18:58:16.895Z"
   },
   {
    "duration": 462,
    "start_time": "2023-08-14T18:58:17.373Z"
   },
   {
    "duration": 103,
    "start_time": "2023-08-14T18:58:17.837Z"
   },
   {
    "duration": 296,
    "start_time": "2023-08-14T18:58:17.941Z"
   },
   {
    "duration": 439,
    "start_time": "2023-08-14T18:58:18.239Z"
   },
   {
    "duration": 32,
    "start_time": "2023-08-14T18:58:18.680Z"
   },
   {
    "duration": 55,
    "start_time": "2023-08-14T18:58:18.714Z"
   },
   {
    "duration": 37,
    "start_time": "2023-08-14T18:58:18.770Z"
   },
   {
    "duration": 110,
    "start_time": "2023-08-14T18:58:18.809Z"
   },
   {
    "duration": 27,
    "start_time": "2023-08-14T18:58:18.921Z"
   },
   {
    "duration": 28,
    "start_time": "2023-08-14T18:58:18.957Z"
   },
   {
    "duration": 73,
    "start_time": "2023-08-14T18:58:18.987Z"
   },
   {
    "duration": 306,
    "start_time": "2023-08-14T18:58:19.062Z"
   },
   {
    "duration": 264,
    "start_time": "2023-08-14T18:58:19.370Z"
   },
   {
    "duration": 62,
    "start_time": "2023-08-14T18:58:19.636Z"
   },
   {
    "duration": 25,
    "start_time": "2023-08-14T18:58:19.700Z"
   },
   {
    "duration": 290,
    "start_time": "2023-08-14T18:58:19.726Z"
   },
   {
    "duration": 285,
    "start_time": "2023-08-14T18:58:20.018Z"
   },
   {
    "duration": 279,
    "start_time": "2023-08-14T18:58:20.305Z"
   },
   {
    "duration": 8292,
    "start_time": "2023-08-14T18:58:20.587Z"
   },
   {
    "duration": 33,
    "start_time": "2023-08-14T18:58:28.881Z"
   },
   {
    "duration": 347,
    "start_time": "2023-08-14T18:58:28.916Z"
   },
   {
    "duration": 276,
    "start_time": "2023-08-14T18:58:29.264Z"
   },
   {
    "duration": 23,
    "start_time": "2023-08-14T18:58:29.542Z"
   },
   {
    "duration": 99,
    "start_time": "2023-08-14T18:58:29.567Z"
   },
   {
    "duration": 21,
    "start_time": "2023-08-14T18:58:29.668Z"
   },
   {
    "duration": 12,
    "start_time": "2023-08-14T18:58:29.691Z"
   },
   {
    "duration": 115,
    "start_time": "2023-08-14T18:58:29.705Z"
   },
   {
    "duration": 0,
    "start_time": "2023-08-14T18:58:29.821Z"
   },
   {
    "duration": 0,
    "start_time": "2023-08-14T18:58:29.823Z"
   },
   {
    "duration": 0,
    "start_time": "2023-08-14T18:58:29.824Z"
   },
   {
    "duration": 0,
    "start_time": "2023-08-14T18:58:29.825Z"
   },
   {
    "duration": 0,
    "start_time": "2023-08-14T18:58:29.826Z"
   },
   {
    "duration": 0,
    "start_time": "2023-08-14T18:58:29.827Z"
   },
   {
    "duration": 0,
    "start_time": "2023-08-14T18:58:29.828Z"
   },
   {
    "duration": 0,
    "start_time": "2023-08-14T18:58:29.830Z"
   },
   {
    "duration": 0,
    "start_time": "2023-08-14T18:58:29.831Z"
   },
   {
    "duration": 7313,
    "start_time": "2023-08-14T18:59:41.356Z"
   },
   {
    "duration": 1305,
    "start_time": "2023-08-14T19:00:11.992Z"
   },
   {
    "duration": 3,
    "start_time": "2023-08-14T19:00:13.299Z"
   },
   {
    "duration": 842,
    "start_time": "2023-08-14T19:00:13.303Z"
   },
   {
    "duration": 125,
    "start_time": "2023-08-14T19:00:14.155Z"
   },
   {
    "duration": 1037,
    "start_time": "2023-08-14T19:00:14.282Z"
   },
   {
    "duration": 90,
    "start_time": "2023-08-14T19:00:15.321Z"
   },
   {
    "duration": 2083,
    "start_time": "2023-08-14T19:00:15.413Z"
   },
   {
    "duration": 499,
    "start_time": "2023-08-14T19:00:17.498Z"
   },
   {
    "duration": 640,
    "start_time": "2023-08-14T19:00:17.999Z"
   },
   {
    "duration": 458,
    "start_time": "2023-08-14T19:00:18.642Z"
   },
   {
    "duration": 131,
    "start_time": "2023-08-14T19:00:19.102Z"
   },
   {
    "duration": 384,
    "start_time": "2023-08-14T19:00:19.235Z"
   },
   {
    "duration": 285,
    "start_time": "2023-08-14T19:00:19.621Z"
   },
   {
    "duration": 32,
    "start_time": "2023-08-14T19:00:19.908Z"
   },
   {
    "duration": 50,
    "start_time": "2023-08-14T19:00:19.942Z"
   },
   {
    "duration": 44,
    "start_time": "2023-08-14T19:00:19.994Z"
   },
   {
    "duration": 93,
    "start_time": "2023-08-14T19:00:20.040Z"
   },
   {
    "duration": 50,
    "start_time": "2023-08-14T19:00:20.136Z"
   },
   {
    "duration": 41,
    "start_time": "2023-08-14T19:00:20.188Z"
   },
   {
    "duration": 70,
    "start_time": "2023-08-14T19:00:20.231Z"
   },
   {
    "duration": 471,
    "start_time": "2023-08-14T19:00:20.303Z"
   },
   {
    "duration": 295,
    "start_time": "2023-08-14T19:00:20.776Z"
   },
   {
    "duration": 55,
    "start_time": "2023-08-14T19:00:21.073Z"
   },
   {
    "duration": 42,
    "start_time": "2023-08-14T19:00:21.130Z"
   },
   {
    "duration": 308,
    "start_time": "2023-08-14T19:00:21.174Z"
   },
   {
    "duration": 295,
    "start_time": "2023-08-14T19:00:21.484Z"
   },
   {
    "duration": 295,
    "start_time": "2023-08-14T19:00:21.781Z"
   },
   {
    "duration": 8550,
    "start_time": "2023-08-14T19:00:22.081Z"
   },
   {
    "duration": 34,
    "start_time": "2023-08-14T19:00:30.634Z"
   },
   {
    "duration": 308,
    "start_time": "2023-08-14T19:00:30.670Z"
   },
   {
    "duration": 278,
    "start_time": "2023-08-14T19:00:30.980Z"
   },
   {
    "duration": 16,
    "start_time": "2023-08-14T19:00:31.260Z"
   },
   {
    "duration": 118,
    "start_time": "2023-08-14T19:00:31.277Z"
   },
   {
    "duration": 25,
    "start_time": "2023-08-14T19:00:31.397Z"
   },
   {
    "duration": 34,
    "start_time": "2023-08-14T19:00:31.425Z"
   },
   {
    "duration": 336403,
    "start_time": "2023-08-14T19:00:31.461Z"
   },
   {
    "duration": 51525,
    "start_time": "2023-08-14T19:06:07.865Z"
   },
   {
    "duration": 231168,
    "start_time": "2023-08-14T19:06:59.392Z"
   },
   {
    "duration": 1695887,
    "start_time": "2023-08-14T19:10:50.562Z"
   },
   {
    "duration": 1008,
    "start_time": "2023-08-14T19:39:06.451Z"
   },
   {
    "duration": 349,
    "start_time": "2023-08-14T19:39:07.460Z"
   },
   {
    "duration": 4765,
    "start_time": "2023-08-14T19:39:07.811Z"
   },
   {
    "duration": 1785,
    "start_time": "2023-08-14T19:39:12.577Z"
   },
   {
    "duration": 4,
    "start_time": "2023-08-14T19:39:14.364Z"
   },
   {
    "duration": 191,
    "start_time": "2023-08-14T19:39:14.370Z"
   },
   {
    "duration": 50673,
    "start_time": "2023-08-14T20:15:23.631Z"
   },
   {
    "duration": 1600,
    "start_time": "2023-08-14T20:16:14.306Z"
   },
   {
    "duration": 1537,
    "start_time": "2023-08-15T06:25:45.140Z"
   },
   {
    "duration": 3,
    "start_time": "2023-08-15T06:25:46.679Z"
   },
   {
    "duration": 980,
    "start_time": "2023-08-15T06:25:46.683Z"
   },
   {
    "duration": 104,
    "start_time": "2023-08-15T06:25:47.665Z"
   },
   {
    "duration": 722,
    "start_time": "2023-08-15T06:25:47.770Z"
   },
   {
    "duration": 79,
    "start_time": "2023-08-15T06:25:48.494Z"
   },
   {
    "duration": 1566,
    "start_time": "2023-08-15T06:25:48.575Z"
   },
   {
    "duration": 361,
    "start_time": "2023-08-15T06:25:50.143Z"
   },
   {
    "duration": 390,
    "start_time": "2023-08-15T06:25:50.506Z"
   },
   {
    "duration": 361,
    "start_time": "2023-08-15T06:25:50.899Z"
   },
   {
    "duration": 105,
    "start_time": "2023-08-15T06:25:51.262Z"
   },
   {
    "duration": 267,
    "start_time": "2023-08-15T06:25:51.369Z"
   },
   {
    "duration": 330,
    "start_time": "2023-08-15T06:25:51.638Z"
   },
   {
    "duration": 34,
    "start_time": "2023-08-15T06:25:51.969Z"
   },
   {
    "duration": 45,
    "start_time": "2023-08-15T06:25:52.005Z"
   },
   {
    "duration": 34,
    "start_time": "2023-08-15T06:25:52.051Z"
   },
   {
    "duration": 89,
    "start_time": "2023-08-15T06:25:52.086Z"
   },
   {
    "duration": 26,
    "start_time": "2023-08-15T06:25:52.176Z"
   },
   {
    "duration": 22,
    "start_time": "2023-08-15T06:25:52.204Z"
   },
   {
    "duration": 64,
    "start_time": "2023-08-15T06:25:52.227Z"
   },
   {
    "duration": 239,
    "start_time": "2023-08-15T06:25:52.293Z"
   },
   {
    "duration": 228,
    "start_time": "2023-08-15T06:25:52.534Z"
   },
   {
    "duration": 57,
    "start_time": "2023-08-15T06:25:52.763Z"
   },
   {
    "duration": 22,
    "start_time": "2023-08-15T06:25:52.822Z"
   },
   {
    "duration": 252,
    "start_time": "2023-08-15T06:25:52.846Z"
   },
   {
    "duration": 242,
    "start_time": "2023-08-15T06:25:53.100Z"
   },
   {
    "duration": 247,
    "start_time": "2023-08-15T06:25:53.343Z"
   },
   {
    "duration": 7951,
    "start_time": "2023-08-15T06:25:53.592Z"
   },
   {
    "duration": 25,
    "start_time": "2023-08-15T06:26:01.545Z"
   },
   {
    "duration": 259,
    "start_time": "2023-08-15T06:26:01.572Z"
   },
   {
    "duration": 257,
    "start_time": "2023-08-15T06:26:01.833Z"
   },
   {
    "duration": 15,
    "start_time": "2023-08-15T06:26:02.092Z"
   },
   {
    "duration": 59,
    "start_time": "2023-08-15T06:26:02.108Z"
   },
   {
    "duration": 32,
    "start_time": "2023-08-15T06:26:02.168Z"
   },
   {
    "duration": 27,
    "start_time": "2023-08-15T06:26:02.202Z"
   },
   {
    "duration": 148,
    "start_time": "2023-08-15T06:26:02.231Z"
   },
   {
    "duration": 0,
    "start_time": "2023-08-15T06:26:02.381Z"
   },
   {
    "duration": 0,
    "start_time": "2023-08-15T06:26:02.382Z"
   },
   {
    "duration": 0,
    "start_time": "2023-08-15T06:26:02.383Z"
   },
   {
    "duration": 0,
    "start_time": "2023-08-15T06:26:02.384Z"
   },
   {
    "duration": 0,
    "start_time": "2023-08-15T06:26:02.386Z"
   },
   {
    "duration": 0,
    "start_time": "2023-08-15T06:26:02.387Z"
   },
   {
    "duration": 0,
    "start_time": "2023-08-15T06:26:02.388Z"
   },
   {
    "duration": 0,
    "start_time": "2023-08-15T06:26:02.399Z"
   },
   {
    "duration": 0,
    "start_time": "2023-08-15T06:26:02.400Z"
   },
   {
    "duration": 7673,
    "start_time": "2023-08-15T06:27:09.593Z"
   },
   {
    "duration": 1967,
    "start_time": "2023-08-15T06:27:31.725Z"
   },
   {
    "duration": 1167,
    "start_time": "2023-08-15T06:27:33.695Z"
   },
   {
    "duration": 3,
    "start_time": "2023-08-15T06:27:34.864Z"
   },
   {
    "duration": 757,
    "start_time": "2023-08-15T06:27:34.869Z"
   },
   {
    "duration": 115,
    "start_time": "2023-08-15T06:27:35.628Z"
   },
   {
    "duration": 816,
    "start_time": "2023-08-15T06:27:35.744Z"
   },
   {
    "duration": 79,
    "start_time": "2023-08-15T06:27:36.562Z"
   },
   {
    "duration": 1580,
    "start_time": "2023-08-15T06:27:36.642Z"
   },
   {
    "duration": 404,
    "start_time": "2023-08-15T06:27:38.224Z"
   },
   {
    "duration": 388,
    "start_time": "2023-08-15T06:27:38.630Z"
   },
   {
    "duration": 364,
    "start_time": "2023-08-15T06:27:39.019Z"
   },
   {
    "duration": 98,
    "start_time": "2023-08-15T06:27:39.384Z"
   },
   {
    "duration": 277,
    "start_time": "2023-08-15T06:27:39.483Z"
   },
   {
    "duration": 245,
    "start_time": "2023-08-15T06:27:39.762Z"
   },
   {
    "duration": 27,
    "start_time": "2023-08-15T06:27:40.009Z"
   },
   {
    "duration": 36,
    "start_time": "2023-08-15T06:27:40.037Z"
   },
   {
    "duration": 50,
    "start_time": "2023-08-15T06:27:40.074Z"
   },
   {
    "duration": 79,
    "start_time": "2023-08-15T06:27:40.125Z"
   },
   {
    "duration": 23,
    "start_time": "2023-08-15T06:27:40.205Z"
   },
   {
    "duration": 23,
    "start_time": "2023-08-15T06:27:40.230Z"
   },
   {
    "duration": 65,
    "start_time": "2023-08-15T06:27:40.255Z"
   },
   {
    "duration": 357,
    "start_time": "2023-08-15T06:27:40.322Z"
   },
   {
    "duration": 239,
    "start_time": "2023-08-15T06:27:40.681Z"
   },
   {
    "duration": 50,
    "start_time": "2023-08-15T06:27:40.922Z"
   },
   {
    "duration": 45,
    "start_time": "2023-08-15T06:27:40.974Z"
   },
   {
    "duration": 257,
    "start_time": "2023-08-15T06:27:41.021Z"
   },
   {
    "duration": 296,
    "start_time": "2023-08-15T06:27:41.279Z"
   },
   {
    "duration": 254,
    "start_time": "2023-08-15T06:27:41.579Z"
   },
   {
    "duration": 7978,
    "start_time": "2023-08-15T06:27:41.834Z"
   },
   {
    "duration": 24,
    "start_time": "2023-08-15T06:27:49.814Z"
   },
   {
    "duration": 258,
    "start_time": "2023-08-15T06:27:49.839Z"
   },
   {
    "duration": 260,
    "start_time": "2023-08-15T06:27:50.099Z"
   },
   {
    "duration": 11,
    "start_time": "2023-08-15T06:27:50.361Z"
   },
   {
    "duration": 75,
    "start_time": "2023-08-15T06:27:50.373Z"
   },
   {
    "duration": 19,
    "start_time": "2023-08-15T06:27:50.450Z"
   },
   {
    "duration": 16,
    "start_time": "2023-08-15T06:27:50.470Z"
   },
   {
    "duration": 275217,
    "start_time": "2023-08-15T06:27:50.487Z"
   },
   {
    "duration": 47611,
    "start_time": "2023-08-15T06:32:25.706Z"
   },
   {
    "duration": 259888,
    "start_time": "2023-08-15T06:33:13.319Z"
   },
   {
    "duration": 1511747,
    "start_time": "2023-08-15T06:37:33.209Z"
   },
   {
    "duration": 896,
    "start_time": "2023-08-15T07:02:44.957Z"
   },
   {
    "duration": 340,
    "start_time": "2023-08-15T07:02:45.855Z"
   },
   {
    "duration": 1268547,
    "start_time": "2023-08-15T07:02:46.199Z"
   },
   {
    "duration": 1983,
    "start_time": "2023-08-15T07:23:54.748Z"
   },
   {
    "duration": 52399,
    "start_time": "2023-08-15T07:23:56.732Z"
   },
   {
    "duration": 1738,
    "start_time": "2023-08-15T07:24:49.133Z"
   },
   {
    "duration": 58,
    "start_time": "2023-08-15T08:39:42.230Z"
   },
   {
    "duration": 78,
    "start_time": "2023-08-15T08:40:18.071Z"
   },
   {
    "duration": 152,
    "start_time": "2023-08-15T08:42:00.912Z"
   },
   {
    "duration": 55,
    "start_time": "2023-08-15T08:42:17.765Z"
   },
   {
    "duration": 98,
    "start_time": "2023-08-15T08:43:32.122Z"
   },
   {
    "duration": 10,
    "start_time": "2023-08-15T08:47:19.374Z"
   },
   {
    "duration": 8,
    "start_time": "2023-08-15T08:47:40.175Z"
   },
   {
    "duration": 9,
    "start_time": "2023-08-15T08:48:19.599Z"
   },
   {
    "duration": 256,
    "start_time": "2023-08-15T09:20:46.014Z"
   },
   {
    "duration": 105,
    "start_time": "2023-08-15T09:21:54.181Z"
   },
   {
    "duration": 2255,
    "start_time": "2023-08-15T09:27:08.632Z"
   },
   {
    "duration": 123,
    "start_time": "2023-08-15T09:32:59.116Z"
   },
   {
    "duration": 124,
    "start_time": "2023-08-15T09:33:15.233Z"
   },
   {
    "duration": 106,
    "start_time": "2023-08-15T09:40:39.125Z"
   },
   {
    "duration": 26,
    "start_time": "2023-08-15T09:41:08.444Z"
   },
   {
    "duration": 88,
    "start_time": "2023-08-15T09:43:50.158Z"
   },
   {
    "duration": 20,
    "start_time": "2023-08-15T09:44:04.173Z"
   },
   {
    "duration": 11,
    "start_time": "2023-08-15T09:47:56.047Z"
   },
   {
    "duration": 4,
    "start_time": "2023-08-15T09:51:02.737Z"
   },
   {
    "duration": 23,
    "start_time": "2023-08-15T09:51:23.305Z"
   },
   {
    "duration": 288,
    "start_time": "2023-08-15T09:51:37.755Z"
   },
   {
    "duration": 315,
    "start_time": "2023-08-15T09:56:54.751Z"
   },
   {
    "duration": 283,
    "start_time": "2023-08-15T09:59:56.913Z"
   },
   {
    "duration": 1973,
    "start_time": "2023-08-15T10:27:06.811Z"
   },
   {
    "duration": 1207,
    "start_time": "2023-08-15T10:27:08.786Z"
   },
   {
    "duration": 3,
    "start_time": "2023-08-15T10:27:09.995Z"
   },
   {
    "duration": 814,
    "start_time": "2023-08-15T10:27:09.999Z"
   },
   {
    "duration": 126,
    "start_time": "2023-08-15T10:27:10.814Z"
   },
   {
    "duration": 794,
    "start_time": "2023-08-15T10:27:10.942Z"
   },
   {
    "duration": 89,
    "start_time": "2023-08-15T10:27:11.737Z"
   },
   {
    "duration": 1727,
    "start_time": "2023-08-15T10:27:11.827Z"
   },
   {
    "duration": 394,
    "start_time": "2023-08-15T10:27:13.556Z"
   },
   {
    "duration": 415,
    "start_time": "2023-08-15T10:27:13.952Z"
   },
   {
    "duration": 383,
    "start_time": "2023-08-15T10:27:14.369Z"
   },
   {
    "duration": 110,
    "start_time": "2023-08-15T10:27:14.754Z"
   },
   {
    "duration": 317,
    "start_time": "2023-08-15T10:27:14.866Z"
   },
   {
    "duration": 278,
    "start_time": "2023-08-15T10:27:15.185Z"
   },
   {
    "duration": 49,
    "start_time": "2023-08-15T10:27:15.465Z"
   },
   {
    "duration": 39,
    "start_time": "2023-08-15T10:27:15.518Z"
   },
   {
    "duration": 30,
    "start_time": "2023-08-15T10:27:15.559Z"
   },
   {
    "duration": 83,
    "start_time": "2023-08-15T10:27:15.591Z"
   },
   {
    "duration": 36,
    "start_time": "2023-08-15T10:27:15.675Z"
   },
   {
    "duration": 24,
    "start_time": "2023-08-15T10:27:15.713Z"
   },
   {
    "duration": 75,
    "start_time": "2023-08-15T10:27:15.739Z"
   },
   {
    "duration": 351,
    "start_time": "2023-08-15T10:27:15.816Z"
   },
   {
    "duration": 290,
    "start_time": "2023-08-15T10:27:16.168Z"
   },
   {
    "duration": 60,
    "start_time": "2023-08-15T10:27:16.460Z"
   },
   {
    "duration": 26,
    "start_time": "2023-08-15T10:27:16.522Z"
   },
   {
    "duration": 264,
    "start_time": "2023-08-15T10:27:16.550Z"
   },
   {
    "duration": 244,
    "start_time": "2023-08-15T10:27:16.815Z"
   },
   {
    "duration": 256,
    "start_time": "2023-08-15T10:27:17.062Z"
   },
   {
    "duration": 8112,
    "start_time": "2023-08-15T10:27:17.319Z"
   },
   {
    "duration": 23,
    "start_time": "2023-08-15T10:27:25.433Z"
   },
   {
    "duration": 258,
    "start_time": "2023-08-15T10:27:25.458Z"
   },
   {
    "duration": 272,
    "start_time": "2023-08-15T10:27:25.718Z"
   },
   {
    "duration": 31,
    "start_time": "2023-08-15T10:27:25.992Z"
   },
   {
    "duration": 70,
    "start_time": "2023-08-15T10:27:26.025Z"
   },
   {
    "duration": 24,
    "start_time": "2023-08-15T10:27:26.097Z"
   },
   {
    "duration": 36,
    "start_time": "2023-08-15T10:27:26.122Z"
   },
   {
    "duration": 280540,
    "start_time": "2023-08-15T10:27:26.160Z"
   },
   {
    "duration": 51808,
    "start_time": "2023-08-15T10:32:06.702Z"
   },
   {
    "duration": 4854497,
    "start_time": "2023-08-15T10:32:58.511Z"
   },
   {
    "duration": 1483425,
    "start_time": "2023-08-15T11:53:53.009Z"
   },
   {
    "duration": 940,
    "start_time": "2023-08-15T12:18:36.435Z"
   },
   {
    "duration": 335,
    "start_time": "2023-08-15T12:18:37.376Z"
   },
   {
    "duration": 597390,
    "start_time": "2023-08-15T12:18:37.712Z"
   },
   {
    "duration": 1809,
    "start_time": "2023-08-15T12:28:35.103Z"
   },
   {
    "duration": 42843,
    "start_time": "2023-08-15T12:28:36.914Z"
   },
   {
    "duration": 1513,
    "start_time": "2023-08-15T12:29:19.758Z"
   },
   {
    "duration": 8,
    "start_time": "2023-08-15T12:29:21.272Z"
   },
   {
    "duration": 181,
    "start_time": "2023-08-15T12:29:21.282Z"
   },
   {
    "duration": 10,
    "start_time": "2023-08-15T12:33:12.807Z"
   },
   {
    "duration": 59,
    "start_time": "2023-08-15T12:36:18.950Z"
   },
   {
    "duration": 75,
    "start_time": "2023-08-15T12:41:12.711Z"
   },
   {
    "duration": 58,
    "start_time": "2023-08-15T12:42:26.281Z"
   },
   {
    "duration": 16,
    "start_time": "2023-08-15T12:42:45.424Z"
   },
   {
    "duration": 22,
    "start_time": "2023-08-15T12:43:08.608Z"
   },
   {
    "duration": 66,
    "start_time": "2023-08-15T12:43:28.547Z"
   },
   {
    "duration": 50,
    "start_time": "2023-08-15T12:49:05.870Z"
   },
   {
    "duration": 61,
    "start_time": "2023-08-15T12:54:03.225Z"
   },
   {
    "duration": 57,
    "start_time": "2023-08-15T12:55:10.999Z"
   },
   {
    "duration": 535,
    "start_time": "2023-08-15T13:02:30.807Z"
   },
   {
    "duration": 508,
    "start_time": "2023-08-15T13:03:42.709Z"
   },
   {
    "duration": 9,
    "start_time": "2023-08-15T13:08:18.389Z"
   },
   {
    "duration": 8,
    "start_time": "2023-08-15T13:08:49.013Z"
   }
  ],
  "kernelspec": {
   "display_name": "Python 3 (ipykernel)",
   "language": "python",
   "name": "python3"
  },
  "language_info": {
   "codemirror_mode": {
    "name": "ipython",
    "version": 3
   },
   "file_extension": ".py",
   "mimetype": "text/x-python",
   "name": "python",
   "nbconvert_exporter": "python",
   "pygments_lexer": "ipython3",
   "version": "3.10.9"
  },
  "toc": {
   "base_numbering": 1,
   "nav_menu": {},
   "number_sections": true,
   "sideBar": true,
   "skip_h1_title": true,
   "title_cell": "Table of Contents",
   "title_sidebar": "Contents",
   "toc_cell": false,
   "toc_position": {
    "height": "calc(100% - 180px)",
    "left": "10px",
    "top": "150px",
    "width": "277.983px"
   },
   "toc_section_display": true,
   "toc_window_display": true
  }
 },
 "nbformat": 4,
 "nbformat_minor": 2
}
