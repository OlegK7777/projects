{
 "cells": [
  {
   "cell_type": "markdown",
   "metadata": {
    "toc": true
   },
   "source": [
    "<h1>Содержание<span class=\"tocSkip\"></span></h1>\n",
    "<div class=\"toc\"><ul class=\"toc-item\"><li><span><a href=\"#Подготовка-данных\" data-toc-modified-id=\"Подготовка-данных-1\"><span class=\"toc-item-num\">1&nbsp;&nbsp;</span>Подготовка данных</a></span><ul class=\"toc-item\"><li><span><a href=\"#Загрузка-данных-и-получение-общей-информации\" data-toc-modified-id=\"Загрузка-данных-и-получение-общей-информации-1.1\"><span class=\"toc-item-num\">1.1&nbsp;&nbsp;</span>Загрузка данных и получение общей информации</a></span></li><li><span><a href=\"#Предподготовка-данных\" data-toc-modified-id=\"Предподготовка-данных-1.2\"><span class=\"toc-item-num\">1.2&nbsp;&nbsp;</span>Предподготовка данных</a></span></li><li><span><a href=\"#Подготовка-признаков\" data-toc-modified-id=\"Подготовка-признаков-1.3\"><span class=\"toc-item-num\">1.3&nbsp;&nbsp;</span>Подготовка признаков</a></span></li><li><span><a href=\"#Разделение-данных-на-выборки\" data-toc-modified-id=\"Разделение-данных-на-выборки-1.4\"><span class=\"toc-item-num\">1.4&nbsp;&nbsp;</span>Разделение данных на выборки</a></span></li></ul></li><li><span><a href=\"#Исследование-задачи\" data-toc-modified-id=\"Исследование-задачи-2\"><span class=\"toc-item-num\">2&nbsp;&nbsp;</span>Исследование задачи</a></span><ul class=\"toc-item\"><li><span><a href=\"#Исследование-баланса-целевого-класса\" data-toc-modified-id=\"Исследование-баланса-целевого-класса-2.1\"><span class=\"toc-item-num\">2.1&nbsp;&nbsp;</span>Исследование баланса целевого класса</a></span></li><li><span><a href=\"#Функция-для-исследования-моделей\" data-toc-modified-id=\"Функция-для-исследования-моделей-2.2\"><span class=\"toc-item-num\">2.2&nbsp;&nbsp;</span>Функция для исследования моделей</a></span></li><li><span><a href=\"#Исследование-моделей:-решающее-дерево,-случайный-лес-и-логистическая-регрессия.\" data-toc-modified-id=\"Исследование-моделей:-решающее-дерево,-случайный-лес-и-логистическая-регрессия.-2.3\"><span class=\"toc-item-num\">2.3&nbsp;&nbsp;</span>Исследование моделей: решающее дерево, случайный лес и логистическая регрессия.</a></span></li></ul></li><li><span><a href=\"#Борьба-с-дисбалансом\" data-toc-modified-id=\"Борьба-с-дисбалансом-3\"><span class=\"toc-item-num\">3&nbsp;&nbsp;</span>Борьба с дисбалансом</a></span><ul class=\"toc-item\"><li><span><a href=\"#Балансирование-классов-с-помощью-парамметра-class_weight='balanced'\" data-toc-modified-id=\"Балансирование-классов-с-помощью-парамметра-class_weight='balanced'-3.1\"><span class=\"toc-item-num\">3.1&nbsp;&nbsp;</span>Балансирование классов с помощью парамметра class_weight='balanced'</a></span></li><li><span><a href=\"#Увеличие-в-тренировочной-выборке-количества-положительных-ответов-техникой-upsampling\" data-toc-modified-id=\"Увеличие-в-тренировочной-выборке-количества-положительных-ответов-техникой-upsampling-3.2\"><span class=\"toc-item-num\">3.2&nbsp;&nbsp;</span>Увеличие в тренировочной выборке количества положительных ответов техникой upsampling</a></span><ul class=\"toc-item\"><li><span><a href=\"#Техника-upsampling\" data-toc-modified-id=\"Техника-upsampling-3.2.1\"><span class=\"toc-item-num\">3.2.1&nbsp;&nbsp;</span>Техника upsampling</a></span></li><li><span><a href=\"#Обучение-и-тестирование-моделей-на-выборке,-обработанной-по-технике-upsampling\" data-toc-modified-id=\"Обучение-и-тестирование-моделей-на-выборке,-обработанной-по-технике-upsampling-3.2.2\"><span class=\"toc-item-num\">3.2.2&nbsp;&nbsp;</span>Обучение и тестирование моделей на выборке, обработанной по технике upsampling</a></span></li></ul></li><li><span><a href=\"#ROC-кривая,-выбранной-модели,-и-метрика-AUC-ROC\" data-toc-modified-id=\"ROC-кривая,-выбранной-модели,-и-метрика-AUC-ROC-3.3\"><span class=\"toc-item-num\">3.3&nbsp;&nbsp;</span>ROC-кривая, выбранной модели, и метрика AUC-ROC</a></span></li></ul></li><li><span><a href=\"#Тестирование-модели\" data-toc-modified-id=\"Тестирование-модели-4\"><span class=\"toc-item-num\">4&nbsp;&nbsp;</span>Тестирование модели</a></span></li><li><span><a href=\"#Итоговый-вывод\" data-toc-modified-id=\"Итоговый-вывод-5\"><span class=\"toc-item-num\">5&nbsp;&nbsp;</span>Итоговый вывод</a></span></li></ul></div>"
   ]
  },
  {
   "cell_type": "markdown",
   "metadata": {},
   "source": [
    "# Отток клиентов"
   ]
  },
  {
   "cell_type": "markdown",
   "metadata": {},
   "source": [
    "Из «Бета-Банка» стали уходить клиенты. Каждый месяц. Немного, но заметно. Банковские маркетологи посчитали: сохранять текущих клиентов дешевле, чем привлекать новых.\n",
    "\n",
    "Нужно спрогнозировать, уйдёт клиент из банка в ближайшее время или нет. Вам предоставлены исторические данные о поведении клиентов и расторжении договоров с банком. \n",
    "\n",
    "Постройте модель с предельно большим значением *F1*-меры. Чтобы сдать проект успешно, нужно довести метрику до 0.59. Проверьте *F1*-меру на тестовой выборке самостоятельно.\n",
    "\n",
    "Дополнительно измеряйте *AUC-ROC*, сравнивайте её значение с *F1*-мерой.\n",
    "\n"
   ]
  },
  {
   "cell_type": "markdown",
   "metadata": {},
   "source": [
    "## Подготовка данных"
   ]
  },
  {
   "cell_type": "markdown",
   "metadata": {},
   "source": [
    "### Загрузка данных и получение общей информации"
   ]
  },
  {
   "cell_type": "code",
   "execution_count": 1,
   "metadata": {},
   "outputs": [],
   "source": [
    "#импортируем необходимые билиотеки\n",
    "import pandas as pd\n",
    "import matplotlib.pyplot as plt \n",
    "import numpy as np\n",
    "from sklearn.model_selection import train_test_split\n",
    "from sklearn.tree import DecisionTreeClassifier\n",
    "from sklearn.metrics import (\n",
    "    f1_score, \n",
    "    roc_curve, \n",
    "    roc_auc_score, \n",
    "    recall_score\n",
    ")\n",
    "from sklearn.ensemble import RandomForestClassifier\n",
    "from sklearn.linear_model import LogisticRegression\n",
    "from sklearn.utils import shuffle\n",
    "from sklearn.preprocessing import StandardScaler \n",
    "from sklearn.dummy import DummyClassifier"
   ]
  },
  {
   "cell_type": "code",
   "execution_count": 2,
   "metadata": {},
   "outputs": [
    {
     "data": {
      "text/html": [
       "<div>\n",
       "<style scoped>\n",
       "    .dataframe tbody tr th:only-of-type {\n",
       "        vertical-align: middle;\n",
       "    }\n",
       "\n",
       "    .dataframe tbody tr th {\n",
       "        vertical-align: top;\n",
       "    }\n",
       "\n",
       "    .dataframe thead th {\n",
       "        text-align: right;\n",
       "    }\n",
       "</style>\n",
       "<table border=\"1\" class=\"dataframe\">\n",
       "  <thead>\n",
       "    <tr style=\"text-align: right;\">\n",
       "      <th></th>\n",
       "      <th>RowNumber</th>\n",
       "      <th>CustomerId</th>\n",
       "      <th>Surname</th>\n",
       "      <th>CreditScore</th>\n",
       "      <th>Geography</th>\n",
       "      <th>Gender</th>\n",
       "      <th>Age</th>\n",
       "      <th>Tenure</th>\n",
       "      <th>Balance</th>\n",
       "      <th>NumOfProducts</th>\n",
       "      <th>HasCrCard</th>\n",
       "      <th>IsActiveMember</th>\n",
       "      <th>EstimatedSalary</th>\n",
       "      <th>Exited</th>\n",
       "    </tr>\n",
       "  </thead>\n",
       "  <tbody>\n",
       "    <tr>\n",
       "      <th>0</th>\n",
       "      <td>1</td>\n",
       "      <td>15634602</td>\n",
       "      <td>Hargrave</td>\n",
       "      <td>619</td>\n",
       "      <td>France</td>\n",
       "      <td>Female</td>\n",
       "      <td>42</td>\n",
       "      <td>2.0</td>\n",
       "      <td>0.00</td>\n",
       "      <td>1</td>\n",
       "      <td>1</td>\n",
       "      <td>1</td>\n",
       "      <td>101348.88</td>\n",
       "      <td>1</td>\n",
       "    </tr>\n",
       "    <tr>\n",
       "      <th>1</th>\n",
       "      <td>2</td>\n",
       "      <td>15647311</td>\n",
       "      <td>Hill</td>\n",
       "      <td>608</td>\n",
       "      <td>Spain</td>\n",
       "      <td>Female</td>\n",
       "      <td>41</td>\n",
       "      <td>1.0</td>\n",
       "      <td>83807.86</td>\n",
       "      <td>1</td>\n",
       "      <td>0</td>\n",
       "      <td>1</td>\n",
       "      <td>112542.58</td>\n",
       "      <td>0</td>\n",
       "    </tr>\n",
       "    <tr>\n",
       "      <th>2</th>\n",
       "      <td>3</td>\n",
       "      <td>15619304</td>\n",
       "      <td>Onio</td>\n",
       "      <td>502</td>\n",
       "      <td>France</td>\n",
       "      <td>Female</td>\n",
       "      <td>42</td>\n",
       "      <td>8.0</td>\n",
       "      <td>159660.80</td>\n",
       "      <td>3</td>\n",
       "      <td>1</td>\n",
       "      <td>0</td>\n",
       "      <td>113931.57</td>\n",
       "      <td>1</td>\n",
       "    </tr>\n",
       "    <tr>\n",
       "      <th>3</th>\n",
       "      <td>4</td>\n",
       "      <td>15701354</td>\n",
       "      <td>Boni</td>\n",
       "      <td>699</td>\n",
       "      <td>France</td>\n",
       "      <td>Female</td>\n",
       "      <td>39</td>\n",
       "      <td>1.0</td>\n",
       "      <td>0.00</td>\n",
       "      <td>2</td>\n",
       "      <td>0</td>\n",
       "      <td>0</td>\n",
       "      <td>93826.63</td>\n",
       "      <td>0</td>\n",
       "    </tr>\n",
       "    <tr>\n",
       "      <th>4</th>\n",
       "      <td>5</td>\n",
       "      <td>15737888</td>\n",
       "      <td>Mitchell</td>\n",
       "      <td>850</td>\n",
       "      <td>Spain</td>\n",
       "      <td>Female</td>\n",
       "      <td>43</td>\n",
       "      <td>2.0</td>\n",
       "      <td>125510.82</td>\n",
       "      <td>1</td>\n",
       "      <td>1</td>\n",
       "      <td>1</td>\n",
       "      <td>79084.10</td>\n",
       "      <td>0</td>\n",
       "    </tr>\n",
       "  </tbody>\n",
       "</table>\n",
       "</div>"
      ],
      "text/plain": [
       "   RowNumber  CustomerId   Surname  CreditScore Geography  Gender  Age  \\\n",
       "0          1    15634602  Hargrave          619    France  Female   42   \n",
       "1          2    15647311      Hill          608     Spain  Female   41   \n",
       "2          3    15619304      Onio          502    France  Female   42   \n",
       "3          4    15701354      Boni          699    France  Female   39   \n",
       "4          5    15737888  Mitchell          850     Spain  Female   43   \n",
       "\n",
       "   Tenure    Balance  NumOfProducts  HasCrCard  IsActiveMember  \\\n",
       "0     2.0       0.00              1          1               1   \n",
       "1     1.0   83807.86              1          0               1   \n",
       "2     8.0  159660.80              3          1               0   \n",
       "3     1.0       0.00              2          0               0   \n",
       "4     2.0  125510.82              1          1               1   \n",
       "\n",
       "   EstimatedSalary  Exited  \n",
       "0        101348.88       1  \n",
       "1        112542.58       0  \n",
       "2        113931.57       1  \n",
       "3         93826.63       0  \n",
       "4         79084.10       0  "
      ]
     },
     "execution_count": 2,
     "metadata": {},
     "output_type": "execute_result"
    }
   ],
   "source": [
    "# загрузим данные  в переменную data и посмотрим первые 5 строк\n",
    "data = pd.read_csv('/datasets/Churn.csv')\n",
    "data.head()"
   ]
  },
  {
   "cell_type": "code",
   "execution_count": 3,
   "metadata": {},
   "outputs": [
    {
     "name": "stdout",
     "output_type": "stream",
     "text": [
      "<class 'pandas.core.frame.DataFrame'>\n",
      "RangeIndex: 10000 entries, 0 to 9999\n",
      "Data columns (total 14 columns):\n",
      " #   Column           Non-Null Count  Dtype  \n",
      "---  ------           --------------  -----  \n",
      " 0   RowNumber        10000 non-null  int64  \n",
      " 1   CustomerId       10000 non-null  int64  \n",
      " 2   Surname          10000 non-null  object \n",
      " 3   CreditScore      10000 non-null  int64  \n",
      " 4   Geography        10000 non-null  object \n",
      " 5   Gender           10000 non-null  object \n",
      " 6   Age              10000 non-null  int64  \n",
      " 7   Tenure           9091 non-null   float64\n",
      " 8   Balance          10000 non-null  float64\n",
      " 9   NumOfProducts    10000 non-null  int64  \n",
      " 10  HasCrCard        10000 non-null  int64  \n",
      " 11  IsActiveMember   10000 non-null  int64  \n",
      " 12  EstimatedSalary  10000 non-null  float64\n",
      " 13  Exited           10000 non-null  int64  \n",
      "dtypes: float64(3), int64(8), object(3)\n",
      "memory usage: 1.1+ MB\n"
     ]
    }
   ],
   "source": [
    "# выведем на экран общую информацию о датасете\n",
    "data.info()"
   ]
  },
  {
   "cell_type": "code",
   "execution_count": 4,
   "metadata": {},
   "outputs": [
    {
     "data": {
      "text/html": [
       "<div>\n",
       "<style scoped>\n",
       "    .dataframe tbody tr th:only-of-type {\n",
       "        vertical-align: middle;\n",
       "    }\n",
       "\n",
       "    .dataframe tbody tr th {\n",
       "        vertical-align: top;\n",
       "    }\n",
       "\n",
       "    .dataframe thead th {\n",
       "        text-align: right;\n",
       "    }\n",
       "</style>\n",
       "<table border=\"1\" class=\"dataframe\">\n",
       "  <thead>\n",
       "    <tr style=\"text-align: right;\">\n",
       "      <th></th>\n",
       "      <th>RowNumber</th>\n",
       "      <th>CustomerId</th>\n",
       "      <th>CreditScore</th>\n",
       "      <th>Age</th>\n",
       "      <th>Tenure</th>\n",
       "      <th>Balance</th>\n",
       "      <th>NumOfProducts</th>\n",
       "      <th>HasCrCard</th>\n",
       "      <th>IsActiveMember</th>\n",
       "      <th>EstimatedSalary</th>\n",
       "      <th>Exited</th>\n",
       "    </tr>\n",
       "  </thead>\n",
       "  <tbody>\n",
       "    <tr>\n",
       "      <th>count</th>\n",
       "      <td>10000.00000</td>\n",
       "      <td>1.000000e+04</td>\n",
       "      <td>10000.000000</td>\n",
       "      <td>10000.000000</td>\n",
       "      <td>9091.000000</td>\n",
       "      <td>10000.000000</td>\n",
       "      <td>10000.000000</td>\n",
       "      <td>10000.00000</td>\n",
       "      <td>10000.000000</td>\n",
       "      <td>10000.000000</td>\n",
       "      <td>10000.000000</td>\n",
       "    </tr>\n",
       "    <tr>\n",
       "      <th>mean</th>\n",
       "      <td>5000.50000</td>\n",
       "      <td>1.569094e+07</td>\n",
       "      <td>650.528800</td>\n",
       "      <td>38.921800</td>\n",
       "      <td>4.997690</td>\n",
       "      <td>76485.889288</td>\n",
       "      <td>1.530200</td>\n",
       "      <td>0.70550</td>\n",
       "      <td>0.515100</td>\n",
       "      <td>100090.239881</td>\n",
       "      <td>0.203700</td>\n",
       "    </tr>\n",
       "    <tr>\n",
       "      <th>std</th>\n",
       "      <td>2886.89568</td>\n",
       "      <td>7.193619e+04</td>\n",
       "      <td>96.653299</td>\n",
       "      <td>10.487806</td>\n",
       "      <td>2.894723</td>\n",
       "      <td>62397.405202</td>\n",
       "      <td>0.581654</td>\n",
       "      <td>0.45584</td>\n",
       "      <td>0.499797</td>\n",
       "      <td>57510.492818</td>\n",
       "      <td>0.402769</td>\n",
       "    </tr>\n",
       "    <tr>\n",
       "      <th>min</th>\n",
       "      <td>1.00000</td>\n",
       "      <td>1.556570e+07</td>\n",
       "      <td>350.000000</td>\n",
       "      <td>18.000000</td>\n",
       "      <td>0.000000</td>\n",
       "      <td>0.000000</td>\n",
       "      <td>1.000000</td>\n",
       "      <td>0.00000</td>\n",
       "      <td>0.000000</td>\n",
       "      <td>11.580000</td>\n",
       "      <td>0.000000</td>\n",
       "    </tr>\n",
       "    <tr>\n",
       "      <th>25%</th>\n",
       "      <td>2500.75000</td>\n",
       "      <td>1.562853e+07</td>\n",
       "      <td>584.000000</td>\n",
       "      <td>32.000000</td>\n",
       "      <td>2.000000</td>\n",
       "      <td>0.000000</td>\n",
       "      <td>1.000000</td>\n",
       "      <td>0.00000</td>\n",
       "      <td>0.000000</td>\n",
       "      <td>51002.110000</td>\n",
       "      <td>0.000000</td>\n",
       "    </tr>\n",
       "    <tr>\n",
       "      <th>50%</th>\n",
       "      <td>5000.50000</td>\n",
       "      <td>1.569074e+07</td>\n",
       "      <td>652.000000</td>\n",
       "      <td>37.000000</td>\n",
       "      <td>5.000000</td>\n",
       "      <td>97198.540000</td>\n",
       "      <td>1.000000</td>\n",
       "      <td>1.00000</td>\n",
       "      <td>1.000000</td>\n",
       "      <td>100193.915000</td>\n",
       "      <td>0.000000</td>\n",
       "    </tr>\n",
       "    <tr>\n",
       "      <th>75%</th>\n",
       "      <td>7500.25000</td>\n",
       "      <td>1.575323e+07</td>\n",
       "      <td>718.000000</td>\n",
       "      <td>44.000000</td>\n",
       "      <td>7.000000</td>\n",
       "      <td>127644.240000</td>\n",
       "      <td>2.000000</td>\n",
       "      <td>1.00000</td>\n",
       "      <td>1.000000</td>\n",
       "      <td>149388.247500</td>\n",
       "      <td>0.000000</td>\n",
       "    </tr>\n",
       "    <tr>\n",
       "      <th>max</th>\n",
       "      <td>10000.00000</td>\n",
       "      <td>1.581569e+07</td>\n",
       "      <td>850.000000</td>\n",
       "      <td>92.000000</td>\n",
       "      <td>10.000000</td>\n",
       "      <td>250898.090000</td>\n",
       "      <td>4.000000</td>\n",
       "      <td>1.00000</td>\n",
       "      <td>1.000000</td>\n",
       "      <td>199992.480000</td>\n",
       "      <td>1.000000</td>\n",
       "    </tr>\n",
       "  </tbody>\n",
       "</table>\n",
       "</div>"
      ],
      "text/plain": [
       "         RowNumber    CustomerId   CreditScore           Age       Tenure  \\\n",
       "count  10000.00000  1.000000e+04  10000.000000  10000.000000  9091.000000   \n",
       "mean    5000.50000  1.569094e+07    650.528800     38.921800     4.997690   \n",
       "std     2886.89568  7.193619e+04     96.653299     10.487806     2.894723   \n",
       "min        1.00000  1.556570e+07    350.000000     18.000000     0.000000   \n",
       "25%     2500.75000  1.562853e+07    584.000000     32.000000     2.000000   \n",
       "50%     5000.50000  1.569074e+07    652.000000     37.000000     5.000000   \n",
       "75%     7500.25000  1.575323e+07    718.000000     44.000000     7.000000   \n",
       "max    10000.00000  1.581569e+07    850.000000     92.000000    10.000000   \n",
       "\n",
       "             Balance  NumOfProducts    HasCrCard  IsActiveMember  \\\n",
       "count   10000.000000   10000.000000  10000.00000    10000.000000   \n",
       "mean    76485.889288       1.530200      0.70550        0.515100   \n",
       "std     62397.405202       0.581654      0.45584        0.499797   \n",
       "min         0.000000       1.000000      0.00000        0.000000   \n",
       "25%         0.000000       1.000000      0.00000        0.000000   \n",
       "50%     97198.540000       1.000000      1.00000        1.000000   \n",
       "75%    127644.240000       2.000000      1.00000        1.000000   \n",
       "max    250898.090000       4.000000      1.00000        1.000000   \n",
       "\n",
       "       EstimatedSalary        Exited  \n",
       "count     10000.000000  10000.000000  \n",
       "mean     100090.239881      0.203700  \n",
       "std       57510.492818      0.402769  \n",
       "min          11.580000      0.000000  \n",
       "25%       51002.110000      0.000000  \n",
       "50%      100193.915000      0.000000  \n",
       "75%      149388.247500      0.000000  \n",
       "max      199992.480000      1.000000  "
      ]
     },
     "execution_count": 4,
     "metadata": {},
     "output_type": "execute_result"
    }
   ],
   "source": [
    "# выведем на экран дополнительную информацию о датасете\n",
    "data.describe()"
   ]
  },
  {
   "cell_type": "code",
   "execution_count": 5,
   "metadata": {},
   "outputs": [
    {
     "data": {
      "image/png": "[encoded data removed]",
      "text/plain": [
       "<Figure size 1080x1080 with 12 Axes>"
      ]
     },
     "metadata": {
      "needs_background": "light"
     },
     "output_type": "display_data"
    }
   ],
   "source": [
    "# построим гистограммы числовых признаков\n",
    "data.hist(figsize=(15,15), bins=100)\n",
    "plt.show()"
   ]
  },
  {
   "cell_type": "markdown",
   "metadata": {},
   "source": [
    "**Вывод**   \n",
    "Представлены данные по 10 000 клиентам. Данные разбиты на 14 колонок.  \n",
    "Данные по кредитному рейтингу рапределены относительно равномерно вокруг отметки примерно в 650. Подавляющее большинство рейтингов более 400. Также выделяется количество клиентов с максимальным рейтингов в 850, выбивающееся из кривой нормального распределения.  \n",
    "Возраст клиентов также распределен равномерно в диапазоне от 18 до 92 лет. Средний возраст 38.9 лет, медиана 37 лет. \n",
    "В столбце Tenure (период в течении которого человек является клиентом банка) пропущено 909 значений.  \n",
    "Значительное количесвто клиентов (более 3 500) имеют нулевой баланс.  \n",
    "Большинство клиентов пользуется только 1 или 2 продуктами банка.  \n",
    "Около 7 000 клиентов имеют кредитную карту.  \n",
    "Клиенты примерно поровну распределились на активных и неактивных, с небольшим перевесом в пользу активных.  \n",
    "Предполагаемая зарплата распределена в дипазоне от 11.5 до, примерно, 200 000. При этом количество клиентов с разными уровнями зарплат примерно равное. Что странно, поскольку в реальной жизни разброс зарплат, скорее всего, соответствует кривой нормального распределения. Возможно, стоит перепроверить, как в банке определяется размер предполагаемой зарплаты.   \n",
    "Около 2 000 клиентов из 10 000 покинули банк."
   ]
  },
  {
   "cell_type": "markdown",
   "metadata": {},
   "source": [
    "### Предподготовка данных"
   ]
  },
  {
   "cell_type": "code",
   "execution_count": 6,
   "metadata": {},
   "outputs": [],
   "source": [
    "# приведем названия столбцов к нижнему егистру\n",
    "data.columns = data.columns.str.lower()"
   ]
  },
  {
   "cell_type": "code",
   "execution_count": 7,
   "metadata": {},
   "outputs": [
    {
     "data": {
      "text/html": [
       "<div>\n",
       "<style scoped>\n",
       "    .dataframe tbody tr th:only-of-type {\n",
       "        vertical-align: middle;\n",
       "    }\n",
       "\n",
       "    .dataframe tbody tr th {\n",
       "        vertical-align: top;\n",
       "    }\n",
       "\n",
       "    .dataframe thead th {\n",
       "        text-align: right;\n",
       "    }\n",
       "</style>\n",
       "<table border=\"1\" class=\"dataframe\">\n",
       "  <thead>\n",
       "    <tr style=\"text-align: right;\">\n",
       "      <th></th>\n",
       "      <th>rownumber</th>\n",
       "      <th>customerid</th>\n",
       "      <th>surname</th>\n",
       "      <th>creditscore</th>\n",
       "      <th>geography</th>\n",
       "      <th>gender</th>\n",
       "      <th>age</th>\n",
       "      <th>tenure</th>\n",
       "      <th>balance</th>\n",
       "      <th>numofproducts</th>\n",
       "      <th>hascrcard</th>\n",
       "      <th>isactivemember</th>\n",
       "      <th>estimatedsalary</th>\n",
       "      <th>exited</th>\n",
       "    </tr>\n",
       "  </thead>\n",
       "  <tbody>\n",
       "    <tr>\n",
       "      <th>30</th>\n",
       "      <td>31</td>\n",
       "      <td>15589475</td>\n",
       "      <td>Azikiwe</td>\n",
       "      <td>591</td>\n",
       "      <td>Spain</td>\n",
       "      <td>Female</td>\n",
       "      <td>39</td>\n",
       "      <td>NaN</td>\n",
       "      <td>0.00</td>\n",
       "      <td>3</td>\n",
       "      <td>1</td>\n",
       "      <td>0</td>\n",
       "      <td>140469.38</td>\n",
       "      <td>1</td>\n",
       "    </tr>\n",
       "    <tr>\n",
       "      <th>48</th>\n",
       "      <td>49</td>\n",
       "      <td>15766205</td>\n",
       "      <td>Yin</td>\n",
       "      <td>550</td>\n",
       "      <td>Germany</td>\n",
       "      <td>Male</td>\n",
       "      <td>38</td>\n",
       "      <td>NaN</td>\n",
       "      <td>103391.38</td>\n",
       "      <td>1</td>\n",
       "      <td>0</td>\n",
       "      <td>1</td>\n",
       "      <td>90878.13</td>\n",
       "      <td>0</td>\n",
       "    </tr>\n",
       "    <tr>\n",
       "      <th>51</th>\n",
       "      <td>52</td>\n",
       "      <td>15768193</td>\n",
       "      <td>Trevisani</td>\n",
       "      <td>585</td>\n",
       "      <td>Germany</td>\n",
       "      <td>Male</td>\n",
       "      <td>36</td>\n",
       "      <td>NaN</td>\n",
       "      <td>146050.97</td>\n",
       "      <td>2</td>\n",
       "      <td>0</td>\n",
       "      <td>0</td>\n",
       "      <td>86424.57</td>\n",
       "      <td>0</td>\n",
       "    </tr>\n",
       "    <tr>\n",
       "      <th>53</th>\n",
       "      <td>54</td>\n",
       "      <td>15702298</td>\n",
       "      <td>Parkhill</td>\n",
       "      <td>655</td>\n",
       "      <td>Germany</td>\n",
       "      <td>Male</td>\n",
       "      <td>41</td>\n",
       "      <td>NaN</td>\n",
       "      <td>125561.97</td>\n",
       "      <td>1</td>\n",
       "      <td>0</td>\n",
       "      <td>0</td>\n",
       "      <td>164040.94</td>\n",
       "      <td>1</td>\n",
       "    </tr>\n",
       "    <tr>\n",
       "      <th>60</th>\n",
       "      <td>61</td>\n",
       "      <td>15651280</td>\n",
       "      <td>Hunter</td>\n",
       "      <td>742</td>\n",
       "      <td>Germany</td>\n",
       "      <td>Male</td>\n",
       "      <td>35</td>\n",
       "      <td>NaN</td>\n",
       "      <td>136857.00</td>\n",
       "      <td>1</td>\n",
       "      <td>0</td>\n",
       "      <td>0</td>\n",
       "      <td>84509.57</td>\n",
       "      <td>0</td>\n",
       "    </tr>\n",
       "    <tr>\n",
       "      <th>82</th>\n",
       "      <td>83</td>\n",
       "      <td>15641732</td>\n",
       "      <td>Mills</td>\n",
       "      <td>543</td>\n",
       "      <td>France</td>\n",
       "      <td>Female</td>\n",
       "      <td>36</td>\n",
       "      <td>NaN</td>\n",
       "      <td>0.00</td>\n",
       "      <td>2</td>\n",
       "      <td>0</td>\n",
       "      <td>0</td>\n",
       "      <td>26019.59</td>\n",
       "      <td>0</td>\n",
       "    </tr>\n",
       "    <tr>\n",
       "      <th>85</th>\n",
       "      <td>86</td>\n",
       "      <td>15805254</td>\n",
       "      <td>Ndukaku</td>\n",
       "      <td>652</td>\n",
       "      <td>Spain</td>\n",
       "      <td>Female</td>\n",
       "      <td>75</td>\n",
       "      <td>NaN</td>\n",
       "      <td>0.00</td>\n",
       "      <td>2</td>\n",
       "      <td>1</td>\n",
       "      <td>1</td>\n",
       "      <td>114675.75</td>\n",
       "      <td>0</td>\n",
       "    </tr>\n",
       "    <tr>\n",
       "      <th>94</th>\n",
       "      <td>95</td>\n",
       "      <td>15676966</td>\n",
       "      <td>Capon</td>\n",
       "      <td>730</td>\n",
       "      <td>Spain</td>\n",
       "      <td>Male</td>\n",
       "      <td>42</td>\n",
       "      <td>NaN</td>\n",
       "      <td>0.00</td>\n",
       "      <td>2</td>\n",
       "      <td>0</td>\n",
       "      <td>1</td>\n",
       "      <td>85982.47</td>\n",
       "      <td>0</td>\n",
       "    </tr>\n",
       "    <tr>\n",
       "      <th>99</th>\n",
       "      <td>100</td>\n",
       "      <td>15633059</td>\n",
       "      <td>Fanucci</td>\n",
       "      <td>413</td>\n",
       "      <td>France</td>\n",
       "      <td>Male</td>\n",
       "      <td>34</td>\n",
       "      <td>NaN</td>\n",
       "      <td>0.00</td>\n",
       "      <td>2</td>\n",
       "      <td>0</td>\n",
       "      <td>0</td>\n",
       "      <td>6534.18</td>\n",
       "      <td>0</td>\n",
       "    </tr>\n",
       "    <tr>\n",
       "      <th>111</th>\n",
       "      <td>112</td>\n",
       "      <td>15665790</td>\n",
       "      <td>Rowntree</td>\n",
       "      <td>538</td>\n",
       "      <td>Germany</td>\n",
       "      <td>Male</td>\n",
       "      <td>39</td>\n",
       "      <td>NaN</td>\n",
       "      <td>108055.10</td>\n",
       "      <td>2</td>\n",
       "      <td>1</td>\n",
       "      <td>0</td>\n",
       "      <td>27231.26</td>\n",
       "      <td>0</td>\n",
       "    </tr>\n",
       "    <tr>\n",
       "      <th>123</th>\n",
       "      <td>124</td>\n",
       "      <td>15760085</td>\n",
       "      <td>Calabresi</td>\n",
       "      <td>684</td>\n",
       "      <td>Germany</td>\n",
       "      <td>Female</td>\n",
       "      <td>48</td>\n",
       "      <td>NaN</td>\n",
       "      <td>126384.42</td>\n",
       "      <td>1</td>\n",
       "      <td>1</td>\n",
       "      <td>1</td>\n",
       "      <td>198129.36</td>\n",
       "      <td>0</td>\n",
       "    </tr>\n",
       "    <tr>\n",
       "      <th>125</th>\n",
       "      <td>126</td>\n",
       "      <td>15627360</td>\n",
       "      <td>Fuller</td>\n",
       "      <td>432</td>\n",
       "      <td>France</td>\n",
       "      <td>Male</td>\n",
       "      <td>42</td>\n",
       "      <td>NaN</td>\n",
       "      <td>152603.45</td>\n",
       "      <td>1</td>\n",
       "      <td>1</td>\n",
       "      <td>0</td>\n",
       "      <td>110265.24</td>\n",
       "      <td>1</td>\n",
       "    </tr>\n",
       "    <tr>\n",
       "      <th>146</th>\n",
       "      <td>147</td>\n",
       "      <td>15705707</td>\n",
       "      <td>Bennelong</td>\n",
       "      <td>635</td>\n",
       "      <td>Spain</td>\n",
       "      <td>Female</td>\n",
       "      <td>29</td>\n",
       "      <td>NaN</td>\n",
       "      <td>138296.94</td>\n",
       "      <td>2</td>\n",
       "      <td>1</td>\n",
       "      <td>0</td>\n",
       "      <td>141075.51</td>\n",
       "      <td>0</td>\n",
       "    </tr>\n",
       "    <tr>\n",
       "      <th>162</th>\n",
       "      <td>163</td>\n",
       "      <td>15630910</td>\n",
       "      <td>Treacy</td>\n",
       "      <td>800</td>\n",
       "      <td>France</td>\n",
       "      <td>Female</td>\n",
       "      <td>49</td>\n",
       "      <td>NaN</td>\n",
       "      <td>108007.36</td>\n",
       "      <td>1</td>\n",
       "      <td>0</td>\n",
       "      <td>0</td>\n",
       "      <td>47125.11</td>\n",
       "      <td>0</td>\n",
       "    </tr>\n",
       "    <tr>\n",
       "      <th>173</th>\n",
       "      <td>174</td>\n",
       "      <td>15586310</td>\n",
       "      <td>Ting</td>\n",
       "      <td>578</td>\n",
       "      <td>France</td>\n",
       "      <td>Male</td>\n",
       "      <td>30</td>\n",
       "      <td>NaN</td>\n",
       "      <td>169462.09</td>\n",
       "      <td>1</td>\n",
       "      <td>1</td>\n",
       "      <td>0</td>\n",
       "      <td>112187.11</td>\n",
       "      <td>0</td>\n",
       "    </tr>\n",
       "    <tr>\n",
       "      <th>180</th>\n",
       "      <td>181</td>\n",
       "      <td>15716334</td>\n",
       "      <td>Rozier</td>\n",
       "      <td>850</td>\n",
       "      <td>Spain</td>\n",
       "      <td>Female</td>\n",
       "      <td>45</td>\n",
       "      <td>NaN</td>\n",
       "      <td>122311.21</td>\n",
       "      <td>1</td>\n",
       "      <td>1</td>\n",
       "      <td>1</td>\n",
       "      <td>19482.50</td>\n",
       "      <td>0</td>\n",
       "    </tr>\n",
       "    <tr>\n",
       "      <th>217</th>\n",
       "      <td>218</td>\n",
       "      <td>15786308</td>\n",
       "      <td>Millar</td>\n",
       "      <td>730</td>\n",
       "      <td>Spain</td>\n",
       "      <td>Female</td>\n",
       "      <td>33</td>\n",
       "      <td>NaN</td>\n",
       "      <td>0.00</td>\n",
       "      <td>2</td>\n",
       "      <td>0</td>\n",
       "      <td>0</td>\n",
       "      <td>176576.62</td>\n",
       "      <td>0</td>\n",
       "    </tr>\n",
       "    <tr>\n",
       "      <th>222</th>\n",
       "      <td>223</td>\n",
       "      <td>15727829</td>\n",
       "      <td>McIntyre</td>\n",
       "      <td>567</td>\n",
       "      <td>France</td>\n",
       "      <td>Male</td>\n",
       "      <td>42</td>\n",
       "      <td>NaN</td>\n",
       "      <td>0.00</td>\n",
       "      <td>2</td>\n",
       "      <td>1</td>\n",
       "      <td>1</td>\n",
       "      <td>167984.61</td>\n",
       "      <td>0</td>\n",
       "    </tr>\n",
       "    <tr>\n",
       "      <th>225</th>\n",
       "      <td>226</td>\n",
       "      <td>15699029</td>\n",
       "      <td>Bagley</td>\n",
       "      <td>670</td>\n",
       "      <td>France</td>\n",
       "      <td>Male</td>\n",
       "      <td>37</td>\n",
       "      <td>NaN</td>\n",
       "      <td>170557.91</td>\n",
       "      <td>2</td>\n",
       "      <td>1</td>\n",
       "      <td>0</td>\n",
       "      <td>198252.88</td>\n",
       "      <td>0</td>\n",
       "    </tr>\n",
       "    <tr>\n",
       "      <th>237</th>\n",
       "      <td>238</td>\n",
       "      <td>15764866</td>\n",
       "      <td>Synnot</td>\n",
       "      <td>539</td>\n",
       "      <td>Germany</td>\n",
       "      <td>Female</td>\n",
       "      <td>43</td>\n",
       "      <td>NaN</td>\n",
       "      <td>116220.50</td>\n",
       "      <td>3</td>\n",
       "      <td>1</td>\n",
       "      <td>0</td>\n",
       "      <td>55803.96</td>\n",
       "      <td>1</td>\n",
       "    </tr>\n",
       "    <tr>\n",
       "      <th>254</th>\n",
       "      <td>255</td>\n",
       "      <td>15665834</td>\n",
       "      <td>Cheatham</td>\n",
       "      <td>696</td>\n",
       "      <td>Spain</td>\n",
       "      <td>Male</td>\n",
       "      <td>28</td>\n",
       "      <td>NaN</td>\n",
       "      <td>0.00</td>\n",
       "      <td>1</td>\n",
       "      <td>0</td>\n",
       "      <td>0</td>\n",
       "      <td>176713.47</td>\n",
       "      <td>0</td>\n",
       "    </tr>\n",
       "    <tr>\n",
       "      <th>258</th>\n",
       "      <td>259</td>\n",
       "      <td>15750803</td>\n",
       "      <td>Jess</td>\n",
       "      <td>693</td>\n",
       "      <td>France</td>\n",
       "      <td>Female</td>\n",
       "      <td>30</td>\n",
       "      <td>NaN</td>\n",
       "      <td>127992.25</td>\n",
       "      <td>1</td>\n",
       "      <td>1</td>\n",
       "      <td>1</td>\n",
       "      <td>50457.20</td>\n",
       "      <td>0</td>\n",
       "    </tr>\n",
       "    <tr>\n",
       "      <th>264</th>\n",
       "      <td>265</td>\n",
       "      <td>15700696</td>\n",
       "      <td>Kang</td>\n",
       "      <td>738</td>\n",
       "      <td>Spain</td>\n",
       "      <td>Male</td>\n",
       "      <td>31</td>\n",
       "      <td>NaN</td>\n",
       "      <td>79019.80</td>\n",
       "      <td>1</td>\n",
       "      <td>1</td>\n",
       "      <td>1</td>\n",
       "      <td>18606.23</td>\n",
       "      <td>0</td>\n",
       "    </tr>\n",
       "    <tr>\n",
       "      <th>270</th>\n",
       "      <td>271</td>\n",
       "      <td>15787071</td>\n",
       "      <td>Dulhunty</td>\n",
       "      <td>650</td>\n",
       "      <td>Spain</td>\n",
       "      <td>Male</td>\n",
       "      <td>41</td>\n",
       "      <td>NaN</td>\n",
       "      <td>0.00</td>\n",
       "      <td>2</td>\n",
       "      <td>0</td>\n",
       "      <td>1</td>\n",
       "      <td>191599.67</td>\n",
       "      <td>0</td>\n",
       "    </tr>\n",
       "    <tr>\n",
       "      <th>275</th>\n",
       "      <td>276</td>\n",
       "      <td>15758685</td>\n",
       "      <td>Dubinina</td>\n",
       "      <td>706</td>\n",
       "      <td>Spain</td>\n",
       "      <td>Female</td>\n",
       "      <td>37</td>\n",
       "      <td>NaN</td>\n",
       "      <td>0.00</td>\n",
       "      <td>2</td>\n",
       "      <td>1</td>\n",
       "      <td>1</td>\n",
       "      <td>110899.30</td>\n",
       "      <td>0</td>\n",
       "    </tr>\n",
       "    <tr>\n",
       "      <th>286</th>\n",
       "      <td>287</td>\n",
       "      <td>15573112</td>\n",
       "      <td>Kang</td>\n",
       "      <td>602</td>\n",
       "      <td>Spain</td>\n",
       "      <td>Male</td>\n",
       "      <td>29</td>\n",
       "      <td>NaN</td>\n",
       "      <td>103907.28</td>\n",
       "      <td>1</td>\n",
       "      <td>1</td>\n",
       "      <td>0</td>\n",
       "      <td>161229.84</td>\n",
       "      <td>0</td>\n",
       "    </tr>\n",
       "    <tr>\n",
       "      <th>290</th>\n",
       "      <td>291</td>\n",
       "      <td>15652266</td>\n",
       "      <td>Chidiebele</td>\n",
       "      <td>703</td>\n",
       "      <td>Germany</td>\n",
       "      <td>Male</td>\n",
       "      <td>42</td>\n",
       "      <td>NaN</td>\n",
       "      <td>63227.00</td>\n",
       "      <td>1</td>\n",
       "      <td>0</td>\n",
       "      <td>1</td>\n",
       "      <td>137316.32</td>\n",
       "      <td>0</td>\n",
       "    </tr>\n",
       "    <tr>\n",
       "      <th>320</th>\n",
       "      <td>321</td>\n",
       "      <td>15810834</td>\n",
       "      <td>Gordon</td>\n",
       "      <td>525</td>\n",
       "      <td>Spain</td>\n",
       "      <td>Female</td>\n",
       "      <td>57</td>\n",
       "      <td>NaN</td>\n",
       "      <td>145965.33</td>\n",
       "      <td>1</td>\n",
       "      <td>1</td>\n",
       "      <td>1</td>\n",
       "      <td>64448.36</td>\n",
       "      <td>0</td>\n",
       "    </tr>\n",
       "    <tr>\n",
       "      <th>323</th>\n",
       "      <td>324</td>\n",
       "      <td>15585215</td>\n",
       "      <td>Yuan</td>\n",
       "      <td>763</td>\n",
       "      <td>France</td>\n",
       "      <td>Female</td>\n",
       "      <td>31</td>\n",
       "      <td>NaN</td>\n",
       "      <td>0.00</td>\n",
       "      <td>2</td>\n",
       "      <td>0</td>\n",
       "      <td>0</td>\n",
       "      <td>50404.72</td>\n",
       "      <td>0</td>\n",
       "    </tr>\n",
       "    <tr>\n",
       "      <th>329</th>\n",
       "      <td>330</td>\n",
       "      <td>15624528</td>\n",
       "      <td>L?</td>\n",
       "      <td>664</td>\n",
       "      <td>Germany</td>\n",
       "      <td>Male</td>\n",
       "      <td>26</td>\n",
       "      <td>NaN</td>\n",
       "      <td>116244.14</td>\n",
       "      <td>2</td>\n",
       "      <td>1</td>\n",
       "      <td>1</td>\n",
       "      <td>95145.14</td>\n",
       "      <td>0</td>\n",
       "    </tr>\n",
       "  </tbody>\n",
       "</table>\n",
       "</div>"
      ],
      "text/plain": [
       "     rownumber  customerid     surname  creditscore geography  gender  age  \\\n",
       "30          31    15589475     Azikiwe          591     Spain  Female   39   \n",
       "48          49    15766205         Yin          550   Germany    Male   38   \n",
       "51          52    15768193   Trevisani          585   Germany    Male   36   \n",
       "53          54    15702298    Parkhill          655   Germany    Male   41   \n",
       "60          61    15651280      Hunter          742   Germany    Male   35   \n",
       "82          83    15641732       Mills          543    France  Female   36   \n",
       "85          86    15805254     Ndukaku          652     Spain  Female   75   \n",
       "94          95    15676966       Capon          730     Spain    Male   42   \n",
       "99         100    15633059     Fanucci          413    France    Male   34   \n",
       "111        112    15665790    Rowntree          538   Germany    Male   39   \n",
       "123        124    15760085   Calabresi          684   Germany  Female   48   \n",
       "125        126    15627360      Fuller          432    France    Male   42   \n",
       "146        147    15705707   Bennelong          635     Spain  Female   29   \n",
       "162        163    15630910      Treacy          800    France  Female   49   \n",
       "173        174    15586310        Ting          578    France    Male   30   \n",
       "180        181    15716334      Rozier          850     Spain  Female   45   \n",
       "217        218    15786308      Millar          730     Spain  Female   33   \n",
       "222        223    15727829    McIntyre          567    France    Male   42   \n",
       "225        226    15699029      Bagley          670    France    Male   37   \n",
       "237        238    15764866      Synnot          539   Germany  Female   43   \n",
       "254        255    15665834    Cheatham          696     Spain    Male   28   \n",
       "258        259    15750803        Jess          693    France  Female   30   \n",
       "264        265    15700696        Kang          738     Spain    Male   31   \n",
       "270        271    15787071    Dulhunty          650     Spain    Male   41   \n",
       "275        276    15758685    Dubinina          706     Spain  Female   37   \n",
       "286        287    15573112        Kang          602     Spain    Male   29   \n",
       "290        291    15652266  Chidiebele          703   Germany    Male   42   \n",
       "320        321    15810834      Gordon          525     Spain  Female   57   \n",
       "323        324    15585215        Yuan          763    France  Female   31   \n",
       "329        330    15624528          L?          664   Germany    Male   26   \n",
       "\n",
       "     tenure    balance  numofproducts  hascrcard  isactivemember  \\\n",
       "30      NaN       0.00              3          1               0   \n",
       "48      NaN  103391.38              1          0               1   \n",
       "51      NaN  146050.97              2          0               0   \n",
       "53      NaN  125561.97              1          0               0   \n",
       "60      NaN  136857.00              1          0               0   \n",
       "82      NaN       0.00              2          0               0   \n",
       "85      NaN       0.00              2          1               1   \n",
       "94      NaN       0.00              2          0               1   \n",
       "99      NaN       0.00              2          0               0   \n",
       "111     NaN  108055.10              2          1               0   \n",
       "123     NaN  126384.42              1          1               1   \n",
       "125     NaN  152603.45              1          1               0   \n",
       "146     NaN  138296.94              2          1               0   \n",
       "162     NaN  108007.36              1          0               0   \n",
       "173     NaN  169462.09              1          1               0   \n",
       "180     NaN  122311.21              1          1               1   \n",
       "217     NaN       0.00              2          0               0   \n",
       "222     NaN       0.00              2          1               1   \n",
       "225     NaN  170557.91              2          1               0   \n",
       "237     NaN  116220.50              3          1               0   \n",
       "254     NaN       0.00              1          0               0   \n",
       "258     NaN  127992.25              1          1               1   \n",
       "264     NaN   79019.80              1          1               1   \n",
       "270     NaN       0.00              2          0               1   \n",
       "275     NaN       0.00              2          1               1   \n",
       "286     NaN  103907.28              1          1               0   \n",
       "290     NaN   63227.00              1          0               1   \n",
       "320     NaN  145965.33              1          1               1   \n",
       "323     NaN       0.00              2          0               0   \n",
       "329     NaN  116244.14              2          1               1   \n",
       "\n",
       "     estimatedsalary  exited  \n",
       "30         140469.38       1  \n",
       "48          90878.13       0  \n",
       "51          86424.57       0  \n",
       "53         164040.94       1  \n",
       "60          84509.57       0  \n",
       "82          26019.59       0  \n",
       "85         114675.75       0  \n",
       "94          85982.47       0  \n",
       "99           6534.18       0  \n",
       "111         27231.26       0  \n",
       "123        198129.36       0  \n",
       "125        110265.24       1  \n",
       "146        141075.51       0  \n",
       "162         47125.11       0  \n",
       "173        112187.11       0  \n",
       "180         19482.50       0  \n",
       "217        176576.62       0  \n",
       "222        167984.61       0  \n",
       "225        198252.88       0  \n",
       "237         55803.96       1  \n",
       "254        176713.47       0  \n",
       "258         50457.20       0  \n",
       "264         18606.23       0  \n",
       "270        191599.67       0  \n",
       "275        110899.30       0  \n",
       "286        161229.84       0  \n",
       "290        137316.32       0  \n",
       "320         64448.36       0  \n",
       "323         50404.72       0  \n",
       "329         95145.14       0  "
      ]
     },
     "execution_count": 7,
     "metadata": {},
     "output_type": "execute_result"
    }
   ],
   "source": [
    "# выведем на экран первые тридцать строк в которых в столбце Tenure пропущены значения\n",
    "data.query('tenure.isna()').head(30)"
   ]
  },
  {
   "cell_type": "code",
   "execution_count": 8,
   "metadata": {},
   "outputs": [
    {
     "data": {
      "text/plain": [
       "0"
      ]
     },
     "execution_count": 8,
     "metadata": {},
     "output_type": "execute_result"
    }
   ],
   "source": [
    "# проверим на наличие дубликатов\n",
    "data.duplicated().sum()"
   ]
  },
  {
   "cell_type": "markdown",
   "metadata": {},
   "source": [
    "В столбцах tenure и numofproducts тип данных числительные. Но, содержащиеся в них данные носят скорее категориальный характер. В модели логическая регрессия к признакам будут применятся формулы и если оставить как есть столбец numofproducts, то может получаться дробное клличество продуктов, что некорректно. Со сроком в течении которого человек является клиентом банка сложнее, количество лет может быть дробным. Тем не менее, в данном случае, количество лет указано целочисленными значениями, также стоит обратить внимание, что количество клиентом по годам распределено примерно поровну (кроме 0 и 10), то есть классы являются примерно равнозначными, к тому же подготовка данного признака как категориального позволит учесть пропуски как отдельную категорию. Поэтому заменим тип данных в указанных столбцах на str чтобы в дальнейшем функция get_dummies могла их обработать как категориальные."
   ]
  },
  {
   "cell_type": "code",
   "execution_count": 9,
   "metadata": {},
   "outputs": [
    {
     "name": "stdout",
     "output_type": "stream",
     "text": [
      "<class 'pandas.core.frame.DataFrame'>\n",
      "RangeIndex: 10000 entries, 0 to 9999\n",
      "Data columns (total 14 columns):\n",
      " #   Column           Non-Null Count  Dtype  \n",
      "---  ------           --------------  -----  \n",
      " 0   rownumber        10000 non-null  int64  \n",
      " 1   customerid       10000 non-null  int64  \n",
      " 2   surname          10000 non-null  object \n",
      " 3   creditscore      10000 non-null  int64  \n",
      " 4   geography        10000 non-null  object \n",
      " 5   gender           10000 non-null  object \n",
      " 6   age              10000 non-null  int64  \n",
      " 7   tenure           10000 non-null  object \n",
      " 8   balance          10000 non-null  float64\n",
      " 9   numofproducts    10000 non-null  object \n",
      " 10  hascrcard        10000 non-null  int64  \n",
      " 11  isactivemember   10000 non-null  int64  \n",
      " 12  estimatedsalary  10000 non-null  float64\n",
      " 13  exited           10000 non-null  int64  \n",
      "dtypes: float64(2), int64(7), object(5)\n",
      "memory usage: 1.1+ MB\n"
     ]
    }
   ],
   "source": [
    "data[['tenure', 'numofproducts']] = data[['tenure', 'numofproducts']].astype('str')\n",
    "data.info()"
   ]
  },
  {
   "cell_type": "markdown",
   "metadata": {},
   "source": [
    "**Вывод**  \n",
    "В рамках данного этапа проделана следующая работа:  \n",
    "- названия столбцов приведены к нижнему регистру   \n",
    "- проанализированы строки в которых есть пропущенные значения в столбце Tenure. Пропусов достаточно много, более 9%, поэтому удалять их нецелесообразно. Варианты адекватного заполнения не выявлены, поэтому решено оставить без изменений.    \n",
    "- в столбцах tenure и numofproducts тип данных изменен на str."
   ]
  },
  {
   "cell_type": "markdown",
   "metadata": {},
   "source": [
    "### Подготовка признаков"
   ]
  },
  {
   "cell_type": "markdown",
   "metadata": {},
   "source": [
    "Удалим столбцы, содержащие персональную информацию, содержащуюся в столбцах rownumber, customerid, surname, поскольку она не нужна для работы модели."
   ]
  },
  {
   "cell_type": "code",
   "execution_count": 10,
   "metadata": {},
   "outputs": [
    {
     "data": {
      "text/html": [
       "<div>\n",
       "<style scoped>\n",
       "    .dataframe tbody tr th:only-of-type {\n",
       "        vertical-align: middle;\n",
       "    }\n",
       "\n",
       "    .dataframe tbody tr th {\n",
       "        vertical-align: top;\n",
       "    }\n",
       "\n",
       "    .dataframe thead th {\n",
       "        text-align: right;\n",
       "    }\n",
       "</style>\n",
       "<table border=\"1\" class=\"dataframe\">\n",
       "  <thead>\n",
       "    <tr style=\"text-align: right;\">\n",
       "      <th></th>\n",
       "      <th>creditscore</th>\n",
       "      <th>geography</th>\n",
       "      <th>gender</th>\n",
       "      <th>age</th>\n",
       "      <th>tenure</th>\n",
       "      <th>balance</th>\n",
       "      <th>numofproducts</th>\n",
       "      <th>hascrcard</th>\n",
       "      <th>isactivemember</th>\n",
       "      <th>estimatedsalary</th>\n",
       "      <th>exited</th>\n",
       "    </tr>\n",
       "  </thead>\n",
       "  <tbody>\n",
       "    <tr>\n",
       "      <th>0</th>\n",
       "      <td>619</td>\n",
       "      <td>France</td>\n",
       "      <td>Female</td>\n",
       "      <td>42</td>\n",
       "      <td>2.0</td>\n",
       "      <td>0.00</td>\n",
       "      <td>1</td>\n",
       "      <td>1</td>\n",
       "      <td>1</td>\n",
       "      <td>101348.88</td>\n",
       "      <td>1</td>\n",
       "    </tr>\n",
       "    <tr>\n",
       "      <th>1</th>\n",
       "      <td>608</td>\n",
       "      <td>Spain</td>\n",
       "      <td>Female</td>\n",
       "      <td>41</td>\n",
       "      <td>1.0</td>\n",
       "      <td>83807.86</td>\n",
       "      <td>1</td>\n",
       "      <td>0</td>\n",
       "      <td>1</td>\n",
       "      <td>112542.58</td>\n",
       "      <td>0</td>\n",
       "    </tr>\n",
       "    <tr>\n",
       "      <th>2</th>\n",
       "      <td>502</td>\n",
       "      <td>France</td>\n",
       "      <td>Female</td>\n",
       "      <td>42</td>\n",
       "      <td>8.0</td>\n",
       "      <td>159660.80</td>\n",
       "      <td>3</td>\n",
       "      <td>1</td>\n",
       "      <td>0</td>\n",
       "      <td>113931.57</td>\n",
       "      <td>1</td>\n",
       "    </tr>\n",
       "    <tr>\n",
       "      <th>3</th>\n",
       "      <td>699</td>\n",
       "      <td>France</td>\n",
       "      <td>Female</td>\n",
       "      <td>39</td>\n",
       "      <td>1.0</td>\n",
       "      <td>0.00</td>\n",
       "      <td>2</td>\n",
       "      <td>0</td>\n",
       "      <td>0</td>\n",
       "      <td>93826.63</td>\n",
       "      <td>0</td>\n",
       "    </tr>\n",
       "    <tr>\n",
       "      <th>4</th>\n",
       "      <td>850</td>\n",
       "      <td>Spain</td>\n",
       "      <td>Female</td>\n",
       "      <td>43</td>\n",
       "      <td>2.0</td>\n",
       "      <td>125510.82</td>\n",
       "      <td>1</td>\n",
       "      <td>1</td>\n",
       "      <td>1</td>\n",
       "      <td>79084.10</td>\n",
       "      <td>0</td>\n",
       "    </tr>\n",
       "  </tbody>\n",
       "</table>\n",
       "</div>"
      ],
      "text/plain": [
       "   creditscore geography  gender  age tenure    balance numofproducts  \\\n",
       "0          619    France  Female   42    2.0       0.00             1   \n",
       "1          608     Spain  Female   41    1.0   83807.86             1   \n",
       "2          502    France  Female   42    8.0  159660.80             3   \n",
       "3          699    France  Female   39    1.0       0.00             2   \n",
       "4          850     Spain  Female   43    2.0  125510.82             1   \n",
       "\n",
       "   hascrcard  isactivemember  estimatedsalary  exited  \n",
       "0          1               1        101348.88       1  \n",
       "1          0               1        112542.58       0  \n",
       "2          1               0        113931.57       1  \n",
       "3          0               0         93826.63       0  \n",
       "4          1               1         79084.10       0  "
      ]
     },
     "execution_count": 10,
     "metadata": {},
     "output_type": "execute_result"
    }
   ],
   "source": [
    "data = data.drop(['rownumber', 'customerid', 'surname'], axis=1)\n",
    "data.head()"
   ]
  },
  {
   "cell_type": "markdown",
   "metadata": {},
   "source": [
    "Преобразуем категориальные признаки в численные. Преобразоване может выполнить техника OHE или Ordinal Encoding, но, Ordinal Encoding  не подходит для логистической регрессии, а мы данную модель планируем проверить в рамках решения поставленной задачи, поэтому остановимся на технике OHE"
   ]
  },
  {
   "cell_type": "code",
   "execution_count": 11,
   "metadata": {},
   "outputs": [
    {
     "data": {
      "text/html": [
       "<div>\n",
       "<style scoped>\n",
       "    .dataframe tbody tr th:only-of-type {\n",
       "        vertical-align: middle;\n",
       "    }\n",
       "\n",
       "    .dataframe tbody tr th {\n",
       "        vertical-align: top;\n",
       "    }\n",
       "\n",
       "    .dataframe thead th {\n",
       "        text-align: right;\n",
       "    }\n",
       "</style>\n",
       "<table border=\"1\" class=\"dataframe\">\n",
       "  <thead>\n",
       "    <tr style=\"text-align: right;\">\n",
       "      <th></th>\n",
       "      <th>creditscore</th>\n",
       "      <th>age</th>\n",
       "      <th>balance</th>\n",
       "      <th>hascrcard</th>\n",
       "      <th>isactivemember</th>\n",
       "      <th>estimatedsalary</th>\n",
       "      <th>exited</th>\n",
       "      <th>geography_Germany</th>\n",
       "      <th>geography_Spain</th>\n",
       "      <th>gender_Male</th>\n",
       "      <th>...</th>\n",
       "      <th>tenure_4.0</th>\n",
       "      <th>tenure_5.0</th>\n",
       "      <th>tenure_6.0</th>\n",
       "      <th>tenure_7.0</th>\n",
       "      <th>tenure_8.0</th>\n",
       "      <th>tenure_9.0</th>\n",
       "      <th>tenure_nan</th>\n",
       "      <th>numofproducts_2</th>\n",
       "      <th>numofproducts_3</th>\n",
       "      <th>numofproducts_4</th>\n",
       "    </tr>\n",
       "  </thead>\n",
       "  <tbody>\n",
       "    <tr>\n",
       "      <th>0</th>\n",
       "      <td>619</td>\n",
       "      <td>42</td>\n",
       "      <td>0.00</td>\n",
       "      <td>1</td>\n",
       "      <td>1</td>\n",
       "      <td>101348.88</td>\n",
       "      <td>1</td>\n",
       "      <td>0</td>\n",
       "      <td>0</td>\n",
       "      <td>0</td>\n",
       "      <td>...</td>\n",
       "      <td>0</td>\n",
       "      <td>0</td>\n",
       "      <td>0</td>\n",
       "      <td>0</td>\n",
       "      <td>0</td>\n",
       "      <td>0</td>\n",
       "      <td>0</td>\n",
       "      <td>0</td>\n",
       "      <td>0</td>\n",
       "      <td>0</td>\n",
       "    </tr>\n",
       "    <tr>\n",
       "      <th>1</th>\n",
       "      <td>608</td>\n",
       "      <td>41</td>\n",
       "      <td>83807.86</td>\n",
       "      <td>0</td>\n",
       "      <td>1</td>\n",
       "      <td>112542.58</td>\n",
       "      <td>0</td>\n",
       "      <td>0</td>\n",
       "      <td>1</td>\n",
       "      <td>0</td>\n",
       "      <td>...</td>\n",
       "      <td>0</td>\n",
       "      <td>0</td>\n",
       "      <td>0</td>\n",
       "      <td>0</td>\n",
       "      <td>0</td>\n",
       "      <td>0</td>\n",
       "      <td>0</td>\n",
       "      <td>0</td>\n",
       "      <td>0</td>\n",
       "      <td>0</td>\n",
       "    </tr>\n",
       "    <tr>\n",
       "      <th>2</th>\n",
       "      <td>502</td>\n",
       "      <td>42</td>\n",
       "      <td>159660.80</td>\n",
       "      <td>1</td>\n",
       "      <td>0</td>\n",
       "      <td>113931.57</td>\n",
       "      <td>1</td>\n",
       "      <td>0</td>\n",
       "      <td>0</td>\n",
       "      <td>0</td>\n",
       "      <td>...</td>\n",
       "      <td>0</td>\n",
       "      <td>0</td>\n",
       "      <td>0</td>\n",
       "      <td>0</td>\n",
       "      <td>1</td>\n",
       "      <td>0</td>\n",
       "      <td>0</td>\n",
       "      <td>0</td>\n",
       "      <td>1</td>\n",
       "      <td>0</td>\n",
       "    </tr>\n",
       "    <tr>\n",
       "      <th>3</th>\n",
       "      <td>699</td>\n",
       "      <td>39</td>\n",
       "      <td>0.00</td>\n",
       "      <td>0</td>\n",
       "      <td>0</td>\n",
       "      <td>93826.63</td>\n",
       "      <td>0</td>\n",
       "      <td>0</td>\n",
       "      <td>0</td>\n",
       "      <td>0</td>\n",
       "      <td>...</td>\n",
       "      <td>0</td>\n",
       "      <td>0</td>\n",
       "      <td>0</td>\n",
       "      <td>0</td>\n",
       "      <td>0</td>\n",
       "      <td>0</td>\n",
       "      <td>0</td>\n",
       "      <td>1</td>\n",
       "      <td>0</td>\n",
       "      <td>0</td>\n",
       "    </tr>\n",
       "    <tr>\n",
       "      <th>4</th>\n",
       "      <td>850</td>\n",
       "      <td>43</td>\n",
       "      <td>125510.82</td>\n",
       "      <td>1</td>\n",
       "      <td>1</td>\n",
       "      <td>79084.10</td>\n",
       "      <td>0</td>\n",
       "      <td>0</td>\n",
       "      <td>1</td>\n",
       "      <td>0</td>\n",
       "      <td>...</td>\n",
       "      <td>0</td>\n",
       "      <td>0</td>\n",
       "      <td>0</td>\n",
       "      <td>0</td>\n",
       "      <td>0</td>\n",
       "      <td>0</td>\n",
       "      <td>0</td>\n",
       "      <td>0</td>\n",
       "      <td>0</td>\n",
       "      <td>0</td>\n",
       "    </tr>\n",
       "  </tbody>\n",
       "</table>\n",
       "<p>5 rows × 24 columns</p>\n",
       "</div>"
      ],
      "text/plain": [
       "   creditscore  age    balance  hascrcard  isactivemember  estimatedsalary  \\\n",
       "0          619   42       0.00          1               1        101348.88   \n",
       "1          608   41   83807.86          0               1        112542.58   \n",
       "2          502   42  159660.80          1               0        113931.57   \n",
       "3          699   39       0.00          0               0         93826.63   \n",
       "4          850   43  125510.82          1               1         79084.10   \n",
       "\n",
       "   exited  geography_Germany  geography_Spain  gender_Male  ...  tenure_4.0  \\\n",
       "0       1                  0                0            0  ...           0   \n",
       "1       0                  0                1            0  ...           0   \n",
       "2       1                  0                0            0  ...           0   \n",
       "3       0                  0                0            0  ...           0   \n",
       "4       0                  0                1            0  ...           0   \n",
       "\n",
       "   tenure_5.0  tenure_6.0  tenure_7.0  tenure_8.0  tenure_9.0  tenure_nan  \\\n",
       "0           0           0           0           0           0           0   \n",
       "1           0           0           0           0           0           0   \n",
       "2           0           0           0           1           0           0   \n",
       "3           0           0           0           0           0           0   \n",
       "4           0           0           0           0           0           0   \n",
       "\n",
       "   numofproducts_2  numofproducts_3  numofproducts_4  \n",
       "0                0                0                0  \n",
       "1                0                0                0  \n",
       "2                0                1                0  \n",
       "3                1                0                0  \n",
       "4                0                0                0  \n",
       "\n",
       "[5 rows x 24 columns]"
      ]
     },
     "execution_count": 11,
     "metadata": {},
     "output_type": "execute_result"
    }
   ],
   "source": [
    "# используем функцию get_dummies с парамметром drop_first чтобы избежать дамми-ловушки\n",
    "data_ohe = pd.get_dummies(data, drop_first=True)\n",
    "data_ohe.head()"
   ]
  },
  {
   "cell_type": "markdown",
   "metadata": {},
   "source": [
    "Маштабирование признаков  \n",
    "В рамках поставленной задачи у нас целевой признак exited является категориальным, соответсвенно поставленная задача относится к задачам коассификации. Для решения задачи используем следующие модели:  \n",
    "- LogisticRegression\n",
    "- Decision Tree\n",
    "- Random forest  \n",
    "\n",
    "При этом, логистическая регрессия и древовидные алгоритмы, такие как Decision Tree и Random forest, не чувствительны к величине переменных. В логистической регрессии масштабирование может понадобится, если мы хотим оценить влияние какждого признака на прогноз модели, но поскольку в рамках данного исследования такая задача не стоит маcштабирование проводить не будем."
   ]
  },
  {
   "cell_type": "markdown",
   "metadata": {},
   "source": [
    "**Вывод**  \n",
    "В рамках данного этапа:  \n",
    "\n",
    "- удалены столбцы с персональными данными\n",
    "- категориальные признаки преобразованы в численные по технике OHE\n",
    "- масштабирование признаков не проводилось"
   ]
  },
  {
   "cell_type": "markdown",
   "metadata": {},
   "source": [
    "### Разделение данных на выборки"
   ]
  },
  {
   "cell_type": "code",
   "execution_count": 12,
   "metadata": {},
   "outputs": [
    {
     "name": "stdout",
     "output_type": "stream",
     "text": [
      "(6000, 23) (2000, 23) (2000, 23)\n",
      "(6000,) (2000,) (2000,)\n"
     ]
    }
   ],
   "source": [
    "# создадим переменные для признаков и целевого признака\n",
    "features = data_ohe.drop('exited', axis=1)\n",
    "target = data_ohe['exited']\n",
    "\n",
    "# разделим выборку на обучающую и тестовую\n",
    "features_learn, features_test, target_learn, target_test = train_test_split(features, target, test_size=0.2, \n",
    "                                                                            random_state=12345)\n",
    "features_train, features_valid, target_train, target_valid = train_test_split(features_learn, target_learn, \n",
    "                                                                              test_size=0.25, random_state=12345)\n",
    "\n",
    "# проверим размер выборок\n",
    "print(features_train.shape, features_valid.shape, features_test.shape)\n",
    "print(target_train.shape, target_valid.shape, target_test.shape)"
   ]
  },
  {
   "cell_type": "code",
   "execution_count": 13,
   "metadata": {},
   "outputs": [],
   "source": [
    "# добавим строчку, чтоб не появлялось предупреждение\n",
    "pd.options.mode.chained_assignment = None\n",
    "# создадим переменную со списком численных признаков\n",
    "numeric = ['creditscore', 'age', 'balance', 'estimatedsalary']\n",
    "# создадим объект для стандартизации и настроим его на обучающих данных\n",
    "scaler = StandardScaler()\n",
    "scaler.fit(features_train[numeric])\n",
    "# стандартизируем выборки функцией transform()\n",
    "features_train[numeric] = scaler.transform(features_train[numeric])\n",
    "features_valid[numeric] = scaler.transform(features_valid[numeric])\n",
    "features_test[numeric] = scaler.transform(features_test[numeric])"
   ]
  },
  {
   "cell_type": "markdown",
   "metadata": {},
   "source": [
    "**Вывод**  \n",
    "Выборки разделены в пропорции 3:1:1. Соответвтенно, на тренировочную - 60%, на валидационную - 20% и на тестовую - 20% от первоначальной выборки.  \n",
    "Проведено масштабирование по колнкам 'creditscore', 'age', 'balance', 'estimatedsalary'"
   ]
  },
  {
   "cell_type": "markdown",
   "metadata": {},
   "source": [
    "## Исследование задачи"
   ]
  },
  {
   "cell_type": "markdown",
   "metadata": {},
   "source": [
    "### Исследование баланса целевого класса"
   ]
  },
  {
   "cell_type": "code",
   "execution_count": 15,
   "metadata": {},
   "outputs": [
    {
     "data": {
      "image/png": "[encoded data removed]",
      "text/plain": [
       "<Figure size 432x288 with 1 Axes>"
      ]
     },
     "metadata": {
      "needs_background": "light"
     },
     "output_type": "display_data"
    }
   ],
   "source": [
    "data['exited'].hist(bins=3)\n",
    "plt.xlabel(\"Значение признака (0 и 1)\")\n",
    "plt.ylabel(\"Количество клиентов\")\n",
    "plt.title(\"Распределение значений целевого признака\")\n",
    "plt.show()"
   ]
  },
  {
   "cell_type": "markdown",
   "metadata": {},
   "source": [
    "**Вывод**  \n",
    "В представленных данных информация о 10 000 клиентов из которых ушли примерно 2 000. Таким образом соотношение между ушедшими и оставшимися 1 к 4, что явно свидетельствует о дисбалансе классов. Исследуемый класс (клиенты покинувшие банк) является более редким и это может отрицательно скажется на точности модели, если не учесть наличие дисбаланса.  \n",
    "Тем не менее, для начала попробуем выполнить задачу без учета дисбаланса.  \n",
    "И оценим получившийся результат с помощью F1-меры"
   ]
  },
  {
   "cell_type": "markdown",
   "metadata": {},
   "source": [
    "### Функция для исследования моделей "
   ]
  },
  {
   "cell_type": "markdown",
   "metadata": {},
   "source": [
    "Напишем функцию которая:  \n",
    "1. Обучает модель.   \n",
    "2. Получает предсказания.  \n",
    "3. Тестирует F1-мерой и возвращает результат тестирования.  \n",
    "\n",
    "В качестве парамметров функция принимаем 5 аргументов:  \n",
    "model - модель  \n",
    "features_l - набор признаков для обучения  \n",
    "target_l - целевой признак для обучения  \n",
    "fetures_t - набор признаков для проверки/тестирования  \n",
    "target_t - целевой признак для проверки/тестирования  "
   ]
  },
  {
   "cell_type": "code",
   "execution_count": 16,
   "metadata": {},
   "outputs": [],
   "source": [
    "def test_model(model, features_l, target_l, features_t, target_t):\n",
    "    model.fit(features_l, target_l)\n",
    "    predicted = model.predict(features_t)\n",
    "    f1 = f1_score(target_t, predicted)\n",
    "    return f1"
   ]
  },
  {
   "cell_type": "markdown",
   "metadata": {},
   "source": [
    "### Исследование моделей: решающее дерево, случайный лес и логистическая регрессия. "
   ]
  },
  {
   "cell_type": "markdown",
   "metadata": {},
   "source": [
    "**Создадим и исследуем модель решающее дерево**"
   ]
  },
  {
   "cell_type": "code",
   "execution_count": 17,
   "metadata": {},
   "outputs": [
    {
     "name": "stdout",
     "output_type": "stream",
     "text": [
      "1 0.0\n",
      "2 0.5393548387096775\n",
      "3 0.4791666666666667\n",
      "4 0.4896551724137931\n",
      "5 0.45338208409506403\n",
      "6 0.5313531353135313\n",
      "7 0.5201342281879194\n",
      "8 0.5328836424957841\n",
      "9 0.5567651632970451\n",
      "10 0.5116279069767442\n",
      "11 0.5104022191400831\n",
      "12 0.5076282940360609\n",
      "13 0.4937586685159501\n",
      "14 0.477088948787062\n",
      "15 0.4782034346103038\n"
     ]
    }
   ],
   "source": [
    "for depth in range(1, 16):\n",
    "    model = DecisionTreeClassifier(random_state=12345, max_depth=depth)\n",
    "    print(depth, test_model(model, features_train, target_train, features_valid, target_valid))"
   ]
  },
  {
   "cell_type": "markdown",
   "metadata": {},
   "source": [
    "Наилучшее значение по метреке F1-мера (0.557), модель решающее дерево показывает с парамметром max_depth=9  \n",
    "Посчитаем для данной модели метрику AUC-ROC"
   ]
  },
  {
   "cell_type": "code",
   "execution_count": 18,
   "metadata": {},
   "outputs": [
    {
     "data": {
      "text/plain": [
       "0.7850835851404901"
      ]
     },
     "execution_count": 18,
     "metadata": {},
     "output_type": "execute_result"
    }
   ],
   "source": [
    "model = DecisionTreeClassifier(random_state=12345, max_depth=9)\n",
    "model.fit(features_train, target_train)\n",
    "# посчитаем вероятность классов\n",
    "probabilities_valid = model.predict_proba(features_valid)\n",
    "# выделим вероятности положительного класса\n",
    "probabilities_one_valid = probabilities_valid[:, 1]\n",
    "# посчитаем метрику AUC-ROC\n",
    "roc_auc_score(target_valid, probabilities_one_valid)"
   ]
  },
  {
   "cell_type": "markdown",
   "metadata": {},
   "source": [
    "**Создадим и исследуем модель случайный лес**"
   ]
  },
  {
   "cell_type": "code",
   "execution_count": 19,
   "metadata": {},
   "outputs": [
    {
     "name": "stdout",
     "output_type": "stream",
     "text": [
      "RandomForestClassifier(max_depth=15, n_estimators=30, random_state=12345)\n"
     ]
    },
    {
     "data": {
      "text/plain": [
       "0.5764331210191082"
      ]
     },
     "execution_count": 19,
     "metadata": {},
     "output_type": "execute_result"
    }
   ],
   "source": [
    "best_model = None\n",
    "best_result = 0\n",
    "for est in range(10, 101, 10):\n",
    "    for depth in range(1, 16):\n",
    "        model = RandomForestClassifier(random_state=12345, n_estimators=est, max_depth=depth)\n",
    "        model.fit(features_train, target_train)\n",
    "        predictions = model.predict(features_valid)\n",
    "        result = f1_score(target_valid, predictions)\n",
    "        if result > best_result:\n",
    "            best_model = model\n",
    "            best_result = result\n",
    "\n",
    "print(best_model) \n",
    "best_result"
   ]
  },
  {
   "cell_type": "markdown",
   "metadata": {},
   "source": [
    "Наилучшее значение по метреке F1-мера (0.576), модель случайный лес показывает с парамметрами max_depth=15 и n_estimators=30.  \n",
    "Посчитаем для данной модели метрику AUC-ROC"
   ]
  },
  {
   "cell_type": "code",
   "execution_count": 20,
   "metadata": {},
   "outputs": [
    {
     "data": {
      "text/plain": [
       "0.8488155658945287"
      ]
     },
     "execution_count": 20,
     "metadata": {},
     "output_type": "execute_result"
    }
   ],
   "source": [
    "model = RandomForestClassifier(max_depth=15, n_estimators=30, random_state=12345)\n",
    "model.fit(features_train, target_train)\n",
    "# посчитаем вероятность классов\n",
    "probabilities_valid = model.predict_proba(features_valid)\n",
    "# выделим вероятности положительного класса\n",
    "probabilities_one_valid = probabilities_valid[:, 1]\n",
    "# посчитаем метрику AUC-ROC\n",
    "roc_auc_score(target_valid, probabilities_one_valid)"
   ]
  },
  {
   "cell_type": "markdown",
   "metadata": {},
   "source": [
    "**Создадим и проверим модель логистическая регрессия**"
   ]
  },
  {
   "cell_type": "code",
   "execution_count": 21,
   "metadata": {},
   "outputs": [
    {
     "data": {
      "text/plain": [
       "0.5008291873963515"
      ]
     },
     "execution_count": 21,
     "metadata": {},
     "output_type": "execute_result"
    }
   ],
   "source": [
    "model = LogisticRegression(random_state=12345)\n",
    "test_model(model, features_train, target_train, features_valid, target_valid)"
   ]
  },
  {
   "cell_type": "markdown",
   "metadata": {},
   "source": [
    "Посчитаем для данной модели метрику AUC-ROC"
   ]
  },
  {
   "cell_type": "code",
   "execution_count": 22,
   "metadata": {},
   "outputs": [
    {
     "data": {
      "text/plain": [
       "0.8324164426761869"
      ]
     },
     "execution_count": 22,
     "metadata": {},
     "output_type": "execute_result"
    }
   ],
   "source": [
    "# посчитаем вероятность классов\n",
    "probabilities_valid = model.predict_proba(features_valid)\n",
    "# выделим вероятности положительного класса\n",
    "probabilities_one_valid = probabilities_valid[:, 1]\n",
    "# посчитаем метрику AUC-ROC\n",
    "roc_auc_score(target_valid, probabilities_one_valid)"
   ]
  },
  {
   "cell_type": "markdown",
   "metadata": {},
   "source": [
    " **Вывод**  \n",
    "Наихудщий результат по показателю F1-мера у модели логическая регрессия (0.5). Наилучший у модели случайный лес (0.576). Но это все равно меньше минимально требуемого уровня в 0.59  \n",
    "Для повышения качества моделей устраним дисбаланс.  \n",
    "Метрика AUC-ROC хуже всего у модели решающий лес (0.785). Самая лучшая (0.849) также у модели случайный лес."
   ]
  },
  {
   "cell_type": "markdown",
   "metadata": {},
   "source": [
    "## Борьба с дисбалансом"
   ]
  },
  {
   "cell_type": "markdown",
   "metadata": {},
   "source": [
    "### Балансирование классов с помощью парамметра class_weight='balanced'"
   ]
  },
  {
   "cell_type": "markdown",
   "metadata": {},
   "source": [
    "Продублируем пункт 2.2. добавив в модели парамметр `class_weight='balanced'`"
   ]
  },
  {
   "cell_type": "code",
   "execution_count": 23,
   "metadata": {},
   "outputs": [
    {
     "name": "stdout",
     "output_type": "stream",
     "text": [
      "Значение F1-меры сбалансированной модели:\n",
      "решающие дерево - 0.48994974874371855\n",
      "случайный лес - 0.5616883116883117\n",
      "логистическая регрессия - 0.5409047160731472\n"
     ]
    }
   ],
   "source": [
    "print('Значение F1-меры сбалансированной модели:')\n",
    "# модель решающее дерево\n",
    "model = DecisionTreeClassifier(random_state=12345, class_weight='balanced')\n",
    "print('решающие дерево -', test_model(model, features_train, target_train, features_valid, target_valid))\n",
    "# модель случайный лес\n",
    "model = RandomForestClassifier(random_state=12345, class_weight='balanced')           \n",
    "print('случайный лес -', test_model(model, features_train, target_train, features_valid, target_valid))\n",
    "# модель логистическая регрессия\n",
    "model = LogisticRegression(random_state=12345, class_weight='balanced')\n",
    "print('логистическая регрессия -', test_model(model, features_train, target_train, features_valid, target_valid))"
   ]
  },
  {
   "cell_type": "markdown",
   "metadata": {},
   "source": [
    "**Проверим модель решающее дерево**"
   ]
  },
  {
   "cell_type": "code",
   "execution_count": 24,
   "metadata": {},
   "outputs": [
    {
     "name": "stdout",
     "output_type": "stream",
     "text": [
      "1 0.4750733137829912\n",
      "2 0.5161290322580645\n",
      "3 0.5402425578831312\n",
      "4 0.5359999999999999\n",
      "5 0.5515370705244121\n",
      "6 0.5572519083969466\n",
      "7 0.5380811078140455\n",
      "8 0.5473684210526316\n",
      "9 0.5009671179883947\n",
      "10 0.4959514170040486\n",
      "11 0.5015673981191223\n",
      "12 0.49779735682819376\n",
      "13 0.4919540229885057\n",
      "14 0.4872389791183295\n",
      "15 0.49110320284697506\n"
     ]
    }
   ],
   "source": [
    "for depth in range(1, 16):\n",
    "    model = DecisionTreeClassifier(random_state=12345, max_depth=depth, class_weight='balanced')\n",
    "    print(depth, test_model(model, features_train, target_train, features_valid, target_valid))"
   ]
  },
  {
   "cell_type": "markdown",
   "metadata": {},
   "source": [
    "Наилучшее значение по метреке F1-мера (0.557), модель решающее дерево показывает с парамметром max_depth=6  \n",
    "Посчитаем для данной модели метрику AUC-ROC"
   ]
  },
  {
   "cell_type": "code",
   "execution_count": 25,
   "metadata": {},
   "outputs": [
    {
     "data": {
      "text/plain": [
       "0.8214423662296004"
      ]
     },
     "execution_count": 25,
     "metadata": {},
     "output_type": "execute_result"
    }
   ],
   "source": [
    "model = DecisionTreeClassifier(random_state=12345, max_depth=6, class_weight='balanced')\n",
    "model.fit(features_train, target_train)\n",
    "# посчитаем вероятность классов\n",
    "probabilities_valid = model.predict_proba(features_valid)\n",
    "# выделим вероятности положительного класса\n",
    "probabilities_one_valid = probabilities_valid[:, 1]\n",
    "# посчитаем метрику AUC-ROC\n",
    "roc_auc_score(target_valid, probabilities_one_valid)"
   ]
  },
  {
   "cell_type": "markdown",
   "metadata": {},
   "source": [
    "Метрика F1-мера не изменилась (правда изменилась глубина дерева), а метрика AUC-ROC улучшилась."
   ]
  },
  {
   "cell_type": "markdown",
   "metadata": {},
   "source": [
    "**Проверим модель случайный лес**"
   ]
  },
  {
   "cell_type": "code",
   "execution_count": 26,
   "metadata": {},
   "outputs": [
    {
     "name": "stdout",
     "output_type": "stream",
     "text": [
      "RandomForestClassifier(class_weight='balanced', max_depth=9, n_estimators=40,\n",
      "                       random_state=12345)\n"
     ]
    },
    {
     "data": {
      "text/plain": [
       "0.6029579067121729"
      ]
     },
     "execution_count": 26,
     "metadata": {},
     "output_type": "execute_result"
    }
   ],
   "source": [
    "best_model = None\n",
    "best_result = 0\n",
    "for est in range(10, 101, 10):\n",
    "    for depth in range(1, 16):\n",
    "        model = RandomForestClassifier(random_state=12345, \n",
    "                                       n_estimators=est, \n",
    "                                       max_depth=depth, \n",
    "                                       class_weight='balanced'\n",
    "                                      )\n",
    "        model.fit(features_train, target_train)\n",
    "        predictions = model.predict(features_valid)\n",
    "        result = f1_score(target_valid, predictions)\n",
    "        if result > best_result:\n",
    "            best_model = model\n",
    "            best_result = result\n",
    "\n",
    "print(best_model) \n",
    "best_result"
   ]
  },
  {
   "cell_type": "markdown",
   "metadata": {},
   "source": [
    "Наилучшее значение по метреке F1-мера (0.6), модель случайный лес показывает с парамметрами max_depth=9 и n_estimators=40.  \n",
    "Посчитаем для данной модели метрику AUC-ROC"
   ]
  },
  {
   "cell_type": "code",
   "execution_count": 27,
   "metadata": {},
   "outputs": [
    {
     "data": {
      "text/plain": [
       "0.8503589940853797"
      ]
     },
     "execution_count": 27,
     "metadata": {},
     "output_type": "execute_result"
    }
   ],
   "source": [
    "model = RandomForestClassifier(class_weight='balanced', max_depth=9, n_estimators=40, random_state=123455)\n",
    "model.fit(features_train, target_train)\n",
    "# посчитаем вероятность классов\n",
    "probabilities_valid = model.predict_proba(features_valid)\n",
    "# выделим вероятности положительного класса\n",
    "probabilities_one_valid = probabilities_valid[:, 1]\n",
    "# посчитаем метрику AUC-ROC\n",
    "roc_auc_score(target_valid, probabilities_one_valid)"
   ]
  },
  {
   "cell_type": "markdown",
   "metadata": {},
   "source": [
    "Улучшились, как метрика F1-мера так и метрика AUC-ROC "
   ]
  },
  {
   "cell_type": "markdown",
   "metadata": {},
   "source": [
    "**Проверим модель логистическая регрессия**"
   ]
  },
  {
   "cell_type": "raw",
   "metadata": {},
   "source": [
    "model = LogisticRegression(random_state=12345)\n",
    "test_model(model, features_train, target_train, features_valid, target_valid)"
   ]
  },
  {
   "cell_type": "code",
   "execution_count": 28,
   "metadata": {},
   "outputs": [
    {
     "data": {
      "text/plain": [
       "0.5409047160731472"
      ]
     },
     "execution_count": 28,
     "metadata": {},
     "output_type": "execute_result"
    }
   ],
   "source": [
    "model = LogisticRegression(random_state=12345, class_weight='balanced')\n",
    "test_model(model, features_train, target_train, features_valid, target_valid)"
   ]
  },
  {
   "cell_type": "markdown",
   "metadata": {},
   "source": [
    "Посчитаем для данной модели метрику AUC-ROC"
   ]
  },
  {
   "cell_type": "code",
   "execution_count": 29,
   "metadata": {},
   "outputs": [
    {
     "data": {
      "text/plain": [
       "0.8325467836768561"
      ]
     },
     "execution_count": 29,
     "metadata": {},
     "output_type": "execute_result"
    }
   ],
   "source": [
    "# посчитаем вероятность классов\n",
    "probabilities_valid = model.predict_proba(features_valid)\n",
    "# выделим вероятности положительного класса\n",
    "probabilities_one_valid = probabilities_valid[:, 1]\n",
    "# посчитаем метрику AUC-ROC\n",
    "roc_auc_score(target_valid, probabilities_one_valid)"
   ]
  },
  {
   "cell_type": "markdown",
   "metadata": {},
   "source": [
    "Также улучшились обе метрики"
   ]
  },
  {
   "cell_type": "markdown",
   "metadata": {},
   "source": [
    "**Вывод**  \n",
    "Метрики моделей существенно улучшилось. Лучшая модель по прежнему модель - случайный лес.Значение F1-меры -0.6. Метрика AUC-ROC - 0.85"
   ]
  },
  {
   "cell_type": "markdown",
   "metadata": {},
   "source": [
    "### Увеличие в тренировочной выборке количества положительных ответов техникой upsampling  "
   ]
  },
  {
   "cell_type": "markdown",
   "metadata": {},
   "source": [
    "В данном случае, поставлена задача обучить модель правильно прогнозировать уход клиентов из банка. Как было выявлено ранее, количество ушедших клиентов соотносится с оставшимися в пропорции 1:4, то есть количество ушедших клиентов является редким классом, соответственно при обучении модель уделяет ему меньше внимания. Для устранения данной проблемы увеличим в тренировочной выборке количество положительных ответов техникой upsampling.  \n"
   ]
  },
  {
   "cell_type": "markdown",
   "metadata": {},
   "source": [
    "#### Техника upsampling"
   ]
  },
  {
   "cell_type": "markdown",
   "metadata": {},
   "source": [
    "Сформируем две новые переменные features_upsampled и target_upsampled для обучения моделей в которых увеличим количество положительных объектво в 4 раза, чтобы их количество было сопоставимо с количеством отрицательных объектов, сбалансировав таким образом оба класса."
   ]
  },
  {
   "cell_type": "code",
   "execution_count": 30,
   "metadata": {},
   "outputs": [],
   "source": [
    "# hазделиv тренировочную выборку на отрицательные и положительные объекты\n",
    "features_zeros = features_train[target_train == 0]\n",
    "features_ones = features_train[target_train == 1]\n",
    "target_zeros = target_train[target_train == 0]\n",
    "target_ones = target_train[target_train == 1]\n",
    "\n",
    "# создадим новые переменные в которых увеличем количество положительных объектов в 4 раза \n",
    "features_upsampled = pd.concat([features_zeros] + [features_ones] * 4)\n",
    "target_upsampled = pd.concat([target_zeros] + [target_ones] * 4)\n",
    "\n",
    "# перемешаем данные функцией shuffle\n",
    "features_upsampled, target_upsampled = shuffle(features_upsampled, target_upsampled, random_state=12345)\n",
    "    "
   ]
  },
  {
   "cell_type": "markdown",
   "metadata": {},
   "source": [
    "#### Обучение и тестирование моделей на выборке, обработанной по технике upsampling  "
   ]
  },
  {
   "cell_type": "code",
   "execution_count": 31,
   "metadata": {},
   "outputs": [
    {
     "name": "stdout",
     "output_type": "stream",
     "text": [
      "Значение F1-меры сбалансированной модели на увеличеной выборке:\n",
      "решающие дерево - 0.48811013767209016\n",
      "случайный лес - 0.5892351274787535\n",
      "логистическая регрессия - 0.5414258188824663\n"
     ]
    }
   ],
   "source": [
    "print('Значение F1-меры сбалансированной модели на увеличеной выборке:')\n",
    "# модель решающее дерево\n",
    "model = DecisionTreeClassifier(random_state=12345, class_weight='balanced')\n",
    "print('решающие дерево -', test_model(model, features_upsampled, target_upsampled, features_valid, target_valid))\n",
    "# модель случайный лес\n",
    "model = RandomForestClassifier(random_state=12345, class_weight='balanced')           \n",
    "print('случайный лес -', test_model(model, features_upsampled, target_upsampled, features_valid, target_valid))\n",
    "# модель логистическая регрессия\n",
    "model = LogisticRegression(random_state=12345, class_weight='balanced')\n",
    "print('логистическая регрессия -', test_model(model, features_upsampled, target_upsampled, features_valid, \n",
    "                                                 target_valid))"
   ]
  },
  {
   "cell_type": "markdown",
   "metadata": {},
   "source": [
    "**Проверим модель решающее дерево**"
   ]
  },
  {
   "cell_type": "code",
   "execution_count": 32,
   "metadata": {},
   "outputs": [
    {
     "name": "stdout",
     "output_type": "stream",
     "text": [
      "1 0.4750733137829912\n",
      "2 0.5161290322580645\n",
      "3 0.5402425578831312\n",
      "4 0.5359999999999999\n",
      "5 0.5515370705244121\n",
      "6 0.5572519083969466\n",
      "7 0.5366336633663367\n",
      "8 0.5425867507886436\n",
      "9 0.5009596928982726\n",
      "10 0.49094567404426553\n",
      "11 0.5041666666666667\n",
      "12 0.4895718990120747\n",
      "13 0.49090909090909085\n",
      "14 0.47586206896551725\n",
      "15 0.4805653710247349\n"
     ]
    }
   ],
   "source": [
    "for depth in range(1, 16):\n",
    "    model = DecisionTreeClassifier(random_state=12345, max_depth=depth)\n",
    "    print(depth, test_model(model, features_upsampled, target_upsampled, features_valid, target_valid))"
   ]
  },
  {
   "cell_type": "markdown",
   "metadata": {},
   "source": [
    "Как и с параметром class_weight='balanced', наилучшее значение по метреке F1-мера (0.557), модель решающее дерево показывает с парамметром max_depth=6  \n",
    "Посчитаем для данной модели метрику AUC-ROC"
   ]
  },
  {
   "cell_type": "code",
   "execution_count": 33,
   "metadata": {},
   "outputs": [
    {
     "data": {
      "text/plain": [
       "0.8214423662296004"
      ]
     },
     "execution_count": 33,
     "metadata": {},
     "output_type": "execute_result"
    }
   ],
   "source": [
    "model = DecisionTreeClassifier(random_state=12345, max_depth=6)\n",
    "model.fit(features_upsampled, target_upsampled)\n",
    "# посчитаем вероятность классов\n",
    "probabilities_valid = model.predict_proba(features_valid)\n",
    "# выделим вероятности положительного класса\n",
    "probabilities_one_valid = probabilities_valid[:, 1]\n",
    "# посчитаем метрику AUC-ROC\n",
    "roc_auc_score(target_valid, probabilities_one_valid)"
   ]
  },
  {
   "cell_type": "markdown",
   "metadata": {},
   "source": [
    "и метрика AUC-ROC не изменилась"
   ]
  },
  {
   "cell_type": "markdown",
   "metadata": {},
   "source": [
    "**Проверим модель случайный лес**"
   ]
  },
  {
   "cell_type": "code",
   "execution_count": 34,
   "metadata": {},
   "outputs": [
    {
     "name": "stdout",
     "output_type": "stream",
     "text": [
      "RandomForestClassifier(max_depth=15, n_estimators=30, random_state=12345)\n"
     ]
    },
    {
     "data": {
      "text/plain": [
       "0.5974683544303797"
      ]
     },
     "execution_count": 34,
     "metadata": {},
     "output_type": "execute_result"
    }
   ],
   "source": [
    "best_model = None\n",
    "best_result = 0\n",
    "for est in range(10, 101, 10):\n",
    "    for depth in range(1, 16):\n",
    "        model = RandomForestClassifier(random_state=12345, n_estimators=est, max_depth=depth)\n",
    "        model.fit(features_upsampled, target_upsampled)\n",
    "        predictions = model.predict(features_valid)\n",
    "        result = f1_score(target_valid, predictions)\n",
    "        if result > best_result:\n",
    "            best_model = model\n",
    "            best_result = result\n",
    "\n",
    "print(best_model) \n",
    "best_result"
   ]
  },
  {
   "cell_type": "markdown",
   "metadata": {},
   "source": [
    "Значение F1- меры лучше чем до устранения дисбаланса, но хуже чем при устранении дисбаланса параметром class_weight='balanced'. оптимальные гиперпарамметры также изменились.    \n",
    "Посчитаем для данной модели метрику AUC-ROC"
   ]
  },
  {
   "cell_type": "code",
   "execution_count": 35,
   "metadata": {},
   "outputs": [
    {
     "data": {
      "text/plain": [
       "0.8473547929723948"
      ]
     },
     "execution_count": 35,
     "metadata": {},
     "output_type": "execute_result"
    }
   ],
   "source": [
    "model = RandomForestClassifier(max_depth=15, n_estimators=30, random_state=123455)\n",
    "model.fit(features_upsampled, target_upsampled)\n",
    "# посчитаем вероятность классов\n",
    "probabilities_valid = model.predict_proba(features_valid)\n",
    "# выделим вероятности положительного класса\n",
    "probabilities_one_valid = probabilities_valid[:, 1]\n",
    "# посчитаем метрику AUC-ROC\n",
    "roc_auc_score(target_valid, probabilities_one_valid)"
   ]
  },
  {
   "cell_type": "markdown",
   "metadata": {},
   "source": [
    "Метрика AUC-ROC  также улучшилась по сравнению со значением до устранения дисбаланса, но не так хорошо, как при устранении дисбаланса парамметром class_weight='balanced'."
   ]
  },
  {
   "cell_type": "markdown",
   "metadata": {},
   "source": [
    "**Проверим модель логистическая регрессия**"
   ]
  },
  {
   "cell_type": "code",
   "execution_count": 36,
   "metadata": {},
   "outputs": [
    {
     "name": "stdout",
     "output_type": "stream",
     "text": [
      "логистическая регрессия - 0.5411089866156789\n"
     ]
    }
   ],
   "source": [
    "model = LogisticRegression(random_state=12345)\n",
    "print('логистическая регрессия -', test_model(model, features_upsampled, target_upsampled, features_valid, \n",
    "                                                 target_valid))"
   ]
  },
  {
   "cell_type": "markdown",
   "metadata": {},
   "source": [
    "Значение F1- меры лучше чем до устранения дисбаланса, но чуть хуже чем при устранении дисбаланса параметром class_weight='balanced'.  \n",
    "Посчитаем для данной модели метрику AUC-ROC"
   ]
  },
  {
   "cell_type": "code",
   "execution_count": 37,
   "metadata": {},
   "outputs": [
    {
     "data": {
      "text/plain": [
       "0.8325912903600113"
      ]
     },
     "execution_count": 37,
     "metadata": {},
     "output_type": "execute_result"
    }
   ],
   "source": [
    "# посчитаем вероятность классов\n",
    "probabilities_valid = model.predict_proba(features_valid)\n",
    "# выделим вероятности положительного класса\n",
    "probabilities_one_valid = probabilities_valid[:, 1]\n",
    "# посчитаем метрику AUC-ROC\n",
    "roc_auc_score(target_valid, probabilities_one_valid)"
   ]
  },
  {
   "cell_type": "markdown",
   "metadata": {},
   "source": [
    "А метрика AUC-ROC незначительно, но все же чуть лучше чем с параметром class_weight='balanced'"
   ]
  },
  {
   "cell_type": "markdown",
   "metadata": {},
   "source": [
    "**Вывод**  \n",
    "Наилучшее значение F1-меры (0.6) показала модели решающее дерево с параметрами:     \n",
    "\n",
    "RandomForestClassifier(class_weight='balanced', max_depth=9, n_estimators=40, random_state=12345)\n"
   ]
  },
  {
   "cell_type": "markdown",
   "metadata": {},
   "source": [
    " ### ROC-кривая, выбранной модели, и метрика AUC-ROC"
   ]
  },
  {
   "cell_type": "markdown",
   "metadata": {},
   "source": [
    "Для дополнительной оценки качества выбранной модели и построим ROC-кривую"
   ]
  },
  {
   "cell_type": "code",
   "execution_count": 44,
   "metadata": {},
   "outputs": [
    {
     "data": {
      "image/png": "[encoded data removed]",
      "text/plain": [
       "<Figure size 1080x432 with 1 Axes>"
      ]
     },
     "metadata": {
      "needs_background": "light"
     },
     "output_type": "display_data"
    }
   ],
   "source": [
    "# сфирмируем модель случайный лес с выбранными парамметрами\n",
    "model = RandomForestClassifier(random_state=12345, class_weight='balanced', max_depth=9, n_estimators=40)\n",
    "# обучим модель на увеличенной выборке\n",
    "model.fit(features_train, target_train)\n",
    "# посчитаем вероятность классов\n",
    "probabilities_valid = model.predict_proba(features_valid)\n",
    "# выделим вероятности положительного класса\n",
    "probabilities_one_valid = probabilities_valid[:, 1]\n",
    "\n",
    "# с помощью функцмм roc_curve получим: значения FPR, значения TPR и рассмотренные пороги.\n",
    "fpr, tpr, thresholds = roc_curve(target_valid, probabilities_one_valid) # < напишите код здесь >\n",
    "\n",
    "# построим график\n",
    "plt.figure(figsize=(15, 6))\n",
    "plt.plot(fpr, tpr, linestyle='--')\n",
    "# для сравнения добавим график ROC-кривой случайной модели (выглядит как прямая)\n",
    "plt.plot([0, 1], [0, 1], linestyle='--')\n",
    "# установим границы осей от 0 до 1 >\n",
    "plt.xlim(0, 1)\n",
    "plt.ylim(0, 1)\n",
    "# подпишем оси x и y соответствено как \"False Positive Rate\" и \"True Positive Rate\" >\n",
    "plt.xlabel(\"False Positive Rate\")\n",
    "plt.ylabel(\"True Positive Rate\")\n",
    "# добавим к графику заголовок \"ROC-кривая\" \n",
    "plt.title(\"ROC-кривая\")\n",
    "plt.show()"
   ]
  },
  {
   "cell_type": "markdown",
   "metadata": {},
   "source": [
    "Для оценки качества модели посчитаем площадь под ROC-кривой — AUC-ROC (от англ. Area Under Curve ROC, «площадь под ROC-кривой») и сравним ее с AUC-ROC случайной модели которая, как это видно на графике, делит фигуру площадью равной 1 пополам, соответственно AUC-ROC случайной модели равна 0.5"
   ]
  },
  {
   "cell_type": "code",
   "execution_count": 45,
   "metadata": {},
   "outputs": [
    {
     "data": {
      "text/plain": [
       "0.853717659139209"
      ]
     },
     "execution_count": 45,
     "metadata": {},
     "output_type": "execute_result"
    }
   ],
   "source": [
    "roc_auc_score(target_valid, probabilities_one_valid)"
   ]
  },
  {
   "cell_type": "markdown",
   "metadata": {},
   "source": [
    "**Вывод**  \n",
    "Метрика AUC-ROC выбранной модели (0.846) существенно выше показателя 0.5 случайной модели. Что говорит об адекватности модели и высоком качестве.\n",
    "Метрика AUC-ROC также существенно выше метрики F1-мера (0.598)"
   ]
  },
  {
   "cell_type": "markdown",
   "metadata": {},
   "source": [
    "## Тестирование модели"
   ]
  },
  {
   "cell_type": "markdown",
   "metadata": {},
   "source": [
    "Проверим модель случайный лес с выбранными парамметрами на тестовой выборке с помощью метрики F1-мера"
   ]
  },
  {
   "cell_type": "code",
   "execution_count": 46,
   "metadata": {},
   "outputs": [
    {
     "data": {
      "text/plain": [
       "0.6574468085106384"
      ]
     },
     "execution_count": 46,
     "metadata": {},
     "output_type": "execute_result"
    }
   ],
   "source": [
    "model = RandomForestClassifier(random_state=12345, class_weight='balanced', max_depth=9, n_estimators=40)\n",
    "test_model(model, features_train, target_train, features_test, target_test)"
   ]
  },
  {
   "cell_type": "markdown",
   "metadata": {},
   "source": [
    "Проверим полноту модели (метрика recall - выявляет, какую долю положительных среди всех ответов выделила модель)"
   ]
  },
  {
   "cell_type": "code",
   "execution_count": 47,
   "metadata": {},
   "outputs": [
    {
     "data": {
      "text/plain": [
       "0.7236533957845434"
      ]
     },
     "execution_count": 47,
     "metadata": {},
     "output_type": "execute_result"
    }
   ],
   "source": [
    "model.fit(features_train, target_train)\n",
    "predicted = model.predict(features_test)\n",
    "recall_score(target_test, predicted)"
   ]
  },
  {
   "cell_type": "markdown",
   "metadata": {},
   "source": [
    "Модель выявляет относительно высокую долю (0.72) клиентов на отток."
   ]
  },
  {
   "cell_type": "markdown",
   "metadata": {},
   "source": [
    "Для проверки адекватности модели, сравним ее с константной моделью "
   ]
  },
  {
   "cell_type": "code",
   "execution_count": 48,
   "metadata": {},
   "outputs": [
    {
     "name": "stdout",
     "output_type": "stream",
     "text": [
      "0.3518747424804285\n"
     ]
    }
   ],
   "source": [
    "dummy_model = DummyClassifier(strategy='constant', constant=1)\n",
    "dummy_model.fit(features_train, target_train)\n",
    "print(f1_score(dummy_model.predict(features_test), target_test))"
   ]
  },
  {
   "cell_type": "markdown",
   "metadata": {},
   "source": [
    "F1-мера константной модели на тестовой выборке существенно хуже, чем показатель выбранной нами модели, что свидетельствует об адекватности выбранной модели и ее высоком качестве.  \n",
    "Дополнительно проверим выбранную модель метрикой AUC-ROC"
   ]
  },
  {
   "cell_type": "code",
   "execution_count": 49,
   "metadata": {},
   "outputs": [
    {
     "data": {
      "text/plain": [
       "0.8665566921900754"
      ]
     },
     "execution_count": 49,
     "metadata": {},
     "output_type": "execute_result"
    }
   ],
   "source": [
    "# посчитаем вероятность классов\n",
    "probabilities_test = model.predict_proba(features_test)\n",
    "# выделим вероятности положительного класса\n",
    "probabilities_one_test = probabilities_test[:, 1]\n",
    "# посчитаем метрику AUC-ROC\n",
    "roc_auc_score(target_test, probabilities_one_test)"
   ]
  },
  {
   "cell_type": "markdown",
   "metadata": {},
   "source": [
    "**Вывод**  \n",
    "На тестовой выборке показатель F1-меры модели случайный лес (0.657) оказался существенно выше чем на валидационной.  \n",
    "Значение метрики AUC-ROC на тестовой выборке (0.867) что также лучше данного показателя на валидационной выборке."
   ]
  },
  {
   "cell_type": "markdown",
   "metadata": {},
   "source": [
    "## Итоговый вывод"
   ]
  },
  {
   "cell_type": "markdown",
   "metadata": {},
   "source": [
    "**Подготовка данных**  \n",
    "В оамках данного этапа:  \n",
    "- категориальные признаки были преобразованы в численные по технике OHE  \n",
    "- проведено масштабирование числовых признаковмасштабирование признаков   \n",
    "\n",
    "**Иследование задачи**  \n",
    "Поставленная задача относится к задачаи классификации, для ее решения были опробованы модели:  \n",
    "- Decision Tree  \n",
    "- Random forest  \n",
    "- LogisticRegression  \n",
    "\n",
    "**Борьба с дисбалансом**  \n",
    "В целевом признаке был выявлен дисбаланс, количество ушедших клиентов к оставшимся относится в соотношении 1:4.  \n",
    "Для борьбы с дисбалансом:  \n",
    "- в моделях был использован парамметр class_weight='balanced'  \n",
    "- в обучающей выборке значения положительного класса были увеличины до количества, премерно равного количеству значений отрицательного класса, методом upsampling  \n",
    "\n",
    "По итогам проделанной работы наилучшие показатели оказались у модель случайный лес. Путем перебора наиболее значимых парамктров выяснилось, что наилучшие показатели модель обеспечивает с парамметрами max_depth=9 и n_estimators=40, дисбаланс устранен с помощью парамметра class_weight='balanced'.   \n",
    "При данных параметрах значение F1-меры составляет 0.6  \n",
    "Дополнительно была проверена метрика AUC-ROC, показавшая значение - 0.85 что существенно выше показателя 0.5 случайной модели. Данный уровегнь свидетельствет об адекватности модели и подтверждает ее качество.  \n",
    "\n",
    "**Тестирование модели**  \n",
    "На тестовой выборке модель также обеспечила высокие показатели:  \n",
    "по метрике  F1- мера - 0.657  \n",
    "по метрике AUC-ROC - 0.867  \n",
    "по метрике recall - 0.72 "
   ]
  },
  {
   "cell_type": "code",
   "execution_count": null,
   "metadata": {},
   "outputs": [],
   "source": []
  }
 ],
 "metadata": {
  "ExecuteTimeLog": [
   {
    "duration": 203,
    "start_time": "2023-06-15T19:48:03.915Z"
   },
   {
    "duration": 624,
    "start_time": "2023-06-15T19:48:10.150Z"
   },
   {
    "duration": 404,
    "start_time": "2023-06-15T19:48:11.022Z"
   },
   {
    "duration": 59,
    "start_time": "2023-06-15T19:49:07.928Z"
   },
   {
    "duration": 126,
    "start_time": "2023-06-15T19:51:47.112Z"
   },
   {
    "duration": 106,
    "start_time": "2023-06-15T19:52:44.621Z"
   },
   {
    "duration": 65,
    "start_time": "2023-06-15T19:53:04.456Z"
   },
   {
    "duration": 40,
    "start_time": "2023-06-15T19:54:28.043Z"
   },
   {
    "duration": 156,
    "start_time": "2023-06-15T19:56:04.565Z"
   },
   {
    "duration": 20,
    "start_time": "2023-06-15T19:56:19.452Z"
   },
   {
    "duration": 15,
    "start_time": "2023-06-15T19:57:45.535Z"
   },
   {
    "duration": 27,
    "start_time": "2023-06-15T19:58:00.934Z"
   },
   {
    "duration": 47,
    "start_time": "2023-06-15T20:00:06.604Z"
   },
   {
    "duration": 53,
    "start_time": "2023-06-16T12:40:17.436Z"
   },
   {
    "duration": 429,
    "start_time": "2023-06-16T12:40:23.037Z"
   },
   {
    "duration": 97,
    "start_time": "2023-06-16T12:40:24.261Z"
   },
   {
    "duration": 13,
    "start_time": "2023-06-16T12:43:41.192Z"
   },
   {
    "duration": 24,
    "start_time": "2023-06-16T12:46:31.045Z"
   },
   {
    "duration": 467,
    "start_time": "2023-06-16T12:50:27.329Z"
   },
   {
    "duration": 66,
    "start_time": "2023-06-16T12:50:46.899Z"
   },
   {
    "duration": 2669,
    "start_time": "2023-06-16T12:51:21.991Z"
   },
   {
    "duration": 2885,
    "start_time": "2023-06-16T12:51:44.074Z"
   },
   {
    "duration": 3431,
    "start_time": "2023-06-16T12:51:59.724Z"
   },
   {
    "duration": 1440,
    "start_time": "2023-06-16T12:53:37.152Z"
   },
   {
    "duration": 2198,
    "start_time": "2023-06-16T12:54:05.963Z"
   },
   {
    "duration": 17464,
    "start_time": "2023-06-16T12:55:12.208Z"
   },
   {
    "duration": 4503,
    "start_time": "2023-06-16T12:55:49.222Z"
   },
   {
    "duration": 39,
    "start_time": "2023-06-16T13:48:50.141Z"
   },
   {
    "duration": 4,
    "start_time": "2023-06-16T13:49:07.105Z"
   },
   {
    "duration": 44,
    "start_time": "2023-06-16T13:49:12.641Z"
   },
   {
    "duration": 28,
    "start_time": "2023-06-16T13:49:22.968Z"
   },
   {
    "duration": 15,
    "start_time": "2023-06-16T13:52:52.896Z"
   },
   {
    "duration": 3030,
    "start_time": "2023-06-16T14:08:46.094Z"
   },
   {
    "duration": 149,
    "start_time": "2023-06-16T14:13:18.227Z"
   },
   {
    "duration": 22,
    "start_time": "2023-06-16T14:13:36.455Z"
   },
   {
    "duration": 20,
    "start_time": "2023-06-16T14:34:17.334Z"
   },
   {
    "duration": 13,
    "start_time": "2023-06-16T15:04:39.471Z"
   },
   {
    "duration": 16,
    "start_time": "2023-06-16T15:15:33.525Z"
   },
   {
    "duration": 17,
    "start_time": "2023-06-16T15:15:55.689Z"
   },
   {
    "duration": 14,
    "start_time": "2023-06-16T15:16:16.598Z"
   },
   {
    "duration": 764,
    "start_time": "2023-06-16T15:16:52.155Z"
   },
   {
    "duration": 56,
    "start_time": "2023-06-16T15:16:52.921Z"
   },
   {
    "duration": 13,
    "start_time": "2023-06-16T15:16:52.979Z"
   },
   {
    "duration": 68,
    "start_time": "2023-06-16T15:16:52.994Z"
   },
   {
    "duration": 2929,
    "start_time": "2023-06-16T15:16:53.063Z"
   },
   {
    "duration": 4,
    "start_time": "2023-06-16T15:16:55.994Z"
   },
   {
    "duration": 29,
    "start_time": "2023-06-16T15:16:55.999Z"
   },
   {
    "duration": 28,
    "start_time": "2023-06-16T15:16:56.030Z"
   },
   {
    "duration": 26,
    "start_time": "2023-06-16T15:16:56.060Z"
   },
   {
    "duration": 15,
    "start_time": "2023-06-16T15:16:56.088Z"
   },
   {
    "duration": 60,
    "start_time": "2023-06-16T15:16:56.105Z"
   },
   {
    "duration": 17,
    "start_time": "2023-06-16T15:16:56.166Z"
   },
   {
    "duration": 928,
    "start_time": "2023-06-16T18:49:25.035Z"
   },
   {
    "duration": 117,
    "start_time": "2023-06-16T19:05:31.005Z"
   },
   {
    "duration": 1390,
    "start_time": "2023-06-16T19:06:10.242Z"
   },
   {
    "duration": 53,
    "start_time": "2023-06-16T19:06:11.634Z"
   },
   {
    "duration": 27,
    "start_time": "2023-06-16T19:06:11.688Z"
   },
   {
    "duration": 39,
    "start_time": "2023-06-16T19:06:11.717Z"
   },
   {
    "duration": 2864,
    "start_time": "2023-06-16T19:06:11.758Z"
   },
   {
    "duration": 4,
    "start_time": "2023-06-16T19:06:14.623Z"
   },
   {
    "duration": 38,
    "start_time": "2023-06-16T19:06:14.628Z"
   },
   {
    "duration": 12,
    "start_time": "2023-06-16T19:06:14.667Z"
   },
   {
    "duration": 30,
    "start_time": "2023-06-16T19:06:14.681Z"
   },
   {
    "duration": 14,
    "start_time": "2023-06-16T19:06:14.713Z"
   },
   {
    "duration": 47,
    "start_time": "2023-06-16T19:06:14.729Z"
   },
   {
    "duration": 14,
    "start_time": "2023-06-16T19:06:14.777Z"
   },
   {
    "duration": 3,
    "start_time": "2023-06-16T19:22:42.981Z"
   },
   {
    "duration": 147,
    "start_time": "2023-06-16T19:26:18.979Z"
   },
   {
    "duration": 45,
    "start_time": "2023-06-16T19:26:41.062Z"
   },
   {
    "duration": 3,
    "start_time": "2023-06-16T19:29:46.513Z"
   },
   {
    "duration": 7,
    "start_time": "2023-06-16T19:30:15.701Z"
   },
   {
    "duration": 12,
    "start_time": "2023-06-16T19:46:36.821Z"
   },
   {
    "duration": 43,
    "start_time": "2023-06-16T19:49:55.029Z"
   },
   {
    "duration": 624,
    "start_time": "2023-06-16T19:50:15.982Z"
   },
   {
    "duration": 343,
    "start_time": "2023-06-16T19:53:57.617Z"
   },
   {
    "duration": 1573,
    "start_time": "2023-06-17T12:37:44.294Z"
   },
   {
    "duration": 107,
    "start_time": "2023-06-17T12:37:45.870Z"
   },
   {
    "duration": 12,
    "start_time": "2023-06-17T12:37:45.979Z"
   },
   {
    "duration": 45,
    "start_time": "2023-06-17T12:37:45.993Z"
   },
   {
    "duration": 2683,
    "start_time": "2023-06-17T12:37:46.040Z"
   },
   {
    "duration": 11,
    "start_time": "2023-06-17T12:37:48.725Z"
   },
   {
    "duration": 38,
    "start_time": "2023-06-17T12:37:48.745Z"
   },
   {
    "duration": 10,
    "start_time": "2023-06-17T12:37:48.785Z"
   },
   {
    "duration": 31,
    "start_time": "2023-06-17T12:37:48.796Z"
   },
   {
    "duration": 73,
    "start_time": "2023-06-17T12:37:48.829Z"
   },
   {
    "duration": 27,
    "start_time": "2023-06-17T12:37:48.904Z"
   },
   {
    "duration": 15,
    "start_time": "2023-06-17T12:37:48.938Z"
   },
   {
    "duration": 46,
    "start_time": "2023-06-17T12:37:48.956Z"
   },
   {
    "duration": 617,
    "start_time": "2023-06-17T12:37:49.004Z"
   },
   {
    "duration": 1029,
    "start_time": "2023-06-17T12:37:49.623Z"
   },
   {
    "duration": 40,
    "start_time": "2023-06-17T12:48:22.742Z"
   },
   {
    "duration": 6,
    "start_time": "2023-06-17T12:56:57.658Z"
   },
   {
    "duration": 38,
    "start_time": "2023-06-17T12:57:23.553Z"
   },
   {
    "duration": 8,
    "start_time": "2023-06-17T13:02:33.090Z"
   },
   {
    "duration": 38,
    "start_time": "2023-06-17T13:02:34.081Z"
   },
   {
    "duration": 10,
    "start_time": "2023-06-17T13:04:46.286Z"
   },
   {
    "duration": 4,
    "start_time": "2023-06-17T13:12:25.954Z"
   },
   {
    "duration": 48,
    "start_time": "2023-06-17T13:12:27.709Z"
   },
   {
    "duration": 677,
    "start_time": "2023-06-17T13:20:47.801Z"
   },
   {
    "duration": 2564,
    "start_time": "2023-06-17T13:23:41.475Z"
   },
   {
    "duration": 2375,
    "start_time": "2023-06-17T13:24:20.297Z"
   },
   {
    "duration": 155,
    "start_time": "2023-06-17T13:52:19.424Z"
   },
   {
    "duration": 44,
    "start_time": "2023-06-17T13:52:37.581Z"
   },
   {
    "duration": 49,
    "start_time": "2023-06-17T13:53:28.400Z"
   },
   {
    "duration": 10,
    "start_time": "2023-06-17T13:59:55.542Z"
   },
   {
    "duration": 1753,
    "start_time": "2023-06-17T14:00:30.399Z"
   },
   {
    "duration": 1537,
    "start_time": "2023-06-17T14:01:37.918Z"
   },
   {
    "duration": 2667,
    "start_time": "2023-06-17T14:10:41.570Z"
   },
   {
    "duration": 3,
    "start_time": "2023-06-17T17:58:01.822Z"
   },
   {
    "duration": 13,
    "start_time": "2023-06-17T18:11:23.645Z"
   },
   {
    "duration": 19,
    "start_time": "2023-06-17T18:11:46.861Z"
   },
   {
    "duration": 14,
    "start_time": "2023-06-17T18:12:37.992Z"
   },
   {
    "duration": 9,
    "start_time": "2023-06-17T18:27:58.821Z"
   },
   {
    "duration": 14,
    "start_time": "2023-06-17T18:28:18.503Z"
   },
   {
    "duration": 11,
    "start_time": "2023-06-17T18:28:21.748Z"
   },
   {
    "duration": 49,
    "start_time": "2023-06-17T18:28:43.949Z"
   },
   {
    "duration": 62,
    "start_time": "2023-06-17T18:31:08.489Z"
   },
   {
    "duration": 895,
    "start_time": "2023-06-17T18:33:29.248Z"
   },
   {
    "duration": 2734,
    "start_time": "2023-06-17T18:34:26.917Z"
   },
   {
    "duration": 1525,
    "start_time": "2023-06-17T19:06:09.720Z"
   },
   {
    "duration": 1659,
    "start_time": "2023-06-17T19:06:21.877Z"
   },
   {
    "duration": 76,
    "start_time": "2023-06-17T19:37:29.583Z"
   },
   {
    "duration": 71,
    "start_time": "2023-06-17T19:37:43.384Z"
   },
   {
    "duration": 1578,
    "start_time": "2023-06-17T19:38:44.224Z"
   },
   {
    "duration": 68,
    "start_time": "2023-06-17T19:38:45.804Z"
   },
   {
    "duration": 15,
    "start_time": "2023-06-17T19:38:45.874Z"
   },
   {
    "duration": 54,
    "start_time": "2023-06-17T19:38:45.891Z"
   },
   {
    "duration": 2982,
    "start_time": "2023-06-17T19:38:45.946Z"
   },
   {
    "duration": 5,
    "start_time": "2023-06-17T19:38:48.932Z"
   },
   {
    "duration": 56,
    "start_time": "2023-06-17T19:38:48.939Z"
   },
   {
    "duration": 10,
    "start_time": "2023-06-17T19:38:48.997Z"
   },
   {
    "duration": 28,
    "start_time": "2023-06-17T19:38:49.008Z"
   },
   {
    "duration": 15,
    "start_time": "2023-06-17T19:38:49.039Z"
   },
   {
    "duration": 34,
    "start_time": "2023-06-17T19:38:49.064Z"
   },
   {
    "duration": 8,
    "start_time": "2023-06-17T19:38:49.100Z"
   },
   {
    "duration": 10,
    "start_time": "2023-06-17T19:38:49.109Z"
   },
   {
    "duration": 57,
    "start_time": "2023-06-17T19:38:49.120Z"
   },
   {
    "duration": 694,
    "start_time": "2023-06-17T19:38:49.179Z"
   },
   {
    "duration": 1184,
    "start_time": "2023-06-17T19:38:49.875Z"
   },
   {
    "duration": 1921,
    "start_time": "2023-06-17T19:38:51.136Z"
   },
   {
    "duration": 108,
    "start_time": "2023-06-17T19:38:53.068Z"
   },
   {
    "duration": 102,
    "start_time": "2023-06-17T19:38:53.177Z"
   },
   {
    "duration": 934,
    "start_time": "2023-06-17T19:38:53.280Z"
   },
   {
    "duration": 1650,
    "start_time": "2023-06-17T19:38:54.216Z"
   },
   {
    "duration": 106,
    "start_time": "2023-06-17T19:38:55.934Z"
   },
   {
    "duration": 70,
    "start_time": "2023-06-17T19:41:05.555Z"
   },
   {
    "duration": 68,
    "start_time": "2023-06-17T19:41:19.146Z"
   },
   {
    "duration": 9259,
    "start_time": "2023-06-17T19:41:49.615Z"
   },
   {
    "duration": 3195,
    "start_time": "2023-06-17T19:47:57.215Z"
   },
   {
    "duration": 7723,
    "start_time": "2023-06-17T19:48:26.626Z"
   },
   {
    "duration": 14535,
    "start_time": "2023-06-17T19:48:59.583Z"
   },
   {
    "duration": 3996,
    "start_time": "2023-06-17T19:49:37.498Z"
   },
   {
    "duration": 58,
    "start_time": "2023-06-17T19:56:02.381Z"
   },
   {
    "duration": 279,
    "start_time": "2023-06-17T19:56:16.480Z"
   },
   {
    "duration": 263,
    "start_time": "2023-06-17T19:58:17.929Z"
   },
   {
    "duration": 260,
    "start_time": "2023-06-17T19:59:16.298Z"
   },
   {
    "duration": 265,
    "start_time": "2023-06-17T19:59:22.957Z"
   },
   {
    "duration": 7711,
    "start_time": "2023-06-17T20:08:13.985Z"
   },
   {
    "duration": 3523,
    "start_time": "2023-06-17T20:08:26.130Z"
   },
   {
    "duration": 348,
    "start_time": "2023-06-17T20:11:49.623Z"
   },
   {
    "duration": 1445,
    "start_time": "2023-06-17T20:32:23.695Z"
   },
   {
    "duration": 63,
    "start_time": "2023-06-17T20:32:25.142Z"
   },
   {
    "duration": 14,
    "start_time": "2023-06-17T20:32:25.207Z"
   },
   {
    "duration": 42,
    "start_time": "2023-06-17T20:32:25.224Z"
   },
   {
    "duration": 2918,
    "start_time": "2023-06-17T20:32:25.268Z"
   },
   {
    "duration": 4,
    "start_time": "2023-06-17T20:32:28.189Z"
   },
   {
    "duration": 59,
    "start_time": "2023-06-17T20:32:28.195Z"
   },
   {
    "duration": 14,
    "start_time": "2023-06-17T20:32:28.256Z"
   },
   {
    "duration": 30,
    "start_time": "2023-06-17T20:32:28.272Z"
   },
   {
    "duration": 36,
    "start_time": "2023-06-17T20:32:28.305Z"
   },
   {
    "duration": 27,
    "start_time": "2023-06-17T20:32:28.343Z"
   },
   {
    "duration": 8,
    "start_time": "2023-06-17T20:32:28.372Z"
   },
   {
    "duration": 13,
    "start_time": "2023-06-17T20:32:28.382Z"
   },
   {
    "duration": 80,
    "start_time": "2023-06-17T20:32:28.397Z"
   },
   {
    "duration": 599,
    "start_time": "2023-06-17T20:32:28.480Z"
   },
   {
    "duration": 368,
    "start_time": "2023-06-17T20:32:29.081Z"
   },
   {
    "duration": 4090,
    "start_time": "2023-06-17T20:32:29.451Z"
   },
   {
    "duration": 103,
    "start_time": "2023-06-17T20:32:33.543Z"
   },
   {
    "duration": 324,
    "start_time": "2023-06-17T20:32:33.648Z"
   },
   {
    "duration": 995,
    "start_time": "2023-06-17T20:32:33.975Z"
   },
   {
    "duration": 1862,
    "start_time": "2023-06-17T20:32:34.972Z"
   },
   {
    "duration": 8258,
    "start_time": "2023-06-17T20:32:36.836Z"
   },
   {
    "duration": 4169,
    "start_time": "2023-06-17T20:32:45.095Z"
   },
   {
    "duration": 299,
    "start_time": "2023-06-17T20:32:49.267Z"
   },
   {
    "duration": 52,
    "start_time": "2023-06-18T12:56:00.322Z"
   },
   {
    "duration": 1514,
    "start_time": "2023-06-18T12:56:06.046Z"
   },
   {
    "duration": 179,
    "start_time": "2023-06-18T12:56:07.562Z"
   },
   {
    "duration": 13,
    "start_time": "2023-06-18T12:56:07.743Z"
   },
   {
    "duration": 40,
    "start_time": "2023-06-18T12:56:07.759Z"
   },
   {
    "duration": 2865,
    "start_time": "2023-06-18T12:56:07.801Z"
   },
   {
    "duration": 4,
    "start_time": "2023-06-18T12:56:10.667Z"
   },
   {
    "duration": 31,
    "start_time": "2023-06-18T12:56:10.672Z"
   },
   {
    "duration": 18,
    "start_time": "2023-06-18T12:56:10.704Z"
   },
   {
    "duration": 41,
    "start_time": "2023-06-18T12:56:10.723Z"
   },
   {
    "duration": 110,
    "start_time": "2023-06-18T12:56:10.767Z"
   },
   {
    "duration": 25,
    "start_time": "2023-06-18T12:56:10.879Z"
   },
   {
    "duration": 9,
    "start_time": "2023-06-18T12:56:10.905Z"
   },
   {
    "duration": 3,
    "start_time": "2023-06-18T12:56:10.916Z"
   },
   {
    "duration": 47,
    "start_time": "2023-06-18T12:56:10.921Z"
   },
   {
    "duration": 680,
    "start_time": "2023-06-18T12:56:10.970Z"
   },
   {
    "duration": 460,
    "start_time": "2023-06-18T12:56:11.653Z"
   },
   {
    "duration": 1202,
    "start_time": "2023-06-18T12:56:12.115Z"
   },
   {
    "duration": 101,
    "start_time": "2023-06-18T12:56:13.319Z"
   },
   {
    "duration": 72,
    "start_time": "2023-06-18T12:56:13.422Z"
   },
   {
    "duration": 926,
    "start_time": "2023-06-18T12:56:13.495Z"
   },
   {
    "duration": 691,
    "start_time": "2023-06-18T12:56:14.422Z"
   },
   {
    "duration": 8513,
    "start_time": "2023-06-18T12:56:15.115Z"
   },
   {
    "duration": 3841,
    "start_time": "2023-06-18T12:56:23.630Z"
   },
   {
    "duration": 395,
    "start_time": "2023-06-18T12:56:27.473Z"
   },
   {
    "duration": 286,
    "start_time": "2023-06-18T12:56:27.870Z"
   },
   {
    "duration": 402,
    "start_time": "2023-06-18T12:57:45.301Z"
   },
   {
    "duration": 445,
    "start_time": "2023-06-18T12:57:58.698Z"
   },
   {
    "duration": 421,
    "start_time": "2023-06-18T12:58:08.389Z"
   },
   {
    "duration": 110,
    "start_time": "2023-06-18T13:06:35.186Z"
   },
   {
    "duration": 4,
    "start_time": "2023-06-18T13:07:15.591Z"
   },
   {
    "duration": 7,
    "start_time": "2023-06-18T13:07:24.755Z"
   },
   {
    "duration": 33,
    "start_time": "2023-06-18T13:15:14.990Z"
   },
   {
    "duration": 11,
    "start_time": "2023-06-18T13:21:17.646Z"
   },
   {
    "duration": 4,
    "start_time": "2023-06-18T13:31:26.907Z"
   },
   {
    "duration": 44,
    "start_time": "2023-06-18T13:32:37.445Z"
   },
   {
    "duration": 11,
    "start_time": "2023-06-18T13:32:56.294Z"
   },
   {
    "duration": 3,
    "start_time": "2023-06-18T13:33:54.998Z"
   },
   {
    "duration": 43,
    "start_time": "2023-06-18T13:33:58.153Z"
   },
   {
    "duration": 734,
    "start_time": "2023-06-18T13:34:43.899Z"
   },
   {
    "duration": 631,
    "start_time": "2023-06-18T13:34:50.391Z"
   },
   {
    "duration": 2126,
    "start_time": "2023-06-18T13:35:38.806Z"
   },
   {
    "duration": 13,
    "start_time": "2023-06-18T13:36:13.146Z"
   },
   {
    "duration": 3177,
    "start_time": "2023-06-18T13:38:31.249Z"
   },
   {
    "duration": 8527,
    "start_time": "2023-06-18T13:42:35.462Z"
   },
   {
    "duration": 4029,
    "start_time": "2023-06-18T13:43:29.747Z"
   },
   {
    "duration": 315,
    "start_time": "2023-06-18T13:44:54.176Z"
   },
   {
    "duration": 1496,
    "start_time": "2023-06-18T13:46:43.670Z"
   },
   {
    "duration": 68,
    "start_time": "2023-06-18T13:46:45.168Z"
   },
   {
    "duration": 17,
    "start_time": "2023-06-18T13:46:45.238Z"
   },
   {
    "duration": 71,
    "start_time": "2023-06-18T13:46:45.258Z"
   },
   {
    "duration": 2955,
    "start_time": "2023-06-18T13:46:45.331Z"
   },
   {
    "duration": 5,
    "start_time": "2023-06-18T13:46:48.288Z"
   },
   {
    "duration": 38,
    "start_time": "2023-06-18T13:46:48.294Z"
   },
   {
    "duration": 12,
    "start_time": "2023-06-18T13:46:48.334Z"
   },
   {
    "duration": 31,
    "start_time": "2023-06-18T13:46:48.347Z"
   },
   {
    "duration": 53,
    "start_time": "2023-06-18T13:46:48.382Z"
   },
   {
    "duration": 29,
    "start_time": "2023-06-18T13:46:48.437Z"
   },
   {
    "duration": 13,
    "start_time": "2023-06-18T13:46:48.468Z"
   },
   {
    "duration": 4,
    "start_time": "2023-06-18T13:46:48.483Z"
   },
   {
    "duration": 60,
    "start_time": "2023-06-18T13:46:48.488Z"
   },
   {
    "duration": 675,
    "start_time": "2023-06-18T13:46:48.551Z"
   },
   {
    "duration": 889,
    "start_time": "2023-06-18T13:46:49.228Z"
   },
   {
    "duration": 1107,
    "start_time": "2023-06-18T13:46:50.119Z"
   },
   {
    "duration": 94,
    "start_time": "2023-06-18T13:46:51.228Z"
   },
   {
    "duration": 1798,
    "start_time": "2023-06-18T13:46:51.324Z"
   },
   {
    "duration": 8848,
    "start_time": "2023-06-18T13:46:53.126Z"
   },
   {
    "duration": 3949,
    "start_time": "2023-06-18T13:47:01.976Z"
   },
   {
    "duration": 432,
    "start_time": "2023-06-18T13:47:05.927Z"
   },
   {
    "duration": 6,
    "start_time": "2023-06-18T13:47:06.361Z"
   },
   {
    "duration": 299,
    "start_time": "2023-06-18T13:47:06.369Z"
   },
   {
    "duration": 25,
    "start_time": "2023-06-18T13:47:06.669Z"
   },
   {
    "duration": 2019,
    "start_time": "2023-06-18T16:07:47.486Z"
   },
   {
    "duration": 144,
    "start_time": "2023-06-18T16:07:49.515Z"
   },
   {
    "duration": 19,
    "start_time": "2023-06-18T16:07:49.660Z"
   },
   {
    "duration": 60,
    "start_time": "2023-06-18T16:07:49.682Z"
   },
   {
    "duration": 4296,
    "start_time": "2023-06-18T16:07:49.744Z"
   },
   {
    "duration": 4,
    "start_time": "2023-06-18T16:07:54.043Z"
   },
   {
    "duration": 79,
    "start_time": "2023-06-18T16:07:54.049Z"
   },
   {
    "duration": 28,
    "start_time": "2023-06-18T16:07:54.135Z"
   },
   {
    "duration": 87,
    "start_time": "2023-06-18T16:07:54.176Z"
   },
   {
    "duration": 29,
    "start_time": "2023-06-18T16:07:54.271Z"
   },
   {
    "duration": 83,
    "start_time": "2023-06-18T16:07:54.306Z"
   },
   {
    "duration": 23,
    "start_time": "2023-06-18T16:07:54.395Z"
   },
   {
    "duration": 219,
    "start_time": "2023-06-18T16:07:54.424Z"
   },
   {
    "duration": 8,
    "start_time": "2023-06-18T16:07:54.650Z"
   },
   {
    "duration": 77,
    "start_time": "2023-06-18T16:07:54.660Z"
   },
   {
    "duration": 918,
    "start_time": "2023-06-18T16:07:54.741Z"
   },
   {
    "duration": 1117,
    "start_time": "2023-06-18T16:07:55.660Z"
   },
   {
    "duration": 2664,
    "start_time": "2023-06-18T16:07:56.825Z"
   },
   {
    "duration": 84,
    "start_time": "2023-06-18T16:07:59.505Z"
   },
   {
    "duration": 2114,
    "start_time": "2023-06-18T16:07:59.595Z"
   },
   {
    "duration": 11624,
    "start_time": "2023-06-18T16:08:01.745Z"
   },
   {
    "duration": 5904,
    "start_time": "2023-06-18T16:08:13.380Z"
   },
   {
    "duration": 641,
    "start_time": "2023-06-18T16:08:19.290Z"
   },
   {
    "duration": 11,
    "start_time": "2023-06-18T16:08:19.936Z"
   },
   {
    "duration": 522,
    "start_time": "2023-06-18T16:08:19.952Z"
   },
   {
    "duration": 43,
    "start_time": "2023-06-18T16:08:20.480Z"
   },
   {
    "duration": 382,
    "start_time": "2023-06-18T16:10:25.739Z"
   },
   {
    "duration": 204,
    "start_time": "2023-06-18T16:10:36.388Z"
   },
   {
    "duration": 232,
    "start_time": "2023-06-18T16:10:57.660Z"
   },
   {
    "duration": 235,
    "start_time": "2023-06-18T16:12:49.692Z"
   },
   {
    "duration": 217,
    "start_time": "2023-06-18T16:13:37.405Z"
   },
   {
    "duration": 240,
    "start_time": "2023-06-18T16:16:57.831Z"
   },
   {
    "duration": 299,
    "start_time": "2023-06-18T16:17:46.179Z"
   },
   {
    "duration": 218,
    "start_time": "2023-06-18T16:18:17.029Z"
   },
   {
    "duration": 178945,
    "start_time": "2023-06-18T16:21:55.571Z"
   },
   {
    "duration": 299017,
    "start_time": "2023-06-18T16:27:14.481Z"
   },
   {
    "duration": 2445,
    "start_time": "2023-06-18T16:41:58.504Z"
   },
   {
    "duration": 324,
    "start_time": "2023-06-18T16:42:00.966Z"
   },
   {
    "duration": 1903,
    "start_time": "2023-06-18T16:42:05.686Z"
   },
   {
    "duration": 94,
    "start_time": "2023-06-18T16:42:07.597Z"
   },
   {
    "duration": 24,
    "start_time": "2023-06-18T16:42:07.693Z"
   },
   {
    "duration": 70,
    "start_time": "2023-06-18T16:42:07.721Z"
   },
   {
    "duration": 4097,
    "start_time": "2023-06-18T16:42:07.793Z"
   },
   {
    "duration": 4,
    "start_time": "2023-06-18T16:42:11.892Z"
   },
   {
    "duration": 55,
    "start_time": "2023-06-18T16:42:11.899Z"
   },
   {
    "duration": 17,
    "start_time": "2023-06-18T16:42:11.966Z"
   },
   {
    "duration": 34,
    "start_time": "2023-06-18T16:42:11.991Z"
   },
   {
    "duration": 31,
    "start_time": "2023-06-18T16:42:12.036Z"
   },
   {
    "duration": 36,
    "start_time": "2023-06-18T16:42:12.072Z"
   },
   {
    "duration": 21,
    "start_time": "2023-06-18T16:42:12.116Z"
   },
   {
    "duration": 238,
    "start_time": "2023-06-18T16:42:12.143Z"
   },
   {
    "duration": 4,
    "start_time": "2023-06-18T16:42:12.387Z"
   },
   {
    "duration": 59,
    "start_time": "2023-06-18T16:42:12.394Z"
   },
   {
    "duration": 986,
    "start_time": "2023-06-18T16:42:12.460Z"
   },
   {
    "duration": 2174,
    "start_time": "2023-06-18T16:42:13.448Z"
   },
   {
    "duration": 1860,
    "start_time": "2023-06-18T16:42:15.630Z"
   },
   {
    "duration": 129,
    "start_time": "2023-06-18T16:42:17.549Z"
   },
   {
    "duration": 2912,
    "start_time": "2023-06-18T16:42:17.690Z"
   },
   {
    "duration": 11244,
    "start_time": "2023-06-18T16:42:20.624Z"
   },
   {
    "duration": 5213,
    "start_time": "2023-06-18T16:42:31.870Z"
   },
   {
    "duration": 515,
    "start_time": "2023-06-18T16:42:37.084Z"
   },
   {
    "duration": 37,
    "start_time": "2023-06-18T16:42:37.600Z"
   },
   {
    "duration": 395,
    "start_time": "2023-06-18T16:42:37.642Z"
   },
   {
    "duration": 33,
    "start_time": "2023-06-18T16:42:38.043Z"
   },
   {
    "duration": 1689,
    "start_time": "2023-06-18T19:14:44.543Z"
   },
   {
    "duration": 79,
    "start_time": "2023-06-18T19:14:46.245Z"
   },
   {
    "duration": 28,
    "start_time": "2023-06-18T19:14:46.330Z"
   },
   {
    "duration": 62,
    "start_time": "2023-06-18T19:14:46.367Z"
   },
   {
    "duration": 3795,
    "start_time": "2023-06-18T19:14:46.433Z"
   },
   {
    "duration": 6,
    "start_time": "2023-06-18T19:14:50.231Z"
   },
   {
    "duration": 190,
    "start_time": "2023-06-18T19:14:50.239Z"
   },
   {
    "duration": 32,
    "start_time": "2023-06-18T19:14:50.431Z"
   },
   {
    "duration": 87,
    "start_time": "2023-06-18T19:14:50.465Z"
   },
   {
    "duration": 42,
    "start_time": "2023-06-18T19:14:50.556Z"
   },
   {
    "duration": 53,
    "start_time": "2023-06-18T19:14:50.600Z"
   },
   {
    "duration": 18,
    "start_time": "2023-06-18T19:14:50.655Z"
   },
   {
    "duration": 196,
    "start_time": "2023-06-18T19:14:50.676Z"
   },
   {
    "duration": 3,
    "start_time": "2023-06-18T19:14:50.876Z"
   },
   {
    "duration": 86,
    "start_time": "2023-06-18T19:14:50.882Z"
   },
   {
    "duration": 793,
    "start_time": "2023-06-18T19:14:50.970Z"
   },
   {
    "duration": 1545,
    "start_time": "2023-06-18T19:14:51.773Z"
   },
   {
    "duration": 2605,
    "start_time": "2023-06-18T19:14:53.327Z"
   },
   {
    "duration": 93,
    "start_time": "2023-06-18T19:14:55.940Z"
   },
   {
    "duration": 3292,
    "start_time": "2023-06-18T19:14:56.035Z"
   },
   {
    "duration": 11149,
    "start_time": "2023-06-18T19:14:59.341Z"
   },
   {
    "duration": 4946,
    "start_time": "2023-06-18T19:15:10.492Z"
   },
   {
    "duration": 562,
    "start_time": "2023-06-18T19:15:15.440Z"
   },
   {
    "duration": 18,
    "start_time": "2023-06-18T19:15:16.003Z"
   },
   {
    "duration": 405,
    "start_time": "2023-06-18T19:15:16.028Z"
   },
   {
    "duration": 37,
    "start_time": "2023-06-18T19:15:16.437Z"
   },
   {
    "duration": 1098,
    "start_time": "2023-06-19T05:12:17.758Z"
   },
   {
    "duration": 54,
    "start_time": "2023-06-19T05:12:18.859Z"
   },
   {
    "duration": 14,
    "start_time": "2023-06-19T05:12:18.915Z"
   },
   {
    "duration": 35,
    "start_time": "2023-06-19T05:12:18.932Z"
   },
   {
    "duration": 2608,
    "start_time": "2023-06-19T05:12:18.969Z"
   },
   {
    "duration": 4,
    "start_time": "2023-06-19T05:12:21.579Z"
   },
   {
    "duration": 91,
    "start_time": "2023-06-19T05:12:21.585Z"
   },
   {
    "duration": 18,
    "start_time": "2023-06-19T05:12:21.677Z"
   },
   {
    "duration": 38,
    "start_time": "2023-06-19T05:12:21.697Z"
   },
   {
    "duration": 162,
    "start_time": "2023-06-19T05:12:21.738Z"
   },
   {
    "duration": 31,
    "start_time": "2023-06-19T05:12:21.901Z"
   },
   {
    "duration": 12,
    "start_time": "2023-06-19T05:12:21.934Z"
   },
   {
    "duration": 142,
    "start_time": "2023-06-19T05:12:21.947Z"
   },
   {
    "duration": 3,
    "start_time": "2023-06-19T05:12:22.091Z"
   },
   {
    "duration": 53,
    "start_time": "2023-06-19T05:12:22.096Z"
   },
   {
    "duration": 627,
    "start_time": "2023-06-19T05:12:22.151Z"
   },
   {
    "duration": 265,
    "start_time": "2023-06-19T05:12:22.779Z"
   },
   {
    "duration": 1691,
    "start_time": "2023-06-19T05:12:23.046Z"
   },
   {
    "duration": 97,
    "start_time": "2023-06-19T05:12:24.740Z"
   },
   {
    "duration": 1507,
    "start_time": "2023-06-19T05:12:24.838Z"
   },
   {
    "duration": 8522,
    "start_time": "2023-06-19T05:12:26.433Z"
   },
   {
    "duration": 3676,
    "start_time": "2023-06-19T05:12:34.956Z"
   },
   {
    "duration": 402,
    "start_time": "2023-06-19T05:12:38.633Z"
   },
   {
    "duration": 6,
    "start_time": "2023-06-19T05:12:39.036Z"
   },
   {
    "duration": 279,
    "start_time": "2023-06-19T05:12:39.043Z"
   },
   {
    "duration": 27,
    "start_time": "2023-06-19T05:12:39.324Z"
   },
   {
    "duration": 103,
    "start_time": "2023-06-19T17:53:28.551Z"
   },
   {
    "duration": 96,
    "start_time": "2023-06-19T17:53:40.981Z"
   },
   {
    "duration": 46,
    "start_time": "2023-06-19T17:55:45.417Z"
   },
   {
    "duration": 5,
    "start_time": "2023-06-19T17:56:09.343Z"
   },
   {
    "duration": 6,
    "start_time": "2023-06-19T17:56:26.804Z"
   },
   {
    "duration": 1692,
    "start_time": "2023-06-19T17:56:35.846Z"
   },
   {
    "duration": 222,
    "start_time": "2023-06-19T17:56:40.471Z"
   },
   {
    "duration": 62,
    "start_time": "2023-06-19T17:56:52.619Z"
   },
   {
    "duration": 51,
    "start_time": "2023-06-19T17:58:12.073Z"
   },
   {
    "duration": 110,
    "start_time": "2023-06-19T19:00:25.641Z"
   },
   {
    "duration": 1833,
    "start_time": "2023-06-19T19:00:32.805Z"
   },
   {
    "duration": 113,
    "start_time": "2023-06-19T19:00:34.641Z"
   },
   {
    "duration": 19,
    "start_time": "2023-06-19T19:00:34.758Z"
   },
   {
    "duration": 60,
    "start_time": "2023-06-19T19:00:34.783Z"
   },
   {
    "duration": 3868,
    "start_time": "2023-06-19T19:00:34.845Z"
   },
   {
    "duration": 8,
    "start_time": "2023-06-19T19:00:38.715Z"
   },
   {
    "duration": 43,
    "start_time": "2023-06-19T19:00:38.725Z"
   },
   {
    "duration": 14,
    "start_time": "2023-06-19T19:00:38.771Z"
   },
   {
    "duration": 44,
    "start_time": "2023-06-19T19:00:38.787Z"
   },
   {
    "duration": 24,
    "start_time": "2023-06-19T19:00:38.834Z"
   },
   {
    "duration": 64,
    "start_time": "2023-06-19T19:00:38.860Z"
   },
   {
    "duration": 14,
    "start_time": "2023-06-19T19:00:38.927Z"
   },
   {
    "duration": 199,
    "start_time": "2023-06-19T19:00:38.943Z"
   },
   {
    "duration": 0,
    "start_time": "2023-06-19T19:00:39.144Z"
   },
   {
    "duration": 0,
    "start_time": "2023-06-19T19:00:39.145Z"
   },
   {
    "duration": 0,
    "start_time": "2023-06-19T19:00:39.149Z"
   },
   {
    "duration": 0,
    "start_time": "2023-06-19T19:00:39.150Z"
   },
   {
    "duration": 0,
    "start_time": "2023-06-19T19:00:39.151Z"
   },
   {
    "duration": 0,
    "start_time": "2023-06-19T19:00:39.152Z"
   },
   {
    "duration": 0,
    "start_time": "2023-06-19T19:00:39.153Z"
   },
   {
    "duration": 0,
    "start_time": "2023-06-19T19:00:39.153Z"
   },
   {
    "duration": 0,
    "start_time": "2023-06-19T19:00:39.154Z"
   },
   {
    "duration": 0,
    "start_time": "2023-06-19T19:00:39.155Z"
   },
   {
    "duration": 0,
    "start_time": "2023-06-19T19:00:39.157Z"
   },
   {
    "duration": 0,
    "start_time": "2023-06-19T19:00:39.158Z"
   },
   {
    "duration": 0,
    "start_time": "2023-06-19T19:00:39.159Z"
   },
   {
    "duration": 0,
    "start_time": "2023-06-19T19:00:39.161Z"
   },
   {
    "duration": 21,
    "start_time": "2023-06-19T19:02:51.797Z"
   },
   {
    "duration": 16,
    "start_time": "2023-06-19T19:03:11.473Z"
   },
   {
    "duration": 56,
    "start_time": "2023-06-19T19:05:32.346Z"
   },
   {
    "duration": 208,
    "start_time": "2023-06-19T19:06:37.098Z"
   },
   {
    "duration": 1640,
    "start_time": "2023-06-19T19:09:10.566Z"
   },
   {
    "duration": 78,
    "start_time": "2023-06-19T19:09:12.208Z"
   },
   {
    "duration": 15,
    "start_time": "2023-06-19T19:09:12.290Z"
   },
   {
    "duration": 64,
    "start_time": "2023-06-19T19:09:12.308Z"
   },
   {
    "duration": 3408,
    "start_time": "2023-06-19T19:09:12.375Z"
   },
   {
    "duration": 13,
    "start_time": "2023-06-19T19:09:15.791Z"
   },
   {
    "duration": 24,
    "start_time": "2023-06-19T19:09:15.807Z"
   },
   {
    "duration": 11,
    "start_time": "2023-06-19T19:09:15.832Z"
   },
   {
    "duration": 47,
    "start_time": "2023-06-19T19:09:15.845Z"
   },
   {
    "duration": 16,
    "start_time": "2023-06-19T19:09:15.896Z"
   },
   {
    "duration": 44,
    "start_time": "2023-06-19T19:09:15.914Z"
   },
   {
    "duration": 27,
    "start_time": "2023-06-19T19:09:15.959Z"
   },
   {
    "duration": 29,
    "start_time": "2023-06-19T19:09:15.988Z"
   },
   {
    "duration": 178,
    "start_time": "2023-06-19T19:09:16.019Z"
   },
   {
    "duration": 4,
    "start_time": "2023-06-19T19:09:16.201Z"
   },
   {
    "duration": 48,
    "start_time": "2023-06-19T19:09:16.207Z"
   },
   {
    "duration": 761,
    "start_time": "2023-06-19T19:09:16.257Z"
   },
   {
    "duration": 887,
    "start_time": "2023-06-19T19:09:17.020Z"
   },
   {
    "duration": 2049,
    "start_time": "2023-06-19T19:09:17.909Z"
   },
   {
    "duration": 103,
    "start_time": "2023-06-19T19:09:19.967Z"
   },
   {
    "duration": 2472,
    "start_time": "2023-06-19T19:09:20.088Z"
   },
   {
    "duration": 10129,
    "start_time": "2023-06-19T19:09:22.595Z"
   },
   {
    "duration": 4502,
    "start_time": "2023-06-19T19:09:32.725Z"
   },
   {
    "duration": 497,
    "start_time": "2023-06-19T19:09:37.228Z"
   },
   {
    "duration": 10,
    "start_time": "2023-06-19T19:09:37.726Z"
   },
   {
    "duration": 335,
    "start_time": "2023-06-19T19:09:37.738Z"
   },
   {
    "duration": 28,
    "start_time": "2023-06-19T19:09:38.075Z"
   },
   {
    "duration": 360,
    "start_time": "2023-06-19T19:13:29.025Z"
   },
   {
    "duration": 124,
    "start_time": "2023-06-19T19:22:19.996Z"
   },
   {
    "duration": 48,
    "start_time": "2023-06-19T19:25:20.870Z"
   },
   {
    "duration": 149,
    "start_time": "2023-06-19T19:35:37.075Z"
   },
   {
    "duration": 84952,
    "start_time": "2023-06-19T19:37:43.725Z"
   },
   {
    "duration": 14,
    "start_time": "2023-06-19T19:43:20.596Z"
   },
   {
    "duration": 258,
    "start_time": "2023-06-19T19:43:47.528Z"
   },
   {
    "duration": 28,
    "start_time": "2023-06-19T19:50:03.079Z"
   },
   {
    "duration": 1776,
    "start_time": "2023-06-19T19:50:38.925Z"
   },
   {
    "duration": 129,
    "start_time": "2023-06-19T19:50:43.728Z"
   },
   {
    "duration": 50,
    "start_time": "2023-06-19T19:50:53.309Z"
   },
   {
    "duration": 380,
    "start_time": "2023-06-19T19:58:42.475Z"
   },
   {
    "duration": 39,
    "start_time": "2023-06-19T20:01:26.749Z"
   },
   {
    "duration": 115,
    "start_time": "2023-06-19T20:03:57.009Z"
   },
   {
    "duration": 37822,
    "start_time": "2023-06-19T20:05:56.905Z"
   },
   {
    "duration": 41,
    "start_time": "2023-06-19T20:07:31.867Z"
   },
   {
    "duration": 37798,
    "start_time": "2023-06-19T20:08:53.804Z"
   },
   {
    "duration": 265,
    "start_time": "2023-06-19T20:12:26.248Z"
   },
   {
    "duration": 120,
    "start_time": "2023-06-19T20:15:51.806Z"
   },
   {
    "duration": 990,
    "start_time": "2023-06-19T20:16:04.406Z"
   },
   {
    "duration": 37,
    "start_time": "2023-06-19T20:18:02.776Z"
   },
   {
    "duration": 435,
    "start_time": "2023-06-19T20:29:05.378Z"
   },
   {
    "duration": 105,
    "start_time": "2023-06-19T20:29:39.107Z"
   },
   {
    "duration": 27,
    "start_time": "2023-06-19T20:31:43.394Z"
   },
   {
    "duration": 101,
    "start_time": "2023-06-19T20:32:36.680Z"
   },
   {
    "duration": 37,
    "start_time": "2023-06-19T20:35:20.319Z"
   },
   {
    "duration": 48071,
    "start_time": "2023-06-19T20:36:33.408Z"
   },
   {
    "duration": 12,
    "start_time": "2023-06-19T20:41:09.793Z"
   },
   {
    "duration": 2,
    "start_time": "2023-06-19T20:41:29.869Z"
   },
   {
    "duration": 3,
    "start_time": "2023-06-19T20:41:57.894Z"
   },
   {
    "duration": 3,
    "start_time": "2023-06-19T20:42:41.394Z"
   },
   {
    "duration": 3,
    "start_time": "2023-06-19T20:43:02.143Z"
   },
   {
    "duration": 11,
    "start_time": "2023-06-19T20:43:35.073Z"
   },
   {
    "duration": 1793,
    "start_time": "2023-06-20T12:13:12.068Z"
   },
   {
    "duration": 139,
    "start_time": "2023-06-20T12:13:13.867Z"
   },
   {
    "duration": 25,
    "start_time": "2023-06-20T12:13:14.007Z"
   },
   {
    "duration": 83,
    "start_time": "2023-06-20T12:13:14.035Z"
   },
   {
    "duration": 2957,
    "start_time": "2023-06-20T12:13:14.120Z"
   },
   {
    "duration": 3,
    "start_time": "2023-06-20T12:13:17.083Z"
   },
   {
    "duration": 108,
    "start_time": "2023-06-20T12:13:17.088Z"
   },
   {
    "duration": 28,
    "start_time": "2023-06-20T12:13:17.199Z"
   },
   {
    "duration": 81,
    "start_time": "2023-06-20T12:13:17.230Z"
   },
   {
    "duration": 64,
    "start_time": "2023-06-20T12:13:17.313Z"
   },
   {
    "duration": 87,
    "start_time": "2023-06-20T12:13:17.380Z"
   },
   {
    "duration": 24,
    "start_time": "2023-06-20T12:13:17.472Z"
   },
   {
    "duration": 172,
    "start_time": "2023-06-20T12:13:17.498Z"
   },
   {
    "duration": 165,
    "start_time": "2023-06-20T12:13:17.672Z"
   },
   {
    "duration": 7,
    "start_time": "2023-06-20T12:13:17.850Z"
   },
   {
    "duration": 490,
    "start_time": "2023-06-20T12:13:17.859Z"
   },
   {
    "duration": 36,
    "start_time": "2023-06-20T12:13:18.351Z"
   },
   {
    "duration": 39586,
    "start_time": "2023-06-20T12:13:18.389Z"
   },
   {
    "duration": 238,
    "start_time": "2023-06-20T12:13:57.978Z"
   },
   {
    "duration": 420,
    "start_time": "2023-06-20T12:13:58.218Z"
   },
   {
    "duration": 91,
    "start_time": "2023-06-20T12:13:58.648Z"
   },
   {
    "duration": 1091,
    "start_time": "2023-06-20T12:13:58.750Z"
   },
   {
    "duration": 544,
    "start_time": "2023-06-20T12:13:59.844Z"
   },
   {
    "duration": 43,
    "start_time": "2023-06-20T12:14:00.389Z"
   },
   {
    "duration": 40292,
    "start_time": "2023-06-20T12:14:00.433Z"
   },
   {
    "duration": 236,
    "start_time": "2023-06-20T12:14:40.726Z"
   },
   {
    "duration": 2289,
    "start_time": "2023-06-20T12:14:40.965Z"
   },
   {
    "duration": 94,
    "start_time": "2023-06-20T12:14:43.259Z"
   },
   {
    "duration": 121,
    "start_time": "2023-06-20T12:14:43.367Z"
   },
   {
    "duration": 2675,
    "start_time": "2023-06-20T12:14:43.490Z"
   },
   {
    "duration": 617,
    "start_time": "2023-06-20T12:14:46.224Z"
   },
   {
    "duration": 56,
    "start_time": "2023-06-20T12:14:46.842Z"
   },
   {
    "duration": 53589,
    "start_time": "2023-06-20T12:14:46.900Z"
   },
   {
    "duration": 3,
    "start_time": "2023-06-20T12:15:40.491Z"
   },
   {
    "duration": 13,
    "start_time": "2023-06-20T12:15:40.496Z"
   },
   {
    "duration": 50,
    "start_time": "2023-06-20T12:15:40.511Z"
   },
   {
    "duration": 5,
    "start_time": "2023-06-20T12:15:40.563Z"
   },
   {
    "duration": 10,
    "start_time": "2023-06-20T12:15:40.570Z"
   },
   {
    "duration": 14,
    "start_time": "2023-06-20T12:15:40.581Z"
   },
   {
    "duration": 521,
    "start_time": "2023-06-20T12:15:40.597Z"
   },
   {
    "duration": 9,
    "start_time": "2023-06-20T12:15:41.120Z"
   },
   {
    "duration": 415,
    "start_time": "2023-06-20T12:15:41.133Z"
   },
   {
    "duration": 21,
    "start_time": "2023-06-20T12:15:41.549Z"
   },
   {
    "duration": 298,
    "start_time": "2023-06-20T12:21:50.603Z"
   },
   {
    "duration": 1697,
    "start_time": "2023-06-20T12:26:03.972Z"
   },
   {
    "duration": 12,
    "start_time": "2023-06-20T12:30:38.694Z"
   },
   {
    "duration": 162,
    "start_time": "2023-06-20T12:37:24.613Z"
   },
   {
    "duration": 359,
    "start_time": "2023-06-20T12:38:00.098Z"
   },
   {
    "duration": 268,
    "start_time": "2023-06-20T12:39:15.799Z"
   },
   {
    "duration": 19,
    "start_time": "2023-06-20T12:39:37.062Z"
   },
   {
    "duration": 1704,
    "start_time": "2023-06-20T12:40:18.107Z"
   },
   {
    "duration": 71,
    "start_time": "2023-06-20T12:40:19.813Z"
   },
   {
    "duration": 14,
    "start_time": "2023-06-20T12:40:19.886Z"
   },
   {
    "duration": 46,
    "start_time": "2023-06-20T12:40:19.903Z"
   },
   {
    "duration": 2749,
    "start_time": "2023-06-20T12:40:19.951Z"
   },
   {
    "duration": 4,
    "start_time": "2023-06-20T12:40:22.702Z"
   },
   {
    "duration": 42,
    "start_time": "2023-06-20T12:40:22.708Z"
   },
   {
    "duration": 25,
    "start_time": "2023-06-20T12:40:22.753Z"
   },
   {
    "duration": 33,
    "start_time": "2023-06-20T12:40:22.780Z"
   },
   {
    "duration": 62,
    "start_time": "2023-06-20T12:40:22.816Z"
   },
   {
    "duration": 26,
    "start_time": "2023-06-20T12:40:22.880Z"
   },
   {
    "duration": 63,
    "start_time": "2023-06-20T12:40:22.908Z"
   },
   {
    "duration": 63,
    "start_time": "2023-06-20T12:40:22.974Z"
   },
   {
    "duration": 226,
    "start_time": "2023-06-20T12:40:23.045Z"
   },
   {
    "duration": 4,
    "start_time": "2023-06-20T12:40:23.273Z"
   },
   {
    "duration": 483,
    "start_time": "2023-06-20T12:40:23.279Z"
   },
   {
    "duration": 41,
    "start_time": "2023-06-20T12:40:23.768Z"
   },
   {
    "duration": 39901,
    "start_time": "2023-06-20T12:40:23.826Z"
   },
   {
    "duration": 220,
    "start_time": "2023-06-20T12:41:03.738Z"
   },
   {
    "duration": 703,
    "start_time": "2023-06-20T12:41:03.959Z"
   },
   {
    "duration": 90,
    "start_time": "2023-06-20T12:41:04.665Z"
   },
   {
    "duration": 2472,
    "start_time": "2023-06-20T12:41:04.758Z"
   },
   {
    "duration": 529,
    "start_time": "2023-06-20T12:41:07.240Z"
   },
   {
    "duration": 28,
    "start_time": "2023-06-20T12:41:07.771Z"
   },
   {
    "duration": 38026,
    "start_time": "2023-06-20T12:41:07.801Z"
   },
   {
    "duration": 279,
    "start_time": "2023-06-20T12:41:45.829Z"
   },
   {
    "duration": 1235,
    "start_time": "2023-06-20T12:41:46.110Z"
   },
   {
    "duration": 82,
    "start_time": "2023-06-20T12:41:47.356Z"
   },
   {
    "duration": 127,
    "start_time": "2023-06-20T12:41:47.450Z"
   },
   {
    "duration": 3190,
    "start_time": "2023-06-20T12:41:47.579Z"
   },
   {
    "duration": 574,
    "start_time": "2023-06-20T12:41:50.831Z"
   },
   {
    "duration": 50,
    "start_time": "2023-06-20T12:41:51.407Z"
   },
   {
    "duration": 52599,
    "start_time": "2023-06-20T12:41:51.459Z"
   },
   {
    "duration": 296,
    "start_time": "2023-06-20T12:42:44.060Z"
   },
   {
    "duration": 2687,
    "start_time": "2023-06-20T12:42:44.358Z"
   },
   {
    "duration": 87,
    "start_time": "2023-06-20T12:42:47.050Z"
   },
   {
    "duration": 115,
    "start_time": "2023-06-20T12:42:47.146Z"
   },
   {
    "duration": 14,
    "start_time": "2023-06-20T12:42:47.263Z"
   },
   {
    "duration": 30,
    "start_time": "2023-06-20T12:42:47.278Z"
   },
   {
    "duration": 9,
    "start_time": "2023-06-20T12:42:47.309Z"
   },
   {
    "duration": 52,
    "start_time": "2023-06-20T12:42:47.326Z"
   },
   {
    "duration": 14,
    "start_time": "2023-06-20T12:42:47.380Z"
   },
   {
    "duration": 424,
    "start_time": "2023-06-20T12:42:47.395Z"
   },
   {
    "duration": 19,
    "start_time": "2023-06-20T12:42:47.838Z"
   },
   {
    "duration": 233,
    "start_time": "2023-06-20T12:42:47.860Z"
   },
   {
    "duration": 38,
    "start_time": "2023-06-20T12:42:48.095Z"
   },
   {
    "duration": 28,
    "start_time": "2023-06-20T12:47:28.247Z"
   },
   {
    "duration": 215,
    "start_time": "2023-06-20T12:47:37.958Z"
   },
   {
    "duration": 19,
    "start_time": "2023-06-20T12:48:08.355Z"
   },
   {
    "duration": 27,
    "start_time": "2023-06-20T12:50:58.468Z"
   },
   {
    "duration": 1763,
    "start_time": "2023-06-20T12:51:24.148Z"
   },
   {
    "duration": 88,
    "start_time": "2023-06-20T12:51:25.914Z"
   },
   {
    "duration": 38,
    "start_time": "2023-06-20T12:51:26.005Z"
   },
   {
    "duration": 107,
    "start_time": "2023-06-20T12:51:26.053Z"
   },
   {
    "duration": 2951,
    "start_time": "2023-06-20T12:51:26.164Z"
   },
   {
    "duration": 17,
    "start_time": "2023-06-20T12:51:29.117Z"
   },
   {
    "duration": 122,
    "start_time": "2023-06-20T12:51:29.147Z"
   },
   {
    "duration": 69,
    "start_time": "2023-06-20T12:51:29.276Z"
   },
   {
    "duration": 104,
    "start_time": "2023-06-20T12:51:29.351Z"
   },
   {
    "duration": 165,
    "start_time": "2023-06-20T12:51:29.460Z"
   },
   {
    "duration": 194,
    "start_time": "2023-06-20T12:51:29.635Z"
   },
   {
    "duration": 72,
    "start_time": "2023-06-20T12:51:29.838Z"
   },
   {
    "duration": 96,
    "start_time": "2023-06-20T12:51:29.912Z"
   },
   {
    "duration": 491,
    "start_time": "2023-06-20T12:51:30.010Z"
   },
   {
    "duration": 258,
    "start_time": "2023-06-20T12:51:30.503Z"
   },
   {
    "duration": 749,
    "start_time": "2023-06-20T12:51:30.778Z"
   },
   {
    "duration": 57,
    "start_time": "2023-06-20T12:51:31.538Z"
   },
   {
    "duration": 42491,
    "start_time": "2023-06-20T12:51:31.598Z"
   },
   {
    "duration": 252,
    "start_time": "2023-06-20T12:52:14.091Z"
   },
   {
    "duration": 1169,
    "start_time": "2023-06-20T12:52:14.345Z"
   },
   {
    "duration": 72,
    "start_time": "2023-06-20T12:52:15.527Z"
   },
   {
    "duration": 2264,
    "start_time": "2023-06-20T12:52:15.639Z"
   },
   {
    "duration": 627,
    "start_time": "2023-06-20T12:52:17.904Z"
   },
   {
    "duration": 36,
    "start_time": "2023-06-20T12:52:18.532Z"
   },
   {
    "duration": 45097,
    "start_time": "2023-06-20T12:52:18.572Z"
   },
   {
    "duration": 316,
    "start_time": "2023-06-20T12:53:03.684Z"
   },
   {
    "duration": 2041,
    "start_time": "2023-06-20T12:53:04.002Z"
   },
   {
    "duration": 139,
    "start_time": "2023-06-20T12:53:06.047Z"
   },
   {
    "duration": 35,
    "start_time": "2023-06-20T12:53:06.195Z"
   },
   {
    "duration": 4309,
    "start_time": "2023-06-20T12:53:06.233Z"
   },
   {
    "duration": 759,
    "start_time": "2023-06-20T12:53:10.558Z"
   },
   {
    "duration": 65,
    "start_time": "2023-06-20T12:53:11.322Z"
   },
   {
    "duration": 66288,
    "start_time": "2023-06-20T12:53:11.389Z"
   },
   {
    "duration": 329,
    "start_time": "2023-06-20T12:54:17.678Z"
   },
   {
    "duration": 1276,
    "start_time": "2023-06-20T12:54:18.009Z"
   },
   {
    "duration": 96,
    "start_time": "2023-06-20T12:54:19.325Z"
   },
   {
    "duration": 70,
    "start_time": "2023-06-20T12:54:19.451Z"
   },
   {
    "duration": 142,
    "start_time": "2023-06-20T12:54:19.543Z"
   },
   {
    "duration": 22,
    "start_time": "2023-06-20T12:54:19.691Z"
   },
   {
    "duration": 18,
    "start_time": "2023-06-20T12:54:19.715Z"
   },
   {
    "duration": 90,
    "start_time": "2023-06-20T12:54:19.739Z"
   },
   {
    "duration": 70,
    "start_time": "2023-06-20T12:54:19.847Z"
   },
   {
    "duration": 498,
    "start_time": "2023-06-20T12:54:19.919Z"
   },
   {
    "duration": 19,
    "start_time": "2023-06-20T12:54:20.430Z"
   },
   {
    "duration": 354,
    "start_time": "2023-06-20T12:54:20.451Z"
   },
   {
    "duration": 66,
    "start_time": "2023-06-20T12:54:20.807Z"
   },
   {
    "duration": 52,
    "start_time": "2023-06-20T13:12:53.028Z"
   },
   {
    "duration": 1833,
    "start_time": "2023-06-20T13:13:01.461Z"
   },
   {
    "duration": 96,
    "start_time": "2023-06-20T13:13:08.630Z"
   },
   {
    "duration": 1439,
    "start_time": "2023-06-20T13:13:18.208Z"
   },
   {
    "duration": 114,
    "start_time": "2023-06-20T13:13:19.649Z"
   },
   {
    "duration": 17,
    "start_time": "2023-06-20T13:13:19.765Z"
   },
   {
    "duration": 62,
    "start_time": "2023-06-20T13:13:19.784Z"
   },
   {
    "duration": 3250,
    "start_time": "2023-06-20T13:13:19.848Z"
   },
   {
    "duration": 4,
    "start_time": "2023-06-20T13:13:23.100Z"
   },
   {
    "duration": 60,
    "start_time": "2023-06-20T13:13:23.106Z"
   },
   {
    "duration": 39,
    "start_time": "2023-06-20T13:13:23.168Z"
   },
   {
    "duration": 44,
    "start_time": "2023-06-20T13:13:23.208Z"
   },
   {
    "duration": 35,
    "start_time": "2023-06-20T13:13:23.257Z"
   },
   {
    "duration": 30,
    "start_time": "2023-06-20T13:13:23.294Z"
   },
   {
    "duration": 19,
    "start_time": "2023-06-20T13:13:23.326Z"
   },
   {
    "duration": 47,
    "start_time": "2023-06-20T13:13:23.347Z"
   },
   {
    "duration": 157,
    "start_time": "2023-06-20T13:13:23.396Z"
   },
   {
    "duration": 6,
    "start_time": "2023-06-20T13:13:23.555Z"
   },
   {
    "duration": 407,
    "start_time": "2023-06-20T13:13:23.563Z"
   },
   {
    "duration": 32,
    "start_time": "2023-06-20T13:13:23.974Z"
   },
   {
    "duration": 38842,
    "start_time": "2023-06-20T13:13:24.008Z"
   },
   {
    "duration": 201,
    "start_time": "2023-06-20T13:14:02.854Z"
   },
   {
    "duration": 1398,
    "start_time": "2023-06-20T13:14:03.057Z"
   },
   {
    "duration": 101,
    "start_time": "2023-06-20T13:14:04.458Z"
   },
   {
    "duration": 1396,
    "start_time": "2023-06-20T13:14:04.562Z"
   },
   {
    "duration": 573,
    "start_time": "2023-06-20T13:14:05.961Z"
   },
   {
    "duration": 41,
    "start_time": "2023-06-20T13:14:06.536Z"
   },
   {
    "duration": 40049,
    "start_time": "2023-06-20T13:14:06.580Z"
   },
   {
    "duration": 258,
    "start_time": "2023-06-20T13:14:46.631Z"
   },
   {
    "duration": 769,
    "start_time": "2023-06-20T13:14:46.891Z"
   },
   {
    "duration": 101,
    "start_time": "2023-06-20T13:14:47.679Z"
   },
   {
    "duration": 34,
    "start_time": "2023-06-20T13:14:47.854Z"
   },
   {
    "duration": 2669,
    "start_time": "2023-06-20T13:14:47.889Z"
   },
   {
    "duration": 619,
    "start_time": "2023-06-20T13:14:50.569Z"
   },
   {
    "duration": 35,
    "start_time": "2023-06-20T13:14:51.189Z"
   },
   {
    "duration": 52405,
    "start_time": "2023-06-20T13:14:51.226Z"
   },
   {
    "duration": 279,
    "start_time": "2023-06-20T13:15:43.634Z"
   },
   {
    "duration": 554,
    "start_time": "2023-06-20T13:15:43.914Z"
   },
   {
    "duration": 98,
    "start_time": "2023-06-20T13:15:44.470Z"
   },
   {
    "duration": 4,
    "start_time": "2023-06-20T13:15:44.655Z"
   },
   {
    "duration": 94,
    "start_time": "2023-06-20T13:15:44.661Z"
   },
   {
    "duration": 19,
    "start_time": "2023-06-20T13:15:44.756Z"
   },
   {
    "duration": 12,
    "start_time": "2023-06-20T13:15:44.777Z"
   },
   {
    "duration": 21,
    "start_time": "2023-06-20T13:15:44.790Z"
   },
   {
    "duration": 10,
    "start_time": "2023-06-20T13:15:44.812Z"
   },
   {
    "duration": 346,
    "start_time": "2023-06-20T13:15:44.823Z"
   },
   {
    "duration": 8,
    "start_time": "2023-06-20T13:15:45.171Z"
   },
   {
    "duration": 226,
    "start_time": "2023-06-20T13:15:45.181Z"
   },
   {
    "duration": 7,
    "start_time": "2023-06-20T13:15:45.409Z"
   },
   {
    "duration": 46,
    "start_time": "2023-06-20T13:15:45.418Z"
   },
   {
    "duration": 6,
    "start_time": "2023-06-20T13:27:48.656Z"
   },
   {
    "duration": 109,
    "start_time": "2023-06-20T13:31:16.846Z"
   },
   {
    "duration": 204,
    "start_time": "2023-06-20T13:32:41.216Z"
   },
   {
    "duration": 1612,
    "start_time": "2023-06-20T13:46:42.335Z"
   },
   {
    "duration": 63,
    "start_time": "2023-06-20T13:46:43.949Z"
   },
   {
    "duration": 75,
    "start_time": "2023-06-20T13:46:44.014Z"
   },
   {
    "duration": 65,
    "start_time": "2023-06-20T13:46:44.092Z"
   },
   {
    "duration": 2914,
    "start_time": "2023-06-20T13:46:44.159Z"
   },
   {
    "duration": 3,
    "start_time": "2023-06-20T13:46:47.075Z"
   },
   {
    "duration": 57,
    "start_time": "2023-06-20T13:46:47.080Z"
   },
   {
    "duration": 20,
    "start_time": "2023-06-20T13:46:47.139Z"
   },
   {
    "duration": 42,
    "start_time": "2023-06-20T13:46:47.161Z"
   },
   {
    "duration": 34,
    "start_time": "2023-06-20T13:46:47.206Z"
   },
   {
    "duration": 58,
    "start_time": "2023-06-20T13:46:47.241Z"
   },
   {
    "duration": 16,
    "start_time": "2023-06-20T13:46:47.301Z"
   },
   {
    "duration": 51,
    "start_time": "2023-06-20T13:46:47.319Z"
   },
   {
    "duration": 197,
    "start_time": "2023-06-20T13:46:47.372Z"
   },
   {
    "duration": 4,
    "start_time": "2023-06-20T13:46:47.571Z"
   },
   {
    "duration": 360,
    "start_time": "2023-06-20T13:46:47.577Z"
   },
   {
    "duration": 40,
    "start_time": "2023-06-20T13:46:47.938Z"
   },
   {
    "duration": 36068,
    "start_time": "2023-06-20T13:46:47.980Z"
   },
   {
    "duration": 207,
    "start_time": "2023-06-20T13:47:24.053Z"
   },
   {
    "duration": 1601,
    "start_time": "2023-06-20T13:47:24.265Z"
   },
   {
    "duration": 104,
    "start_time": "2023-06-20T13:47:25.871Z"
   },
   {
    "duration": 1500,
    "start_time": "2023-06-20T13:47:25.980Z"
   },
   {
    "duration": 475,
    "start_time": "2023-06-20T13:47:27.554Z"
   },
   {
    "duration": 43,
    "start_time": "2023-06-20T13:47:28.031Z"
   },
   {
    "duration": 36052,
    "start_time": "2023-06-20T13:47:28.075Z"
   },
   {
    "duration": 212,
    "start_time": "2023-06-20T13:48:04.129Z"
   },
   {
    "duration": 624,
    "start_time": "2023-06-20T13:48:04.343Z"
   },
   {
    "duration": 104,
    "start_time": "2023-06-20T13:48:04.978Z"
   },
   {
    "duration": 198,
    "start_time": "2023-06-20T13:48:05.088Z"
   },
   {
    "duration": 2593,
    "start_time": "2023-06-20T13:48:05.288Z"
   },
   {
    "duration": 539,
    "start_time": "2023-06-20T13:48:07.962Z"
   },
   {
    "duration": 31,
    "start_time": "2023-06-20T13:48:08.503Z"
   },
   {
    "duration": 47049,
    "start_time": "2023-06-20T13:48:08.536Z"
   },
   {
    "duration": 267,
    "start_time": "2023-06-20T13:48:55.587Z"
   },
   {
    "duration": 4200,
    "start_time": "2023-06-20T13:48:55.857Z"
   },
   {
    "duration": 104,
    "start_time": "2023-06-20T13:49:00.059Z"
   },
   {
    "duration": 122,
    "start_time": "2023-06-20T13:49:00.168Z"
   },
   {
    "duration": 77,
    "start_time": "2023-06-20T13:49:00.293Z"
   },
   {
    "duration": 40,
    "start_time": "2023-06-20T13:49:00.372Z"
   },
   {
    "duration": 26,
    "start_time": "2023-06-20T13:49:00.415Z"
   },
   {
    "duration": 23,
    "start_time": "2023-06-20T13:49:00.443Z"
   },
   {
    "duration": 38,
    "start_time": "2023-06-20T13:49:00.468Z"
   },
   {
    "duration": 406,
    "start_time": "2023-06-20T13:49:00.508Z"
   },
   {
    "duration": 7,
    "start_time": "2023-06-20T13:49:00.916Z"
   },
   {
    "duration": 230,
    "start_time": "2023-06-20T13:49:00.924Z"
   },
   {
    "duration": 226,
    "start_time": "2023-06-20T13:49:01.156Z"
   },
   {
    "duration": 7,
    "start_time": "2023-06-20T13:49:01.384Z"
   },
   {
    "duration": 92,
    "start_time": "2023-06-20T13:49:01.393Z"
   },
   {
    "duration": 49,
    "start_time": "2023-06-30T19:05:25.124Z"
   },
   {
    "duration": 1498,
    "start_time": "2023-06-30T19:05:38.342Z"
   },
   {
    "duration": 170,
    "start_time": "2023-06-30T19:05:39.842Z"
   },
   {
    "duration": 14,
    "start_time": "2023-06-30T19:05:40.014Z"
   },
   {
    "duration": 50,
    "start_time": "2023-06-30T19:05:40.030Z"
   },
   {
    "duration": 3178,
    "start_time": "2023-06-30T19:05:40.082Z"
   },
   {
    "duration": 3,
    "start_time": "2023-06-30T19:05:43.262Z"
   },
   {
    "duration": 41,
    "start_time": "2023-06-30T19:05:43.267Z"
   },
   {
    "duration": 19,
    "start_time": "2023-06-30T19:05:43.309Z"
   },
   {
    "duration": 43,
    "start_time": "2023-06-30T19:05:43.330Z"
   },
   {
    "duration": 16,
    "start_time": "2023-06-30T19:05:43.376Z"
   },
   {
    "duration": 28,
    "start_time": "2023-06-30T19:05:43.394Z"
   },
   {
    "duration": 38,
    "start_time": "2023-06-30T19:05:43.424Z"
   },
   {
    "duration": 26,
    "start_time": "2023-06-30T19:05:43.463Z"
   },
   {
    "duration": 24,
    "start_time": "2023-06-30T19:05:43.490Z"
   },
   {
    "duration": 183,
    "start_time": "2023-06-30T19:05:43.516Z"
   },
   {
    "duration": 4,
    "start_time": "2023-06-30T19:05:43.701Z"
   },
   {
    "duration": 401,
    "start_time": "2023-06-30T19:05:43.707Z"
   },
   {
    "duration": 46,
    "start_time": "2023-06-30T19:05:44.110Z"
   },
   {
    "duration": 36736,
    "start_time": "2023-06-30T19:05:44.158Z"
   },
   {
    "duration": 203,
    "start_time": "2023-06-30T19:06:20.896Z"
   },
   {
    "duration": 1260,
    "start_time": "2023-06-30T19:06:21.101Z"
   },
   {
    "duration": 98,
    "start_time": "2023-06-30T19:06:22.365Z"
   },
   {
    "duration": 2190,
    "start_time": "2023-06-30T19:06:22.466Z"
   },
   {
    "duration": 481,
    "start_time": "2023-06-30T19:06:24.658Z"
   },
   {
    "duration": 32,
    "start_time": "2023-06-30T19:06:25.141Z"
   },
   {
    "duration": 38050,
    "start_time": "2023-06-30T19:06:25.175Z"
   },
   {
    "duration": 217,
    "start_time": "2023-06-30T19:07:03.227Z"
   },
   {
    "duration": 701,
    "start_time": "2023-06-30T19:07:03.454Z"
   },
   {
    "duration": 105,
    "start_time": "2023-06-30T19:07:04.157Z"
   },
   {
    "duration": 106,
    "start_time": "2023-06-30T19:07:04.354Z"
   },
   {
    "duration": 2300,
    "start_time": "2023-06-30T19:07:04.462Z"
   },
   {
    "duration": 560,
    "start_time": "2023-06-30T19:07:06.854Z"
   },
   {
    "duration": 55,
    "start_time": "2023-06-30T19:07:07.416Z"
   },
   {
    "duration": 50167,
    "start_time": "2023-06-30T19:07:07.473Z"
   },
   {
    "duration": 282,
    "start_time": "2023-06-30T19:07:57.642Z"
   },
   {
    "duration": 1130,
    "start_time": "2023-06-30T19:07:57.926Z"
   },
   {
    "duration": 101,
    "start_time": "2023-06-30T19:07:59.061Z"
   },
   {
    "duration": 95,
    "start_time": "2023-06-30T19:07:59.165Z"
   },
   {
    "duration": 98,
    "start_time": "2023-06-30T19:07:59.263Z"
   },
   {
    "duration": 4,
    "start_time": "2023-06-30T19:07:59.363Z"
   },
   {
    "duration": 4,
    "start_time": "2023-06-30T19:07:59.368Z"
   },
   {
    "duration": 4,
    "start_time": "2023-06-30T19:07:59.374Z"
   },
   {
    "duration": 7,
    "start_time": "2023-06-30T19:07:59.379Z"
   },
   {
    "duration": 364,
    "start_time": "2023-06-30T19:07:59.388Z"
   },
   {
    "duration": 6,
    "start_time": "2023-06-30T19:07:59.753Z"
   },
   {
    "duration": 239,
    "start_time": "2023-06-30T19:07:59.761Z"
   },
   {
    "duration": 212,
    "start_time": "2023-06-30T19:08:00.002Z"
   },
   {
    "duration": 6,
    "start_time": "2023-06-30T19:08:00.216Z"
   },
   {
    "duration": 151,
    "start_time": "2023-06-30T19:08:00.225Z"
   }
  ],
  "kernelspec": {
   "display_name": "Python 3 (ipykernel)",
   "language": "python",
   "name": "python3"
  },
  "language_info": {
   "codemirror_mode": {
    "name": "ipython",
    "version": 3
   },
   "file_extension": ".py",
   "mimetype": "text/x-python",
   "name": "python",
   "nbconvert_exporter": "python",
   "pygments_lexer": "ipython3",
   "version": "3.10.9"
  },
  "toc": {
   "base_numbering": 1,
   "nav_menu": {},
   "number_sections": true,
   "sideBar": true,
   "skip_h1_title": true,
   "title_cell": "Содержание",
   "title_sidebar": "Contents",
   "toc_cell": true,
   "toc_position": {
    "height": "calc(100% - 180px)",
    "left": "10px",
    "top": "150px",
    "width": "277.983px"
   },
   "toc_section_display": true,
   "toc_window_display": false
  }
 },
 "nbformat": 4,
 "nbformat_minor": 2
}
